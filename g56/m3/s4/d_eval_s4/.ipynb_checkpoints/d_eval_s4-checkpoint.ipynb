{
 "cells": [
  {
   "cell_type": "markdown",
   "metadata": {},
   "source": [
    "## Desafío S4 - Random Forest"
   ]
  },
  {
   "cell_type": "markdown",
   "metadata": {},
   "source": [
    "* Nuestro objetivo es generar un modelo que prediga de forma adecuada los precios\n",
    "de inmuebles, medidos con la **variableSale_Price**"
   ]
  },
  {
   "cell_type": "markdown",
   "metadata": {},
   "source": [
    "### Ejercicio 1: Preparación del ambiente de trabajo"
   ]
  },
  {
   "cell_type": "markdown",
   "metadata": {},
   "source": [
    "#### Importe las librerías clásicas a utilizar."
   ]
  },
  {
   "cell_type": "code",
   "execution_count": 3,
   "metadata": {},
   "outputs": [],
   "source": [
    "import numpy as np\n",
    "import pandas as pd\n",
    "from scipy import stats\n",
    "import matplotlib.pyplot as plt\n",
    "%matplotlib inline\n",
    "plt.style.use('ggplot')\n",
    "plt.rcParams['figure.figsize'] = (10, 6)\n",
    "\n",
    "from sklearn.model_selection import train_test_split, GridSearchCV\n",
    "# from sklearn.ensemble import BaggingRegressor\n",
    "# Para este ejercicio Random Forest de Regresión.\n",
    "from sklearn.ensemble import RandomForestClassifier\n",
    "\n",
    "#De manera adicional importe las funciones y clases necesarias para generar un\n",
    "#desempeño de métricas en problemas de regresión.\n",
    "from sklearn.metrics import mean_squared_error, median_absolute_error, r2_score\n",
    "from sklearn.metrics import accuracy_score, roc_auc_score, classification_report"
   ]
  },
  {
   "cell_type": "markdown",
   "metadata": {},
   "source": [
    "* Elimine la columna'Unnamed: 0' cuando cargue los datos."
   ]
  },
  {
   "cell_type": "code",
   "execution_count": 4,
   "metadata": {},
   "outputs": [
    {
     "data": {
      "text/html": [
       "<div>\n",
       "<style scoped>\n",
       "    .dataframe tbody tr th:only-of-type {\n",
       "        vertical-align: middle;\n",
       "    }\n",
       "\n",
       "    .dataframe tbody tr th {\n",
       "        vertical-align: top;\n",
       "    }\n",
       "\n",
       "    .dataframe thead th {\n",
       "        text-align: right;\n",
       "    }\n",
       "</style>\n",
       "<table border=\"1\" class=\"dataframe\">\n",
       "  <thead>\n",
       "    <tr style=\"text-align: right;\">\n",
       "      <th></th>\n",
       "      <th>MS_SubClass</th>\n",
       "      <th>MS_Zoning</th>\n",
       "      <th>Lot_Frontage</th>\n",
       "      <th>Lot_Area</th>\n",
       "      <th>Street</th>\n",
       "      <th>Alley</th>\n",
       "      <th>Lot_Shape</th>\n",
       "      <th>Land_Contour</th>\n",
       "      <th>Utilities</th>\n",
       "      <th>Lot_Config</th>\n",
       "      <th>...</th>\n",
       "      <th>Fence</th>\n",
       "      <th>Misc_Feature</th>\n",
       "      <th>Misc_Val</th>\n",
       "      <th>Mo_Sold</th>\n",
       "      <th>Year_Sold</th>\n",
       "      <th>Sale_Type</th>\n",
       "      <th>Sale_Condition</th>\n",
       "      <th>Sale_Price</th>\n",
       "      <th>Longitude</th>\n",
       "      <th>Latitude</th>\n",
       "    </tr>\n",
       "  </thead>\n",
       "  <tbody>\n",
       "    <tr>\n",
       "      <th>0</th>\n",
       "      <td>One_Story_1946_and_Newer_All_Styles</td>\n",
       "      <td>Residential_Low_Density</td>\n",
       "      <td>141</td>\n",
       "      <td>31770</td>\n",
       "      <td>Pave</td>\n",
       "      <td>No_Alley_Access</td>\n",
       "      <td>Slightly_Irregular</td>\n",
       "      <td>Lvl</td>\n",
       "      <td>AllPub</td>\n",
       "      <td>Corner</td>\n",
       "      <td>...</td>\n",
       "      <td>No_Fence</td>\n",
       "      <td>None</td>\n",
       "      <td>0</td>\n",
       "      <td>5</td>\n",
       "      <td>2010</td>\n",
       "      <td>WD</td>\n",
       "      <td>Normal</td>\n",
       "      <td>215000</td>\n",
       "      <td>-93.619754</td>\n",
       "      <td>42.054035</td>\n",
       "    </tr>\n",
       "    <tr>\n",
       "      <th>1</th>\n",
       "      <td>One_Story_1946_and_Newer_All_Styles</td>\n",
       "      <td>Residential_High_Density</td>\n",
       "      <td>80</td>\n",
       "      <td>11622</td>\n",
       "      <td>Pave</td>\n",
       "      <td>No_Alley_Access</td>\n",
       "      <td>Regular</td>\n",
       "      <td>Lvl</td>\n",
       "      <td>AllPub</td>\n",
       "      <td>Inside</td>\n",
       "      <td>...</td>\n",
       "      <td>Minimum_Privacy</td>\n",
       "      <td>None</td>\n",
       "      <td>0</td>\n",
       "      <td>6</td>\n",
       "      <td>2010</td>\n",
       "      <td>WD</td>\n",
       "      <td>Normal</td>\n",
       "      <td>105000</td>\n",
       "      <td>-93.619756</td>\n",
       "      <td>42.053014</td>\n",
       "    </tr>\n",
       "    <tr>\n",
       "      <th>2</th>\n",
       "      <td>One_Story_1946_and_Newer_All_Styles</td>\n",
       "      <td>Residential_Low_Density</td>\n",
       "      <td>81</td>\n",
       "      <td>14267</td>\n",
       "      <td>Pave</td>\n",
       "      <td>No_Alley_Access</td>\n",
       "      <td>Slightly_Irregular</td>\n",
       "      <td>Lvl</td>\n",
       "      <td>AllPub</td>\n",
       "      <td>Corner</td>\n",
       "      <td>...</td>\n",
       "      <td>No_Fence</td>\n",
       "      <td>Gar2</td>\n",
       "      <td>12500</td>\n",
       "      <td>6</td>\n",
       "      <td>2010</td>\n",
       "      <td>WD</td>\n",
       "      <td>Normal</td>\n",
       "      <td>172000</td>\n",
       "      <td>-93.619387</td>\n",
       "      <td>42.052659</td>\n",
       "    </tr>\n",
       "    <tr>\n",
       "      <th>3</th>\n",
       "      <td>One_Story_1946_and_Newer_All_Styles</td>\n",
       "      <td>Residential_Low_Density</td>\n",
       "      <td>93</td>\n",
       "      <td>11160</td>\n",
       "      <td>Pave</td>\n",
       "      <td>No_Alley_Access</td>\n",
       "      <td>Regular</td>\n",
       "      <td>Lvl</td>\n",
       "      <td>AllPub</td>\n",
       "      <td>Corner</td>\n",
       "      <td>...</td>\n",
       "      <td>No_Fence</td>\n",
       "      <td>None</td>\n",
       "      <td>0</td>\n",
       "      <td>4</td>\n",
       "      <td>2010</td>\n",
       "      <td>WD</td>\n",
       "      <td>Normal</td>\n",
       "      <td>244000</td>\n",
       "      <td>-93.617320</td>\n",
       "      <td>42.051245</td>\n",
       "    </tr>\n",
       "    <tr>\n",
       "      <th>4</th>\n",
       "      <td>Two_Story_1946_and_Newer</td>\n",
       "      <td>Residential_Low_Density</td>\n",
       "      <td>74</td>\n",
       "      <td>13830</td>\n",
       "      <td>Pave</td>\n",
       "      <td>No_Alley_Access</td>\n",
       "      <td>Slightly_Irregular</td>\n",
       "      <td>Lvl</td>\n",
       "      <td>AllPub</td>\n",
       "      <td>Inside</td>\n",
       "      <td>...</td>\n",
       "      <td>Minimum_Privacy</td>\n",
       "      <td>None</td>\n",
       "      <td>0</td>\n",
       "      <td>3</td>\n",
       "      <td>2010</td>\n",
       "      <td>WD</td>\n",
       "      <td>Normal</td>\n",
       "      <td>189900</td>\n",
       "      <td>-93.638933</td>\n",
       "      <td>42.060899</td>\n",
       "    </tr>\n",
       "    <tr>\n",
       "      <th>...</th>\n",
       "      <td>...</td>\n",
       "      <td>...</td>\n",
       "      <td>...</td>\n",
       "      <td>...</td>\n",
       "      <td>...</td>\n",
       "      <td>...</td>\n",
       "      <td>...</td>\n",
       "      <td>...</td>\n",
       "      <td>...</td>\n",
       "      <td>...</td>\n",
       "      <td>...</td>\n",
       "      <td>...</td>\n",
       "      <td>...</td>\n",
       "      <td>...</td>\n",
       "      <td>...</td>\n",
       "      <td>...</td>\n",
       "      <td>...</td>\n",
       "      <td>...</td>\n",
       "      <td>...</td>\n",
       "      <td>...</td>\n",
       "      <td>...</td>\n",
       "    </tr>\n",
       "    <tr>\n",
       "      <th>2925</th>\n",
       "      <td>Split_or_Multilevel</td>\n",
       "      <td>Residential_Low_Density</td>\n",
       "      <td>37</td>\n",
       "      <td>7937</td>\n",
       "      <td>Pave</td>\n",
       "      <td>No_Alley_Access</td>\n",
       "      <td>Slightly_Irregular</td>\n",
       "      <td>Lvl</td>\n",
       "      <td>AllPub</td>\n",
       "      <td>CulDSac</td>\n",
       "      <td>...</td>\n",
       "      <td>Good_Privacy</td>\n",
       "      <td>None</td>\n",
       "      <td>0</td>\n",
       "      <td>3</td>\n",
       "      <td>2006</td>\n",
       "      <td>WD</td>\n",
       "      <td>Normal</td>\n",
       "      <td>142500</td>\n",
       "      <td>-93.604776</td>\n",
       "      <td>41.988964</td>\n",
       "    </tr>\n",
       "    <tr>\n",
       "      <th>2926</th>\n",
       "      <td>One_Story_1946_and_Newer_All_Styles</td>\n",
       "      <td>Residential_Low_Density</td>\n",
       "      <td>0</td>\n",
       "      <td>8885</td>\n",
       "      <td>Pave</td>\n",
       "      <td>No_Alley_Access</td>\n",
       "      <td>Slightly_Irregular</td>\n",
       "      <td>Low</td>\n",
       "      <td>AllPub</td>\n",
       "      <td>Inside</td>\n",
       "      <td>...</td>\n",
       "      <td>Minimum_Privacy</td>\n",
       "      <td>None</td>\n",
       "      <td>0</td>\n",
       "      <td>6</td>\n",
       "      <td>2006</td>\n",
       "      <td>WD</td>\n",
       "      <td>Normal</td>\n",
       "      <td>131000</td>\n",
       "      <td>-93.602680</td>\n",
       "      <td>41.988314</td>\n",
       "    </tr>\n",
       "    <tr>\n",
       "      <th>2927</th>\n",
       "      <td>Split_Foyer</td>\n",
       "      <td>Residential_Low_Density</td>\n",
       "      <td>62</td>\n",
       "      <td>10441</td>\n",
       "      <td>Pave</td>\n",
       "      <td>No_Alley_Access</td>\n",
       "      <td>Regular</td>\n",
       "      <td>Lvl</td>\n",
       "      <td>AllPub</td>\n",
       "      <td>Inside</td>\n",
       "      <td>...</td>\n",
       "      <td>Minimum_Privacy</td>\n",
       "      <td>Shed</td>\n",
       "      <td>700</td>\n",
       "      <td>7</td>\n",
       "      <td>2006</td>\n",
       "      <td>WD</td>\n",
       "      <td>Normal</td>\n",
       "      <td>132000</td>\n",
       "      <td>-93.606847</td>\n",
       "      <td>41.986510</td>\n",
       "    </tr>\n",
       "    <tr>\n",
       "      <th>2928</th>\n",
       "      <td>One_Story_1946_and_Newer_All_Styles</td>\n",
       "      <td>Residential_Low_Density</td>\n",
       "      <td>77</td>\n",
       "      <td>10010</td>\n",
       "      <td>Pave</td>\n",
       "      <td>No_Alley_Access</td>\n",
       "      <td>Regular</td>\n",
       "      <td>Lvl</td>\n",
       "      <td>AllPub</td>\n",
       "      <td>Inside</td>\n",
       "      <td>...</td>\n",
       "      <td>No_Fence</td>\n",
       "      <td>None</td>\n",
       "      <td>0</td>\n",
       "      <td>4</td>\n",
       "      <td>2006</td>\n",
       "      <td>WD</td>\n",
       "      <td>Normal</td>\n",
       "      <td>170000</td>\n",
       "      <td>-93.600190</td>\n",
       "      <td>41.990921</td>\n",
       "    </tr>\n",
       "    <tr>\n",
       "      <th>2929</th>\n",
       "      <td>Two_Story_1946_and_Newer</td>\n",
       "      <td>Residential_Low_Density</td>\n",
       "      <td>74</td>\n",
       "      <td>9627</td>\n",
       "      <td>Pave</td>\n",
       "      <td>No_Alley_Access</td>\n",
       "      <td>Regular</td>\n",
       "      <td>Lvl</td>\n",
       "      <td>AllPub</td>\n",
       "      <td>Inside</td>\n",
       "      <td>...</td>\n",
       "      <td>No_Fence</td>\n",
       "      <td>None</td>\n",
       "      <td>0</td>\n",
       "      <td>11</td>\n",
       "      <td>2006</td>\n",
       "      <td>WD</td>\n",
       "      <td>Normal</td>\n",
       "      <td>188000</td>\n",
       "      <td>-93.599996</td>\n",
       "      <td>41.989265</td>\n",
       "    </tr>\n",
       "  </tbody>\n",
       "</table>\n",
       "<p>2930 rows × 81 columns</p>\n",
       "</div>"
      ],
      "text/plain": [
       "                              MS_SubClass                 MS_Zoning  \\\n",
       "0     One_Story_1946_and_Newer_All_Styles   Residential_Low_Density   \n",
       "1     One_Story_1946_and_Newer_All_Styles  Residential_High_Density   \n",
       "2     One_Story_1946_and_Newer_All_Styles   Residential_Low_Density   \n",
       "3     One_Story_1946_and_Newer_All_Styles   Residential_Low_Density   \n",
       "4                Two_Story_1946_and_Newer   Residential_Low_Density   \n",
       "...                                   ...                       ...   \n",
       "2925                  Split_or_Multilevel   Residential_Low_Density   \n",
       "2926  One_Story_1946_and_Newer_All_Styles   Residential_Low_Density   \n",
       "2927                          Split_Foyer   Residential_Low_Density   \n",
       "2928  One_Story_1946_and_Newer_All_Styles   Residential_Low_Density   \n",
       "2929             Two_Story_1946_and_Newer   Residential_Low_Density   \n",
       "\n",
       "      Lot_Frontage  Lot_Area Street            Alley           Lot_Shape  \\\n",
       "0              141     31770   Pave  No_Alley_Access  Slightly_Irregular   \n",
       "1               80     11622   Pave  No_Alley_Access             Regular   \n",
       "2               81     14267   Pave  No_Alley_Access  Slightly_Irregular   \n",
       "3               93     11160   Pave  No_Alley_Access             Regular   \n",
       "4               74     13830   Pave  No_Alley_Access  Slightly_Irregular   \n",
       "...            ...       ...    ...              ...                 ...   \n",
       "2925            37      7937   Pave  No_Alley_Access  Slightly_Irregular   \n",
       "2926             0      8885   Pave  No_Alley_Access  Slightly_Irregular   \n",
       "2927            62     10441   Pave  No_Alley_Access             Regular   \n",
       "2928            77     10010   Pave  No_Alley_Access             Regular   \n",
       "2929            74      9627   Pave  No_Alley_Access             Regular   \n",
       "\n",
       "     Land_Contour Utilities Lot_Config  ...            Fence Misc_Feature  \\\n",
       "0             Lvl    AllPub     Corner  ...         No_Fence         None   \n",
       "1             Lvl    AllPub     Inside  ...  Minimum_Privacy         None   \n",
       "2             Lvl    AllPub     Corner  ...         No_Fence         Gar2   \n",
       "3             Lvl    AllPub     Corner  ...         No_Fence         None   \n",
       "4             Lvl    AllPub     Inside  ...  Minimum_Privacy         None   \n",
       "...           ...       ...        ...  ...              ...          ...   \n",
       "2925          Lvl    AllPub    CulDSac  ...     Good_Privacy         None   \n",
       "2926          Low    AllPub     Inside  ...  Minimum_Privacy         None   \n",
       "2927          Lvl    AllPub     Inside  ...  Minimum_Privacy         Shed   \n",
       "2928          Lvl    AllPub     Inside  ...         No_Fence         None   \n",
       "2929          Lvl    AllPub     Inside  ...         No_Fence         None   \n",
       "\n",
       "     Misc_Val Mo_Sold Year_Sold Sale_Type Sale_Condition Sale_Price  \\\n",
       "0           0       5      2010       WD          Normal     215000   \n",
       "1           0       6      2010       WD          Normal     105000   \n",
       "2       12500       6      2010       WD          Normal     172000   \n",
       "3           0       4      2010       WD          Normal     244000   \n",
       "4           0       3      2010       WD          Normal     189900   \n",
       "...       ...     ...       ...       ...            ...        ...   \n",
       "2925        0       3      2006       WD          Normal     142500   \n",
       "2926        0       6      2006       WD          Normal     131000   \n",
       "2927      700       7      2006       WD          Normal     132000   \n",
       "2928        0       4      2006       WD          Normal     170000   \n",
       "2929        0      11      2006       WD          Normal     188000   \n",
       "\n",
       "      Longitude   Latitude  \n",
       "0    -93.619754  42.054035  \n",
       "1    -93.619756  42.053014  \n",
       "2    -93.619387  42.052659  \n",
       "3    -93.617320  42.051245  \n",
       "4    -93.638933  42.060899  \n",
       "...         ...        ...  \n",
       "2925 -93.604776  41.988964  \n",
       "2926 -93.602680  41.988314  \n",
       "2927 -93.606847  41.986510  \n",
       "2928 -93.600190  41.990921  \n",
       "2929 -93.599996  41.989265  \n",
       "\n",
       "[2930 rows x 81 columns]"
      ]
     },
     "execution_count": 4,
     "metadata": {},
     "output_type": "execute_result"
    }
   ],
   "source": [
    "df = pd.read_csv('ames_housing.csv').drop(columns='Unnamed: 0')\n",
    "df"
   ]
  },
  {
   "cell_type": "markdown",
   "metadata": {},
   "source": [
    "### Ejercicio 2: Importación de archivos serializados"
   ]
  },
  {
   "cell_type": "markdown",
   "metadata": {},
   "source": [
    "* Importe su modelo entrenado y sus conjuntos de entrenamiento y validación\n",
    "serializados la sesión pasada y evalúe el desempeño del modelo de su compañero\n",
    "con el suyo ¿Cuál es mejor? Si no puede ejecutar el modelo, comente cuáles pueden\n",
    "ser los causantes."
   ]
  },
  {
   "cell_type": "markdown",
   "metadata": {},
   "source": [
    "Modelo propio"
   ]
  },
  {
   "cell_type": "code",
   "execution_count": 5,
   "metadata": {},
   "outputs": [],
   "source": [
    "def cargar_modelo(id_matrices_tr_ts, id_model):\n",
    "    matriz = pd.read_pickle(f'{id_matrices_tr_ts}.sav')\n",
    "    X_train, X_test, y_train, y_test = matriz[0], matriz[1], matriz[2], matriz[3]\n",
    "    modelo = pd.read_pickle(f'{id_model}.sav')\n",
    "    return X_train, X_test, y_train, y_test, modelo"
   ]
  },
  {
   "cell_type": "code",
   "execution_count": 6,
   "metadata": {},
   "outputs": [],
   "source": [
    "X_train_dl, X_test_dl, y_train_dl, y_test_dl, modelo_dl =cargar_modelo('matrices_train_test', 'diego_lizana_actividad07')"
   ]
  },
  {
   "cell_type": "code",
   "execution_count": 7,
   "metadata": {},
   "outputs": [],
   "source": [
    "def metricas(X_test, y_test, model):\n",
    "    print(\"Test MSE:\", mean_squared_error(y_test, model.predict(X_test)).round(5))\n",
    "    print(\"Test MAE:\", median_absolute_error(y_test, model.predict(X_test)).round(5))\n",
    "    print(\"Test R2:\", r2_score(y_test, model.predict(X_test)).round(5))"
   ]
  },
  {
   "cell_type": "code",
   "execution_count": 8,
   "metadata": {},
   "outputs": [
    {
     "name": "stdout",
     "output_type": "stream",
     "text": [
      "Test MSE: 1276694856.60852\n",
      "Test MAE: 15094.44\n",
      "Test R2: 0.80861\n"
     ]
    }
   ],
   "source": [
    "metricas(X_test_dl, y_test_dl, modelo_dl)"
   ]
  },
  {
   "cell_type": "markdown",
   "metadata": {},
   "source": [
    "Modelo Marco Cordero"
   ]
  },
  {
   "cell_type": "code",
   "execution_count": null,
   "metadata": {},
   "outputs": [],
   "source": []
  },
  {
   "cell_type": "markdown",
   "metadata": {},
   "source": [
    "### Ejercicio 3: Evaluación Random Forest"
   ]
  },
  {
   "cell_type": "markdown",
   "metadata": {},
   "source": [
    "##### En base a los conjuntos de entrenamiento serializados, genere un modelo utilizando sklearn.ensemble.RandomForest sin modificar hiper parámetros, sólo declarando la semilla pseudoaleatoria."
   ]
  },
  {
   "cell_type": "code",
   "execution_count": 9,
   "metadata": {},
   "outputs": [],
   "source": [
    "rf_houses = RandomForestClassifier(random_state=1991).fit(X_train_dl, y_train_dl)"
   ]
  },
  {
   "cell_type": "markdown",
   "metadata": {},
   "source": [
    "##### En base a los conjuntos de entrenamiento serializados, genere un modelo utilizando sklearn.ensemble.RandomForest sin modificar hiper parámetros, sólo declarando la semilla pseudoaleatoria."
   ]
  },
  {
   "cell_type": "code",
   "execution_count": 10,
   "metadata": {},
   "outputs": [
    {
     "name": "stdout",
     "output_type": "stream",
     "text": [
      "Test MSE: 1374094496.10134\n",
      "Test MAE: 16600.0\n",
      "Test R2: 0.79401\n"
     ]
    }
   ],
   "source": [
    "metricas(X_test_dl, y_test_dl, rf_houses)"
   ]
  },
  {
   "cell_type": "markdown",
   "metadata": {},
   "source": [
    "* El valor de r2 baja, por ende las variables explican un poco menos el comportamiento del vec obj, de la mano el MSE aumenta.\n",
    "* El lado positivo es que MAE tiene la menor brecha con respecto a la media."
   ]
  },
  {
   "cell_type": "markdown",
   "metadata": {},
   "source": [
    "###  Ejercicio 4: Reporte las métricas de desempeño"
   ]
  },
  {
   "cell_type": "markdown",
   "metadata": {},
   "source": [
    "##### Para afinar el comportamiento de nuestro modelo, evalúe su desempeño los siguientes hiper parámetros:"
   ]
  },
  {
   "cell_type": "code",
   "execution_count": 11,
   "metadata": {},
   "outputs": [
    {
     "data": {
      "text/plain": [
       "19.6"
      ]
     },
     "execution_count": 11,
     "metadata": {},
     "output_type": "execute_result"
    }
   ],
   "source": [
    "(1000-20)/50"
   ]
  },
  {
   "cell_type": "code",
   "execution_count": 12,
   "metadata": {},
   "outputs": [],
   "source": [
    "n_estimators= np.linspace(20, 1000, 20).astype(int)"
   ]
  },
  {
   "cell_type": "code",
   "execution_count": 13,
   "metadata": {},
   "outputs": [],
   "source": [
    "rf_house_none = RandomForestClassifier(n_estimators=400,max_features=None,\n",
    "                                        oob_score=True, random_state=1991,\n",
    "                                        n_jobs=-1).fit(X_train_dl, y_train_dl)"
   ]
  },
  {
   "cell_type": "code",
   "execution_count": 14,
   "metadata": {},
   "outputs": [
    {
     "data": {
      "text/plain": [
       "0.012226184411614875"
      ]
     },
     "execution_count": 14,
     "metadata": {},
     "output_type": "execute_result"
    }
   ],
   "source": [
    "rf_house_none.oob_score_"
   ]
  },
  {
   "cell_type": "code",
   "execution_count": null,
   "metadata": {},
   "outputs": [],
   "source": [
    "accuracy_score(y_test_dl, rf_house_none.predict(X_test_dl))"
   ]
  },
  {
   "cell_type": "code",
   "execution_count": null,
   "metadata": {},
   "outputs": [],
   "source": [
    "asd"
   ]
  },
  {
   "cell_type": "code",
   "execution_count": null,
   "metadata": {},
   "outputs": [],
   "source": [
    "tmp_oob_none, tmp_oob_sqrt,tmp_oob_log2 = [], [], []\n",
    "tmp_test_acc_none, tmp_test_acc_sqrt, tmp_test_acc_log = [], [], []\n",
    "for i in n_estimators:\n",
    "    rf_house_none = RandomForestClassifier(n_estimators=i,max_features=None,\n",
    "                                            oob_score=True, random_state=1991,\n",
    "                                            n_jobs=-1).fit(X_train_dl, y_train_dl)\n",
    "    tmp_oob_none.append(1 - rf_house_none.oob_score_)\n",
    "\n",
    "    tmp_test_acc_none.append(1 - accuracy_score(y_test_dl, rf_house_none.predict(X_test_dl)))\n"
   ]
  },
  {
   "cell_type": "code",
   "execution_count": null,
   "metadata": {},
   "outputs": [],
   "source": [
    "rf_house_none = RandomForestClassifier(n_estimators=i,max_features=None,\n",
    "                                        oob_score=True, random_state=1991,\n",
    "                                          n_jobs=-1).fit(X_train_dl, y_train_dl)\n",
    "rf_house_sqrt = RandomForestClassifier(n_estimators= i, max_features=\"sqrt\",\n",
    "                                        warm_start=True, oob_score=True,\n",
    "                                        random_state=1991, n_jobs=-1).fit(X_train_dl, y_train_dl)\n",
    "rf_house_log = RandomForestClassifier(n_estimators= i, max_features=\"log2\",\n",
    "                                        warm_start=True, oob_score=True,\n",
    "                                          random_state=1991, n_jobs=-1).fit(X_train_dl, y_train_dl)"
   ]
  },
  {
   "cell_type": "code",
   "execution_count": null,
   "metadata": {},
   "outputs": [],
   "source": []
  }
 ],
 "metadata": {
  "kernelspec": {
   "display_name": "Python 3 (ipykernel)",
   "language": "python",
   "name": "python3"
  },
  "language_info": {
   "codemirror_mode": {
    "name": "ipython",
    "version": 3
   },
   "file_extension": ".py",
   "mimetype": "text/x-python",
   "name": "python",
   "nbconvert_exporter": "python",
   "pygments_lexer": "ipython3",
   "version": "3.9.13"
  }
 },
 "nbformat": 4,
 "nbformat_minor": 2
}
