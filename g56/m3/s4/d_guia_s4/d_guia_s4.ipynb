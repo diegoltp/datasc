{
 "cells": [
  {
   "attachments": {},
   "cell_type": "markdown",
   "metadata": {},
   "source": [
    "## Desafio guiado S4 - Árboles de regresión"
   ]
  },
  {
   "attachments": {},
   "cell_type": "markdown",
   "metadata": {},
   "source": [
    "### Ejercicio 1: Preparación del ambiente de trabajo"
   ]
  },
  {
   "attachments": {},
   "cell_type": "markdown",
   "metadata": {},
   "source": [
    "* Nuestro objetivo es generar un modelo que prediga de forma adecuada los precios\n",
    "de inmuebles, medidos con la variable Sale_Price."
   ]
  },
  {
   "cell_type": "code",
   "execution_count": 30,
   "metadata": {},
   "outputs": [],
   "source": [
    "import numpy as np\n",
    "import pandas as pd\n",
    "from scipy import stats\n",
    "import matplotlib.pyplot as plt\n",
    "%matplotlib inline\n",
    "plt.style.use('ggplot')\n",
    "plt.rcParams['figure.figsize'] = (10, 6)\n",
    "\n",
    "# preproceso\n",
    "\n",
    "from sklearn.preprocessing import LabelEncoder , StandardScaler\n",
    "from sklearn.model_selection import train_test_split\n",
    "from sklearn.pipeline import Pipeline\n",
    "\n",
    "#modelo\n",
    "from sklearn.model_selection import GridSearchCV\n",
    "from sklearn.tree import DecisionTreeRegressor\n",
    "#indicadores\n",
    "from sklearn.metrics import mean_squared_error, median_absolute_error, r2_score"
   ]
  },
  {
   "cell_type": "code",
   "execution_count": 3,
   "metadata": {},
   "outputs": [],
   "source": [
    "df = pd.read_csv('ames_housing.csv').drop(columns='Unnamed: 0')"
   ]
  },
  {
   "cell_type": "code",
   "execution_count": 4,
   "metadata": {},
   "outputs": [
    {
     "data": {
      "text/html": [
       "<div>\n",
       "<style scoped>\n",
       "    .dataframe tbody tr th:only-of-type {\n",
       "        vertical-align: middle;\n",
       "    }\n",
       "\n",
       "    .dataframe tbody tr th {\n",
       "        vertical-align: top;\n",
       "    }\n",
       "\n",
       "    .dataframe thead th {\n",
       "        text-align: right;\n",
       "    }\n",
       "</style>\n",
       "<table border=\"1\" class=\"dataframe\">\n",
       "  <thead>\n",
       "    <tr style=\"text-align: right;\">\n",
       "      <th></th>\n",
       "      <th>MS_SubClass</th>\n",
       "      <th>MS_Zoning</th>\n",
       "      <th>Lot_Frontage</th>\n",
       "      <th>Lot_Area</th>\n",
       "      <th>Street</th>\n",
       "      <th>Alley</th>\n",
       "      <th>Lot_Shape</th>\n",
       "      <th>Land_Contour</th>\n",
       "      <th>Utilities</th>\n",
       "      <th>Lot_Config</th>\n",
       "      <th>...</th>\n",
       "      <th>Fence</th>\n",
       "      <th>Misc_Feature</th>\n",
       "      <th>Misc_Val</th>\n",
       "      <th>Mo_Sold</th>\n",
       "      <th>Year_Sold</th>\n",
       "      <th>Sale_Type</th>\n",
       "      <th>Sale_Condition</th>\n",
       "      <th>Sale_Price</th>\n",
       "      <th>Longitude</th>\n",
       "      <th>Latitude</th>\n",
       "    </tr>\n",
       "  </thead>\n",
       "  <tbody>\n",
       "    <tr>\n",
       "      <th>0</th>\n",
       "      <td>One_Story_1946_and_Newer_All_Styles</td>\n",
       "      <td>Residential_Low_Density</td>\n",
       "      <td>141</td>\n",
       "      <td>31770</td>\n",
       "      <td>Pave</td>\n",
       "      <td>No_Alley_Access</td>\n",
       "      <td>Slightly_Irregular</td>\n",
       "      <td>Lvl</td>\n",
       "      <td>AllPub</td>\n",
       "      <td>Corner</td>\n",
       "      <td>...</td>\n",
       "      <td>No_Fence</td>\n",
       "      <td>None</td>\n",
       "      <td>0</td>\n",
       "      <td>5</td>\n",
       "      <td>2010</td>\n",
       "      <td>WD</td>\n",
       "      <td>Normal</td>\n",
       "      <td>215000</td>\n",
       "      <td>-93.619754</td>\n",
       "      <td>42.054035</td>\n",
       "    </tr>\n",
       "    <tr>\n",
       "      <th>1</th>\n",
       "      <td>One_Story_1946_and_Newer_All_Styles</td>\n",
       "      <td>Residential_High_Density</td>\n",
       "      <td>80</td>\n",
       "      <td>11622</td>\n",
       "      <td>Pave</td>\n",
       "      <td>No_Alley_Access</td>\n",
       "      <td>Regular</td>\n",
       "      <td>Lvl</td>\n",
       "      <td>AllPub</td>\n",
       "      <td>Inside</td>\n",
       "      <td>...</td>\n",
       "      <td>Minimum_Privacy</td>\n",
       "      <td>None</td>\n",
       "      <td>0</td>\n",
       "      <td>6</td>\n",
       "      <td>2010</td>\n",
       "      <td>WD</td>\n",
       "      <td>Normal</td>\n",
       "      <td>105000</td>\n",
       "      <td>-93.619756</td>\n",
       "      <td>42.053014</td>\n",
       "    </tr>\n",
       "    <tr>\n",
       "      <th>2</th>\n",
       "      <td>One_Story_1946_and_Newer_All_Styles</td>\n",
       "      <td>Residential_Low_Density</td>\n",
       "      <td>81</td>\n",
       "      <td>14267</td>\n",
       "      <td>Pave</td>\n",
       "      <td>No_Alley_Access</td>\n",
       "      <td>Slightly_Irregular</td>\n",
       "      <td>Lvl</td>\n",
       "      <td>AllPub</td>\n",
       "      <td>Corner</td>\n",
       "      <td>...</td>\n",
       "      <td>No_Fence</td>\n",
       "      <td>Gar2</td>\n",
       "      <td>12500</td>\n",
       "      <td>6</td>\n",
       "      <td>2010</td>\n",
       "      <td>WD</td>\n",
       "      <td>Normal</td>\n",
       "      <td>172000</td>\n",
       "      <td>-93.619387</td>\n",
       "      <td>42.052659</td>\n",
       "    </tr>\n",
       "    <tr>\n",
       "      <th>3</th>\n",
       "      <td>One_Story_1946_and_Newer_All_Styles</td>\n",
       "      <td>Residential_Low_Density</td>\n",
       "      <td>93</td>\n",
       "      <td>11160</td>\n",
       "      <td>Pave</td>\n",
       "      <td>No_Alley_Access</td>\n",
       "      <td>Regular</td>\n",
       "      <td>Lvl</td>\n",
       "      <td>AllPub</td>\n",
       "      <td>Corner</td>\n",
       "      <td>...</td>\n",
       "      <td>No_Fence</td>\n",
       "      <td>None</td>\n",
       "      <td>0</td>\n",
       "      <td>4</td>\n",
       "      <td>2010</td>\n",
       "      <td>WD</td>\n",
       "      <td>Normal</td>\n",
       "      <td>244000</td>\n",
       "      <td>-93.617320</td>\n",
       "      <td>42.051245</td>\n",
       "    </tr>\n",
       "    <tr>\n",
       "      <th>4</th>\n",
       "      <td>Two_Story_1946_and_Newer</td>\n",
       "      <td>Residential_Low_Density</td>\n",
       "      <td>74</td>\n",
       "      <td>13830</td>\n",
       "      <td>Pave</td>\n",
       "      <td>No_Alley_Access</td>\n",
       "      <td>Slightly_Irregular</td>\n",
       "      <td>Lvl</td>\n",
       "      <td>AllPub</td>\n",
       "      <td>Inside</td>\n",
       "      <td>...</td>\n",
       "      <td>Minimum_Privacy</td>\n",
       "      <td>None</td>\n",
       "      <td>0</td>\n",
       "      <td>3</td>\n",
       "      <td>2010</td>\n",
       "      <td>WD</td>\n",
       "      <td>Normal</td>\n",
       "      <td>189900</td>\n",
       "      <td>-93.638933</td>\n",
       "      <td>42.060899</td>\n",
       "    </tr>\n",
       "    <tr>\n",
       "      <th>...</th>\n",
       "      <td>...</td>\n",
       "      <td>...</td>\n",
       "      <td>...</td>\n",
       "      <td>...</td>\n",
       "      <td>...</td>\n",
       "      <td>...</td>\n",
       "      <td>...</td>\n",
       "      <td>...</td>\n",
       "      <td>...</td>\n",
       "      <td>...</td>\n",
       "      <td>...</td>\n",
       "      <td>...</td>\n",
       "      <td>...</td>\n",
       "      <td>...</td>\n",
       "      <td>...</td>\n",
       "      <td>...</td>\n",
       "      <td>...</td>\n",
       "      <td>...</td>\n",
       "      <td>...</td>\n",
       "      <td>...</td>\n",
       "      <td>...</td>\n",
       "    </tr>\n",
       "    <tr>\n",
       "      <th>2925</th>\n",
       "      <td>Split_or_Multilevel</td>\n",
       "      <td>Residential_Low_Density</td>\n",
       "      <td>37</td>\n",
       "      <td>7937</td>\n",
       "      <td>Pave</td>\n",
       "      <td>No_Alley_Access</td>\n",
       "      <td>Slightly_Irregular</td>\n",
       "      <td>Lvl</td>\n",
       "      <td>AllPub</td>\n",
       "      <td>CulDSac</td>\n",
       "      <td>...</td>\n",
       "      <td>Good_Privacy</td>\n",
       "      <td>None</td>\n",
       "      <td>0</td>\n",
       "      <td>3</td>\n",
       "      <td>2006</td>\n",
       "      <td>WD</td>\n",
       "      <td>Normal</td>\n",
       "      <td>142500</td>\n",
       "      <td>-93.604776</td>\n",
       "      <td>41.988964</td>\n",
       "    </tr>\n",
       "    <tr>\n",
       "      <th>2926</th>\n",
       "      <td>One_Story_1946_and_Newer_All_Styles</td>\n",
       "      <td>Residential_Low_Density</td>\n",
       "      <td>0</td>\n",
       "      <td>8885</td>\n",
       "      <td>Pave</td>\n",
       "      <td>No_Alley_Access</td>\n",
       "      <td>Slightly_Irregular</td>\n",
       "      <td>Low</td>\n",
       "      <td>AllPub</td>\n",
       "      <td>Inside</td>\n",
       "      <td>...</td>\n",
       "      <td>Minimum_Privacy</td>\n",
       "      <td>None</td>\n",
       "      <td>0</td>\n",
       "      <td>6</td>\n",
       "      <td>2006</td>\n",
       "      <td>WD</td>\n",
       "      <td>Normal</td>\n",
       "      <td>131000</td>\n",
       "      <td>-93.602680</td>\n",
       "      <td>41.988314</td>\n",
       "    </tr>\n",
       "    <tr>\n",
       "      <th>2927</th>\n",
       "      <td>Split_Foyer</td>\n",
       "      <td>Residential_Low_Density</td>\n",
       "      <td>62</td>\n",
       "      <td>10441</td>\n",
       "      <td>Pave</td>\n",
       "      <td>No_Alley_Access</td>\n",
       "      <td>Regular</td>\n",
       "      <td>Lvl</td>\n",
       "      <td>AllPub</td>\n",
       "      <td>Inside</td>\n",
       "      <td>...</td>\n",
       "      <td>Minimum_Privacy</td>\n",
       "      <td>Shed</td>\n",
       "      <td>700</td>\n",
       "      <td>7</td>\n",
       "      <td>2006</td>\n",
       "      <td>WD</td>\n",
       "      <td>Normal</td>\n",
       "      <td>132000</td>\n",
       "      <td>-93.606847</td>\n",
       "      <td>41.986510</td>\n",
       "    </tr>\n",
       "    <tr>\n",
       "      <th>2928</th>\n",
       "      <td>One_Story_1946_and_Newer_All_Styles</td>\n",
       "      <td>Residential_Low_Density</td>\n",
       "      <td>77</td>\n",
       "      <td>10010</td>\n",
       "      <td>Pave</td>\n",
       "      <td>No_Alley_Access</td>\n",
       "      <td>Regular</td>\n",
       "      <td>Lvl</td>\n",
       "      <td>AllPub</td>\n",
       "      <td>Inside</td>\n",
       "      <td>...</td>\n",
       "      <td>No_Fence</td>\n",
       "      <td>None</td>\n",
       "      <td>0</td>\n",
       "      <td>4</td>\n",
       "      <td>2006</td>\n",
       "      <td>WD</td>\n",
       "      <td>Normal</td>\n",
       "      <td>170000</td>\n",
       "      <td>-93.600190</td>\n",
       "      <td>41.990921</td>\n",
       "    </tr>\n",
       "    <tr>\n",
       "      <th>2929</th>\n",
       "      <td>Two_Story_1946_and_Newer</td>\n",
       "      <td>Residential_Low_Density</td>\n",
       "      <td>74</td>\n",
       "      <td>9627</td>\n",
       "      <td>Pave</td>\n",
       "      <td>No_Alley_Access</td>\n",
       "      <td>Regular</td>\n",
       "      <td>Lvl</td>\n",
       "      <td>AllPub</td>\n",
       "      <td>Inside</td>\n",
       "      <td>...</td>\n",
       "      <td>No_Fence</td>\n",
       "      <td>None</td>\n",
       "      <td>0</td>\n",
       "      <td>11</td>\n",
       "      <td>2006</td>\n",
       "      <td>WD</td>\n",
       "      <td>Normal</td>\n",
       "      <td>188000</td>\n",
       "      <td>-93.599996</td>\n",
       "      <td>41.989265</td>\n",
       "    </tr>\n",
       "  </tbody>\n",
       "</table>\n",
       "<p>2930 rows × 81 columns</p>\n",
       "</div>"
      ],
      "text/plain": [
       "                              MS_SubClass                 MS_Zoning  \\\n",
       "0     One_Story_1946_and_Newer_All_Styles   Residential_Low_Density   \n",
       "1     One_Story_1946_and_Newer_All_Styles  Residential_High_Density   \n",
       "2     One_Story_1946_and_Newer_All_Styles   Residential_Low_Density   \n",
       "3     One_Story_1946_and_Newer_All_Styles   Residential_Low_Density   \n",
       "4                Two_Story_1946_and_Newer   Residential_Low_Density   \n",
       "...                                   ...                       ...   \n",
       "2925                  Split_or_Multilevel   Residential_Low_Density   \n",
       "2926  One_Story_1946_and_Newer_All_Styles   Residential_Low_Density   \n",
       "2927                          Split_Foyer   Residential_Low_Density   \n",
       "2928  One_Story_1946_and_Newer_All_Styles   Residential_Low_Density   \n",
       "2929             Two_Story_1946_and_Newer   Residential_Low_Density   \n",
       "\n",
       "      Lot_Frontage  Lot_Area Street            Alley           Lot_Shape  \\\n",
       "0              141     31770   Pave  No_Alley_Access  Slightly_Irregular   \n",
       "1               80     11622   Pave  No_Alley_Access             Regular   \n",
       "2               81     14267   Pave  No_Alley_Access  Slightly_Irregular   \n",
       "3               93     11160   Pave  No_Alley_Access             Regular   \n",
       "4               74     13830   Pave  No_Alley_Access  Slightly_Irregular   \n",
       "...            ...       ...    ...              ...                 ...   \n",
       "2925            37      7937   Pave  No_Alley_Access  Slightly_Irregular   \n",
       "2926             0      8885   Pave  No_Alley_Access  Slightly_Irregular   \n",
       "2927            62     10441   Pave  No_Alley_Access             Regular   \n",
       "2928            77     10010   Pave  No_Alley_Access             Regular   \n",
       "2929            74      9627   Pave  No_Alley_Access             Regular   \n",
       "\n",
       "     Land_Contour Utilities Lot_Config  ...            Fence Misc_Feature  \\\n",
       "0             Lvl    AllPub     Corner  ...         No_Fence         None   \n",
       "1             Lvl    AllPub     Inside  ...  Minimum_Privacy         None   \n",
       "2             Lvl    AllPub     Corner  ...         No_Fence         Gar2   \n",
       "3             Lvl    AllPub     Corner  ...         No_Fence         None   \n",
       "4             Lvl    AllPub     Inside  ...  Minimum_Privacy         None   \n",
       "...           ...       ...        ...  ...              ...          ...   \n",
       "2925          Lvl    AllPub    CulDSac  ...     Good_Privacy         None   \n",
       "2926          Low    AllPub     Inside  ...  Minimum_Privacy         None   \n",
       "2927          Lvl    AllPub     Inside  ...  Minimum_Privacy         Shed   \n",
       "2928          Lvl    AllPub     Inside  ...         No_Fence         None   \n",
       "2929          Lvl    AllPub     Inside  ...         No_Fence         None   \n",
       "\n",
       "     Misc_Val Mo_Sold Year_Sold Sale_Type Sale_Condition Sale_Price  \\\n",
       "0           0       5      2010       WD          Normal     215000   \n",
       "1           0       6      2010       WD          Normal     105000   \n",
       "2       12500       6      2010       WD          Normal     172000   \n",
       "3           0       4      2010       WD          Normal     244000   \n",
       "4           0       3      2010       WD          Normal     189900   \n",
       "...       ...     ...       ...       ...            ...        ...   \n",
       "2925        0       3      2006       WD          Normal     142500   \n",
       "2926        0       6      2006       WD          Normal     131000   \n",
       "2927      700       7      2006       WD          Normal     132000   \n",
       "2928        0       4      2006       WD          Normal     170000   \n",
       "2929        0      11      2006       WD          Normal     188000   \n",
       "\n",
       "      Longitude   Latitude  \n",
       "0    -93.619754  42.054035  \n",
       "1    -93.619756  42.053014  \n",
       "2    -93.619387  42.052659  \n",
       "3    -93.617320  42.051245  \n",
       "4    -93.638933  42.060899  \n",
       "...         ...        ...  \n",
       "2925 -93.604776  41.988964  \n",
       "2926 -93.602680  41.988314  \n",
       "2927 -93.606847  41.986510  \n",
       "2928 -93.600190  41.990921  \n",
       "2929 -93.599996  41.989265  \n",
       "\n",
       "[2930 rows x 81 columns]"
      ]
     },
     "execution_count": 4,
     "metadata": {},
     "output_type": "execute_result"
    }
   ],
   "source": [
    "df"
   ]
  },
  {
   "cell_type": "code",
   "execution_count": 5,
   "metadata": {},
   "outputs": [
    {
     "data": {
      "text/plain": [
       "(2930, 81)"
      ]
     },
     "execution_count": 5,
     "metadata": {},
     "output_type": "execute_result"
    }
   ],
   "source": [
    "df.shape"
   ]
  },
  {
   "cell_type": "code",
   "execution_count": 6,
   "metadata": {},
   "outputs": [
    {
     "data": {
      "text/plain": [
       "Index(['MS_SubClass', 'MS_Zoning', 'Lot_Frontage', 'Lot_Area', 'Street',\n",
       "       'Alley', 'Lot_Shape', 'Land_Contour', 'Utilities', 'Lot_Config',\n",
       "       'Land_Slope', 'Neighborhood', 'Condition_1', 'Condition_2', 'Bldg_Type',\n",
       "       'House_Style', 'Overall_Qual', 'Overall_Cond', 'Year_Built',\n",
       "       'Year_Remod_Add', 'Roof_Style', 'Roof_Matl', 'Exterior_1st',\n",
       "       'Exterior_2nd', 'Mas_Vnr_Type', 'Mas_Vnr_Area', 'Exter_Qual',\n",
       "       'Exter_Cond', 'Foundation', 'Bsmt_Qual', 'Bsmt_Cond', 'Bsmt_Exposure',\n",
       "       'BsmtFin_Type_1', 'BsmtFin_SF_1', 'BsmtFin_Type_2', 'BsmtFin_SF_2',\n",
       "       'Bsmt_Unf_SF', 'Total_Bsmt_SF', 'Heating', 'Heating_QC', 'Central_Air',\n",
       "       'Electrical', 'First_Flr_SF', 'Second_Flr_SF', 'Low_Qual_Fin_SF',\n",
       "       'Gr_Liv_Area', 'Bsmt_Full_Bath', 'Bsmt_Half_Bath', 'Full_Bath',\n",
       "       'Half_Bath', 'Bedroom_AbvGr', 'Kitchen_AbvGr', 'Kitchen_Qual',\n",
       "       'TotRms_AbvGrd', 'Functional', 'Fireplaces', 'Fireplace_Qu',\n",
       "       'Garage_Type', 'Garage_Finish', 'Garage_Cars', 'Garage_Area',\n",
       "       'Garage_Qual', 'Garage_Cond', 'Paved_Drive', 'Wood_Deck_SF',\n",
       "       'Open_Porch_SF', 'Enclosed_Porch', 'Three_season_porch', 'Screen_Porch',\n",
       "       'Pool_Area', 'Pool_QC', 'Fence', 'Misc_Feature', 'Misc_Val', 'Mo_Sold',\n",
       "       'Year_Sold', 'Sale_Type', 'Sale_Condition', 'Sale_Price', 'Longitude',\n",
       "       'Latitude'],\n",
       "      dtype='object')"
      ]
     },
     "execution_count": 6,
     "metadata": {},
     "output_type": "execute_result"
    }
   ],
   "source": [
    "df.columns"
   ]
  },
  {
   "attachments": {},
   "cell_type": "markdown",
   "metadata": {},
   "source": [
    "### Ejercicio 2: Feature engineering"
   ]
  },
  {
   "attachments": {},
   "cell_type": "markdown",
   "metadata": {},
   "source": [
    "* Identifique si el dtype de cada pd.Serie en nuestra base de datos se considera 'object' o no. Para todas las variables que sean'object',realice lo siguiente:\n",
    "    - Genere una recodificación k-1 en cada variable. Para efectos prácticos sólo necesitan eliminar una de las categorías, no se concentren en especificar la categoría a eliminar. Pueden utilizar la función con la opción drop_first para ello.\n",
    "    - Utilizando el método pd.concat, concatene a los atributos creados en la base de datos."
   ]
  },
  {
   "cell_type": "code",
   "execution_count": 7,
   "metadata": {},
   "outputs": [
    {
     "name": "stdout",
     "output_type": "stream",
     "text": [
      "<class 'pandas.core.frame.DataFrame'>\n",
      "RangeIndex: 2930 entries, 0 to 2929\n",
      "Data columns (total 81 columns):\n",
      " #   Column              Non-Null Count  Dtype  \n",
      "---  ------              --------------  -----  \n",
      " 0   MS_SubClass         2930 non-null   object \n",
      " 1   MS_Zoning           2930 non-null   object \n",
      " 2   Lot_Frontage        2930 non-null   int64  \n",
      " 3   Lot_Area            2930 non-null   int64  \n",
      " 4   Street              2930 non-null   object \n",
      " 5   Alley               2930 non-null   object \n",
      " 6   Lot_Shape           2930 non-null   object \n",
      " 7   Land_Contour        2930 non-null   object \n",
      " 8   Utilities           2930 non-null   object \n",
      " 9   Lot_Config          2930 non-null   object \n",
      " 10  Land_Slope          2930 non-null   object \n",
      " 11  Neighborhood        2930 non-null   object \n",
      " 12  Condition_1         2930 non-null   object \n",
      " 13  Condition_2         2930 non-null   object \n",
      " 14  Bldg_Type           2930 non-null   object \n",
      " 15  House_Style         2930 non-null   object \n",
      " 16  Overall_Qual        2930 non-null   object \n",
      " 17  Overall_Cond        2930 non-null   object \n",
      " 18  Year_Built          2930 non-null   int64  \n",
      " 19  Year_Remod_Add      2930 non-null   int64  \n",
      " 20  Roof_Style          2930 non-null   object \n",
      " 21  Roof_Matl           2930 non-null   object \n",
      " 22  Exterior_1st        2930 non-null   object \n",
      " 23  Exterior_2nd        2930 non-null   object \n",
      " 24  Mas_Vnr_Type        2930 non-null   object \n",
      " 25  Mas_Vnr_Area        2930 non-null   int64  \n",
      " 26  Exter_Qual          2930 non-null   object \n",
      " 27  Exter_Cond          2930 non-null   object \n",
      " 28  Foundation          2930 non-null   object \n",
      " 29  Bsmt_Qual           2930 non-null   object \n",
      " 30  Bsmt_Cond           2930 non-null   object \n",
      " 31  Bsmt_Exposure       2930 non-null   object \n",
      " 32  BsmtFin_Type_1      2930 non-null   object \n",
      " 33  BsmtFin_SF_1        2930 non-null   int64  \n",
      " 34  BsmtFin_Type_2      2930 non-null   object \n",
      " 35  BsmtFin_SF_2        2930 non-null   int64  \n",
      " 36  Bsmt_Unf_SF         2930 non-null   int64  \n",
      " 37  Total_Bsmt_SF       2930 non-null   int64  \n",
      " 38  Heating             2930 non-null   object \n",
      " 39  Heating_QC          2930 non-null   object \n",
      " 40  Central_Air         2930 non-null   object \n",
      " 41  Electrical          2930 non-null   object \n",
      " 42  First_Flr_SF        2930 non-null   int64  \n",
      " 43  Second_Flr_SF       2930 non-null   int64  \n",
      " 44  Low_Qual_Fin_SF     2930 non-null   int64  \n",
      " 45  Gr_Liv_Area         2930 non-null   int64  \n",
      " 46  Bsmt_Full_Bath      2930 non-null   int64  \n",
      " 47  Bsmt_Half_Bath      2930 non-null   int64  \n",
      " 48  Full_Bath           2930 non-null   int64  \n",
      " 49  Half_Bath           2930 non-null   int64  \n",
      " 50  Bedroom_AbvGr       2930 non-null   int64  \n",
      " 51  Kitchen_AbvGr       2930 non-null   int64  \n",
      " 52  Kitchen_Qual        2930 non-null   object \n",
      " 53  TotRms_AbvGrd       2930 non-null   int64  \n",
      " 54  Functional          2930 non-null   object \n",
      " 55  Fireplaces          2930 non-null   int64  \n",
      " 56  Fireplace_Qu        2930 non-null   object \n",
      " 57  Garage_Type         2930 non-null   object \n",
      " 58  Garage_Finish       2930 non-null   object \n",
      " 59  Garage_Cars         2930 non-null   int64  \n",
      " 60  Garage_Area         2930 non-null   int64  \n",
      " 61  Garage_Qual         2930 non-null   object \n",
      " 62  Garage_Cond         2930 non-null   object \n",
      " 63  Paved_Drive         2930 non-null   object \n",
      " 64  Wood_Deck_SF        2930 non-null   int64  \n",
      " 65  Open_Porch_SF       2930 non-null   int64  \n",
      " 66  Enclosed_Porch      2930 non-null   int64  \n",
      " 67  Three_season_porch  2930 non-null   int64  \n",
      " 68  Screen_Porch        2930 non-null   int64  \n",
      " 69  Pool_Area           2930 non-null   int64  \n",
      " 70  Pool_QC             2930 non-null   object \n",
      " 71  Fence               2930 non-null   object \n",
      " 72  Misc_Feature        2930 non-null   object \n",
      " 73  Misc_Val            2930 non-null   int64  \n",
      " 74  Mo_Sold             2930 non-null   int64  \n",
      " 75  Year_Sold           2930 non-null   int64  \n",
      " 76  Sale_Type           2930 non-null   object \n",
      " 77  Sale_Condition      2930 non-null   object \n",
      " 78  Sale_Price          2930 non-null   int64  \n",
      " 79  Longitude           2930 non-null   float64\n",
      " 80  Latitude            2930 non-null   float64\n",
      "dtypes: float64(2), int64(33), object(46)\n",
      "memory usage: 1.8+ MB\n"
     ]
    }
   ],
   "source": [
    "df.info()"
   ]
  },
  {
   "attachments": {},
   "cell_type": "markdown",
   "metadata": {},
   "source": [
    "* No hay datos perdidos en el dataframe"
   ]
  },
  {
   "cell_type": "code",
   "execution_count": 31,
   "metadata": {},
   "outputs": [],
   "source": [
    "var_objects = []\n",
    "var_prefix = []\n",
    "for index, row in df.items():\n",
    "    if row.dtype == 'object':\n",
    "        var_objects.append(index)\n",
    "        var_prefix.append(f'{index[0:2]}{index[-3:]}')\n",
    "# Se guarda el diccionario de recodificacion \n",
    "dic_recod = dict(zip(var_prefix,var_objects))"
   ]
  },
  {
   "cell_type": "code",
   "execution_count": 32,
   "metadata": {},
   "outputs": [
    {
     "data": {
      "text/html": [
       "<div>\n",
       "<style scoped>\n",
       "    .dataframe tbody tr th:only-of-type {\n",
       "        vertical-align: middle;\n",
       "    }\n",
       "\n",
       "    .dataframe tbody tr th {\n",
       "        vertical-align: top;\n",
       "    }\n",
       "\n",
       "    .dataframe thead th {\n",
       "        text-align: right;\n",
       "    }\n",
       "</style>\n",
       "<table border=\"1\" class=\"dataframe\">\n",
       "  <thead>\n",
       "    <tr style=\"text-align: right;\">\n",
       "      <th></th>\n",
       "      <th>MSass_One_Story_1945_and_Older</th>\n",
       "      <th>MSass_One_Story_1946_and_Newer_All_Styles</th>\n",
       "      <th>MSass_One_Story_PUD_1946_and_Newer</th>\n",
       "      <th>MSass_One_Story_with_Finished_Attic_All_Ages</th>\n",
       "      <th>MSass_One_and_Half_Story_Finished_All_Ages</th>\n",
       "      <th>MSass_One_and_Half_Story_PUD_All_Ages</th>\n",
       "      <th>MSass_One_and_Half_Story_Unfinished_All_Ages</th>\n",
       "      <th>MSass_PUD_Multilevel_Split_Level_Foyer</th>\n",
       "      <th>MSass_Split_Foyer</th>\n",
       "      <th>MSass_Split_or_Multilevel</th>\n",
       "      <th>...</th>\n",
       "      <th>Saype_ConLw</th>\n",
       "      <th>Saype_New</th>\n",
       "      <th>Saype_Oth</th>\n",
       "      <th>Saype_VWD</th>\n",
       "      <th>Saype_WD</th>\n",
       "      <th>Saion_AdjLand</th>\n",
       "      <th>Saion_Alloca</th>\n",
       "      <th>Saion_Family</th>\n",
       "      <th>Saion_Normal</th>\n",
       "      <th>Saion_Partial</th>\n",
       "    </tr>\n",
       "  </thead>\n",
       "  <tbody>\n",
       "    <tr>\n",
       "      <th>612</th>\n",
       "      <td>0</td>\n",
       "      <td>0</td>\n",
       "      <td>0</td>\n",
       "      <td>0</td>\n",
       "      <td>0</td>\n",
       "      <td>0</td>\n",
       "      <td>0</td>\n",
       "      <td>0</td>\n",
       "      <td>0</td>\n",
       "      <td>1</td>\n",
       "      <td>...</td>\n",
       "      <td>0</td>\n",
       "      <td>0</td>\n",
       "      <td>0</td>\n",
       "      <td>0</td>\n",
       "      <td>1</td>\n",
       "      <td>0</td>\n",
       "      <td>0</td>\n",
       "      <td>0</td>\n",
       "      <td>1</td>\n",
       "      <td>0</td>\n",
       "    </tr>\n",
       "    <tr>\n",
       "      <th>63</th>\n",
       "      <td>0</td>\n",
       "      <td>0</td>\n",
       "      <td>0</td>\n",
       "      <td>0</td>\n",
       "      <td>0</td>\n",
       "      <td>0</td>\n",
       "      <td>0</td>\n",
       "      <td>0</td>\n",
       "      <td>0</td>\n",
       "      <td>0</td>\n",
       "      <td>...</td>\n",
       "      <td>0</td>\n",
       "      <td>0</td>\n",
       "      <td>0</td>\n",
       "      <td>0</td>\n",
       "      <td>1</td>\n",
       "      <td>0</td>\n",
       "      <td>0</td>\n",
       "      <td>0</td>\n",
       "      <td>1</td>\n",
       "      <td>0</td>\n",
       "    </tr>\n",
       "    <tr>\n",
       "      <th>34</th>\n",
       "      <td>0</td>\n",
       "      <td>0</td>\n",
       "      <td>1</td>\n",
       "      <td>0</td>\n",
       "      <td>0</td>\n",
       "      <td>0</td>\n",
       "      <td>0</td>\n",
       "      <td>0</td>\n",
       "      <td>0</td>\n",
       "      <td>0</td>\n",
       "      <td>...</td>\n",
       "      <td>0</td>\n",
       "      <td>0</td>\n",
       "      <td>0</td>\n",
       "      <td>0</td>\n",
       "      <td>1</td>\n",
       "      <td>0</td>\n",
       "      <td>0</td>\n",
       "      <td>0</td>\n",
       "      <td>1</td>\n",
       "      <td>0</td>\n",
       "    </tr>\n",
       "    <tr>\n",
       "      <th>891</th>\n",
       "      <td>0</td>\n",
       "      <td>1</td>\n",
       "      <td>0</td>\n",
       "      <td>0</td>\n",
       "      <td>0</td>\n",
       "      <td>0</td>\n",
       "      <td>0</td>\n",
       "      <td>0</td>\n",
       "      <td>0</td>\n",
       "      <td>0</td>\n",
       "      <td>...</td>\n",
       "      <td>0</td>\n",
       "      <td>0</td>\n",
       "      <td>0</td>\n",
       "      <td>0</td>\n",
       "      <td>1</td>\n",
       "      <td>0</td>\n",
       "      <td>0</td>\n",
       "      <td>0</td>\n",
       "      <td>1</td>\n",
       "      <td>0</td>\n",
       "    </tr>\n",
       "  </tbody>\n",
       "</table>\n",
       "<p>4 rows × 272 columns</p>\n",
       "</div>"
      ],
      "text/plain": [
       "     MSass_One_Story_1945_and_Older  \\\n",
       "612                               0   \n",
       "63                                0   \n",
       "34                                0   \n",
       "891                               0   \n",
       "\n",
       "     MSass_One_Story_1946_and_Newer_All_Styles  \\\n",
       "612                                          0   \n",
       "63                                           0   \n",
       "34                                           0   \n",
       "891                                          1   \n",
       "\n",
       "     MSass_One_Story_PUD_1946_and_Newer  \\\n",
       "612                                   0   \n",
       "63                                    0   \n",
       "34                                    1   \n",
       "891                                   0   \n",
       "\n",
       "     MSass_One_Story_with_Finished_Attic_All_Ages  \\\n",
       "612                                             0   \n",
       "63                                              0   \n",
       "34                                              0   \n",
       "891                                             0   \n",
       "\n",
       "     MSass_One_and_Half_Story_Finished_All_Ages  \\\n",
       "612                                           0   \n",
       "63                                            0   \n",
       "34                                            0   \n",
       "891                                           0   \n",
       "\n",
       "     MSass_One_and_Half_Story_PUD_All_Ages  \\\n",
       "612                                      0   \n",
       "63                                       0   \n",
       "34                                       0   \n",
       "891                                      0   \n",
       "\n",
       "     MSass_One_and_Half_Story_Unfinished_All_Ages  \\\n",
       "612                                             0   \n",
       "63                                              0   \n",
       "34                                              0   \n",
       "891                                             0   \n",
       "\n",
       "     MSass_PUD_Multilevel_Split_Level_Foyer  MSass_Split_Foyer  \\\n",
       "612                                       0                  0   \n",
       "63                                        0                  0   \n",
       "34                                        0                  0   \n",
       "891                                       0                  0   \n",
       "\n",
       "     MSass_Split_or_Multilevel  ...  Saype_ConLw  Saype_New  Saype_Oth  \\\n",
       "612                          1  ...            0          0          0   \n",
       "63                           0  ...            0          0          0   \n",
       "34                           0  ...            0          0          0   \n",
       "891                          0  ...            0          0          0   \n",
       "\n",
       "     Saype_VWD  Saype_WD   Saion_AdjLand  Saion_Alloca  Saion_Family  \\\n",
       "612          0          1              0             0             0   \n",
       "63           0          1              0             0             0   \n",
       "34           0          1              0             0             0   \n",
       "891          0          1              0             0             0   \n",
       "\n",
       "     Saion_Normal  Saion_Partial  \n",
       "612             1              0  \n",
       "63              1              0  \n",
       "34              1              0  \n",
       "891             1              0  \n",
       "\n",
       "[4 rows x 272 columns]"
      ]
     },
     "execution_count": 32,
     "metadata": {},
     "output_type": "execute_result"
    }
   ],
   "source": [
    "rec_bin = pd.get_dummies(df[var_objects], prefix=var_prefix,drop_first=True)\n",
    "rec_bin.sample(4)"
   ]
  },
  {
   "cell_type": "code",
   "execution_count": 33,
   "metadata": {},
   "outputs": [],
   "source": [
    "df_dummies = df.drop(columns=var_objects)"
   ]
  },
  {
   "cell_type": "code",
   "execution_count": 34,
   "metadata": {},
   "outputs": [],
   "source": [
    "df_bin = pd.concat([df_dummies, rec_bin], axis=1).copy()"
   ]
  },
  {
   "cell_type": "code",
   "execution_count": 35,
   "metadata": {},
   "outputs": [
    {
     "data": {
      "text/plain": [
       "(2930, 307)"
      ]
     },
     "execution_count": 35,
     "metadata": {},
     "output_type": "execute_result"
    }
   ],
   "source": [
    "df_bin.shape"
   ]
  },
  {
   "attachments": {},
   "cell_type": "markdown",
   "metadata": {},
   "source": [
    "## Ejercicio 3: Primer modelo"
   ]
  },
  {
   "attachments": {},
   "cell_type": "markdown",
   "metadata": {},
   "source": [
    "* Genere muestras de entrenamiento y validación con 'Sale_Price' como vector objetivo y los atributos de la base de datos como matriz."
   ]
  },
  {
   "cell_type": "code",
   "execution_count": 36,
   "metadata": {},
   "outputs": [
    {
     "data": {
      "text/plain": [
       "count      2930.000000\n",
       "mean     180796.060068\n",
       "std       79886.692357\n",
       "min       12789.000000\n",
       "25%      129500.000000\n",
       "50%      160000.000000\n",
       "75%      213500.000000\n",
       "max      755000.000000\n",
       "Name: Sale_Price, dtype: float64"
      ]
     },
     "execution_count": 36,
     "metadata": {},
     "output_type": "execute_result"
    }
   ],
   "source": [
    "df_bin['Sale_Price'].describe()"
   ]
  },
  {
   "cell_type": "code",
   "execution_count": 37,
   "metadata": {},
   "outputs": [
    {
     "data": {
      "text/plain": [
       "(2930, 307)"
      ]
     },
     "execution_count": 37,
     "metadata": {},
     "output_type": "execute_result"
    }
   ],
   "source": [
    "y = df_bin['Sale_Price']\n",
    "X = df_bin.drop(columns='Sale_Price')\n",
    "df_bin.shape"
   ]
  },
  {
   "attachments": {},
   "cell_type": "markdown",
   "metadata": {},
   "source": [
    "* Recuerde definir el porcentaje de casos en la muestra de validación y una semilla\n",
    "pseudoaleatoria."
   ]
  },
  {
   "cell_type": "code",
   "execution_count": 38,
   "metadata": {},
   "outputs": [],
   "source": [
    "def train_split(X,y, norm=True, t_size=.33, rdn=1991):\n",
    "    X_train_pre, X_test_pre, y_train, y_test = train_test_split(X,\n",
    "                                        y,random_state=rdn, test_size=t_size)\n",
    "    if norm:\n",
    "        scaler = StandardScaler().fit(X_train_pre)\n",
    "        X_train = pd.DataFrame(scaler.transform(X_train_pre), columns=X_train_pre.columns)\n",
    "        X_test = pd.DataFrame(scaler.transform(X_test_pre), columns=X_test_pre.columns)\n",
    "    else:\n",
    "        X_train= X_train_pre\n",
    "        X_test = X_test_pre\n",
    "    \n",
    "    print(f'''X_train {X_train.shape}\n",
    "X_test {X_test.shape}\n",
    "y_train {y_train.shape}\n",
    "y_test {y_test.shape}''')\n",
    "    return X_train, X_test, y_train, y_test"
   ]
  },
  {
   "cell_type": "code",
   "execution_count": 39,
   "metadata": {},
   "outputs": [
    {
     "name": "stdout",
     "output_type": "stream",
     "text": [
      "X_train (1963, 306)\n",
      "X_test (967, 306)\n",
      "y_train (1963,)\n",
      "y_test (967,)\n"
     ]
    }
   ],
   "source": [
    "X_train, X_test, y_train, y_test = train_split(X, y, norm=True)"
   ]
  },
  {
   "attachments": {},
   "cell_type": "markdown",
   "metadata": {},
   "source": [
    "* Posteriormente, entrene un árbol de regresión en la muestra de entrenamiento sin\n",
    "modificar los hiper parámetros. Reporte las principales métricas de desempeño."
   ]
  },
  {
   "cell_type": "code",
   "execution_count": 40,
   "metadata": {},
   "outputs": [],
   "source": [
    "def metricas(X_test, y_test, model):\n",
    "    print(\"Test MSE:\", mean_squared_error(y_test, model.predict(X_test)).round(5))\n",
    "    print(\"Test MAE:\", median_absolute_error(y_test, model.predict(X_test)).round(5))\n",
    "    print(\"Test R2:\", r2_score(y_test, model.predict(X_test)).round(5))"
   ]
  },
  {
   "cell_type": "code",
   "execution_count": 41,
   "metadata": {},
   "outputs": [
    {
     "name": "stdout",
     "output_type": "stream",
     "text": [
      "Test MSE: 1437975744.65977\n",
      "Test MAE: 16500.0\n",
      "Test R2: 0.78443\n"
     ]
    }
   ],
   "source": [
    "dec_tree = DecisionTreeRegressor(random_state=1991).fit(X_train, y_train)\n",
    "metricas(X_test, y_test, dec_tree)"
   ]
  },
  {
   "cell_type": "code",
   "execution_count": 56,
   "metadata": {},
   "outputs": [
    {
     "data": {
      "text/plain": [
       "count      2930.000000\n",
       "mean     180796.060068\n",
       "std       79886.692357\n",
       "min       12789.000000\n",
       "25%      129500.000000\n",
       "50%      160000.000000\n",
       "75%      213500.000000\n",
       "max      755000.000000\n",
       "Name: Sale_Price, dtype: float64"
      ]
     },
     "execution_count": 56,
     "metadata": {},
     "output_type": "execute_result"
    }
   ],
   "source": [
    "y.describe()"
   ]
  },
  {
   "attachments": {},
   "cell_type": "markdown",
   "metadata": {},
   "source": [
    "* R2: Nuestras variables explican en un 78,44% la varianza del vector objetivo\n",
    "* MAE: Se encuentra entre la media y la mediana, bastante cerca a la mediana, por lo cual no se desvía tanto el modelo."
   ]
  },
  {
   "attachments": {},
   "cell_type": "markdown",
   "metadata": {},
   "source": [
    "### Ejercicio 4: Importancia relativa"
   ]
  },
  {
   "attachments": {},
   "cell_type": "markdown",
   "metadata": {},
   "source": [
    "* Implemente el método plot_importance utilizado en la lectura para reportar la\n",
    "importancia relativa de los atributos.\n",
    "* Comente sobre cuáles son los principales 10 atributos que afectan la predicción de\n",
    "Sale_Price.\n",
    "* Separe estos 10 atributos en una nueva base de datos, junto con el vector objetivo."
   ]
  },
  {
   "cell_type": "code",
   "execution_count": 43,
   "metadata": {},
   "outputs": [],
   "source": [
    "def graficar_importancia(modelo, lista_col, nro_a_imprimir=10): \n",
    "    importancia = modelo.feature_importances_\n",
    "    indices = np.argsort(importancia)[::-1]\n",
    "    indices_10 = indices[0:nro_a_imprimir]\n",
    "    names = [lista_col[i] for i in indices_10]\n",
    "    plt.title(\"Feature importance\")\n",
    "    plt.barh(range(len(names)), importancia[indices_10])\n",
    "    plt.yticks(range(len(names)), names, rotation=0)\n",
    "\n",
    "    return names"
   ]
  },
  {
   "cell_type": "code",
   "execution_count": 44,
   "metadata": {},
   "outputs": [
    {
     "data": {
      "image/png": "[encoded data removed]",
      "text/plain": [
       "<Figure size 1000x600 with 1 Axes>"
      ]
     },
     "metadata": {},
     "output_type": "display_data"
    }
   ],
   "source": [
    "var_10_best = graficar_importancia(dec_tree, X.columns)"
   ]
  },
  {
   "attachments": {},
   "cell_type": "markdown",
   "metadata": {},
   "source": [
    "* Garage_Cars y Gr_Liv_Area son las variables mas importantes, las 8 que los siguen bajan mucho su efecto dentro del modelo."
   ]
  },
  {
   "cell_type": "code",
   "execution_count": 45,
   "metadata": {},
   "outputs": [
    {
     "data": {
      "text/plain": [
       "['Garage_Cars',\n",
       " 'Gr_Liv_Area',\n",
       " 'Total_Bsmt_SF',\n",
       " 'First_Flr_SF',\n",
       " 'Exual_Typical',\n",
       " 'Year_Built',\n",
       " 'Year_Remod_Add',\n",
       " 'Fireplaces',\n",
       " 'Lot_Area',\n",
       " 'Latitude']"
      ]
     },
     "execution_count": 45,
     "metadata": {},
     "output_type": "execute_result"
    }
   ],
   "source": [
    "var_10_best"
   ]
  },
  {
   "attachments": {},
   "cell_type": "markdown",
   "metadata": {},
   "source": [
    "### Ejercicio 5: Refactorización del modelo y picklingpd.get_dummies"
   ]
  },
  {
   "attachments": {},
   "cell_type": "markdown",
   "metadata": {},
   "source": [
    "* En función de los atributos seleccionados en el ejercicio anterior, vuelva a generar\n",
    "conjuntos de entrenamiento y validación."
   ]
  },
  {
   "cell_type": "code",
   "execution_count": 46,
   "metadata": {},
   "outputs": [
    {
     "data": {
      "text/html": [
       "<div>\n",
       "<style scoped>\n",
       "    .dataframe tbody tr th:only-of-type {\n",
       "        vertical-align: middle;\n",
       "    }\n",
       "\n",
       "    .dataframe tbody tr th {\n",
       "        vertical-align: top;\n",
       "    }\n",
       "\n",
       "    .dataframe thead th {\n",
       "        text-align: right;\n",
       "    }\n",
       "</style>\n",
       "<table border=\"1\" class=\"dataframe\">\n",
       "  <thead>\n",
       "    <tr style=\"text-align: right;\">\n",
       "      <th></th>\n",
       "      <th>Garage_Cars</th>\n",
       "      <th>Gr_Liv_Area</th>\n",
       "      <th>Total_Bsmt_SF</th>\n",
       "      <th>First_Flr_SF</th>\n",
       "      <th>Exual_Typical</th>\n",
       "      <th>Year_Built</th>\n",
       "      <th>Year_Remod_Add</th>\n",
       "      <th>Fireplaces</th>\n",
       "      <th>Lot_Area</th>\n",
       "      <th>Latitude</th>\n",
       "    </tr>\n",
       "  </thead>\n",
       "  <tbody>\n",
       "    <tr>\n",
       "      <th>0</th>\n",
       "      <td>2</td>\n",
       "      <td>1656</td>\n",
       "      <td>1080</td>\n",
       "      <td>1656</td>\n",
       "      <td>1</td>\n",
       "      <td>1960</td>\n",
       "      <td>1960</td>\n",
       "      <td>2</td>\n",
       "      <td>31770</td>\n",
       "      <td>42.054035</td>\n",
       "    </tr>\n",
       "    <tr>\n",
       "      <th>1</th>\n",
       "      <td>1</td>\n",
       "      <td>896</td>\n",
       "      <td>882</td>\n",
       "      <td>896</td>\n",
       "      <td>1</td>\n",
       "      <td>1961</td>\n",
       "      <td>1961</td>\n",
       "      <td>0</td>\n",
       "      <td>11622</td>\n",
       "      <td>42.053014</td>\n",
       "    </tr>\n",
       "    <tr>\n",
       "      <th>2</th>\n",
       "      <td>1</td>\n",
       "      <td>1329</td>\n",
       "      <td>1329</td>\n",
       "      <td>1329</td>\n",
       "      <td>1</td>\n",
       "      <td>1958</td>\n",
       "      <td>1958</td>\n",
       "      <td>0</td>\n",
       "      <td>14267</td>\n",
       "      <td>42.052659</td>\n",
       "    </tr>\n",
       "    <tr>\n",
       "      <th>3</th>\n",
       "      <td>2</td>\n",
       "      <td>2110</td>\n",
       "      <td>2110</td>\n",
       "      <td>2110</td>\n",
       "      <td>0</td>\n",
       "      <td>1968</td>\n",
       "      <td>1968</td>\n",
       "      <td>2</td>\n",
       "      <td>11160</td>\n",
       "      <td>42.051245</td>\n",
       "    </tr>\n",
       "    <tr>\n",
       "      <th>4</th>\n",
       "      <td>2</td>\n",
       "      <td>1629</td>\n",
       "      <td>928</td>\n",
       "      <td>928</td>\n",
       "      <td>1</td>\n",
       "      <td>1997</td>\n",
       "      <td>1998</td>\n",
       "      <td>1</td>\n",
       "      <td>13830</td>\n",
       "      <td>42.060899</td>\n",
       "    </tr>\n",
       "  </tbody>\n",
       "</table>\n",
       "</div>"
      ],
      "text/plain": [
       "   Garage_Cars  Gr_Liv_Area  Total_Bsmt_SF  First_Flr_SF  Exual_Typical  \\\n",
       "0            2         1656           1080          1656              1   \n",
       "1            1          896            882           896              1   \n",
       "2            1         1329           1329          1329              1   \n",
       "3            2         2110           2110          2110              0   \n",
       "4            2         1629            928           928              1   \n",
       "\n",
       "   Year_Built  Year_Remod_Add  Fireplaces  Lot_Area   Latitude  \n",
       "0        1960            1960           2     31770  42.054035  \n",
       "1        1961            1961           0     11622  42.053014  \n",
       "2        1958            1958           0     14267  42.052659  \n",
       "3        1968            1968           2     11160  42.051245  \n",
       "4        1997            1998           1     13830  42.060899  "
      ]
     },
     "execution_count": 46,
     "metadata": {},
     "output_type": "execute_result"
    }
   ],
   "source": [
    "X_10 = X.loc[:,var_10_best]\n",
    "X_10.head()"
   ]
  },
  {
   "cell_type": "code",
   "execution_count": 57,
   "metadata": {},
   "outputs": [
    {
     "name": "stdout",
     "output_type": "stream",
     "text": [
      "X_train (1963, 10)\n",
      "X_test (967, 10)\n",
      "y_train (1963,)\n",
      "y_test (967,)\n"
     ]
    }
   ],
   "source": [
    "X_train, X_test, y_train, y_test = train_split(X=X_10, y=y)"
   ]
  },
  {
   "attachments": {},
   "cell_type": "markdown",
   "metadata": {},
   "source": [
    "*  Dentro de los datos de entrenamiento genere una búsqueda de grilla con GridSearchCV utilizando los siguientes hiper parámetros:\n",
    "    - Máximo de atributos: Evalúe todos los posibles atributos.\n",
    "    - Máximo de profundidad: Entre 1 a 32.\n",
    "    - Validaciones cruzadas: 5."
   ]
  },
  {
   "cell_type": "code",
   "execution_count": 58,
   "metadata": {},
   "outputs": [],
   "source": [
    "grilla = {'max_depth': np.linspace(1, 32, 32).astype(int),\n",
    "           'random_state':[1991] }\n",
    "modelo_grilla = GridSearchCV(estimator=DecisionTreeRegressor(),\n",
    "                            param_grid=grilla, cv=5,\n",
    "                            scoring='neg_mean_absolute_error')\n",
    "modelo_grilla.fit(X_train, y_train)\n",
    "best_tree = modelo_grilla.best_estimator_"
   ]
  },
  {
   "cell_type": "code",
   "execution_count": 59,
   "metadata": {},
   "outputs": [
    {
     "data": {
      "text/plain": [
       "{'max_depth': 8, 'random_state': 1991}"
      ]
     },
     "execution_count": 59,
     "metadata": {},
     "output_type": "execute_result"
    }
   ],
   "source": [
    "modelo_grilla.best_params_"
   ]
  },
  {
   "cell_type": "code",
   "execution_count": 60,
   "metadata": {},
   "outputs": [
    {
     "name": "stdout",
     "output_type": "stream",
     "text": [
      "Test MSE: 1276694856.60852\n",
      "Test MAE: 15094.44\n",
      "Test R2: 0.80861\n"
     ]
    }
   ],
   "source": [
    "metricas(X_test,y_test, best_tree)"
   ]
  },
  {
   "attachments": {},
   "cell_type": "markdown",
   "metadata": {},
   "source": [
    "Modelo 1\n",
    "* Test MSE: 1437975744.65977\n",
    "* Test MAE: 16500.0\n",
    "* Test R2: 0.78443"
   ]
  },
  {
   "attachments": {},
   "cell_type": "markdown",
   "metadata": {},
   "source": [
    "* modelo 2 menor mse mejores predicciones\n",
    "* mae mas bajo las predicciones tienen menor desviacion estandar en terminos de valores absolutos\n",
    "* r2 coeficiente de determinacion mas alto, explica mejor la variabilidad de los datos."
   ]
  },
  {
   "attachments": {},
   "cell_type": "markdown",
   "metadata": {},
   "source": [
    "ser mejor en mse y r2 realiza mejores predicciones y explica mejor la variabilidad, el modelo 1 tiene mejor mae lo que indica que tiene menor desviacion en terminos absolutos."
   ]
  },
  {
   "attachments": {},
   "cell_type": "markdown",
   "metadata": {},
   "source": [
    "* Reporte la mejor combinación de hiper parámetros y su desempeño asociado.\n",
    "Compare el desempeño en la muestra de validación con el modelo por defecto"
   ]
  },
  {
   "attachments": {},
   "cell_type": "markdown",
   "metadata": {},
   "source": [
    "* El mejor parametro es con una profundidad de 8\n",
    "* El modelo mejora , partiendo por una mayor representacion de la variabilidad a partir de las variables seleccionadas (r2)\n",
    "* luego MSE bajo bastante, y MAE se vuelve mas conservador respecto a la mediana vs el modelo anterior donde nos encontrabamos sobre la mediana. "
   ]
  },
  {
   "attachments": {},
   "cell_type": "markdown",
   "metadata": {},
   "source": [
    "### Pickling"
   ]
  },
  {
   "cell_type": "code",
   "execution_count": 61,
   "metadata": {},
   "outputs": [],
   "source": [
    "from pickle import dump"
   ]
  },
  {
   "cell_type": "code",
   "execution_count": 62,
   "metadata": {},
   "outputs": [],
   "source": [
    "matrices_train_test = [X_train, X_test, y_train, y_test]\n",
    "dump(best_tree,open('diego_lizana_actividad07.sav', 'wb'))\n",
    "dump(matrices_train_test,open('matrices_train_test.sav', 'wb'))"
   ]
  }
 ],
 "metadata": {
  "kernelspec": {
   "display_name": "base",
   "language": "python",
   "name": "python3"
  },
  "language_info": {
   "codemirror_mode": {
    "name": "ipython",
    "version": 3
   },
   "file_extension": ".py",
   "mimetype": "text/x-python",
   "name": "python",
   "nbconvert_exporter": "python",
   "pygments_lexer": "ipython3",
   "version": "3.10.9"
  },
  "orig_nbformat": 4,
  "vscode": {
   "interpreter": {
    "hash": "c9c95a542e0787f57613780817cff22e65fe979e702b6d9a424a45d54043f1a4"
   }
  }
 },
 "nbformat": 4,
 "nbformat_minor": 2
}
