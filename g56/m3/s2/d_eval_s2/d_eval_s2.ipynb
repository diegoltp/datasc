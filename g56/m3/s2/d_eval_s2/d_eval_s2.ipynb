{
 "cells": [
  {
   "attachments": {},
   "cell_type": "markdown",
   "metadata": {},
   "source": [
    "# Desafio evaluado s2"
   ]
  },
  {
   "attachments": {},
   "cell_type": "markdown",
   "metadata": {},
   "source": [
    "## Analisis lineal discriminante"
   ]
  },
  {
   "attachments": {},
   "cell_type": "markdown",
   "metadata": {},
   "source": [
    "* default: Variable Binaria. Registra si el clienteentró en morosidad o no.\n",
    "* income: Ingreso promedio declarado por el cliente.\n",
    "* balance: total del saldo en la cuenta de crédito.\n",
    "* student: Variable binaria. Registra si el clientees estudiante o no.\n",
    "\n"
   ]
  },
  {
   "attachments": {},
   "cell_type": "markdown",
   "metadata": {},
   "source": [
    "### Ejercicio 1: Preparar el ambiente de trabajo"
   ]
  },
  {
   "attachments": {},
   "cell_type": "markdown",
   "metadata": {},
   "source": [
    "* Importar Librerias"
   ]
  },
  {
   "cell_type": "code",
   "execution_count": 1,
   "metadata": {},
   "outputs": [],
   "source": [
    "# Librerias basicas\n",
    "import pandas as pd\n",
    "import numpy as np\n",
    "import matplotlib.pyplot as plt\n",
    "import seaborn as sns\n",
    "\n",
    "# Preprocessing\n",
    "from sklearn.preprocessing import LabelEncoder , StandardScaler, LabelBinarizer\n",
    "\n",
    "#model selection\n",
    "from sklearn.model_selection import train_test_split, cross_val_score\n",
    "\n",
    "# Metrrics\n",
    "from sklearn.metrics import classification_report\n",
    "\n",
    "# LDA\n",
    "from sklearn.discriminant_analysis import LinearDiscriminantAnalysis, QuadraticDiscriminantAnalysis"
   ]
  },
  {
   "attachments": {},
   "cell_type": "markdown",
   "metadata": {},
   "source": [
    "* Agregue la base de datos en el ambiente de trabajo."
   ]
  },
  {
   "cell_type": "code",
   "execution_count": 2,
   "metadata": {},
   "outputs": [],
   "source": [
    "df = pd.read_csv('default_credit.csv')"
   ]
  },
  {
   "cell_type": "code",
   "execution_count": 3,
   "metadata": {},
   "outputs": [
    {
     "data": {
      "text/html": [
       "<div>\n",
       "<style scoped>\n",
       "    .dataframe tbody tr th:only-of-type {\n",
       "        vertical-align: middle;\n",
       "    }\n",
       "\n",
       "    .dataframe tbody tr th {\n",
       "        vertical-align: top;\n",
       "    }\n",
       "\n",
       "    .dataframe thead th {\n",
       "        text-align: right;\n",
       "    }\n",
       "</style>\n",
       "<table border=\"1\" class=\"dataframe\">\n",
       "  <thead>\n",
       "    <tr style=\"text-align: right;\">\n",
       "      <th></th>\n",
       "      <th>index</th>\n",
       "      <th>default</th>\n",
       "      <th>student</th>\n",
       "      <th>balance</th>\n",
       "      <th>income</th>\n",
       "    </tr>\n",
       "  </thead>\n",
       "  <tbody>\n",
       "    <tr>\n",
       "      <th>0</th>\n",
       "      <td>1</td>\n",
       "      <td>No</td>\n",
       "      <td>No</td>\n",
       "      <td>729.526495</td>\n",
       "      <td>44361.625074</td>\n",
       "    </tr>\n",
       "    <tr>\n",
       "      <th>1</th>\n",
       "      <td>2</td>\n",
       "      <td>No</td>\n",
       "      <td>Yes</td>\n",
       "      <td>817.180407</td>\n",
       "      <td>12106.134700</td>\n",
       "    </tr>\n",
       "    <tr>\n",
       "      <th>2</th>\n",
       "      <td>3</td>\n",
       "      <td>No</td>\n",
       "      <td>No</td>\n",
       "      <td>1073.549164</td>\n",
       "      <td>31767.138947</td>\n",
       "    </tr>\n",
       "    <tr>\n",
       "      <th>3</th>\n",
       "      <td>4</td>\n",
       "      <td>No</td>\n",
       "      <td>No</td>\n",
       "      <td>529.250605</td>\n",
       "      <td>35704.493935</td>\n",
       "    </tr>\n",
       "    <tr>\n",
       "      <th>4</th>\n",
       "      <td>5</td>\n",
       "      <td>No</td>\n",
       "      <td>No</td>\n",
       "      <td>785.655883</td>\n",
       "      <td>38463.495879</td>\n",
       "    </tr>\n",
       "  </tbody>\n",
       "</table>\n",
       "</div>"
      ],
      "text/plain": [
       "   index default student      balance        income\n",
       "0      1      No      No   729.526495  44361.625074\n",
       "1      2      No     Yes   817.180407  12106.134700\n",
       "2      3      No      No  1073.549164  31767.138947\n",
       "3      4      No      No   529.250605  35704.493935\n",
       "4      5      No      No   785.655883  38463.495879"
      ]
     },
     "execution_count": 3,
     "metadata": {},
     "output_type": "execute_result"
    }
   ],
   "source": [
    "df.head()"
   ]
  },
  {
   "cell_type": "code",
   "execution_count": 4,
   "metadata": {},
   "outputs": [],
   "source": [
    "df = df.drop(columns='index')"
   ]
  },
  {
   "cell_type": "code",
   "execution_count": 5,
   "metadata": {},
   "outputs": [
    {
     "data": {
      "text/html": [
       "<div>\n",
       "<style scoped>\n",
       "    .dataframe tbody tr th:only-of-type {\n",
       "        vertical-align: middle;\n",
       "    }\n",
       "\n",
       "    .dataframe tbody tr th {\n",
       "        vertical-align: top;\n",
       "    }\n",
       "\n",
       "    .dataframe thead th {\n",
       "        text-align: right;\n",
       "    }\n",
       "</style>\n",
       "<table border=\"1\" class=\"dataframe\">\n",
       "  <thead>\n",
       "    <tr style=\"text-align: right;\">\n",
       "      <th></th>\n",
       "      <th>default</th>\n",
       "      <th>student</th>\n",
       "      <th>balance</th>\n",
       "      <th>income</th>\n",
       "    </tr>\n",
       "  </thead>\n",
       "  <tbody>\n",
       "    <tr>\n",
       "      <th>5699</th>\n",
       "      <td>No</td>\n",
       "      <td>No</td>\n",
       "      <td>1027.825307</td>\n",
       "      <td>33089.467295</td>\n",
       "    </tr>\n",
       "  </tbody>\n",
       "</table>\n",
       "</div>"
      ],
      "text/plain": [
       "     default student      balance        income\n",
       "5699      No      No  1027.825307  33089.467295"
      ]
     },
     "execution_count": 5,
     "metadata": {},
     "output_type": "execute_result"
    }
   ],
   "source": [
    "df.sample()"
   ]
  },
  {
   "cell_type": "code",
   "execution_count": 6,
   "metadata": {},
   "outputs": [
    {
     "name": "stdout",
     "output_type": "stream",
     "text": [
      "<class 'pandas.core.frame.DataFrame'>\n",
      "RangeIndex: 10000 entries, 0 to 9999\n",
      "Data columns (total 4 columns):\n",
      " #   Column   Non-Null Count  Dtype  \n",
      "---  ------   --------------  -----  \n",
      " 0   default  10000 non-null  object \n",
      " 1   student  10000 non-null  object \n",
      " 2   balance  10000 non-null  float64\n",
      " 3   income   10000 non-null  float64\n",
      "dtypes: float64(2), object(2)\n",
      "memory usage: 312.6+ KB\n"
     ]
    }
   ],
   "source": [
    "df.info()"
   ]
  },
  {
   "cell_type": "code",
   "execution_count": 7,
   "metadata": {},
   "outputs": [
    {
     "data": {
      "text/plain": [
       "No     9667\n",
       "Yes     333\n",
       "Name: default, dtype: int64"
      ]
     },
     "execution_count": 7,
     "metadata": {},
     "output_type": "execute_result"
    }
   ],
   "source": [
    "df['default'].value_counts()"
   ]
  },
  {
   "cell_type": "code",
   "execution_count": 8,
   "metadata": {},
   "outputs": [
    {
     "data": {
      "text/plain": [
       "No     7056\n",
       "Yes    2944\n",
       "Name: student, dtype: int64"
      ]
     },
     "execution_count": 8,
     "metadata": {},
     "output_type": "execute_result"
    }
   ],
   "source": [
    "df['student'].value_counts()"
   ]
  },
  {
   "cell_type": "code",
   "execution_count": 9,
   "metadata": {},
   "outputs": [],
   "source": [
    "df['default'] = LabelEncoder().fit_transform(df['default'])\n",
    "df['student'] = LabelEncoder().fit_transform(df['student'])"
   ]
  },
  {
   "cell_type": "code",
   "execution_count": 10,
   "metadata": {},
   "outputs": [
    {
     "data": {
      "text/html": [
       "<div>\n",
       "<style scoped>\n",
       "    .dataframe tbody tr th:only-of-type {\n",
       "        vertical-align: middle;\n",
       "    }\n",
       "\n",
       "    .dataframe tbody tr th {\n",
       "        vertical-align: top;\n",
       "    }\n",
       "\n",
       "    .dataframe thead th {\n",
       "        text-align: right;\n",
       "    }\n",
       "</style>\n",
       "<table border=\"1\" class=\"dataframe\">\n",
       "  <thead>\n",
       "    <tr style=\"text-align: right;\">\n",
       "      <th></th>\n",
       "      <th>default</th>\n",
       "      <th>student</th>\n",
       "      <th>balance</th>\n",
       "      <th>income</th>\n",
       "    </tr>\n",
       "  </thead>\n",
       "  <tbody>\n",
       "    <tr>\n",
       "      <th>count</th>\n",
       "      <td>10000.000000</td>\n",
       "      <td>10000.000000</td>\n",
       "      <td>10000.000000</td>\n",
       "      <td>10000.000000</td>\n",
       "    </tr>\n",
       "    <tr>\n",
       "      <th>mean</th>\n",
       "      <td>0.033300</td>\n",
       "      <td>0.294400</td>\n",
       "      <td>835.374886</td>\n",
       "      <td>33516.981876</td>\n",
       "    </tr>\n",
       "    <tr>\n",
       "      <th>std</th>\n",
       "      <td>0.179428</td>\n",
       "      <td>0.455795</td>\n",
       "      <td>483.714985</td>\n",
       "      <td>13336.639563</td>\n",
       "    </tr>\n",
       "    <tr>\n",
       "      <th>min</th>\n",
       "      <td>0.000000</td>\n",
       "      <td>0.000000</td>\n",
       "      <td>0.000000</td>\n",
       "      <td>771.967729</td>\n",
       "    </tr>\n",
       "    <tr>\n",
       "      <th>25%</th>\n",
       "      <td>0.000000</td>\n",
       "      <td>0.000000</td>\n",
       "      <td>481.731105</td>\n",
       "      <td>21340.462903</td>\n",
       "    </tr>\n",
       "    <tr>\n",
       "      <th>50%</th>\n",
       "      <td>0.000000</td>\n",
       "      <td>0.000000</td>\n",
       "      <td>823.636973</td>\n",
       "      <td>34552.644802</td>\n",
       "    </tr>\n",
       "    <tr>\n",
       "      <th>75%</th>\n",
       "      <td>0.000000</td>\n",
       "      <td>1.000000</td>\n",
       "      <td>1166.308386</td>\n",
       "      <td>43807.729272</td>\n",
       "    </tr>\n",
       "    <tr>\n",
       "      <th>max</th>\n",
       "      <td>1.000000</td>\n",
       "      <td>1.000000</td>\n",
       "      <td>2654.322576</td>\n",
       "      <td>73554.233495</td>\n",
       "    </tr>\n",
       "  </tbody>\n",
       "</table>\n",
       "</div>"
      ],
      "text/plain": [
       "            default       student       balance        income\n",
       "count  10000.000000  10000.000000  10000.000000  10000.000000\n",
       "mean       0.033300      0.294400    835.374886  33516.981876\n",
       "std        0.179428      0.455795    483.714985  13336.639563\n",
       "min        0.000000      0.000000      0.000000    771.967729\n",
       "25%        0.000000      0.000000    481.731105  21340.462903\n",
       "50%        0.000000      0.000000    823.636973  34552.644802\n",
       "75%        0.000000      1.000000   1166.308386  43807.729272\n",
       "max        1.000000      1.000000   2654.322576  73554.233495"
      ]
     },
     "execution_count": 10,
     "metadata": {},
     "output_type": "execute_result"
    }
   ],
   "source": [
    "df.describe()"
   ]
  },
  {
   "attachments": {},
   "cell_type": "markdown",
   "metadata": {},
   "source": [
    "* Inspeccione la distribución de cada atributo."
   ]
  },
  {
   "cell_type": "code",
   "execution_count": 11,
   "metadata": {},
   "outputs": [],
   "source": [
    "parametros = df.columns\n",
    "parametros = parametros.tolist()"
   ]
  },
  {
   "cell_type": "code",
   "execution_count": 12,
   "metadata": {},
   "outputs": [],
   "source": [
    "parametros.remove('default')"
   ]
  },
  {
   "cell_type": "code",
   "execution_count": 13,
   "metadata": {},
   "outputs": [
    {
     "data": {
      "text/plain": [
       "['student', 'balance', 'income']"
      ]
     },
     "execution_count": 13,
     "metadata": {},
     "output_type": "execute_result"
    }
   ],
   "source": [
    "parametros"
   ]
  },
  {
   "cell_type": "code",
   "execution_count": 14,
   "metadata": {},
   "outputs": [
    {
     "data": {
      "image/png": "[encoded data removed]",
      "text/plain": [
       "<Figure size 1000x600 with 3 Axes>"
      ]
     },
     "metadata": {},
     "output_type": "display_data"
    }
   ],
   "source": [
    "plt.figure(figsize=(10, 6))\n",
    "for n, i in enumerate(parametros):\n",
    "    plt.subplot(2, 2, n + 1)\n",
    "    df.groupby('default')[i].plot(kind='hist', alpha=.5)\n",
    "    plt.legend(df['default'].unique())\n",
    "    plt.title(i)\n",
    "    plt.tight_layout()"
   ]
  },
  {
   "attachments": {},
   "cell_type": "markdown",
   "metadata": {},
   "source": [
    "* Claramente notamos como los casos en que se encuentra en situacion de default son muy pocos, esto traera repercuciones en la capacidad del modelo para detectar esta caracteristica."
   ]
  },
  {
   "cell_type": "code",
   "execution_count": 15,
   "metadata": {},
   "outputs": [
    {
     "data": {
      "image/png": "[encoded data removed]",
      "text/plain": [
       "<Figure size 800x400 with 2 Axes>"
      ]
     },
     "metadata": {},
     "output_type": "display_data"
    }
   ],
   "source": [
    "fig = plt.figure(figsize=(8,4))  # tamaño de la figura\n",
    "fig.subplots_adjust(hspace=.4)  # ajuste de las subplots\n",
    "\n",
    "for n, col in enumerate( ['balance', 'income']):\n",
    "    plt.subplot(1, 2, n+1)\n",
    "    sns.histplot(df[col], stat='density', color='royalblue')\n",
    "    sns.kdeplot(df[col], color='tomato', lw=1)\n",
    "    plt.axvline(df[col].mean(), color='green', label='media')\n",
    "    plt.axvline(df[col].median(), color='black', label='mediana')\n",
    "    plt.title(col)\n",
    "    plt.xlabel(\"\")\n",
    "    plt.legend()\n",
    "    plt.tight_layout()\n"
   ]
  },
  {
   "attachments": {},
   "cell_type": "markdown",
   "metadata": {},
   "source": [
    "* Balance se comporta casi similar a una distribucion normal, sin embargo presenta una alta concentracion cercana a 0. A pesar de esto no difiere en mayor magnitud la media de la mediana\n",
    "* Income si bien no es tan bueno su comprotamiento, no muestra un gran desvío entre la media y la mediana."
   ]
  },
  {
   "cell_type": "code",
   "execution_count": 16,
   "metadata": {},
   "outputs": [
    {
     "data": {
      "text/plain": [
       "<AxesSubplot:xlabel='default', ylabel='count'>"
      ]
     },
     "execution_count": 16,
     "metadata": {},
     "output_type": "execute_result"
    },
    {
     "data": {
      "image/png": "[encoded data removed]",
      "text/plain": [
       "<Figure size 1000x500 with 2 Axes>"
      ]
     },
     "metadata": {},
     "output_type": "display_data"
    }
   ],
   "source": [
    "fig = plt.figure(figsize=(10,5))\n",
    "fig.subplots_adjust(hspace=0.8)\n",
    "plt.subplot(1,2,1)\n",
    "sns.countplot(data=df, x='student')\n",
    "plt.subplot(1,2,2)\n",
    "sns.countplot(data=df, x='default')\n"
   ]
  },
  {
   "attachments": {},
   "cell_type": "markdown",
   "metadata": {},
   "source": [
    "* Student a esta cargada hacia quienes no son estudiantes\n",
    "* Default deja clara la minima cantidad de valores positivos."
   ]
  },
  {
   "attachments": {},
   "cell_type": "markdown",
   "metadata": {},
   "source": [
    "### Ejercicio 2: Modelo base"
   ]
  },
  {
   "attachments": {},
   "cell_type": "markdown",
   "metadata": {},
   "source": [
    "* Recuerde que los modelos de sklearn no soportan datos que no sean numéricos.Transforme los atributos pertinentes conLabelEncoder.\n",
    "    - Ya se transformaron los datos anteriormente.\n",
    "    - df['default'] = LabelEncoder().fit_transform(df['default'])\n",
    "    - df['student'] = LabelEncoder().fit_transform(df['student'])"
   ]
  },
  {
   "attachments": {},
   "cell_type": "markdown",
   "metadata": {},
   "source": [
    "* Genere muestras de validación y entrenamiento, reservando un 33% de los datos como validación."
   ]
  },
  {
   "cell_type": "code",
   "execution_count": 17,
   "metadata": {},
   "outputs": [],
   "source": [
    "X_train_pre, X_test_pre, y_train, y_test = train_test_split(df.loc[:,parametros], df['default'],\n",
    "                                                             test_size =.33, random_state = 1991)\n",
    "scaler = StandardScaler().fit(X_train_pre)\n",
    "X_train = pd.DataFrame(scaler.transform(X_train_pre), columns=X_train_pre.columns)\n",
    "X_test = pd.DataFrame(scaler.transform(X_test_pre), columns=X_test_pre.columns)"
   ]
  },
  {
   "cell_type": "code",
   "execution_count": 18,
   "metadata": {},
   "outputs": [
    {
     "name": "stdout",
     "output_type": "stream",
     "text": [
      "(6700, 3)\n",
      "(3300, 3)\n",
      "(6700,)\n",
      "(3300,)\n"
     ]
    }
   ],
   "source": [
    "print(X_train.shape)\n",
    "print(X_test.shape)\n",
    "print(y_train.shape)\n",
    "print(y_test.shape)"
   ]
  },
  {
   "attachments": {},
   "cell_type": "markdown",
   "metadata": {},
   "source": [
    "* Genere un modelo con LinearDiscriminantAnalysis sin modificar los hiper parámetros. Genere métricas de evaluación utilizando classification_report."
   ]
  },
  {
   "cell_type": "code",
   "execution_count": 19,
   "metadata": {},
   "outputs": [
    {
     "data": {
      "text/plain": [
       "LinearDiscriminantAnalysis()"
      ]
     },
     "execution_count": 19,
     "metadata": {},
     "output_type": "execute_result"
    }
   ],
   "source": [
    "lda_model = LinearDiscriminantAnalysis()\n",
    "lda_model.fit(X_train, y_train)"
   ]
  },
  {
   "cell_type": "code",
   "execution_count": 20,
   "metadata": {},
   "outputs": [
    {
     "data": {
      "text/plain": [
       "array([[-0.15336378,  2.30593392,  0.16150448]])"
      ]
     },
     "execution_count": 20,
     "metadata": {},
     "output_type": "execute_result"
    }
   ],
   "source": [
    "lda_model.coef_"
   ]
  },
  {
   "cell_type": "code",
   "execution_count": 21,
   "metadata": {},
   "outputs": [],
   "source": [
    "lda_pred = lda_model.predict(X_test)"
   ]
  },
  {
   "cell_type": "code",
   "execution_count": 22,
   "metadata": {},
   "outputs": [
    {
     "name": "stdout",
     "output_type": "stream",
     "text": [
      "              precision    recall  f1-score   support\n",
      "\n",
      "           0       0.97      1.00      0.99      3188\n",
      "           1       0.78      0.22      0.35       112\n",
      "\n",
      "    accuracy                           0.97      3300\n",
      "   macro avg       0.88      0.61      0.67      3300\n",
      "weighted avg       0.97      0.97      0.96      3300\n",
      "\n"
     ]
    }
   ],
   "source": [
    "print(classification_report(y_test, lda_pred))"
   ]
  },
  {
   "cell_type": "code",
   "execution_count": 23,
   "metadata": {},
   "outputs": [
    {
     "name": "stdout",
     "output_type": "stream",
     "text": [
      "Probabilidades a priori\n",
      " [0.96701493 0.03298507] \n",
      "\n",
      "Medias de atributos en cada clase\n",
      " [[-0.01 -0.06  0.  ]\n",
      " [ 0.19  1.9  -0.06]] \n",
      "\n",
      "Varianza explicada por cada discriminante\n",
      " [1.] \n",
      "\n"
     ]
    }
   ],
   "source": [
    "print(\"Probabilidades a priori\\n\", lda_model.priors_, \"\\n\")\n",
    "print(\"Medias de atributos en cada clase\\n\",\n",
    "lda_model.means_.round(2), \"\\n\")\n",
    "print(\"Varianza explicada por cada discriminante\\n\",\n",
    "lda_model.explained_variance_ratio_.round(2), \"\\n\")"
   ]
  },
  {
   "attachments": {},
   "cell_type": "markdown",
   "metadata": {},
   "source": [
    "* Comente sobre cuál es el desempeño del modelo en cada clase, así como en general.\n",
    "    - El modelo para predecir los valores cuando no se encuentra en default (0) es muy bueno\n",
    "    - En cambio para predecir cuando se encuentra en default tiene muy bajo rendimiento,F1 un 15% por bajo del 50%, por lo cual presenta dificultades para predecir este valor por si solo\n",
    "    - A pesar que precision no es bajo se castiga mucho su falencia en detectar correctamente los datos con un recall de 22%\n",
    "    - A modo general el modelo muestra un buen rendimiento con un acuracy de 97%"
   ]
  },
  {
   "attachments": {},
   "cell_type": "markdown",
   "metadata": {},
   "source": [
    "### Ejercicio 3: Refactorizacion 1 informacion a priori"
   ]
  },
  {
   "attachments": {},
   "cell_type": "markdown",
   "metadata": {},
   "source": [
    "* Dado que trabajamos con modelos generativos, podemos incluir información exógena. Para este caso agregaremos dos distribuciones:\n",
    "    - Asumamos que hay un 50/50 de morosos y no morosos.\n",
    "    - Asumamos que hay un 60/40 de morosos y no morosos."
   ]
  },
  {
   "cell_type": "code",
   "execution_count": 24,
   "metadata": {},
   "outputs": [
    {
     "name": "stdout",
     "output_type": "stream",
     "text": [
      "              precision    recall  f1-score   support\n",
      "\n",
      "           0       1.00      0.85      0.92      3188\n",
      "           1       0.17      0.92      0.29       112\n",
      "\n",
      "    accuracy                           0.85      3300\n",
      "   macro avg       0.59      0.88      0.60      3300\n",
      "weighted avg       0.97      0.85      0.89      3300\n",
      "\n"
     ]
    }
   ],
   "source": [
    "lda_model_50 = LinearDiscriminantAnalysis(priors=[0.5,0.5])\n",
    "lda_model_50.fit(X_train, y_train)\n",
    "lda_pred_50 = lda_model_50.predict(X_test)\n",
    "print(classification_report(y_test, lda_pred_50))"
   ]
  },
  {
   "cell_type": "code",
   "execution_count": 25,
   "metadata": {},
   "outputs": [
    {
     "name": "stdout",
     "output_type": "stream",
     "text": [
      "Probabilidades a priori\n",
      " [0.5 0.5] \n",
      "\n",
      "Medias de atributos en cada clase\n",
      " [[-0.01 -0.06  0.  ]\n",
      " [ 0.19  1.9  -0.06]] \n",
      "\n",
      "Varianza explicada por cada discriminante\n",
      " [1.] \n",
      "\n"
     ]
    }
   ],
   "source": [
    "print(\"Probabilidades a priori\\n\", lda_model_50.priors_, \"\\n\")\n",
    "print(\"Medias de atributos en cada clase\\n\",\n",
    "lda_model_50.means_.round(2), \"\\n\")\n",
    "print(\"Varianza explicada por cada discriminante\\n\",\n",
    "lda_model_50.explained_variance_ratio_.round(2), \"\\n\")"
   ]
  },
  {
   "cell_type": "code",
   "execution_count": 26,
   "metadata": {},
   "outputs": [
    {
     "name": "stdout",
     "output_type": "stream",
     "text": [
      "              precision    recall  f1-score   support\n",
      "\n",
      "           0       0.99      0.88      0.94      3188\n",
      "           1       0.21      0.85      0.33       112\n",
      "\n",
      "    accuracy                           0.88      3300\n",
      "   macro avg       0.60      0.87      0.63      3300\n",
      "weighted avg       0.97      0.88      0.92      3300\n",
      "\n"
     ]
    }
   ],
   "source": [
    "lda_model_60 = LinearDiscriminantAnalysis(priors=[0.6,0.4])\n",
    "lda_model_60.fit(X_train, y_train)\n",
    "lda_pred_60 = lda_model_60.predict(X_test)\n",
    "print(classification_report(y_test, lda_pred_60))"
   ]
  },
  {
   "cell_type": "code",
   "execution_count": 27,
   "metadata": {},
   "outputs": [
    {
     "name": "stdout",
     "output_type": "stream",
     "text": [
      "Probabilidades a priori\n",
      " [0.6 0.4] \n",
      "\n",
      "Medias de atributos en cada clase\n",
      " [[-0.01 -0.06  0.  ]\n",
      " [ 0.19  1.9  -0.06]] \n",
      "\n",
      "Varianza explicada por cada discriminante\n",
      " [1.] \n",
      "\n"
     ]
    }
   ],
   "source": [
    "print(\"Probabilidades a priori\\n\", lda_model_60.priors_, \"\\n\")\n",
    "print(\"Medias de atributos en cada clase\\n\",\n",
    "lda_model_60.means_.round(2), \"\\n\")\n",
    "print(\"Varianza explicada por cada discriminante\\n\",\n",
    "lda_model_60.explained_variance_ratio_.round(2), \"\\n\")"
   ]
  },
  {
   "attachments": {},
   "cell_type": "markdown",
   "metadata": {},
   "source": [
    "* Si observamos F1-score ambos modelos siguen siendo deficientes a la hora de predecir los casos de default = 1\n",
    "* y el comportamiento general del modelo empeora"
   ]
  },
  {
   "attachments": {},
   "cell_type": "markdown",
   "metadata": {},
   "source": [
    "### Ejercicio 4: Refactorizacion 2 - Ovversampling"
   ]
  },
  {
   "cell_type": "code",
   "execution_count": 28,
   "metadata": {},
   "outputs": [],
   "source": [
    "from imblearn.over_sampling import SMOTE"
   ]
  },
  {
   "cell_type": "code",
   "execution_count": 29,
   "metadata": {},
   "outputs": [],
   "source": [
    "# Instanciamos la clase\n",
    "oversampler = SMOTE(random_state=1991, sampling_strategy='minority')\n",
    "# generamos el eversampling de la matriz de entrenamiento y\n",
    "X_train_oversamp, y_train_oversamp = oversampler.fit_resample(X_train,\n",
    "y_train)"
   ]
  },
  {
   "cell_type": "code",
   "execution_count": 30,
   "metadata": {},
   "outputs": [
    {
     "name": "stdout",
     "output_type": "stream",
     "text": [
      "(12958, 3)\n",
      "(12958,)\n"
     ]
    }
   ],
   "source": [
    "print(X_train_oversamp.shape)\n",
    "print(y_train_oversamp.shape)\n"
   ]
  },
  {
   "cell_type": "code",
   "execution_count": 31,
   "metadata": {},
   "outputs": [
    {
     "data": {
      "text/plain": [
       "0    6479\n",
       "1    6479\n",
       "Name: default, dtype: int64"
      ]
     },
     "execution_count": 31,
     "metadata": {},
     "output_type": "execute_result"
    }
   ],
   "source": [
    "y_train_oversamp.value_counts()"
   ]
  },
  {
   "cell_type": "code",
   "execution_count": 32,
   "metadata": {},
   "outputs": [
    {
     "name": "stdout",
     "output_type": "stream",
     "text": [
      "              precision    recall  f1-score   support\n",
      "\n",
      "           0       1.00      0.84      0.91      3188\n",
      "           1       0.17      0.92      0.29       112\n",
      "\n",
      "    accuracy                           0.85      3300\n",
      "   macro avg       0.58      0.88      0.60      3300\n",
      "weighted avg       0.97      0.85      0.89      3300\n",
      "\n"
     ]
    }
   ],
   "source": [
    "lda_model_ovs = LinearDiscriminantAnalysis()\n",
    "lda_model_ovs.fit(X_train_oversamp, y_train_oversamp)\n",
    "lda_pred_ovs = lda_model_ovs.predict(X_test)\n",
    "print(classification_report(y_test, lda_pred_ovs))"
   ]
  },
  {
   "attachments": {},
   "cell_type": "markdown",
   "metadata": {},
   "source": [
    "* El modelo no mejora en predecir los casos en que default es 1\n",
    "* En general disminuye el accuracy del modelo."
   ]
  },
  {
   "attachments": {},
   "cell_type": "markdown",
   "metadata": {},
   "source": [
    "### Ejercicio 5: Refactorizacion 3 - QDA"
   ]
  },
  {
   "attachments": {},
   "cell_type": "markdown",
   "metadata": {},
   "source": [
    "* Por último,implementeunmodeloQuadraticDiscriminantAnalysis conlosdatos aumentados artificialmente. Genere las métricas de desempeño."
   ]
  },
  {
   "cell_type": "code",
   "execution_count": 33,
   "metadata": {},
   "outputs": [
    {
     "name": "stdout",
     "output_type": "stream",
     "text": [
      "              precision    recall  f1-score   support\n",
      "\n",
      "           0       1.00      0.86      0.92      3188\n",
      "           1       0.18      0.89      0.31       112\n",
      "\n",
      "    accuracy                           0.86      3300\n",
      "   macro avg       0.59      0.88      0.61      3300\n",
      "weighted avg       0.97      0.86      0.90      3300\n",
      "\n"
     ]
    }
   ],
   "source": [
    "qda_model_ovs = QuadraticDiscriminantAnalysis().fit(X_train_oversamp, y_train_oversamp)\n",
    "qda_pred_ovs = qda_model_ovs.predict(X_test)\n",
    "print(classification_report(y_test, qda_pred_ovs))"
   ]
  },
  {
   "attachments": {},
   "cell_type": "markdown",
   "metadata": {},
   "source": [
    "* En comparacion al primer modelo no mejora, tanto para decir si es que esta en default o no\n",
    "* A continuacion se aplica QDA a la muestra sin oversample"
   ]
  },
  {
   "cell_type": "code",
   "execution_count": 34,
   "metadata": {},
   "outputs": [
    {
     "name": "stdout",
     "output_type": "stream",
     "text": [
      "              precision    recall  f1-score   support\n",
      "\n",
      "           0       0.97      1.00      0.99      3188\n",
      "           1       0.80      0.25      0.38       112\n",
      "\n",
      "    accuracy                           0.97      3300\n",
      "   macro avg       0.89      0.62      0.68      3300\n",
      "weighted avg       0.97      0.97      0.97      3300\n",
      "\n"
     ]
    }
   ],
   "source": [
    "qda_model = QuadraticDiscriminantAnalysis().fit(X_train, y_train)\n",
    "qda_pred = qda_model.predict(X_test)\n",
    "print(classification_report(y_test, qda_pred))"
   ]
  },
  {
   "attachments": {},
   "cell_type": "markdown",
   "metadata": {},
   "source": [
    "* En este modelo si se ve una mejora para predecir los casos en que el individuo entra en default y se mantiene constante en conparacion al primer modelo para caso contrario (0)\n",
    "* a pesar de la mejora sigue encontrandose por debajo del 50 la capacidad de detectar el default.\n",
    "* Sin embargo al ser solo dos resultados, con lograr detectar el grupo de individuos que no entran en default con un 99% segun el F1-score debiese ser capaz de almenos identificar el conjunto de individuos mas riesgoso de entrar en la categoria de default.\n",
    "* A grandes rasgos es un buen modelo, dado la observacion anterior y las metricas globales del modelo."
   ]
  }
 ],
 "metadata": {
  "kernelspec": {
   "display_name": "base",
   "language": "python",
   "name": "python3"
  },
  "language_info": {
   "codemirror_mode": {
    "name": "ipython",
    "version": 3
   },
   "file_extension": ".py",
   "mimetype": "text/x-python",
   "name": "python",
   "nbconvert_exporter": "python",
   "pygments_lexer": "ipython3",
   "version": "3.9.13"
  },
  "orig_nbformat": 4
 },
 "nbformat": 4,
 "nbformat_minor": 2
}
