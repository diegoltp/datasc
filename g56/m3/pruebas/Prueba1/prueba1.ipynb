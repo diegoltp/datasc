{
 "cells": [
  {
   "attachments": {},
   "cell_type": "markdown",
   "metadata": {},
   "source": [
    "# <span style=\"color:Tomato\"> **Prueba 1**: Extraer la polaridad de sentimiento asociado a un texto. </span>"
   ]
  },
  {
   "attachments": {},
   "cell_type": "markdown",
   "metadata": {},
   "source": [
    "## 1- Hito 1"
   ]
  },
  {
   "attachments": {},
   "cell_type": "markdown",
   "metadata": {},
   "source": [
    "### 1.1 - Preliminares"
   ]
  },
  {
   "attachments": {},
   "cell_type": "markdown",
   "metadata": {},
   "source": [
    "#### 1.1.1 - Entendimiento del problema"
   ]
  },
  {
   "attachments": {},
   "cell_type": "markdown",
   "metadata": {},
   "source": [
    "##### 1.1.1.a - Problematica"
   ]
  },
  {
   "attachments": {},
   "cell_type": "markdown",
   "metadata": {},
   "source": [
    "Hoy en día el uso de RRSS ya es para todo rango de edades, las interacciones diarias con comentarios, articulos, posteos, notas, etc... son mas comunes que periodico que se solía leer. El cual posee toda una linea editorial, donde se controla el contenido impreso segun los emisores (lo cual nos podria llevar a otras problematicas)."
   ]
  },
  {
   "attachments": {},
   "cell_type": "markdown",
   "metadata": {},
   "source": [
    "Frente a este escenario de lo instantaneo que son las RRSS y las interacciones presentes en la mayor parte del internet, es que con el tiempo se han desarrollado cada vez mas y mejores herramientas para automatizar el proceso de filtrado de contenido (quiza estemos entrando en la misma problematica de los periodicos y sus editoriales). A modo de ejemplo, hoy en día instagram es capaz de forma instantanea y automatizada de detectar el sentimiento de un posteo al momento de presionar el boton enviar, lanzando una ventana emergente advirtiendo al usuario una infraccion a las normas comunitarias."
   ]
  },
  {
   "attachments": {},
   "cell_type": "markdown",
   "metadata": {},
   "source": [
    "Es aquí donde se entra al tema a tratar:\n",
    "* Análisis de sentimiento (o minería de opínion): Es el uso de procesamiento de lenguaje natural, análisis de texto y linguistica computacional para identificar y extraer informacion subjetiva de los recursos, en este caso sera en base a los datos proporcionados por CroedFlower en su base de datos 'training_tweets.csv'\n",
    "* El analisis de sentimiento corresponde a una tarea de **clasificación** en funcion a la connotacion **positiva o negativa**. \n",
    "* Notar que se basa en relaciones estadistica y de asociación y no en el análisis linguistico, por lo que habran factores que mirar con mucho cuidado, dado su origen no formal y gramatica, o el uso de jergas linguisticas."
   ]
  },
  {
   "attachments": {},
   "cell_type": "markdown",
   "metadata": {},
   "source": [
    "##### 1.1.1.b - Atributos"
   ]
  },
  {
   "attachments": {},
   "cell_type": "markdown",
   "metadata": {},
   "source": [
    "* Content: Muestra el contenido del tweet para cada entrada.\n",
    "    - Con el pre-procesamiento de datos se genera una matriz a considerar como el vector de atributos 'X' el cual en el modelo debe tener la misma candidad de filas que el vector 'y' asociado a los sentimientos positivos o negativos.\n",
    "    - Luego por motivos computacionales y para evitar caer en la maldicion de la dimenesionalidad (si es que fuese el caso) se aplicara una reduccion de dimensiones, y asi se evita el exceso de recursos computacionales y elimina dimensiones redundantes de la matriz 'X'. "
   ]
  },
  {
   "attachments": {},
   "cell_type": "markdown",
   "metadata": {},
   "source": [
    "##### 1.1.1.c - Vector Objetivo"
   ]
  },
  {
   "attachments": {},
   "cell_type": "markdown",
   "metadata": {},
   "source": [
    "* Sentiment: Se trata del sentimiento asociado del tweet, si bien en su forma original representa mas de dos sentimientos, este sera recodificado para que tome caracter binario. \n",
    "* Recodificacion a realizar:\n",
    "    - 'worry' :'Negativa'\n",
    "    - 'happiness' :'Positiva'\n",
    "    - 'sadness' :'Negativa'\n",
    "    - 'love' :'Positiva'\n",
    "    - 'surprise' :'Positiva'\n",
    "    - 'fun' :'Positiva'\n",
    "    - 'relief' :'Positiva'\n",
    "    - 'hate' :'Negativa'\n",
    "    - 'empty' :'Negativa'\n",
    "    - 'enthusiasm' :'Positiva'\n",
    "    - 'boredom' :'Negativa'\n",
    "    - 'anger':'Negativa'\n",
    "    - Neutros se codifican de forma aleatoria"
   ]
  },
  {
   "attachments": {},
   "cell_type": "markdown",
   "metadata": {},
   "source": [
    "##### 1.1.1.d - Tipo de problema"
   ]
  },
  {
   "attachments": {},
   "cell_type": "markdown",
   "metadata": {},
   "source": [
    "* Dada la recodificacion a realizar de caracteristicas binarias, en positivas y negativas, sabemos que nuestro problema sera un problema de **clasificacion**.\n",
    "* Dicho esto, mencionar que el objetivo sera lograr un modelo capaz de decir si el sentimiento asociado al tweet es positivo o negativo.\n",
    "* A modo de estudio complementario se va a considerar un 3 valor para el vector objetivo, el cua corresponderia a la categoria neutral."
   ]
  },
  {
   "attachments": {},
   "cell_type": "markdown",
   "metadata": {},
   "source": [
    "#### 1.1.2 - Aspectos Computacionales"
   ]
  },
  {
   "attachments": {},
   "cell_type": "markdown",
   "metadata": {},
   "source": [
    "##### 1.1.2.a - Librerías\n",
    "* Python 3.9.16\n",
    "* conda 23.3.1\n",
    "* pandas 1.5.3\n",
    "* numpy 1.24.3\n",
    "* matplotlib 3.7.1\n",
    "* matplotlib-inline 0.1.6\n",
    "* regex 2022.7.9\n",
    "* nltx 3.7\n",
    "* scikit-learn-intelex (daal4py) 2023.0.2"
   ]
  },
  {
   "cell_type": "code",
   "execution_count": 1,
   "metadata": {},
   "outputs": [],
   "source": [
    "#Ignorar alertas de deprecacion\n",
    "import warnings\n",
    "warnings.filterwarnings(\"ignore\")\n",
    "#Manejo de base de datos y funciones estadisticas\n",
    "import pandas as pd\n",
    "import numpy as np\n",
    "#Generar graficas y estilos de graficos.\n",
    "import matplotlib.pyplot as plt\n",
    "%matplotlib inline\n",
    "plt.style.use('seaborn-whitegrid')\n",
    "plt.rcParams['figure.figsize'] = (10, 6)\n",
    "\n",
    "# gestion de palabras\n",
    "import re #unicode strings\n",
    "import nltk # palabras\n",
    "from nltk.stem import WordNetLemmatizer # lematizacion\n",
    "from nltk.corpus import stopwords #stopwords\n",
    "#Preprocesamiento\n",
    "from sklearn.feature_extraction.text import CountVectorizer, TfidfVectorizer # conteo de palabras\n",
    "\n",
    "\n",
    "\n",
    "from sklearn.decomposition import PCA # reduccion de dimensiones\n",
    "\n",
    "#Dividir matriz de datos\n",
    "from sklearn.model_selection import train_test_split \n",
    "\n",
    "#Grillas de crossvalidation\n",
    "from sklearn.model_selection import GridSearchCV\n",
    "\n",
    "#Modelos\n",
    "from sklearn.naive_bayes import MultinomialNB, GaussianNB\n",
    "from sklearn.discriminant_analysis import LinearDiscriminantAnalysis\n",
    "from sklearn.svm import SVC\n",
    "from sklearn.ensemble import RandomForestClassifier\n",
    "from sklearn.ensemble import AdaBoostClassifier\n",
    "from sklearn.ensemble import GradientBoostingClassifier\n",
    "from sklearn.tree import DecisionTreeClassifier\n",
    "from sklearn.ensemble import VotingClassifier\n",
    "\n",
    "\n",
    "#Metricas\n",
    "from sklearn.metrics import classification_report\n",
    "\n",
    "#Seralizacion\n",
    "from pickle import dump"
   ]
  },
  {
   "attachments": {},
   "cell_type": "markdown",
   "metadata": {},
   "source": [
    "##### 1.1.2.b - Funciones propias"
   ]
  },
  {
   "cell_type": "code",
   "execution_count": 1,
   "metadata": {},
   "outputs": [],
   "source": [
    "from funciones_p1 import df_palabras_frecuencia #analisis de palabras con CV.\n",
    "from funciones_p1 import word_count_by_clasif #graficar frec por classification.\n",
    "from funciones_p1 import plot_classification_report as pcr #graficar reporte de metricas\n",
    "from funciones_p1 import graficar_porcentajes_cat #graficar porcentajes\n",
    "from funciones_p1 import detalle_freq1 #info de palabras con freq 1\n",
    "from funciones_p1 import modelacion_inicial #Modela e imprime reprotes\n",
    "from funciones_p1 import prueba_tweets #Testea modelo con tweets\n",
    "from funciones_p1 import prueba_tweets_nb  #Testea modelo con tweets sin PCA"
   ]
  },
  {
   "attachments": {},
   "cell_type": "markdown",
   "metadata": {},
   "source": [
    "#### 1.1.3 - Modelos y grillas a implementar"
   ]
  },
  {
   "attachments": {},
   "cell_type": "markdown",
   "metadata": {},
   "source": [
    "##### 1.1.3.a - Metodología"
   ]
  },
  {
   "attachments": {},
   "cell_type": "markdown",
   "metadata": {},
   "source": [
    "En los ejercicios de analisis de sentimientos es fundamental el trabajo con los datos, por lo cual se ejecutaran los siguientes pasos previos a la modelacion."
   ]
  },
  {
   "attachments": {},
   "cell_type": "markdown",
   "metadata": {},
   "source": [
    "1. Definir el algoritmo que utiliza el metodo CountVectorizer de scikit-learn con el fin de disminuir las dimensiones y palabras no deseadas en nuestra transformacion vectorial.\n",
    "    - Se definenen algoritmos distintos para probar con un modelo de prueba.\n",
    "2. Una vez limpios los datos de estudio, se realiza disminucion de dimensionalidad mediante Principal Component Analysis (PCA).\n",
    "3. Generar 5 modelos y seleccionar 3 de ellos para la busqueda de hiper parametros.\n",
    "    - Linear Discriminant Analysis LDA\n",
    "    - Super vector machine\n",
    "    - DecisionTreeClassifier y Random Forest Classification\n",
    "    - AdaBoostClasifier y GradientBoostingClassifier \n",
    "    - Voting Classifier\n"
   ]
  },
  {
   "attachments": {},
   "cell_type": "markdown",
   "metadata": {},
   "source": [
    "##### 1.1.3.b - Informacion adicional:"
   ]
  },
  {
   "attachments": {},
   "cell_type": "markdown",
   "metadata": {},
   "source": [
    "*  Pang​ mostró que eliminar las oraciones objetivas de un documento antes de clasificar su polaridad ayudó a mejorar su rendimiento.\n",
    "* Varios investigadores sugieren que, al igual que en todo problema de polaridad, tres categorías deben ser identificadas. Algunos clasificadores específicos tales como el de Máxima Entropía​ y las SVMs​ se pueden beneficiar de la introducción de la clase neutra y mejorar la precisión global de la clasificación"
   ]
  },
  {
   "attachments": {},
   "cell_type": "markdown",
   "metadata": {},
   "source": [
    "#### 1.1.4 - Modelos y Grillas"
   ]
  },
  {
   "attachments": {},
   "cell_type": "markdown",
   "metadata": {},
   "source": [
    "##### 1.1.4.a - Linear Discriminant Analysis"
   ]
  },
  {
   "attachments": {},
   "cell_type": "markdown",
   "metadata": {},
   "source": [
    "* Linear Discriminant Analysis LDA: Modelo utilizado para la disminucion de dimensiones y clasificacion de datos. Busca combinaciones lineales para encontrar la mejor forma de separar las categorias. Dicho esto se utilizara una clasificacion binaria modificando los hiperparametros disponibles.\n",
    "* Parametros para la grilla:\n",
    "    - solver = 'svd' , lsqr\n",
    "    - shrinkage = 'none' : reduce la varianza de las estimaciones de las covarianzas de las clases.\n",
    "    - priors = valor se infiere desde la data\n",
    "    - n_components = none implica el minimo: numero de componentes a extraer."
   ]
  },
  {
   "attachments": {},
   "cell_type": "markdown",
   "metadata": {},
   "source": [
    "##### 1.1.4.b - Super Vector Machine (SVM: SVC en sklearn)"
   ]
  },
  {
   "attachments": {},
   "cell_type": "markdown",
   "metadata": {},
   "source": [
    "* Super Vector Machine (SVM: SVC en sklearn): Algoritmo de aprendizaje supervisado. Construye un hiperplano en un espacio de alta dimension y busca maximizar la distancia entre los puntos del hiperplano. Permite encontrar el hiperplano optimo incluso cuando los datos no son linealmente separables.\n",
    "    - Capacidad de manejar conjuntos de datos de alta dimensionalidad y complejos.\n",
    "    - Alto consumo computacional.\n",
    "    - Variantes de menor consumo computacional LinearSVC y SGDClassifier.\n",
    "* Parametros para la grilla\n",
    "    - C : [float] default=1.0 = parametro de regularizacion\n",
    "    - kernel: {‘linear’, ‘poly’, ‘rbf’, ‘sigmoid’, ‘precomputed’} or callable, default=’rbf’\n",
    "    - degree: int, default=3 : grado del polinomio del kernel \n",
    "    - gamma: {‘scale’, ‘auto’} or float, default=’scale’: Coeficiente del kernel\n",
    "    - random_state\n"
   ]
  },
  {
   "attachments": {},
   "cell_type": "markdown",
   "metadata": {},
   "source": [
    "##### 1.1.4.c - Random Forest Classification"
   ]
  },
  {
   "attachments": {},
   "cell_type": "markdown",
   "metadata": {},
   "source": [
    "* Es un algoritmo de aprendizaje supervisado. En vez de construir solo un arbol de decision como en decision tree clasifier, genera muchos y promedia los resultados.\n",
    "    - Selecciona aleatoriamente submuestras de X e Y para evitar sobre ajuste y mejorar la capacidad de generalización.\n",
    "    - Genera una medida de importancia en cada caracteristica.\n",
    "* Parametros:\n",
    "    - n_estimators: default=100\n",
    "    - criterion: “gini”, “entropy”, “log_loss”, default=”gini”\n",
    "    - max_depth: profundidad default: none = nodos expandidos hasta que las hojas contengan min_samples_split samples o puras\n",
    "    - min_samples_split: default=2 : minimo numero de samples para separar un nodo, un valor mayor puede reducir el riesgo de sobreajuste\n",
    "    - min_samples_leaf: default=1 : este parámetro controla el número mínimo de muestras que se requieren en cada hoja del árbol. Un valor mayor puede hacer que el modelo sea más generalizado\n",
    "    - max_features{“sqrt”, “log2”, None}, int or float, default=”sqrt”\n",
    "    - warm_start: default=False: True = Reutiliza la solucion previa para entrenar y agregar mas estimadores.\n",
    "    - random_state"
   ]
  },
  {
   "attachments": {},
   "cell_type": "markdown",
   "metadata": {},
   "source": [
    "##### 1.1.4.d - AdaBoost o Adaptive Boosting y Gradient Boost"
   ]
  },
  {
   "attachments": {},
   "cell_type": "markdown",
   "metadata": {},
   "source": [
    "* Ada boost: Algoritmo de aprendizaje automatico supervisado, utilizado para mejorar la precision de modelos de aprendizaje debil. Corrije dandole peso a los puntos donde el modelo anterior clasificó de manera incorrecta.\n",
    "    - comunmente utiliza como modelos debiles arboles de decision, regresion logistica o SVM\n",
    "    - Util para modelos de clasificacion binaria, multiclase, imagenes, deteccion de spam.\n",
    "* Parametros\n",
    "    - Estimator: default: DecisionTreeClassifier\n",
    "    - n_estimators: default: 50 = Numero de clasificadors debiles utilizados en el modelo, a medida que aumenta el modelo se vuelve mas preciso, pero tambien aumenta el tiempo de entrenamiento.\n",
    "    - Learning rate: default:1.0 = controla la contribución de cada estimador en el conjunto final. Un learning rate alto significa que se da más importancia a la contribución de cada estimador individual, lo que puede llevar a un sobreajuste. Un learning rate bajo significa que cada estimador individual contribuye poco al modelo final, lo que puede llevar a un bajo rendimiento.\n",
    "    - randomstate"
   ]
  },
  {
   "attachments": {},
   "cell_type": "markdown",
   "metadata": {},
   "source": [
    "* Gradient boosting: Es similar en su funcionamiento a adaboost. A diferencia de Adaboost, GBC construye árboles secuencialmente y cada nuevo árbol se entrena para corregir los errores del modelo anterior. De esta manera, cada árbol se enfoca en corregir los errores de los árboles anteriores\n",
    "* Parametros:\n",
    "    - loss: ‘log_loss’, ‘deviance’, ‘exponential’, default=’log_loss’= Funcion de perdida a ser optimizada en exponencial  gradient boost toma el algoritmo de adaboost\n",
    "    - n_estimator: default 100 = un numero alto siele resultar en una mejor performance.\n",
    "    - subsample: default=1 = fraccion de muestras para ser entrenadas como base del aprendizaje. seleccionar un valor menor a 1 implica reduccion de la varianza debe estar entre 0 y 1\n",
    "    - min_samples_split: default 2 = min de muestras requeridas para dividir un nodo. Un valor más alto evita divisiones que conducen a regiones con pocas muestras, lo que puede reducir el sobreajuste, pero también puede hacer que el modelo pierda información importante.\n",
    "    - min_samples_leaf: default 1 = min de muestras requeridas para estar en un nodo de hoja.\n",
    "    - max_depthi: int - None, default:3 =  La profundidad máxima de cada árbol. Un valor más alto permite que el modelo capture relaciones más complejas, pero también aumenta la posibilidad de sobreajuste.\n",
    "    - max_features{‘auto’, ‘sqrt’, ‘log2’}, int or float, default=None\n",
    "    - warm_star: tbool, default: False = Guarda el resultado anterior en la memoria para iterar.\n",
    "    - randomstate\n",
    "    "
   ]
  },
  {
   "attachments": {},
   "cell_type": "markdown",
   "metadata": {},
   "source": [
    "##### 1.1.4.e - Voting Classifier"
   ]
  },
  {
   "attachments": {},
   "cell_type": "markdown",
   "metadata": {},
   "source": [
    "* Algoritmo de ensamble que combina multiples modelos de aprendizaje automatico para producir su prediccion.\n",
    "* parametros:\n",
    "    - Estimators: una lista de estimadores a utilizar. Cada estimador debe ser un objeto de clasificación o regresión que tenga los métodos fit y predict.\n",
    "    - Voting: default: hard = Tipo de votación a utilizar. Puede ser 'hard' (predicciones discretas) o 'soft' (predicciones de probabilidad).\n",
    "    - weights: una lista de pesos que se aplican a cada estimador. Los pesos pueden utilizarse para ajustar la importancia de cada estimador en la votación final.\n",
    "    - flatten_transform: un parámetro booleano que indica si se deben aplanar los resultados de la transformación predictiva. Si se establece en True, los resultados se aplanan en una matriz unidimensional.\n"
   ]
  },
  {
   "attachments": {},
   "cell_type": "markdown",
   "metadata": {},
   "source": [
    "### 1.2 Análisis Exploratorio"
   ]
  },
  {
   "attachments": {},
   "cell_type": "markdown",
   "metadata": {},
   "source": [
    "#### 1.2.1 Estudio del vector objetivo"
   ]
  },
  {
   "attachments": {},
   "cell_type": "markdown",
   "metadata": {},
   "source": [
    "##### 1.2.1.a - Importar dataframe"
   ]
  },
  {
   "cell_type": "code",
   "execution_count": 3,
   "metadata": {},
   "outputs": [
    {
     "data": {
      "text/html": [
       "<div>\n",
       "<style scoped>\n",
       "    .dataframe tbody tr th:only-of-type {\n",
       "        vertical-align: middle;\n",
       "    }\n",
       "\n",
       "    .dataframe tbody tr th {\n",
       "        vertical-align: top;\n",
       "    }\n",
       "\n",
       "    .dataframe thead th {\n",
       "        text-align: right;\n",
       "    }\n",
       "</style>\n",
       "<table border=\"1\" class=\"dataframe\">\n",
       "  <thead>\n",
       "    <tr style=\"text-align: right;\">\n",
       "      <th></th>\n",
       "      <th>Unnamed: 0</th>\n",
       "      <th>content</th>\n",
       "      <th>sentiment</th>\n",
       "    </tr>\n",
       "  </thead>\n",
       "  <tbody>\n",
       "    <tr>\n",
       "      <th>0</th>\n",
       "      <td>34723</td>\n",
       "      <td>Happy Mama's day to all mothers</td>\n",
       "      <td>love</td>\n",
       "    </tr>\n",
       "    <tr>\n",
       "      <th>1</th>\n",
       "      <td>17493</td>\n",
       "      <td>@LysdelTellez I am lost. Please help me find a...</td>\n",
       "      <td>worry</td>\n",
       "    </tr>\n",
       "    <tr>\n",
       "      <th>2</th>\n",
       "      <td>20198</td>\n",
       "      <td>@BoomKatt yes yes I AM, networking whore to th...</td>\n",
       "      <td>happiness</td>\n",
       "    </tr>\n",
       "    <tr>\n",
       "      <th>3</th>\n",
       "      <td>6855</td>\n",
       "      <td>you@snapplynn Wish that would have been your t...</td>\n",
       "      <td>neutral</td>\n",
       "    </tr>\n",
       "    <tr>\n",
       "      <th>4</th>\n",
       "      <td>5924</td>\n",
       "      <td>now i am doing the MicroEconomics project  iha...</td>\n",
       "      <td>worry</td>\n",
       "    </tr>\n",
       "    <tr>\n",
       "      <th>...</th>\n",
       "      <td>...</td>\n",
       "      <td>...</td>\n",
       "      <td>...</td>\n",
       "    </tr>\n",
       "    <tr>\n",
       "      <th>29995</th>\n",
       "      <td>16469</td>\n",
       "      <td>I  do not want to work tomorrow!</td>\n",
       "      <td>sadness</td>\n",
       "    </tr>\n",
       "    <tr>\n",
       "      <th>29996</th>\n",
       "      <td>36006</td>\n",
       "      <td>@KandyBee we shuld do  a dance like that its s...</td>\n",
       "      <td>fun</td>\n",
       "    </tr>\n",
       "    <tr>\n",
       "      <th>29997</th>\n",
       "      <td>22647</td>\n",
       "      <td>Photo: Got my prints a few days ago, ready for...</td>\n",
       "      <td>happiness</td>\n",
       "    </tr>\n",
       "    <tr>\n",
       "      <th>29998</th>\n",
       "      <td>21478</td>\n",
       "      <td>@tove_liden Thanks for the follow Tove!</td>\n",
       "      <td>fun</td>\n",
       "    </tr>\n",
       "    <tr>\n",
       "      <th>29999</th>\n",
       "      <td>39364</td>\n",
       "      <td>@esmeeworld thanks</td>\n",
       "      <td>neutral</td>\n",
       "    </tr>\n",
       "  </tbody>\n",
       "</table>\n",
       "<p>30000 rows × 3 columns</p>\n",
       "</div>"
      ],
      "text/plain": [
       "       Unnamed: 0                                            content  \\\n",
       "0           34723                    Happy Mama's day to all mothers   \n",
       "1           17493  @LysdelTellez I am lost. Please help me find a...   \n",
       "2           20198  @BoomKatt yes yes I AM, networking whore to th...   \n",
       "3            6855  you@snapplynn Wish that would have been your t...   \n",
       "4            5924  now i am doing the MicroEconomics project  iha...   \n",
       "...           ...                                                ...   \n",
       "29995       16469                   I  do not want to work tomorrow!   \n",
       "29996       36006  @KandyBee we shuld do  a dance like that its s...   \n",
       "29997       22647  Photo: Got my prints a few days ago, ready for...   \n",
       "29998       21478            @tove_liden Thanks for the follow Tove!   \n",
       "29999       39364                                 @esmeeworld thanks   \n",
       "\n",
       "       sentiment  \n",
       "0           love  \n",
       "1          worry  \n",
       "2      happiness  \n",
       "3        neutral  \n",
       "4          worry  \n",
       "...          ...  \n",
       "29995    sadness  \n",
       "29996        fun  \n",
       "29997  happiness  \n",
       "29998        fun  \n",
       "29999    neutral  \n",
       "\n",
       "[30000 rows x 3 columns]"
      ]
     },
     "execution_count": 3,
     "metadata": {},
     "output_type": "execute_result"
    }
   ],
   "source": [
    "df = pd.read_csv('training_tweets.csv')\n",
    "df"
   ]
  },
  {
   "cell_type": "code",
   "execution_count": 4,
   "metadata": {},
   "outputs": [],
   "source": [
    "# Visto lo anterior se descarta la columna 'Unnamed: 0'\n",
    "df = df.drop(columns='Unnamed: 0')"
   ]
  },
  {
   "attachments": {},
   "cell_type": "markdown",
   "metadata": {},
   "source": [
    "##### 1.2.1.b - Grafico del vector objetivo **sentiment** sin recodificar"
   ]
  },
  {
   "cell_type": "code",
   "execution_count": 5,
   "metadata": {},
   "outputs": [
    {
     "data": {
      "image/png": "[encoded data removed]",
      "text/plain": [
       "<Figure size 1000x600 with 1 Axes>"
      ]
     },
     "metadata": {},
     "output_type": "display_data"
    }
   ],
   "source": [
    "graficar_porcentajes_cat(df['sentiment'])"
   ]
  },
  {
   "attachments": {},
   "cell_type": "markdown",
   "metadata": {},
   "source": [
    "* Se observa una gran cantidad de sentimientos neutrales 21,5%, seguido por worry 21.12%. luego los siguen happiness y sadnes. de los que menos encontramos son anger y boredom ambos con frecuencias menores a 1.\n",
    "* Lo mas critico del vector objetivo parece ser la gran concentracion de valores neutrales, mas adelante evaluaremos la forma agrupada de los sentimientos, luego de hacer la recodificacion."
   ]
  },
  {
   "attachments": {},
   "cell_type": "markdown",
   "metadata": {},
   "source": [
    "#### 1.2.2 Estudio de datos nulos"
   ]
  },
  {
   "cell_type": "code",
   "execution_count": 6,
   "metadata": {},
   "outputs": [
    {
     "name": "stdout",
     "output_type": "stream",
     "text": [
      "<class 'pandas.core.frame.DataFrame'>\n",
      "RangeIndex: 30000 entries, 0 to 29999\n",
      "Data columns (total 2 columns):\n",
      " #   Column     Non-Null Count  Dtype \n",
      "---  ------     --------------  ----- \n",
      " 0   content    30000 non-null  object\n",
      " 1   sentiment  30000 non-null  object\n",
      "dtypes: object(2)\n",
      "memory usage: 468.9+ KB\n"
     ]
    }
   ],
   "source": [
    "df.info()"
   ]
  },
  {
   "attachments": {},
   "cell_type": "markdown",
   "metadata": {},
   "source": [
    "No se observan datos perdidos en la dataframe original."
   ]
  },
  {
   "attachments": {},
   "cell_type": "markdown",
   "metadata": {},
   "source": [
    "#### 1.2.3 Recodificación del vector objetivo"
   ]
  },
  {
   "attachments": {},
   "cell_type": "markdown",
   "metadata": {},
   "source": [
    "##### 1.2.3.a - Recodificacion propuesta por el ejercicio."
   ]
  },
  {
   "attachments": {},
   "cell_type": "markdown",
   "metadata": {},
   "source": [
    "* Categoria neutral codificada en positiva o negativa con un 50% de probabilidad.\n",
    "* Se incluye una semilla aleatoria para que no varien los resultados con cada ejecucion del notebook"
   ]
  },
  {
   "cell_type": "code",
   "execution_count": 7,
   "metadata": {},
   "outputs": [],
   "source": [
    "np.random.seed(1991)\n",
    "emociones = {\n",
    "'worry' :'Negativa',\n",
    "'happiness' :'Positiva',\n",
    "'sadness' :'Negativa',\n",
    "'love' :'Positiva',\n",
    "'surprise' :'Positiva',\n",
    "'fun' :'Positiva',\n",
    "'relief' :'Positiva',\n",
    "'hate' :'Negativa',\n",
    "'empty' :'Negativa',\n",
    "'enthusiasm' :'Positiva',\n",
    "'boredom' :'Negativa',\n",
    "'anger':'Negativa',\n",
    "'neutral': np.random.choice(['Positiva', 'Negativa'])\n",
    "}"
   ]
  },
  {
   "cell_type": "code",
   "execution_count": 8,
   "metadata": {},
   "outputs": [
    {
     "data": {
      "image/png": "[encoded data removed]",
      "text/plain": [
       "<Figure size 1000x600 with 1 Axes>"
      ]
     },
     "metadata": {},
     "output_type": "display_data"
    }
   ],
   "source": [
    "df['emociones'] = df['sentiment'].replace(emociones)\n",
    "graficar_porcentajes_cat(df['emociones'])"
   ]
  },
  {
   "attachments": {},
   "cell_type": "markdown",
   "metadata": {},
   "source": [
    "* Luego del a recodificacion se observan categorias balanceadas entre 40 y 60 %"
   ]
  },
  {
   "attachments": {},
   "cell_type": "markdown",
   "metadata": {},
   "source": [
    "##### 1.2.3.b - Recodificacion alternativa propuesta."
   ]
  },
  {
   "attachments": {},
   "cell_type": "markdown",
   "metadata": {},
   "source": [
    "Se mantendra la categoria Neutral, dado que segun estudios los modelos de clasificacion de sentiminetos se ven favorecidos por tener una categoria neutral."
   ]
  },
  {
   "attachments": {},
   "cell_type": "markdown",
   "metadata": {},
   "source": [
    "Ademas como se muestra en el gráfico de la seccion  1.2.1.b la categoria neutral en comparacion a los otros sentimientos sin recodificar, ocupa la mayor frecuencia dentro del dataframe 21.5%, por lo que clasificar los tweets de manera aleatoria seria dejar aproximadamente un quinto de de los datos de entrenamiento a un ejemplo aleatorio, siendo que si los categorizamos de forma independiente nos proporcionara mas informacion que no hacerlo."
   ]
  },
  {
   "cell_type": "code",
   "execution_count": 9,
   "metadata": {},
   "outputs": [],
   "source": [
    "emociones_neu = {\n",
    "'worry' :'Negativa',\n",
    "'happiness' :'Positiva',\n",
    "'sadness' :'Negativa',\n",
    "'love' :'Positiva',\n",
    "'surprise' :'Positiva',\n",
    "'fun' :'Positiva',\n",
    "'relief' :'Positiva',\n",
    "'hate' :'Negativa',\n",
    "'empty' :'Negativa',\n",
    "'enthusiasm' :'Positiva',\n",
    "'boredom' :'Negativa',\n",
    "'anger':'Negativa'\n",
    "}\n"
   ]
  },
  {
   "cell_type": "code",
   "execution_count": 10,
   "metadata": {},
   "outputs": [
    {
     "data": {
      "image/png": "[encoded data removed]",
      "text/plain": [
       "<Figure size 1000x600 with 1 Axes>"
      ]
     },
     "metadata": {},
     "output_type": "display_data"
    }
   ],
   "source": [
    "df['emociones_neu'] = df['sentiment'].replace(emociones_neu)\n",
    "graficar_porcentajes_cat(df['emociones_neu'])"
   ]
  },
  {
   "attachments": {},
   "cell_type": "markdown",
   "metadata": {},
   "source": [
    "* En comparacion al grafico anterior, notar que la brecha entre positivos y negativos disminuye considerablemente.\n",
    "* Los neutrales muestran ser un 21% de los datos, menor a todas las categorias.\n",
    "* Un dataframe balanceado serian todos los valores cercanos al 33%, si bien esta muestra no esta desbalanceada al extremo la mayor concentracion de datos se encuentra entre los positivos y negativos."
   ]
  },
  {
   "attachments": {},
   "cell_type": "markdown",
   "metadata": {},
   "source": [
    "#### 1.2.4 - Busquedas de grilla propuestas"
   ]
  },
  {
   "attachments": {},
   "cell_type": "markdown",
   "metadata": {},
   "source": [
    "* Grilla modelo LDA:\n",
    "    - 'solver': ['svd', 'lsqr', 'eigen']\n",
    "    - 'priors': [[.35,.65],[.4,.6],[.45,.55],[.55,.45],[.6,.4],[.65,.35]]\n",
    "* Grilla modelo SVC:\n",
    "    - 'C' : [1,100]\n",
    "    - 'gamma': [10, 100]\n",
    "    - 'kernel': ['rbf']\n",
    "* Grilla modelo Random Forest:\n",
    "    - 'max_depth':[100,None]\n",
    "    - 'criterion':['gini','entropy']\n",
    "    - 'min_samples_split':[0.001,0.1]\n",
    "    - 'min_samples_leaf':[0.0000001,0.001]\n",
    "* Grilla modelo Gradient Boost\n",
    "    - 'learning_rate': [0.0001,0.01,1]\n",
    "    - 'max_depth':[1, 10,100]\n",
    "    - 'subsample': [.1,.3,.4]\n",
    "* Ponderacion para modelos Voting respectivamente {voting categoria 0, voting balanceado, gradient boosting}:\n",
    "    - w1 = [.3, .2, .5 ]\n",
    "    - w2 = [.2, .2, .6 ]"
   ]
  },
  {
   "attachments": {},
   "cell_type": "markdown",
   "metadata": {},
   "source": [
    "## Hito 2"
   ]
  },
  {
   "attachments": {},
   "cell_type": "markdown",
   "metadata": {},
   "source": [
    "### 2.1 Feature Engineering"
   ]
  },
  {
   "attachments": {},
   "cell_type": "markdown",
   "metadata": {},
   "source": [
    "#### 2.1.1 Ingeniería de atributos\n"
   ]
  },
  {
   "attachments": {},
   "cell_type": "markdown",
   "metadata": {},
   "source": [
    "Se estudian distintas formas de trabajar con CountVectorizer a modo limpiar las palabras de los tweets, para obtener nuestras matriz 'X' de parametros."
   ]
  },
  {
   "attachments": {},
   "cell_type": "markdown",
   "metadata": {},
   "source": [
    "Mencionar que se consideran los siguientes parametros de CountVectorizer en sus valores por defecto, entre ellos algunos que son relevante para el ejercicio, ademas se trabaja con una funcion tokenizadora que remplaza algunos de estos parametros:"
   ]
  },
  {
   "attachments": {},
   "cell_type": "markdown",
   "metadata": {},
   "source": [
    "* **lowercasebool** = True : Todo en minuscula\n",
    "* **token_pattern** = r”(?u)\\b\\w\\w+\\b” :\n",
    "    - (?u): Caracteres pertenecen a Unicode\n",
    "    - \\b: Limitado por caracteres que no sean alfanuméricos, es decir, que no formen parte de una palabra.\n",
    "    - \\w\\w+: Debe estar conformado por al menos dos caracteres alfanuméricos, siendo el primer caracter cualquier letra o número (\\w), y los siguientes caracteres, si es que existen, también alfanuméricos (\\w+).\n",
    "* **min_df** = 1 : Frecuencia minima admitida en matriz respuesta.\n",
    "* **analyzer** = default=’word’ : tokenizadores {‘word’, ‘char’, ‘char_wb’} or callable, "
   ]
  },
  {
   "attachments": {},
   "cell_type": "markdown",
   "metadata": {},
   "source": [
    "##### 2.1.1.a Metodo 1: **Stop words**"
   ]
  },
  {
   "attachments": {},
   "cell_type": "markdown",
   "metadata": {},
   "source": [
    "Evaluar solo utilizando stopwords, los cuales corresponden a palabras que por si solas no poseen mayor significancia."
   ]
  },
  {
   "cell_type": "code",
   "execution_count": 11,
   "metadata": {},
   "outputs": [
    {
     "name": "stderr",
     "output_type": "stream",
     "text": [
      "[nltk_data] Downloading package stopwords to\n",
      "[nltk_data]     C:\\Users\\USUARIO\\AppData\\Roaming\\nltk_data...\n",
      "[nltk_data]   Package stopwords is already up-to-date!\n"
     ]
    },
    {
     "data": {
      "text/plain": [
       "True"
      ]
     },
     "execution_count": 11,
     "metadata": {},
     "output_type": "execute_result"
    }
   ],
   "source": [
    "# descargar lista de stopwords\n",
    "nltk.download('stopwords')"
   ]
  },
  {
   "cell_type": "code",
   "execution_count": 12,
   "metadata": {},
   "outputs": [
    {
     "name": "stdout",
     "output_type": "stream",
     "text": [
      "{\"it's\", 'too', 'shouldn', 'not', 'to', 'are', \"you've\", 'him', 'her', 'off', 'wouldn', 'further', 'itself', 'under', 'be', 'with', 'doesn', \"that'll\", 'and', 'an', 'as', 'wasn', 'that', 'have', 'themselves', 'doing', 'didn', 'ain', 'it', \"won't\", 'no', 'some', 'out', 'does', 'how', 'don', \"should've\", \"you'd\", 'which', 'or', 'weren', 'we', 'has', 't', \"isn't\", \"doesn't\", 'hers', 'such', 'hadn', \"you'll\", 'had', 'once', 'then', 'there', \"wouldn't\", 'both', 'd', 'having', 'for', 'down', 'they', 'about', \"mightn't\", 'on', 'm', 'below', 'where', 'but', 'needn', 'just', 'couldn', 'this', 'o', 'did', 'haven', 'yours', 'very', 'she', \"weren't\", 'yourself', 'before', 'my', 'shan', \"don't\", 'their', \"didn't\", 'y', 'until', 'here', 'was', 'ourselves', 'me', 'between', 'himself', 'while', 'herself', 'in', 'those', 'these', 're', 'if', 'all', 'our', 'again', 'your', 'up', 'll', 'at', 'through', 'should', 'from', \"shouldn't\", 'than', 'other', \"she's\", 'being', 'isn', 'them', 'each', 'nor', \"needn't\", 'you', 'mightn', 'above', 'his', 'over', 'the', 'ma', 'who', 'most', 'will', 'because', 'any', 'mustn', 'theirs', 'into', \"shan't\", 'only', 'won', 'myself', \"aren't\", 'same', \"mustn't\", 'against', 'aren', 'few', 'its', \"wasn't\", 'hasn', 'were', 'do', 'so', 'more', 'when', \"haven't\", 'i', 'own', 'why', \"hasn't\", \"hadn't\", 'been', 'during', \"you're\", 'he', 've', 'ours', 'of', 's', 'what', 'whom', 'by', 'a', 'after', 'yourselves', 'now', 'am', 'is', \"couldn't\", 'can'}\n"
     ]
    }
   ],
   "source": [
    "stops = set(stopwords.words('english'))\n",
    "print(stops)\n",
    "stops = list(stops)"
   ]
  },
  {
   "cell_type": "code",
   "execution_count": 13,
   "metadata": {},
   "outputs": [],
   "source": [
    "#Entrenar y transformar CV con los tweets.\n",
    "cv_a = CountVectorizer(stop_words=stops)\n",
    "cv_a_fit = cv_a.fit_transform(df['content'])"
   ]
  },
  {
   "attachments": {},
   "cell_type": "markdown",
   "metadata": {},
   "source": [
    "* En esta primera iteracion se explica el metodo utilizado:\n",
    "    - cv_a: metodo CountVectorizer para aplicar en los datos, luego del fit se encuentra entrenado con los datos. Al aplicar fit transform ademas de aprender de los datos los transforma, resultando en cv_a_fit nuestra matriz completa de atributos X"
   ]
  },
  {
   "cell_type": "code",
   "execution_count": 14,
   "metadata": {},
   "outputs": [
    {
     "data": {
      "text/html": [
       "<style>#sk-container-id-1 {color: black;background-color: white;}#sk-container-id-1 pre{padding: 0;}#sk-container-id-1 div.sk-toggleable {background-color: white;}#sk-container-id-1 label.sk-toggleable__label {cursor: pointer;display: block;width: 100%;margin-bottom: 0;padding: 0.3em;box-sizing: border-box;text-align: center;}#sk-container-id-1 label.sk-toggleable__label-arrow:before {content: \"▸\";float: left;margin-right: 0.25em;color: #696969;}#sk-container-id-1 label.sk-toggleable__label-arrow:hover:before {color: black;}#sk-container-id-1 div.sk-estimator:hover label.sk-toggleable__label-arrow:before {color: black;}#sk-container-id-1 div.sk-toggleable__content {max-height: 0;max-width: 0;overflow: hidden;text-align: left;background-color: #f0f8ff;}#sk-container-id-1 div.sk-toggleable__content pre {margin: 0.2em;color: black;border-radius: 0.25em;background-color: #f0f8ff;}#sk-container-id-1 input.sk-toggleable__control:checked~div.sk-toggleable__content {max-height: 200px;max-width: 100%;overflow: auto;}#sk-container-id-1 input.sk-toggleable__control:checked~label.sk-toggleable__label-arrow:before {content: \"▾\";}#sk-container-id-1 div.sk-estimator input.sk-toggleable__control:checked~label.sk-toggleable__label {background-color: #d4ebff;}#sk-container-id-1 div.sk-label input.sk-toggleable__control:checked~label.sk-toggleable__label {background-color: #d4ebff;}#sk-container-id-1 input.sk-hidden--visually {border: 0;clip: rect(1px 1px 1px 1px);clip: rect(1px, 1px, 1px, 1px);height: 1px;margin: -1px;overflow: hidden;padding: 0;position: absolute;width: 1px;}#sk-container-id-1 div.sk-estimator {font-family: monospace;background-color: #f0f8ff;border: 1px dotted black;border-radius: 0.25em;box-sizing: border-box;margin-bottom: 0.5em;}#sk-container-id-1 div.sk-estimator:hover {background-color: #d4ebff;}#sk-container-id-1 div.sk-parallel-item::after {content: \"\";width: 100%;border-bottom: 1px solid gray;flex-grow: 1;}#sk-container-id-1 div.sk-label:hover label.sk-toggleable__label {background-color: #d4ebff;}#sk-container-id-1 div.sk-serial::before {content: \"\";position: absolute;border-left: 1px solid gray;box-sizing: border-box;top: 0;bottom: 0;left: 50%;z-index: 0;}#sk-container-id-1 div.sk-serial {display: flex;flex-direction: column;align-items: center;background-color: white;padding-right: 0.2em;padding-left: 0.2em;position: relative;}#sk-container-id-1 div.sk-item {position: relative;z-index: 1;}#sk-container-id-1 div.sk-parallel {display: flex;align-items: stretch;justify-content: center;background-color: white;position: relative;}#sk-container-id-1 div.sk-item::before, #sk-container-id-1 div.sk-parallel-item::before {content: \"\";position: absolute;border-left: 1px solid gray;box-sizing: border-box;top: 0;bottom: 0;left: 50%;z-index: -1;}#sk-container-id-1 div.sk-parallel-item {display: flex;flex-direction: column;z-index: 1;position: relative;background-color: white;}#sk-container-id-1 div.sk-parallel-item:first-child::after {align-self: flex-end;width: 50%;}#sk-container-id-1 div.sk-parallel-item:last-child::after {align-self: flex-start;width: 50%;}#sk-container-id-1 div.sk-parallel-item:only-child::after {width: 0;}#sk-container-id-1 div.sk-dashed-wrapped {border: 1px dashed gray;margin: 0 0.4em 0.5em 0.4em;box-sizing: border-box;padding-bottom: 0.4em;background-color: white;}#sk-container-id-1 div.sk-label label {font-family: monospace;font-weight: bold;display: inline-block;line-height: 1.2em;}#sk-container-id-1 div.sk-label-container {text-align: center;}#sk-container-id-1 div.sk-container {/* jupyter's `normalize.less` sets `[hidden] { display: none; }` but bootstrap.min.css set `[hidden] { display: none !important; }` so we also need the `!important` here to be able to override the default hidden behavior on the sphinx rendered scikit-learn.org. See: https://github.com/scikit-learn/scikit-learn/issues/21755 */display: inline-block !important;position: relative;}#sk-container-id-1 div.sk-text-repr-fallback {display: none;}</style><div id=\"sk-container-id-1\" class=\"sk-top-container\"><div class=\"sk-text-repr-fallback\"><pre>CountVectorizer(stop_words=[&quot;it&#x27;s&quot;, &#x27;too&#x27;, &#x27;shouldn&#x27;, &#x27;not&#x27;, &#x27;to&#x27;, &#x27;are&#x27;,\n",
       "                            &quot;you&#x27;ve&quot;, &#x27;him&#x27;, &#x27;her&#x27;, &#x27;off&#x27;, &#x27;wouldn&#x27;, &#x27;further&#x27;,\n",
       "                            &#x27;itself&#x27;, &#x27;under&#x27;, &#x27;be&#x27;, &#x27;with&#x27;, &#x27;doesn&#x27;, &quot;that&#x27;ll&quot;,\n",
       "                            &#x27;and&#x27;, &#x27;an&#x27;, &#x27;as&#x27;, &#x27;wasn&#x27;, &#x27;that&#x27;, &#x27;have&#x27;,\n",
       "                            &#x27;themselves&#x27;, &#x27;doing&#x27;, &#x27;didn&#x27;, &#x27;ain&#x27;, &#x27;it&#x27;, &quot;won&#x27;t&quot;, ...])</pre><b>In a Jupyter environment, please rerun this cell to show the HTML representation or trust the notebook. <br />On GitHub, the HTML representation is unable to render, please try loading this page with nbviewer.org.</b></div><div class=\"sk-container\" hidden><div class=\"sk-item\"><div class=\"sk-estimator sk-toggleable\"><input class=\"sk-toggleable__control sk-hidden--visually\" id=\"sk-estimator-id-1\" type=\"checkbox\" checked><label for=\"sk-estimator-id-1\" class=\"sk-toggleable__label sk-toggleable__label-arrow\">CountVectorizer</label><div class=\"sk-toggleable__content\"><pre>CountVectorizer(stop_words=[&quot;it&#x27;s&quot;, &#x27;too&#x27;, &#x27;shouldn&#x27;, &#x27;not&#x27;, &#x27;to&#x27;, &#x27;are&#x27;,\n",
       "                            &quot;you&#x27;ve&quot;, &#x27;him&#x27;, &#x27;her&#x27;, &#x27;off&#x27;, &#x27;wouldn&#x27;, &#x27;further&#x27;,\n",
       "                            &#x27;itself&#x27;, &#x27;under&#x27;, &#x27;be&#x27;, &#x27;with&#x27;, &#x27;doesn&#x27;, &quot;that&#x27;ll&quot;,\n",
       "                            &#x27;and&#x27;, &#x27;an&#x27;, &#x27;as&#x27;, &#x27;wasn&#x27;, &#x27;that&#x27;, &#x27;have&#x27;,\n",
       "                            &#x27;themselves&#x27;, &#x27;doing&#x27;, &#x27;didn&#x27;, &#x27;ain&#x27;, &#x27;it&#x27;, &quot;won&#x27;t&quot;, ...])</pre></div></div></div></div></div>"
      ],
      "text/plain": [
       "CountVectorizer(stop_words=[\"it's\", 'too', 'shouldn', 'not', 'to', 'are',\n",
       "                            \"you've\", 'him', 'her', 'off', 'wouldn', 'further',\n",
       "                            'itself', 'under', 'be', 'with', 'doesn', \"that'll\",\n",
       "                            'and', 'an', 'as', 'wasn', 'that', 'have',\n",
       "                            'themselves', 'doing', 'didn', 'ain', 'it', \"won't\", ...])"
      ]
     },
     "execution_count": 14,
     "metadata": {},
     "output_type": "execute_result"
    }
   ],
   "source": [
    "cv_a"
   ]
  },
  {
   "cell_type": "code",
   "execution_count": 15,
   "metadata": {},
   "outputs": [
    {
     "data": {
      "text/plain": [
       "(30000, 39460)"
      ]
     },
     "execution_count": 15,
     "metadata": {},
     "output_type": "execute_result"
    }
   ],
   "source": [
    "# Matriz de atributos X\n",
    "cv_a_fit.shape"
   ]
  },
  {
   "cell_type": "code",
   "execution_count": 16,
   "metadata": {},
   "outputs": [
    {
     "name": "stdout",
     "output_type": "stream",
     "text": [
      "(39460, 2)\n",
      "Contiene 27573 elementos con frecuencia igual o menor a 1: 69.88 %\n",
      "                  word freq\n",
      "15716     helga_hansen    1\n",
      "23393             mnon    1\n",
      "34257           tavern    1\n",
      "5023           bleedin    1\n",
      "24972        njbond007    1\n",
      "25263          numbing    1\n",
      "1680   accidbrrittanny    1\n",
      "19902    labelladeanna    1\n",
      "4125          bandwith    1\n",
      "11597        eljefe_gm    1\n",
      "24391              nas    1\n",
      "38380      wordcharmer    1\n",
      "6604          carole09    1\n",
      "34476          tenotch    1\n",
      "34555            tetep    1\n"
     ]
    }
   ],
   "source": [
    "frec_a = df_palabras_frecuencia(cv_a, df['content'])\n",
    "print(frec_a.shape)\n",
    "detalle_freq1(frec_a, columna='freq')"
   ]
  },
  {
   "attachments": {},
   "cell_type": "markdown",
   "metadata": {},
   "source": [
    "* Con casi el 70% de los datos con frecuencia 1\n",
    "* Notar que en el sample aleatorio se ven palabras mal escritas o numeros entre las palabras.\n",
    "* Tambien palabras que no hacen mucho sentido o nicknames"
   ]
  },
  {
   "cell_type": "code",
   "execution_count": 17,
   "metadata": {},
   "outputs": [
    {
     "data": {
      "image/png": "[encoded data removed]",
      "text/plain": [
       "<Figure size 500x500 with 2 Axes>"
      ]
     },
     "metadata": {},
     "output_type": "display_data"
    }
   ],
   "source": [
    "plt.figure(figsize=(5,5))\n",
    "for index, sent in enumerate(df['emociones'].unique()):\n",
    "    plt.subplot(1,2,index+1)\n",
    "    word_count_by_clasif(cv_a, df, 'content', 'emociones', sent,sort_n=10)\n",
    "    plt.title(sent)\n",
    "    plt.tight_layout()"
   ]
  },
  {
   "attachments": {},
   "cell_type": "markdown",
   "metadata": {},
   "source": [
    "* http en una palabra con alta frecuencia nos indica que hay sitios webs entremedio de las palabras.\n",
    "* las palabras negativas no se aprecian objetivamente negativas."
   ]
  },
  {
   "attachments": {},
   "cell_type": "markdown",
   "metadata": {},
   "source": [
    "##### 2.1.1.b Metodo 2: Lematizacion"
   ]
  },
  {
   "attachments": {},
   "cell_type": "markdown",
   "metadata": {},
   "source": [
    "* Lematizacion: Es decir, el lema de una palabra es la palabra que nos encontraríamos como entrada en un diccionario tradicional: singular para sustantivos, masculino singular para adjetivos, infinitivo..."
   ]
  },
  {
   "cell_type": "code",
   "execution_count": 18,
   "metadata": {},
   "outputs": [
    {
     "name": "stderr",
     "output_type": "stream",
     "text": [
      "[nltk_data] Downloading package wordnet to\n",
      "[nltk_data]     C:\\Users\\USUARIO\\AppData\\Roaming\\nltk_data...\n",
      "[nltk_data]   Package wordnet is already up-to-date!\n",
      "[nltk_data] Downloading package omw-1.4 to\n",
      "[nltk_data]     C:\\Users\\USUARIO\\AppData\\Roaming\\nltk_data...\n",
      "[nltk_data]   Package omw-1.4 is already up-to-date!\n"
     ]
    }
   ],
   "source": [
    "#Descargar listas de palabras para la lematizacion\n",
    "nltk.download('wordnet')\n",
    "nltk.download('omw-1.4')\n",
    "\n",
    "# lematizador de word net lemmatizer\n",
    "lemmatizer = WordNetLemmatizer()\n",
    "\n",
    "# función que lematice el texto y devuelva una lista de tokens\n",
    "def lemmatize_text(text):\n",
    "    return [lemmatizer.lemmatize(word) for word in text.split()]"
   ]
  },
  {
   "cell_type": "code",
   "execution_count": 19,
   "metadata": {},
   "outputs": [
    {
     "data": {
      "text/plain": [
       "['My', 'mother', 'is', 'the', 'mother', 'of', 'motherasdf']"
      ]
     },
     "execution_count": 19,
     "metadata": {},
     "output_type": "execute_result"
    }
   ],
   "source": [
    "# Ejemplo de texto (sin sentido)\n",
    "prueba = lemmatize_text('My mother is the mothers of motherasdf')\n",
    "prueba"
   ]
  },
  {
   "attachments": {},
   "cell_type": "markdown",
   "metadata": {},
   "source": [
    "Transforma correctamente la palabra mothers pero no motherasdf"
   ]
  },
  {
   "cell_type": "code",
   "execution_count": 20,
   "metadata": {},
   "outputs": [
    {
     "name": "stdout",
     "output_type": "stream",
     "text": [
      "(58142, 2)\n",
      "Contiene 43569 elementos con frecuencia igual o menor a 1: 74.94 %\n",
      "                      word freq\n",
      "1575        (half-assedly)    1\n",
      "32345                 him)    1\n",
      "58116                 ï¿½3    1\n",
      "29248                four,    1\n",
      "43460             patient!    1\n",
      "25738              dirty?'    1\n",
      "34698                ilife    1\n",
      "33019  http://bit.ly/253ce    1\n",
      "53127         tonsillitis.    1\n",
      "55109              videos)    1\n",
      "20669              borgata    1\n",
      "7991             @gleeding    1\n",
      "24838              darrin.    1\n",
      "5998              @cindaxo    1\n",
      "25043                dead!    1\n"
     ]
    }
   ],
   "source": [
    "cv_b = CountVectorizer(stop_words=stops, tokenizer=lemmatize_text)\n",
    "frec_b = df_palabras_frecuencia(cv_b, df['content'])\n",
    "print(frec_b.shape)\n",
    "detalle_freq1(frec_b, columna='freq')"
   ]
  },
  {
   "attachments": {},
   "cell_type": "markdown",
   "metadata": {},
   "source": [
    "* Al entregarle un tokenizador el parametro analyzer se anula, y por lo visto este parametro filtraba bastantes mas palabras que el tokenizador a través de lemmatizacion.\n",
    "* aumenta a 75% las palabras con frecuencia 1\n",
    "* por lo visto en el sample, varias de ellas dificilmente consideradas como palabras estandar y con caracteres especiales."
   ]
  },
  {
   "cell_type": "code",
   "execution_count": 21,
   "metadata": {},
   "outputs": [
    {
     "data": {
      "image/png": "[encoded data removed]",
      "text/plain": [
       "<Figure size 500x500 with 2 Axes>"
      ]
     },
     "metadata": {},
     "output_type": "display_data"
    }
   ],
   "source": [
    "plt.figure(figsize=(5,5))\n",
    "for index, sent in enumerate(df['emociones'].unique()):\n",
    "    plt.subplot(1,2,index+1)\n",
    "    word_count_by_clasif(cv_b, df, 'content', 'emociones', sent,sort_n=10)\n",
    "    plt.title(sent)\n",
    "    plt.tight_layout()"
   ]
  },
  {
   "attachments": {},
   "cell_type": "markdown",
   "metadata": {},
   "source": [
    "* Parece empeorar la condicion de las mejores palabras"
   ]
  },
  {
   "attachments": {},
   "cell_type": "markdown",
   "metadata": {},
   "source": [
    "##### 2.1.1.c.1 Metodo 3: Funcion tokenizadora."
   ]
  },
  {
   "attachments": {},
   "cell_type": "markdown",
   "metadata": {},
   "source": [
    "Como ya se vio en el punto anterior el utilizar un tokenizer anula el parametro analyzer por defecto 'word' por lo que se debe crear una funcion completa que haga lo que se requiere filtrar."
   ]
  },
  {
   "attachments": {},
   "cell_type": "markdown",
   "metadata": {},
   "source": [
    "La funcion tokenizer se mantendra en el archivo principal, dado que funcionara a modo explicativo, el paso a paso del filtro."
   ]
  },
  {
   "cell_type": "code",
   "execution_count": 22,
   "metadata": {},
   "outputs": [],
   "source": [
    "def tokenizer(text):\n",
    "    lista_palabras = text.split()\n",
    "    \n",
    "    # Seleccionar solo cadenas de letras\n",
    "    for n, palabra in enumerate(lista_palabras):\n",
    "        palabra = re.sub(r'[^a-zA-Z]', '', palabra)\n",
    "        palabra = ' '.join(palabra.split()) # Remover espacios en blanco adicionales\n",
    "        lista_palabras[n] = palabra\n",
    "\n",
    "    # Remover ''s' al final de las palabras y cambiar a minusculas\n",
    "    lista_palabras = [word.replace(\"'s\", \"\").lower() for word in lista_palabras] \n",
    "\n",
    "    # Lematizacion para nouns y vervs\n",
    "    lemm = WordNetLemmatizer()\n",
    "    lista_palabras =  [lemm.lemmatize(word, 'n') for word in lista_palabras]\n",
    "    lista_palabras =  [lemm.lemmatize(word, 'v') for word in lista_palabras]\n",
    "\n",
    "    # transformar mom, mum, mummy en mother\n",
    "    codex = {'mom':'mother', 'mum':'mother', 'mummy':'mother', 'mommy':'mother', 'mama':'mother'}\n",
    "    lista_palabras = [palabra if palabra not in codex else 'mother' for palabra in lista_palabras]\n",
    "\n",
    "    #quitar sitios web\n",
    "    lista_palabras = [palabra for palabra in lista_palabras if 'www' not in palabra]   \n",
    "    lista_palabras = [palabra for palabra in lista_palabras if 'http' not in palabra]   \n",
    "    \n",
    "    # Quitar la palabra mother dado el gran ruido y poca objetividad de la palabra.\n",
    "    lista_palabras = [palabra for palabra in lista_palabras if 'mother' not in palabra]\n",
    "\n",
    "    # Seleccionar solo palabras de con mas de 3 caracteres\n",
    "    output = [palabra for palabra in lista_palabras if len(palabra) >= 3]\n",
    "\n",
    "    return output"
   ]
  },
  {
   "cell_type": "code",
   "execution_count": 23,
   "metadata": {},
   "outputs": [
    {
     "data": {
      "text/plain": [
       "['the', 'run', 'run', 'from']"
      ]
     },
     "execution_count": 23,
     "metadata": {},
     "output_type": "execute_result"
    }
   ],
   "source": [
    "# Ejemplo de texto sin sentido\n",
    "prueba = tokenizer(\"My mother's mommy mom mummy the mothers run as ran from motherasdf ï¿½ï¿½we www.amazon.com\")\n",
    "prueba"
   ]
  },
  {
   "attachments": {},
   "cell_type": "markdown",
   "metadata": {},
   "source": [
    "* Solo queda morherasdf, que podria eliminar haciendo un filtro especifico para esta palabra, sin embargo esto no tiene sentido en la implementación a gran escala.\n",
    "* Para eliminar dichas palabras seria preferible filtrar por frecuencias dentro del CV."
   ]
  },
  {
   "cell_type": "code",
   "execution_count": 24,
   "metadata": {},
   "outputs": [
    {
     "name": "stdout",
     "output_type": "stream",
     "text": [
      "(36185, 2)\n",
      "Contiene 26714 elementos con frecuencia igual o menor a 1: 73.83 %\n",
      "               word freq\n",
      "4331     burninghat    1\n",
      "1584    apparantley    1\n",
      "21012         moron    1\n",
      "23780  peacecharade    1\n",
      "33737    uswitchnet    1\n",
      "4310     buongiorno    1\n",
      "11427        gahaha    1\n",
      "3547       bobrules    1\n",
      "31741  theroomstops    1\n",
      "28085    sennheiser    1\n",
      "10118     facepanda    1\n",
      "12562       guiness    1\n",
      "21            aaaau    1\n",
      "957        alwaysss    1\n",
      "12986     hateeeeee    1\n"
     ]
    }
   ],
   "source": [
    "cv_c = CountVectorizer(stop_words=stops, tokenizer=tokenizer)\n",
    "frec_c = df_palabras_frecuencia(cv_c, df['content'])\n",
    "print(frec_c.shape)\n",
    "detalle_freq1(frec_c, columna='freq')"
   ]
  },
  {
   "attachments": {},
   "cell_type": "markdown",
   "metadata": {},
   "source": [
    "Las frecuencias igual a 1 siguen siendo 74% de los datos, sin embargo ahora al menos notamos que tienen mas sentido que antes, libres de caracteres especiales."
   ]
  },
  {
   "attachments": {},
   "cell_type": "markdown",
   "metadata": {},
   "source": [
    "* checkear espacios en blanco"
   ]
  },
  {
   "cell_type": "code",
   "execution_count": 25,
   "metadata": {},
   "outputs": [
    {
     "data": {
      "text/html": [
       "<div>\n",
       "<style scoped>\n",
       "    .dataframe tbody tr th:only-of-type {\n",
       "        vertical-align: middle;\n",
       "    }\n",
       "\n",
       "    .dataframe tbody tr th {\n",
       "        vertical-align: top;\n",
       "    }\n",
       "\n",
       "    .dataframe thead th {\n",
       "        text-align: right;\n",
       "    }\n",
       "</style>\n",
       "<table border=\"1\" class=\"dataframe\">\n",
       "  <thead>\n",
       "    <tr style=\"text-align: right;\">\n",
       "      <th></th>\n",
       "      <th>word</th>\n",
       "      <th>freq</th>\n",
       "    </tr>\n",
       "  </thead>\n",
       "  <tbody>\n",
       "  </tbody>\n",
       "</table>\n",
       "</div>"
      ],
      "text/plain": [
       "Empty DataFrame\n",
       "Columns: [word, freq]\n",
       "Index: []"
      ]
     },
     "execution_count": 25,
     "metadata": {},
     "output_type": "execute_result"
    }
   ],
   "source": [
    "frec_c.loc[frec_c['word']== '']"
   ]
  },
  {
   "attachments": {},
   "cell_type": "markdown",
   "metadata": {},
   "source": [
    "* checkear verbos conjugados"
   ]
  },
  {
   "cell_type": "code",
   "execution_count": 26,
   "metadata": {},
   "outputs": [
    {
     "name": "stdout",
     "output_type": "stream",
     "text": [
      "Empty DataFrame\n",
      "Columns: [word, freq]\n",
      "Index: []\n",
      "----------------------------------------------------------------\n",
      "      word freq\n",
      "27246  run  221\n"
     ]
    }
   ],
   "source": [
    "print(frec_c.loc[frec_c['word']== 'ran'])\n",
    "print('----------------------------------------------------------------')\n",
    "print(frec_c.loc[frec_c['word']== 'run'])"
   ]
  },
  {
   "cell_type": "code",
   "execution_count": 27,
   "metadata": {},
   "outputs": [
    {
     "data": {
      "text/html": [
       "<div>\n",
       "<style scoped>\n",
       "    .dataframe tbody tr th:only-of-type {\n",
       "        vertical-align: middle;\n",
       "    }\n",
       "\n",
       "    .dataframe tbody tr th {\n",
       "        vertical-align: top;\n",
       "    }\n",
       "\n",
       "    .dataframe thead th {\n",
       "        text-align: right;\n",
       "    }\n",
       "</style>\n",
       "<table border=\"1\" class=\"dataframe\">\n",
       "  <thead>\n",
       "    <tr style=\"text-align: right;\">\n",
       "      <th></th>\n",
       "      <th>word</th>\n",
       "      <th>freq</th>\n",
       "    </tr>\n",
       "  </thead>\n",
       "  <tbody>\n",
       "    <tr>\n",
       "      <th>27246</th>\n",
       "      <td>run</td>\n",
       "      <td>221</td>\n",
       "    </tr>\n",
       "  </tbody>\n",
       "</table>\n",
       "</div>"
      ],
      "text/plain": [
       "      word freq\n",
       "27246  run  221"
      ]
     },
     "execution_count": 27,
     "metadata": {},
     "output_type": "execute_result"
    }
   ],
   "source": [
    "frec_c.loc[frec_c['word']== 'run']"
   ]
  },
  {
   "cell_type": "code",
   "execution_count": 28,
   "metadata": {},
   "outputs": [
    {
     "data": {
      "image/png": "[encoded data removed]",
      "text/plain": [
       "<Figure size 1000x1000 with 2 Axes>"
      ]
     },
     "metadata": {},
     "output_type": "display_data"
    }
   ],
   "source": [
    "plt.figure(figsize=(10,10))\n",
    "for index, sent in enumerate(df['emociones'].unique()):\n",
    "    plt.subplot(1,2,index+1)\n",
    "    word_count_by_clasif(cv_c, df, 'content', 'emociones', sent,sort_n=50)\n",
    "    plt.title(sent)\n",
    "    plt.tight_layout()"
   ]
  },
  {
   "attachments": {},
   "cell_type": "markdown",
   "metadata": {},
   "source": [
    "* Por primera vez se logra captar un efecto realmente negativo en las palabras de categoria negativa.\n",
    "    - sad\n",
    "    - feel (por si sola no es negativa pero podria ser indicio un feel bad)\n",
    "    - miss\n",
    "    - cant\n",
    "    - dont"
   ]
  },
  {
   "attachments": {},
   "cell_type": "markdown",
   "metadata": {},
   "source": [
    "##### 2.1.1.d Metodo 4: Tokenizador mas Frases."
   ]
  },
  {
   "attachments": {},
   "cell_type": "markdown",
   "metadata": {},
   "source": [
    "* Finalmente a modo de darle sentido a nuestras palabras, se evalúan palabras de en ngram_range (3,3).\n",
    "* Ademas se filtrarán los valores de frecuencia = 1, ya que la matriz crece de forma muy significativa y el computador no es capaz de generar la transformacion con min_df=1, por ende se deja en min_df=2"
   ]
  },
  {
   "cell_type": "code",
   "execution_count": 29,
   "metadata": {},
   "outputs": [
    {
     "name": "stdout",
     "output_type": "stream",
     "text": [
      "(2618, 2)\n",
      "Contiene 2038 elementos con frecuencia igual o menor a 2: 77.85 %\n",
      "                        word freq\n",
      "1634          night time bed    2\n",
      "745          get better know    2\n",
      "1622      nice weather today    2\n",
      "451        doesnt sound good    2\n",
      "16         alllyy get iphone    2\n",
      "1985       sooo happy ashley    2\n",
      "13           ahhhh soo smart    2\n",
      "1481    melluffsyew umm yeah    2\n",
      "1175          java work hmph    2\n",
      "1464         math test today    2\n",
      "2377        wait till august    2\n",
      "243           cant vote stop    2\n",
      "1732  post hellotxt facebook    2\n",
      "49        another puppy cool    2\n",
      "1569          need read good    2\n"
     ]
    }
   ],
   "source": [
    "cv_c2 = CountVectorizer(stop_words=stops, min_df=2,\n",
    "                      tokenizer=tokenizer, ngram_range=(3,3))\n",
    "frec_c2 = df_palabras_frecuencia(cv_c2, df['content'])\n",
    "print(frec_c2.shape)\n",
    "detalle_freq1(frec_c2, columna='freq', minfreq=2)"
   ]
  },
  {
   "attachments": {},
   "cell_type": "markdown",
   "metadata": {},
   "source": [
    "* Si aumentamos al minimo de frecuencia igual a 2, se observa un 77% de elementos."
   ]
  },
  {
   "cell_type": "code",
   "execution_count": 30,
   "metadata": {},
   "outputs": [
    {
     "data": {
      "image/png": "[encoded data removed]",
      "text/plain": [
       "<Figure size 1000x500 with 2 Axes>"
      ]
     },
     "metadata": {},
     "output_type": "display_data"
    }
   ],
   "source": [
    "plt.figure(figsize=(10,5))\n",
    "for index, sent in enumerate(df['emociones'].unique()):\n",
    "    plt.subplot(1,2,index+1)\n",
    "    word_count_by_clasif(cv_c2, df, 'content', 'emociones', sent,sort_n=15)\n",
    "    plt.title(sent)\n",
    "    plt.tight_layout()"
   ]
  },
  {
   "attachments": {},
   "cell_type": "markdown",
   "metadata": {},
   "source": [
    "##### 2.1.1.d Metodo 5: Tokenizador simplificado."
   ]
  },
  {
   "attachments": {},
   "cell_type": "markdown",
   "metadata": {},
   "source": [
    "* Dado el ejercicio anterior, se aprecia el aumento de sesgo generado por el tokenizador, dado esto se creará un tokenizador mas general para evaluarlo con un modelo y ver su comportamiento."
   ]
  },
  {
   "cell_type": "code",
   "execution_count": 31,
   "metadata": {},
   "outputs": [],
   "source": [
    "tf_d = TfidfVectorizer(\n",
    "    analyzer='word',\n",
    "    stop_words= stops,\n",
    "    use_idf = True,\n",
    "    max_features= 5000,\n",
    "    max_df = .1\n",
    ")"
   ]
  },
  {
   "cell_type": "code",
   "execution_count": 32,
   "metadata": {},
   "outputs": [
    {
     "name": "stdout",
     "output_type": "stream",
     "text": [
      "(5000, 2)\n"
     ]
    }
   ],
   "source": [
    "frec_d = df_palabras_frecuencia(tf_d, df['content'])\n",
    "print(frec_d.shape)"
   ]
  },
  {
   "cell_type": "code",
   "execution_count": 33,
   "metadata": {},
   "outputs": [
    {
     "name": "stdout",
     "output_type": "stream",
     "text": [
      "Contiene 185 elementos con frecuencia igual o menor a 2: 3.70 %\n",
      "                 word      freq\n",
      "3013              nhl  1.732466\n",
      "991        convenient  1.977797\n",
      "3017            nicer  1.751411\n",
      "4674            users  1.763485\n",
      "905       coincidence  1.923609\n",
      "1485          example  1.934936\n",
      "3228  patricklanglois  1.816628\n",
      "2927         munching  1.577412\n",
      "3009        newspaper  1.901142\n",
      "2723          measure  1.970737\n",
      "2895            moves   1.94394\n",
      "2710            mayer  1.832435\n",
      "3319            pilot  1.625482\n",
      "4691       vegetarian  1.941763\n",
      "2699          matinee  1.855062\n"
     ]
    }
   ],
   "source": [
    "detalle_freq1(frec_d, columna='freq', minfreq=2)"
   ]
  },
  {
   "cell_type": "code",
   "execution_count": 34,
   "metadata": {},
   "outputs": [
    {
     "data": {
      "image/png": "[encoded data removed]",
      "text/plain": [
       "<Figure size 1000x500 with 2 Axes>"
      ]
     },
     "metadata": {},
     "output_type": "display_data"
    }
   ],
   "source": [
    "plt.figure(figsize=(10,5))\n",
    "for index, sent in enumerate(df['emociones'].unique()):\n",
    "    plt.subplot(1,2,index+1)\n",
    "    word_count_by_clasif(tf_d, df, 'content', 'emociones', sent,sort_n=15)\n",
    "    plt.title(sent)\n",
    "    plt.tight_layout()"
   ]
  },
  {
   "attachments": {},
   "cell_type": "markdown",
   "metadata": {},
   "source": [
    "* Vuelven a aparecer elementos poco normales.\n",
    "* Valorar que aun se encuentra la diferencia entre una y otra categoría"
   ]
  },
  {
   "attachments": {},
   "cell_type": "markdown",
   "metadata": {},
   "source": [
    "##### 2.1.2 Conclusion"
   ]
  },
  {
   "attachments": {},
   "cell_type": "markdown",
   "metadata": {},
   "source": [
    "* Los tokenizadores basicos de lams y stop words no son suficientes para limpiar la informacion de los tweets, el principal motivo es la libertad que tiene el emisor al escribir, por ende presentan distintos uso de slangs, distintas faltas de ortografia.\n",
    "* Es por esto que el estudio proseguirá mediante un tokenizador creado con el fin de generalizar los tweets, en este caso se aplicara un filtro especifico para el dia de la madre, ya que con eso es suficiente para evitar problemas de recursos computacionales y se adapta a los datos trabajados. \n",
    "* Notar que el filtro del dia de la madre es bastante especifico, quizas se puede ampliar a otros contextos en una implementación mas generalizada como cumpleaños, año nuevo, navidad..."
   ]
  },
  {
   "attachments": {},
   "cell_type": "markdown",
   "metadata": {},
   "source": [
    "##### 2.1.3 Reduccion de dimensionalidad"
   ]
  },
  {
   "attachments": {},
   "cell_type": "markdown",
   "metadata": {},
   "source": [
    "* Dado lo observado en el punto anterior seleccionamos la metodologia 3 y 5, el metodo 4 lo desecharemos por tener alta perdida de informacion mediante la agrupacion de palabras.\n",
    "    - cv_c : Tokenizador agrupado por palabras sin reducir la frecuencia\n",
    "    - cv_d : Tokenizador mas holgado por palabras sin reducir la frecuencia"
   ]
  },
  {
   "attachments": {},
   "cell_type": "markdown",
   "metadata": {},
   "source": [
    "cv_c"
   ]
  },
  {
   "cell_type": "code",
   "execution_count": 35,
   "metadata": {},
   "outputs": [
    {
     "data": {
      "text/plain": [
       "(30000, 36185)"
      ]
     },
     "execution_count": 35,
     "metadata": {},
     "output_type": "execute_result"
    }
   ],
   "source": [
    "# Matrix Parametros c\n",
    "cv_c_fit = cv_c.fit_transform(df['content'])\n",
    "x_c = cv_c_fit.toarray()\n",
    "x_c.shape"
   ]
  },
  {
   "cell_type": "code",
   "execution_count": 36,
   "metadata": {},
   "outputs": [],
   "source": [
    "dimred_c = PCA(n_components = 10, whiten=True)\n",
    "project_x = dimred_c.fit_transform(x_c)\n",
    "X_redu_c = pd.DataFrame(project_x)"
   ]
  },
  {
   "attachments": {},
   "cell_type": "markdown",
   "metadata": {},
   "source": [
    "cv_c2"
   ]
  },
  {
   "cell_type": "code",
   "execution_count": 37,
   "metadata": {},
   "outputs": [
    {
     "data": {
      "text/plain": [
       "(30000, 2618)"
      ]
     },
     "execution_count": 37,
     "metadata": {},
     "output_type": "execute_result"
    }
   ],
   "source": [
    "# Matrix Parametros c\n",
    "cv_c2_fit = cv_c2.fit_transform(df['content'])\n",
    "x_c2= cv_c2_fit.toarray()\n",
    "x_c2.shape"
   ]
  },
  {
   "cell_type": "code",
   "execution_count": 38,
   "metadata": {},
   "outputs": [],
   "source": [
    "dimred_c2 = PCA(n_components = 10, whiten=True)\n",
    "project_x = dimred_c2.fit_transform(x_c2)\n",
    "X_redu_c2 = pd.DataFrame(project_x)"
   ]
  },
  {
   "cell_type": "code",
   "execution_count": 39,
   "metadata": {},
   "outputs": [
    {
     "data": {
      "text/plain": [
       "(30000, 5000)"
      ]
     },
     "execution_count": 39,
     "metadata": {},
     "output_type": "execute_result"
    }
   ],
   "source": [
    "# Matrix Parametros d\n",
    "cv_fit = tf_d.fit_transform(df['content'])\n",
    "x_d = cv_fit.toarray()\n",
    "x_d.shape"
   ]
  },
  {
   "cell_type": "code",
   "execution_count": 40,
   "metadata": {},
   "outputs": [],
   "source": [
    "dimred_d = PCA(n_components = 10,  whiten=True)\n",
    "project_x = dimred_d.fit_transform(x_d)\n",
    "X_redu_d = pd.DataFrame(project_x)"
   ]
  },
  {
   "attachments": {},
   "cell_type": "markdown",
   "metadata": {},
   "source": [
    "### 2.2 - Modelacion"
   ]
  },
  {
   "attachments": {},
   "cell_type": "markdown",
   "metadata": {},
   "source": [
    "#### 2.2.0 - Análisis de comportamiento matriz X (matriz de fraces) y vector objetivo"
   ]
  },
  {
   "cell_type": "code",
   "execution_count": 41,
   "metadata": {},
   "outputs": [
    {
     "data": {
      "text/plain": [
       "Positiva\n",
       "1           17978\n",
       "0           12022\n",
       "dtype: int64"
      ]
     },
     "execution_count": 41,
     "metadata": {},
     "output_type": "execute_result"
    }
   ],
   "source": [
    "#obtenemos los dummies del vector y \n",
    "# 1 = positive\n",
    "# 0 = negative\n",
    "y = df['emociones']\n",
    "y_bin = pd.get_dummies(y, drop_first=True)\n",
    "y_bin.value_counts()"
   ]
  },
  {
   "attachments": {},
   "cell_type": "markdown",
   "metadata": {},
   "source": [
    "##### 2.2.0.a - Modelo de Prueba para seleccionar matriz de atributos X"
   ]
  },
  {
   "attachments": {},
   "cell_type": "markdown",
   "metadata": {},
   "source": [
    "* Metodo 3: cv_c"
   ]
  },
  {
   "cell_type": "code",
   "execution_count": 42,
   "metadata": {},
   "outputs": [],
   "source": [
    "X_train_c, X_test_c, y_train_c, y_test_c = train_test_split(X_redu_c,\n",
    "        y_bin,test_size=.33,random_state=1991)"
   ]
  },
  {
   "cell_type": "code",
   "execution_count": 43,
   "metadata": {},
   "outputs": [
    {
     "name": "stdout",
     "output_type": "stream",
     "text": [
      "              precision    recall  f1-score   support\n",
      "\n",
      "           0       0.54      0.14      0.23      8000\n",
      "           1       0.62      0.92      0.74     12100\n",
      "\n",
      "    accuracy                           0.61     20100\n",
      "   macro avg       0.58      0.53      0.48     20100\n",
      "weighted avg       0.59      0.61      0.53     20100\n",
      "\n",
      "              precision    recall  f1-score   support\n",
      "\n",
      "           0       0.55      0.15      0.23      4022\n",
      "           1       0.61      0.92      0.73      5878\n",
      "\n",
      "    accuracy                           0.60      9900\n",
      "   macro avg       0.58      0.53      0.48      9900\n",
      "weighted avg       0.58      0.60      0.53      9900\n",
      "\n"
     ]
    }
   ],
   "source": [
    "lda = LinearDiscriminantAnalysis()\n",
    "lda.fit(X_train_c, y_train_c)\n",
    "yhat_train= lda.predict(X_train_c)\n",
    "yhat_test= lda.predict(X_test_c)\n",
    "#Indicadores con Train\n",
    "print(classification_report(y_train_c, yhat_train))\n",
    "#Indicadores con Test\n",
    "print(classification_report(y_test_c, yhat_test))"
   ]
  },
  {
   "attachments": {},
   "cell_type": "markdown",
   "metadata": {},
   "source": [
    "* Deficiente para categoria 0.\n",
    "* Buen rendimiento en categoria 1.\n",
    "* Regular comportamiento general 10% mejor que un ejercicio aleatorio. 50-50"
   ]
  },
  {
   "attachments": {},
   "cell_type": "markdown",
   "metadata": {},
   "source": [
    "* Metodo 4: cv_c2\n"
   ]
  },
  {
   "cell_type": "code",
   "execution_count": 44,
   "metadata": {},
   "outputs": [],
   "source": [
    "X_train_c2, X_test_c2, y_train_c2, y_test_c2 = train_test_split(X_redu_c2,\n",
    "        y_bin,test_size=.33,random_state=1991)"
   ]
  },
  {
   "cell_type": "code",
   "execution_count": 45,
   "metadata": {},
   "outputs": [
    {
     "name": "stdout",
     "output_type": "stream",
     "text": [
      "              precision    recall  f1-score   support\n",
      "\n",
      "           0       0.78      0.00      0.00      8000\n",
      "           1       0.60      1.00      0.75     12100\n",
      "\n",
      "    accuracy                           0.60     20100\n",
      "   macro avg       0.69      0.50      0.38     20100\n",
      "weighted avg       0.67      0.60      0.45     20100\n",
      "\n",
      "              precision    recall  f1-score   support\n",
      "\n",
      "           0       0.86      0.00      0.00      4022\n",
      "           1       0.59      1.00      0.75      5878\n",
      "\n",
      "    accuracy                           0.59      9900\n",
      "   macro avg       0.73      0.50      0.37      9900\n",
      "weighted avg       0.70      0.59      0.44      9900\n",
      "\n"
     ]
    }
   ],
   "source": [
    "lda = LinearDiscriminantAnalysis()\n",
    "lda.fit(X_train_c2, y_train_c2)\n",
    "yhat_train= lda.predict(X_train_c2)\n",
    "yhat_test= lda.predict(X_test_c2)\n",
    "#Indicadores con Train\n",
    "print(classification_report(y_train_c2, yhat_train))\n",
    "#Indicadores con Test\n",
    "print(classification_report(y_test_c2, yhat_test))"
   ]
  },
  {
   "attachments": {},
   "cell_type": "markdown",
   "metadata": {},
   "source": [
    "* Metodo no logra captar la clasificacion negativa"
   ]
  },
  {
   "attachments": {},
   "cell_type": "markdown",
   "metadata": {},
   "source": [
    "* Metodo 5: tf_d"
   ]
  },
  {
   "cell_type": "code",
   "execution_count": 46,
   "metadata": {},
   "outputs": [],
   "source": [
    "X_train_d, X_test_d, y_train_d, y_test_d = train_test_split(X_redu_d,\n",
    "        y_bin,test_size=.33,random_state=1991)"
   ]
  },
  {
   "cell_type": "code",
   "execution_count": 47,
   "metadata": {},
   "outputs": [
    {
     "name": "stdout",
     "output_type": "stream",
     "text": [
      "              precision    recall  f1-score   support\n",
      "\n",
      "           0       0.51      0.06      0.10      8000\n",
      "           1       0.61      0.96      0.75     12100\n",
      "\n",
      "    accuracy                           0.60     20100\n",
      "   macro avg       0.56      0.51      0.42     20100\n",
      "weighted avg       0.57      0.60      0.49     20100\n",
      "\n",
      "              precision    recall  f1-score   support\n",
      "\n",
      "           0       0.55      0.06      0.12      4022\n",
      "           1       0.60      0.96      0.74      5878\n",
      "\n",
      "    accuracy                           0.60      9900\n",
      "   macro avg       0.58      0.51      0.43      9900\n",
      "weighted avg       0.58      0.60      0.49      9900\n",
      "\n"
     ]
    }
   ],
   "source": [
    "lda = LinearDiscriminantAnalysis()\n",
    "lda.fit(X_train_d, y_train_d)\n",
    "yhat_train= lda.predict(X_train_d)\n",
    "yhat_test= lda.predict(X_test_d)\n",
    "#Indicadores con Train\n",
    "print(classification_report(y_train_d, yhat_train))\n",
    "#Indicadores con Test\n",
    "print(classification_report(y_test_d, yhat_test))"
   ]
  },
  {
   "attachments": {},
   "cell_type": "markdown",
   "metadata": {},
   "source": [
    "* Peor rendimiento para categoria 0.\n",
    "* Mantiene el rendimiento en categoria 1.\n",
    "* Baja rendimiento global 10% mejor que el ejericio aleatorio."
   ]
  },
  {
   "attachments": {},
   "cell_type": "markdown",
   "metadata": {},
   "source": [
    "* **El mejor resultado se logra con el algoritmo de C utilizando el tokenizador completo, aun que sea levemente.**"
   ]
  },
  {
   "attachments": {},
   "cell_type": "markdown",
   "metadata": {},
   "source": [
    "##### 2.2.0.b - Modelo de prueba SVM (segun hipotesis) para seleccionar Vector objetivo."
   ]
  },
  {
   "cell_type": "code",
   "execution_count": 48,
   "metadata": {},
   "outputs": [],
   "source": [
    "X_train_neu, X_test_neu, y_train_neu, y_test_neu = train_test_split(X_redu_c,\n",
    "        df['emociones_neu'],test_size=.33,random_state=1991)"
   ]
  },
  {
   "cell_type": "code",
   "execution_count": 49,
   "metadata": {},
   "outputs": [
    {
     "name": "stdout",
     "output_type": "stream",
     "text": [
      "              precision    recall  f1-score   support\n",
      "\n",
      "    Negativa       0.46      0.80      0.59      8000\n",
      "    Positiva       0.58      0.47      0.52      7734\n",
      "     neutral       0.88      0.00      0.01      4366\n",
      "\n",
      "    accuracy                           0.50     20100\n",
      "   macro avg       0.64      0.42      0.37     20100\n",
      "weighted avg       0.60      0.50      0.43     20100\n",
      "\n",
      "              precision    recall  f1-score   support\n",
      "\n",
      "    Negativa       0.46      0.79      0.58      4022\n",
      "    Positiva       0.57      0.45      0.51      3793\n",
      "     neutral       0.00      0.00      0.00      2085\n",
      "\n",
      "    accuracy                           0.49      9900\n",
      "   macro avg       0.34      0.41      0.36      9900\n",
      "weighted avg       0.41      0.49      0.43      9900\n",
      "\n"
     ]
    }
   ],
   "source": [
    "svc =SVC()\n",
    "svc.fit(X_train_c, y_train_neu)\n",
    "yhat_train= svc.predict(X_train_neu)\n",
    "yhat_test= svc.predict(X_test_neu)\n",
    "#Indicadores con Train\n",
    "print(classification_report(y_train_neu, yhat_train))\n",
    "#Indicadores con Test\n",
    "print(classification_report(y_test_neu, yhat_test))"
   ]
  },
  {
   "attachments": {},
   "cell_type": "markdown",
   "metadata": {},
   "source": [
    "* Se logra capturar de mejor manera los valores negativos, a coste de gran perdida en los positivos.\n",
    "    - Evaluemos quitar los neutrales de la base de datos."
   ]
  },
  {
   "cell_type": "code",
   "execution_count": 50,
   "metadata": {},
   "outputs": [],
   "source": [
    "df_clear = df.loc[df['emociones_neu'] != 'neutral']"
   ]
  },
  {
   "cell_type": "code",
   "execution_count": 51,
   "metadata": {},
   "outputs": [],
   "source": [
    "# Matrix Parametros sin neutrales transformado con cv_c\n",
    "cvclear_fit = cv_c.transform(df_clear['content'])"
   ]
  },
  {
   "cell_type": "code",
   "execution_count": 52,
   "metadata": {},
   "outputs": [
    {
     "data": {
      "text/plain": [
       "(23549, 36185)"
      ]
     },
     "execution_count": 52,
     "metadata": {},
     "output_type": "execute_result"
    }
   ],
   "source": [
    "cvclear_fit.shape"
   ]
  },
  {
   "cell_type": "code",
   "execution_count": 53,
   "metadata": {},
   "outputs": [],
   "source": [
    "# Matrix Parametros c con matriz sin neutrales\n",
    "Xclear_C = cvclear_fit.toarray()\n",
    "dimred_clear = PCA(n_components = 10,  whiten=True)\n",
    "project_x = dimred_clear.fit_transform(Xclear_C)\n",
    "Xclear_redu = pd.DataFrame(project_x)"
   ]
  },
  {
   "cell_type": "code",
   "execution_count": 54,
   "metadata": {},
   "outputs": [
    {
     "data": {
      "image/png": "[encoded data removed]",
      "text/plain": [
       "<Figure size 1000x600 with 1 Axes>"
      ]
     },
     "metadata": {},
     "output_type": "display_data"
    }
   ],
   "source": [
    "yclear = df_clear['emociones']\n",
    "graficar_porcentajes_cat(yclear)"
   ]
  },
  {
   "cell_type": "code",
   "execution_count": 55,
   "metadata": {},
   "outputs": [
    {
     "data": {
      "text/plain": [
       "Positiva\n",
       "0           12022\n",
       "1           11527\n",
       "dtype: int64"
      ]
     },
     "execution_count": 55,
     "metadata": {},
     "output_type": "execute_result"
    }
   ],
   "source": [
    "yclear_bin = pd.get_dummies(yclear, drop_first=True)\n",
    "yclear_bin.value_counts()"
   ]
  },
  {
   "cell_type": "code",
   "execution_count": 56,
   "metadata": {},
   "outputs": [],
   "source": [
    "Xclear_train, Xclear_test, yclear_train, yclear_test = train_test_split(Xclear_redu,\n",
    "        yclear_bin,test_size=.33,random_state=1991)"
   ]
  },
  {
   "cell_type": "code",
   "execution_count": 57,
   "metadata": {},
   "outputs": [
    {
     "name": "stdout",
     "output_type": "stream",
     "text": [
      "              precision    recall  f1-score   support\n",
      "\n",
      "           0       0.62      0.80      0.70      8057\n",
      "           1       0.70      0.49      0.58      7720\n",
      "\n",
      "    accuracy                           0.65     15777\n",
      "   macro avg       0.66      0.64      0.64     15777\n",
      "weighted avg       0.66      0.65      0.64     15777\n",
      "\n",
      "              precision    recall  f1-score   support\n",
      "\n",
      "           0       0.61      0.78      0.68      3965\n",
      "           1       0.67      0.47      0.55      3807\n",
      "\n",
      "    accuracy                           0.63      7772\n",
      "   macro avg       0.64      0.63      0.62      7772\n",
      "weighted avg       0.64      0.63      0.62      7772\n",
      "\n"
     ]
    }
   ],
   "source": [
    "svm = SVC()\n",
    "svm.fit(Xclear_train, yclear_train)\n",
    "yhat_train= svm.predict(Xclear_train)\n",
    "yhat_test= svm.predict(Xclear_test)\n",
    "#Indicadores con Train\n",
    "print(classification_report(yclear_train, yhat_train))\n",
    "#Indicadores con Test\n",
    "print(classification_report(yclear_test, yhat_test))\n"
   ]
  },
  {
   "attachments": {},
   "cell_type": "markdown",
   "metadata": {},
   "source": [
    "* Al desechar las observaciones clasificadas aleatoriamente se logra capturar ambas clases sobre el 50% en el primer modelo estudiado.\n",
    "* Sin embargo, al quitarle dichas observaciones al modelo, se estan quitando registros que pueden aportar informacion.\n",
    "* Es por esto que dejaremos estas matrices guardadas para implementarlas en el modelo final, ya que sería interezante comprobar cual modelo se comportaría mejor frente a una tweets nuevos."
   ]
  },
  {
   "attachments": {},
   "cell_type": "markdown",
   "metadata": {},
   "source": [
    "#### 2.2.1 Modelacion"
   ]
  },
  {
   "attachments": {},
   "cell_type": "markdown",
   "metadata": {},
   "source": [
    "Dividir matrices"
   ]
  },
  {
   "cell_type": "code",
   "execution_count": 58,
   "metadata": {},
   "outputs": [],
   "source": [
    "X_train, X_test, y_train, y_test = train_test_split(X_redu_c,\n",
    "        y_bin,test_size=.33,random_state=1991)"
   ]
  },
  {
   "cell_type": "code",
   "execution_count": 59,
   "metadata": {},
   "outputs": [
    {
     "name": "stdout",
     "output_type": "stream",
     "text": [
      "(20100, 10)\n",
      "(9900, 10)\n",
      "(20100, 1)\n",
      "(9900, 1)\n",
      "\n"
     ]
    }
   ],
   "source": [
    "print(f'''{X_train.shape}\n",
    "{X_test.shape}\n",
    "{y_train.shape}\n",
    "{y_test.shape}\n",
    "''')"
   ]
  },
  {
   "attachments": {},
   "cell_type": "markdown",
   "metadata": {},
   "source": [
    "##### 2.2.1.1 - Modelo 1: LDA"
   ]
  },
  {
   "attachments": {},
   "cell_type": "markdown",
   "metadata": {},
   "source": [
    "* Valores en estudio por defecto:\n",
    "    - solver = 'svd'\n",
    "    - shrinkage = 'none'\n",
    "    - priors = valor se infiere desde la data\n",
    "    - n_components = none implica el minimo"
   ]
  },
  {
   "cell_type": "code",
   "execution_count": 60,
   "metadata": {},
   "outputs": [
    {
     "name": "stdout",
     "output_type": "stream",
     "text": [
      "Metricas en entrenamiento\n",
      "                  precision    recall  f1-score   support\n",
      "\n",
      "           0       0.54      0.14      0.23      8000\n",
      "           1       0.62      0.92      0.74     12100\n",
      "\n",
      "    accuracy                           0.61     20100\n",
      "   macro avg       0.58      0.53      0.48     20100\n",
      "weighted avg       0.59      0.61      0.53     20100\n",
      "\n",
      "Metricas en Testeo\n",
      "                  precision    recall  f1-score   support\n",
      "\n",
      "           0       0.55      0.15      0.23      4022\n",
      "           1       0.61      0.92      0.73      5878\n",
      "\n",
      "    accuracy                           0.60      9900\n",
      "   macro avg       0.58      0.53      0.48      9900\n",
      "weighted avg       0.58      0.60      0.53      9900\n",
      "\n",
      "    \n"
     ]
    }
   ],
   "source": [
    "lda1_tr, lda1_ts = modelacion_inicial(LinearDiscriminantAnalysis(), X_redu_c, y_bin, guardar=True)"
   ]
  },
  {
   "attachments": {},
   "cell_type": "markdown",
   "metadata": {},
   "source": [
    "* Deficiente para categorizar negativos.\n",
    "* Efectivo para categorizar positivos.\n",
    "* Rendimiento general moderado con 10% sobre el ejercicio aleatorio."
   ]
  },
  {
   "attachments": {},
   "cell_type": "markdown",
   "metadata": {},
   "source": [
    "#### 2.2.1.2 Modelo 2 SVC"
   ]
  },
  {
   "attachments": {},
   "cell_type": "markdown",
   "metadata": {},
   "source": [
    "* Parametros para la grilla\n",
    "    - C : [float] default=1.0 = parametro de regularizacion\n",
    "    - kernel: {‘linear’, ‘poly’, ‘rbf’, ‘sigmoid’, ‘precomputed’} or callable, default=’rbf’\n",
    "    - degree: int, default=3 : grado del polinomio del kernel \n",
    "    - gamma: {‘scale’, ‘auto’} or float, default=’scale’: Coeficiente del kernel\n",
    "    - random_state"
   ]
  },
  {
   "cell_type": "code",
   "execution_count": 61,
   "metadata": {},
   "outputs": [
    {
     "name": "stdout",
     "output_type": "stream",
     "text": [
      "Metricas en entrenamiento\n",
      "                  precision    recall  f1-score   support\n",
      "\n",
      "           0       0.67      0.20      0.30      8000\n",
      "           1       0.64      0.94      0.76     12100\n",
      "\n",
      "    accuracy                           0.64     20100\n",
      "   macro avg       0.65      0.57      0.53     20100\n",
      "weighted avg       0.65      0.64      0.58     20100\n",
      "\n",
      "Metricas en Testeo\n",
      "                  precision    recall  f1-score   support\n",
      "\n",
      "           0       0.60      0.18      0.27      4022\n",
      "           1       0.62      0.92      0.74      5878\n",
      "\n",
      "    accuracy                           0.62      9900\n",
      "   macro avg       0.61      0.55      0.51      9900\n",
      "weighted avg       0.61      0.62      0.55      9900\n",
      "\n",
      "    \n"
     ]
    }
   ],
   "source": [
    "svc1_tr, svc1_ts = modelacion_inicial(SVC(), X_redu_c, y_bin, guardar=True)"
   ]
  },
  {
   "attachments": {},
   "cell_type": "markdown",
   "metadata": {},
   "source": [
    "* Deficiente para categorizar negativos.\n",
    "* Efectivo para categorizar positivos.\n",
    "* Rendimiento general moderado con 12% sobre el ejercicio aleatorio 50-50."
   ]
  },
  {
   "attachments": {},
   "cell_type": "markdown",
   "metadata": {},
   "source": [
    "#### 2.2.1.3 Modelo 3 Random tree y Random Forest"
   ]
  },
  {
   "attachments": {},
   "cell_type": "markdown",
   "metadata": {},
   "source": [
    "* Parametros:\n",
    "    - n_estimators: default=100\n",
    "    - criterion: “gini”, “entropy”, “log_loss”, default=”gini”\n",
    "    - max_depth: profundidad default: none = nodos expandidos hasta que las hojas contengan min_samples_split samples o puras\n",
    "    - min_samples_split: default=2 : minimo numero de samples para separar un nodo, un valor mayor puede reducir el riesgo de sobreajuste\n",
    "    - min_samples_leaf: default=1 : este parámetro controla el número mínimo de muestras que se requieren en cada hoja del árbol. Un valor mayor puede hacer que el modelo sea más generalizado\n",
    "    - max_features{“sqrt”, “log2”, None}, int or float, default=”sqrt”\n",
    "    - warm_start: default=False: True = Reutiliza la solucion previa para entrenar y agregar mas estimadores.\n",
    "    - random_state"
   ]
  },
  {
   "cell_type": "code",
   "execution_count": 62,
   "metadata": {},
   "outputs": [
    {
     "name": "stdout",
     "output_type": "stream",
     "text": [
      "Metricas en entrenamiento\n",
      "                  precision    recall  f1-score   support\n",
      "\n",
      "           0       0.99      0.99      0.99      8000\n",
      "           1       0.99      0.99      0.99     12100\n",
      "\n",
      "    accuracy                           0.99     20100\n",
      "   macro avg       0.99      0.99      0.99     20100\n",
      "weighted avg       0.99      0.99      0.99     20100\n",
      "\n",
      "Metricas en Testeo\n",
      "                  precision    recall  f1-score   support\n",
      "\n",
      "           0       0.48      0.47      0.47      4022\n",
      "           1       0.64      0.65      0.65      5878\n",
      "\n",
      "    accuracy                           0.58      9900\n",
      "   macro avg       0.56      0.56      0.56      9900\n",
      "weighted avg       0.58      0.58      0.58      9900\n",
      "\n",
      "    \n"
     ]
    }
   ],
   "source": [
    "dtc1_tr, dtc1_ts = modelacion_inicial(DecisionTreeClassifier(), X_redu_c, y_bin, guardar=True)"
   ]
  },
  {
   "attachments": {},
   "cell_type": "markdown",
   "metadata": {},
   "source": [
    "* Deficiente para categorizar negativos.\n",
    "* moderado para categorizar positivos.\n",
    "* Rendimiento general moderado con 8% sobre el ejercicio aleatorio 50-50.\n",
    "* En relacion al train, notar el alto sobre ajuste en la muestra en la cual se entreno.\n",
    "* Malo en generalizar información\n"
   ]
  },
  {
   "cell_type": "code",
   "execution_count": 63,
   "metadata": {},
   "outputs": [
    {
     "name": "stdout",
     "output_type": "stream",
     "text": [
      "Metricas en entrenamiento\n",
      "                  precision    recall  f1-score   support\n",
      "\n",
      "           0       0.99      0.98      0.99      8000\n",
      "           1       0.99      1.00      0.99     12100\n",
      "\n",
      "    accuracy                           0.99     20100\n",
      "   macro avg       0.99      0.99      0.99     20100\n",
      "weighted avg       0.99      0.99      0.99     20100\n",
      "\n",
      "Metricas en Testeo\n",
      "                  precision    recall  f1-score   support\n",
      "\n",
      "           0       0.58      0.44      0.50      4022\n",
      "           1       0.67      0.78      0.72      5878\n",
      "\n",
      "    accuracy                           0.64      9900\n",
      "   macro avg       0.62      0.61      0.61      9900\n",
      "weighted avg       0.63      0.64      0.63      9900\n",
      "\n",
      "    \n"
     ]
    }
   ],
   "source": [
    "rndf1_tr, rndf1_ts = modelacion_inicial(RandomForestClassifier(), X_redu_c, y_bin, guardar=True)"
   ]
  },
  {
   "attachments": {},
   "cell_type": "markdown",
   "metadata": {},
   "source": [
    "* Moderado para categorizar negativos.\n",
    "* Efectivo para categorizar positivos.\n",
    "* Rendimiento general moderado con 14% sobre el ejercicio aleatorio.\n",
    "* Al igual que el arbol de decision en su muestra de entrenamiento muestra un alto sobre ajuste.\n",
    "* Malo en generalizar información"
   ]
  },
  {
   "attachments": {},
   "cell_type": "markdown",
   "metadata": {},
   "source": [
    "Random forest es superior al decision tree"
   ]
  },
  {
   "attachments": {},
   "cell_type": "markdown",
   "metadata": {},
   "source": [
    "Observemos el comportamiento en la matriz 'clear' sin la clase neutral."
   ]
  },
  {
   "cell_type": "code",
   "execution_count": 64,
   "metadata": {},
   "outputs": [
    {
     "name": "stdout",
     "output_type": "stream",
     "text": [
      "Metricas en entrenamiento\n",
      "                  precision    recall  f1-score   support\n",
      "\n",
      "           0       0.99      0.99      0.99      8057\n",
      "           1       0.99      0.99      0.99      7720\n",
      "\n",
      "    accuracy                           0.99     15777\n",
      "   macro avg       0.99      0.99      0.99     15777\n",
      "weighted avg       0.99      0.99      0.99     15777\n",
      "\n",
      "Metricas en Testeo\n",
      "                  precision    recall  f1-score   support\n",
      "\n",
      "           0       0.65      0.71      0.68      3965\n",
      "           1       0.67      0.61      0.64      3807\n",
      "\n",
      "    accuracy                           0.66      7772\n",
      "   macro avg       0.66      0.66      0.66      7772\n",
      "weighted avg       0.66      0.66      0.66      7772\n",
      "\n",
      "    \n"
     ]
    }
   ],
   "source": [
    "rndfclear_tr, rndfclear_ts = modelacion_inicial(RandomForestClassifier(), Xclear_redu, yclear_bin, guardar=True)"
   ]
  },
  {
   "attachments": {},
   "cell_type": "markdown",
   "metadata": {},
   "source": [
    "* Efectivo para categorizar negativos.\n",
    "* Moderado a efectivo para categorizar positivos.\n",
    "* Rendimiento general moderado con 17% sobre el ejercicio aleatorio.\n",
    "* Malo en generalizar información"
   ]
  },
  {
   "attachments": {},
   "cell_type": "markdown",
   "metadata": {},
   "source": [
    "* Considerar ingrasar penalizaciones al modelo con random forest para mejorar su resultado"
   ]
  },
  {
   "attachments": {},
   "cell_type": "markdown",
   "metadata": {},
   "source": [
    "#### 2.2.1.4 Modelo 4 AdaboostClassifier y GradientBoost"
   ]
  },
  {
   "attachments": {},
   "cell_type": "markdown",
   "metadata": {},
   "source": [
    "* Parametros\n",
    "    - Estimator: default: DecisionTreeClassifier\n",
    "    - n_estimators: default: 50 = Numero de clasificadors debiles utilizados en el modelo, a medida que aumenta el modelo se vuelve mas preciso, pero tambien aumenta el tiempo de entrenamiento.\n",
    "    - Learning rate: default:1.0 = controla la contribución de cada estimador en el conjunto final. Un learning rate alto significa que se da más importancia a la contribución de cada estimador individual, lo que puede llevar a un sobreajuste. Un learning rate bajo significa que cada estimador individual contribuye poco al modelo final, lo que puede llevar a un bajo rendimiento.\n",
    "    - randomstate"
   ]
  },
  {
   "cell_type": "code",
   "execution_count": 65,
   "metadata": {},
   "outputs": [
    {
     "name": "stdout",
     "output_type": "stream",
     "text": [
      "Metricas en entrenamiento\n",
      "                  precision    recall  f1-score   support\n",
      "\n",
      "           0       0.60      0.32      0.42      8000\n",
      "           1       0.66      0.86      0.74     12100\n",
      "\n",
      "    accuracy                           0.64     20100\n",
      "   macro avg       0.63      0.59      0.58     20100\n",
      "weighted avg       0.63      0.64      0.61     20100\n",
      "\n",
      "Metricas en Testeo\n",
      "                  precision    recall  f1-score   support\n",
      "\n",
      "           0       0.59      0.32      0.41      4022\n",
      "           1       0.64      0.85      0.73      5878\n",
      "\n",
      "    accuracy                           0.63      9900\n",
      "   macro avg       0.62      0.58      0.57      9900\n",
      "weighted avg       0.62      0.63      0.60      9900\n",
      "\n",
      "    \n"
     ]
    }
   ],
   "source": [
    "adda_tr, adda_ts = modelacion_inicial(AdaBoostClassifier(), X_redu_c, y_bin, guardar=True)"
   ]
  },
  {
   "attachments": {},
   "cell_type": "markdown",
   "metadata": {},
   "source": [
    "* Deficiente para categorizar negativos.\n",
    "* Efectivo para categorizar positivos.\n",
    "* Rendimiento general moderado con 13% sobre el ejercicio aleatorio."
   ]
  },
  {
   "attachments": {},
   "cell_type": "markdown",
   "metadata": {},
   "source": [
    "* Parametros:\n",
    "    - loss: ‘log_loss’, ‘deviance’, ‘exponential’, default=’log_loss’= Funcion de perdida a ser optimizada en exponencial  gradient boost toma el algoritmo de adaboost\n",
    "    - n_estimator: default 100 = un numero alto siele resultar en una mejor performance.\n",
    "    - subsample: default=1 = fraccion de muestras para ser entrenadas como base del aprendizaje. seleccionar un valor menor a 1 implica reduccion de la varianza debe estar entre 0 y 1\n",
    "    - min_samples_split: default 2 = min de muestras requeridas para dividir un nodo. Un valor más alto evita divisiones que conducen a regiones con pocas muestras, lo que puede reducir el sobreajuste, pero también puede hacer que el modelo pierda información importante.\n",
    "    - min_samples_leaf: default 1 = min de muestras requeridas para estar en un nodo de hoja.\n",
    "    - max_depthi: int - None, default:3 =  La profundidad máxima de cada árbol. Un valor más alto permite que el modelo capture relaciones más complejas, pero también aumenta la posibilidad de sobreajuste.\n",
    "    - max_features{‘auto’, ‘sqrt’, ‘log2’}, int or float, default=None\n",
    "    - warm_star: tbool, default: False = Guarda el resultado anterior en la memoria para iterar.\n",
    "    - randomstate"
   ]
  },
  {
   "cell_type": "code",
   "execution_count": 66,
   "metadata": {},
   "outputs": [
    {
     "name": "stdout",
     "output_type": "stream",
     "text": [
      "Metricas en entrenamiento\n",
      "                  precision    recall  f1-score   support\n",
      "\n",
      "           0       0.68      0.33      0.45      8000\n",
      "           1       0.67      0.89      0.77     12100\n",
      "\n",
      "    accuracy                           0.67     20100\n",
      "   macro avg       0.67      0.61      0.61     20100\n",
      "weighted avg       0.67      0.67      0.64     20100\n",
      "\n",
      "Metricas en Testeo\n",
      "                  precision    recall  f1-score   support\n",
      "\n",
      "           0       0.60      0.30      0.40      4022\n",
      "           1       0.64      0.86      0.74      5878\n",
      "\n",
      "    accuracy                           0.64      9900\n",
      "   macro avg       0.62      0.58      0.57      9900\n",
      "weighted avg       0.63      0.64      0.60      9900\n",
      "\n",
      "    \n"
     ]
    }
   ],
   "source": [
    "gboost_tr, gboost_ts = modelacion_inicial(GradientBoostingClassifier(), X_redu_c, y_bin, guardar=True)"
   ]
  },
  {
   "attachments": {},
   "cell_type": "markdown",
   "metadata": {},
   "source": [
    "* Deficiente para categorizar negativos.\n",
    "* Efectivo para categorizar positivos.\n",
    "* Rendimiento general moderado con 14% sobre el ejercicio aleatorio."
   ]
  },
  {
   "attachments": {},
   "cell_type": "markdown",
   "metadata": {},
   "source": [
    "Adaboost muestra un desempeño similar a gradient boost, ada presenta mayor capacidad predictiva en la categoria de los negativos '0', sin embargo se intentara penalizar el gradient boost en busca de mejores resultados."
   ]
  },
  {
   "attachments": {},
   "cell_type": "markdown",
   "metadata": {},
   "source": [
    "#### 2.2.1.6 Modelo 6 Multinomial, Gaussian - Naive Bayes."
   ]
  },
  {
   "cell_type": "code",
   "execution_count": 67,
   "metadata": {},
   "outputs": [
    {
     "name": "stdout",
     "output_type": "stream",
     "text": [
      "Metricas en entrenamiento\n",
      "                  precision    recall  f1-score   support\n",
      "\n",
      "           0       0.48      0.38      0.42      8000\n",
      "           1       0.64      0.72      0.68     12100\n",
      "\n",
      "    accuracy                           0.59     20100\n",
      "   macro avg       0.56      0.55      0.55     20100\n",
      "weighted avg       0.57      0.59      0.58     20100\n",
      "\n",
      "Metricas en Testeo\n",
      "                  precision    recall  f1-score   support\n",
      "\n",
      "           0       0.47      0.38      0.42      4022\n",
      "           1       0.63      0.71      0.67      5878\n",
      "\n",
      "    accuracy                           0.58      9900\n",
      "   macro avg       0.55      0.54      0.54      9900\n",
      "weighted avg       0.56      0.58      0.57      9900\n",
      "\n",
      "    \n"
     ]
    }
   ],
   "source": [
    "gnb_tr,gnb_ts = modelacion_inicial(GaussianNB(), X_redu_c, y_bin, guardar=True)"
   ]
  },
  {
   "attachments": {},
   "cell_type": "markdown",
   "metadata": {},
   "source": [
    "* Deficiente para categorizar negativos.\n",
    "* Efectivo para categorizar positivos.\n",
    "* Rendimiento general moderado con 8% sobre el ejercicio aleatorio."
   ]
  },
  {
   "attachments": {},
   "cell_type": "markdown",
   "metadata": {},
   "source": [
    "**Importante**: Muiltinomial solo acepta valores 0 o 1, por lo que no se puede trabajar con la matriz a la cual se le redujo la dimensionalidad."
   ]
  },
  {
   "cell_type": "code",
   "execution_count": 68,
   "metadata": {},
   "outputs": [
    {
     "name": "stdout",
     "output_type": "stream",
     "text": [
      "Metricas en entrenamiento\n",
      "                  precision    recall  f1-score   support\n",
      "\n",
      "           0       0.88      0.79      0.83      8000\n",
      "           1       0.87      0.93      0.90     12100\n",
      "\n",
      "    accuracy                           0.87     20100\n",
      "   macro avg       0.88      0.86      0.87     20100\n",
      "weighted avg       0.88      0.87      0.87     20100\n",
      "\n",
      "Metricas en Testeo\n",
      "                  precision    recall  f1-score   support\n",
      "\n",
      "           0       0.64      0.57      0.60      4022\n",
      "           1       0.72      0.78      0.75      5878\n",
      "\n",
      "    accuracy                           0.69      9900\n",
      "   macro avg       0.68      0.67      0.68      9900\n",
      "weighted avg       0.69      0.69      0.69      9900\n",
      "\n",
      "    \n"
     ]
    }
   ],
   "source": [
    "nb_tr,nb_ts = modelacion_inicial(MultinomialNB(),x_c, y_bin, guardar=True)"
   ]
  },
  {
   "attachments": {},
   "cell_type": "markdown",
   "metadata": {},
   "source": [
    "* Efectivo para categorizar negativos.\n",
    "* Efectivo para categorizar positivos.\n",
    "* Rendimiento general bueno con 19% sobre el ejercicio aleatorio 50-50.\n",
    "* Se debe evaluar la penalización en busca de mejores metricas entre train y test"
   ]
  },
  {
   "attachments": {},
   "cell_type": "markdown",
   "metadata": {},
   "source": [
    "#### 2.2.1.5 Modelo 5 Voting"
   ]
  },
  {
   "attachments": {},
   "cell_type": "markdown",
   "metadata": {},
   "source": [
    "Se evalúan dos modelos de votacion, con PCA y sin PCA"
   ]
  },
  {
   "attachments": {},
   "cell_type": "markdown",
   "metadata": {},
   "source": [
    "* parametros:\n",
    "    - Estimators: una lista de estimadores a utilizar. Cada estimador debe ser un objeto de clasificación o regresión que tenga los métodos fit y predict.\n",
    "    - Voting: default: hard = Tipo de votación a utilizar. Puede ser 'hard' (predicciones discretas) o 'soft' (predicciones de probabilidad).\n",
    "    - weights: una lista de pesos que se aplican a cada estimador. Los pesos pueden utilizarse para ajustar la importancia de cada estimador en la votación final.\n",
    "    - flatten_transform: un parámetro booleano que indica si se deben aplanar los resultados de la transformación predictiva. Si se establece en True, los resultados se aplanan en una matriz unidimensional."
   ]
  },
  {
   "cell_type": "code",
   "execution_count": 69,
   "metadata": {},
   "outputs": [],
   "source": [
    "estimators = [\n",
    "    ('svc', SVC()),\n",
    "    ('Gradient Boost',GradientBoostingClassifier()),\n",
    "    ('Random forest', RandomForestClassifier()),\n",
    "]"
   ]
  },
  {
   "cell_type": "code",
   "execution_count": 70,
   "metadata": {},
   "outputs": [
    {
     "name": "stdout",
     "output_type": "stream",
     "text": [
      "Metricas en entrenamiento\n",
      "                  precision    recall  f1-score   support\n",
      "\n",
      "           0       0.85      0.37      0.52      8000\n",
      "           1       0.70      0.96      0.81     12100\n",
      "\n",
      "    accuracy                           0.72     20100\n",
      "   macro avg       0.78      0.67      0.66     20100\n",
      "weighted avg       0.76      0.72      0.69     20100\n",
      "\n",
      "Metricas en Testeo\n",
      "                  precision    recall  f1-score   support\n",
      "\n",
      "           0       0.62      0.28      0.39      4022\n",
      "           1       0.64      0.88      0.74      5878\n",
      "\n",
      "    accuracy                           0.64      9900\n",
      "   macro avg       0.63      0.58      0.57      9900\n",
      "weighted avg       0.63      0.64      0.60      9900\n",
      "\n",
      "    \n"
     ]
    }
   ],
   "source": [
    "vote1pca_tr, vote1pca_ts = modelacion_inicial(VotingClassifier(estimators), X_redu_c, y_bin, guardar=True)"
   ]
  },
  {
   "attachments": {},
   "cell_type": "markdown",
   "metadata": {},
   "source": [
    "* Deficiente para categorizar negativos.\n",
    "* Efectivo para categorizar positivos.\n",
    "* Rendimiento general moderado con 14% sobre el ejercicio aleatorio."
   ]
  },
  {
   "attachments": {},
   "cell_type": "markdown",
   "metadata": {},
   "source": [
    "#### 2.2.2 Evaluación del modelamiento\n"
   ]
  },
  {
   "attachments": {},
   "cell_type": "markdown",
   "metadata": {},
   "source": [
    "* Los mejores resultados se obtienen con Voting, Random Forest y Gradient Boost.\n",
    "* Se mejoraran los parametros de todos los 5 modelos principales, para seleccionar los mejores modelos."
   ]
  },
  {
   "attachments": {},
   "cell_type": "markdown",
   "metadata": {},
   "source": [
    "## Hito 3"
   ]
  },
  {
   "attachments": {},
   "cell_type": "markdown",
   "metadata": {},
   "source": [
    "### 3.1 Modelacion (Segunda y tercera iteracion)"
   ]
  },
  {
   "attachments": {},
   "cell_type": "markdown",
   "metadata": {},
   "source": [
    "#### 3.1.1 Modelación segunda y tercera iteración"
   ]
  },
  {
   "cell_type": "markdown",
   "metadata": {},
   "source": [
    "##### 2.2.1.1 Modelo 1 LDA"
   ]
  },
  {
   "attachments": {},
   "cell_type": "markdown",
   "metadata": {},
   "source": [
    "Buscar la mejor ponderacion mediante priors y el mejor algoritmo de optimizacion solver'."
   ]
  },
  {
   "attachments": {},
   "cell_type": "markdown",
   "metadata": {},
   "source": [
    "* Valores en estudio de grilla:\n",
    "    - solver = ['svd', 'lsqr', 'eigen'] : tipo de modelo\n",
    "    - priors = [.35,.65],[.4,.6],[.45,.55],[.55,.45],[.6,.4],[.65,.35]: probabilidades propuestas\n",
    "* Parametro fijo n_components = 2 para que el modelo LDA reduzca las dimensiones a 2 positivas y negativas."
   ]
  },
  {
   "cell_type": "code",
   "execution_count": 71,
   "metadata": {},
   "outputs": [],
   "source": [
    "param_lda = {\n",
    "    'solver': ['svd', 'lsqr', 'eigen'],\n",
    "    'priors': [[.35,.65],[.4,.6],[.45,.55],[.55,.45],[.6,.4],[.65,.35]]\n",
    "}"
   ]
  },
  {
   "cell_type": "code",
   "execution_count": 72,
   "metadata": {},
   "outputs": [
    {
     "name": "stdout",
     "output_type": "stream",
     "text": [
      "Fitting 5 folds for each of 18 candidates, totalling 90 fits\n"
     ]
    },
    {
     "data": {
      "text/html": [
       "<style>#sk-container-id-2 {color: black;background-color: white;}#sk-container-id-2 pre{padding: 0;}#sk-container-id-2 div.sk-toggleable {background-color: white;}#sk-container-id-2 label.sk-toggleable__label {cursor: pointer;display: block;width: 100%;margin-bottom: 0;padding: 0.3em;box-sizing: border-box;text-align: center;}#sk-container-id-2 label.sk-toggleable__label-arrow:before {content: \"▸\";float: left;margin-right: 0.25em;color: #696969;}#sk-container-id-2 label.sk-toggleable__label-arrow:hover:before {color: black;}#sk-container-id-2 div.sk-estimator:hover label.sk-toggleable__label-arrow:before {color: black;}#sk-container-id-2 div.sk-toggleable__content {max-height: 0;max-width: 0;overflow: hidden;text-align: left;background-color: #f0f8ff;}#sk-container-id-2 div.sk-toggleable__content pre {margin: 0.2em;color: black;border-radius: 0.25em;background-color: #f0f8ff;}#sk-container-id-2 input.sk-toggleable__control:checked~div.sk-toggleable__content {max-height: 200px;max-width: 100%;overflow: auto;}#sk-container-id-2 input.sk-toggleable__control:checked~label.sk-toggleable__label-arrow:before {content: \"▾\";}#sk-container-id-2 div.sk-estimator input.sk-toggleable__control:checked~label.sk-toggleable__label {background-color: #d4ebff;}#sk-container-id-2 div.sk-label input.sk-toggleable__control:checked~label.sk-toggleable__label {background-color: #d4ebff;}#sk-container-id-2 input.sk-hidden--visually {border: 0;clip: rect(1px 1px 1px 1px);clip: rect(1px, 1px, 1px, 1px);height: 1px;margin: -1px;overflow: hidden;padding: 0;position: absolute;width: 1px;}#sk-container-id-2 div.sk-estimator {font-family: monospace;background-color: #f0f8ff;border: 1px dotted black;border-radius: 0.25em;box-sizing: border-box;margin-bottom: 0.5em;}#sk-container-id-2 div.sk-estimator:hover {background-color: #d4ebff;}#sk-container-id-2 div.sk-parallel-item::after {content: \"\";width: 100%;border-bottom: 1px solid gray;flex-grow: 1;}#sk-container-id-2 div.sk-label:hover label.sk-toggleable__label {background-color: #d4ebff;}#sk-container-id-2 div.sk-serial::before {content: \"\";position: absolute;border-left: 1px solid gray;box-sizing: border-box;top: 0;bottom: 0;left: 50%;z-index: 0;}#sk-container-id-2 div.sk-serial {display: flex;flex-direction: column;align-items: center;background-color: white;padding-right: 0.2em;padding-left: 0.2em;position: relative;}#sk-container-id-2 div.sk-item {position: relative;z-index: 1;}#sk-container-id-2 div.sk-parallel {display: flex;align-items: stretch;justify-content: center;background-color: white;position: relative;}#sk-container-id-2 div.sk-item::before, #sk-container-id-2 div.sk-parallel-item::before {content: \"\";position: absolute;border-left: 1px solid gray;box-sizing: border-box;top: 0;bottom: 0;left: 50%;z-index: -1;}#sk-container-id-2 div.sk-parallel-item {display: flex;flex-direction: column;z-index: 1;position: relative;background-color: white;}#sk-container-id-2 div.sk-parallel-item:first-child::after {align-self: flex-end;width: 50%;}#sk-container-id-2 div.sk-parallel-item:last-child::after {align-self: flex-start;width: 50%;}#sk-container-id-2 div.sk-parallel-item:only-child::after {width: 0;}#sk-container-id-2 div.sk-dashed-wrapped {border: 1px dashed gray;margin: 0 0.4em 0.5em 0.4em;box-sizing: border-box;padding-bottom: 0.4em;background-color: white;}#sk-container-id-2 div.sk-label label {font-family: monospace;font-weight: bold;display: inline-block;line-height: 1.2em;}#sk-container-id-2 div.sk-label-container {text-align: center;}#sk-container-id-2 div.sk-container {/* jupyter's `normalize.less` sets `[hidden] { display: none; }` but bootstrap.min.css set `[hidden] { display: none !important; }` so we also need the `!important` here to be able to override the default hidden behavior on the sphinx rendered scikit-learn.org. See: https://github.com/scikit-learn/scikit-learn/issues/21755 */display: inline-block !important;position: relative;}#sk-container-id-2 div.sk-text-repr-fallback {display: none;}</style><div id=\"sk-container-id-2\" class=\"sk-top-container\"><div class=\"sk-text-repr-fallback\"><pre>GridSearchCV(cv=5, estimator=LinearDiscriminantAnalysis(n_components=1),\n",
       "             n_jobs=-1,\n",
       "             param_grid={&#x27;priors&#x27;: [[0.35, 0.65], [0.4, 0.6], [0.45, 0.55],\n",
       "                                    [0.55, 0.45], [0.6, 0.4], [0.65, 0.35]],\n",
       "                         &#x27;solver&#x27;: [&#x27;svd&#x27;, &#x27;lsqr&#x27;, &#x27;eigen&#x27;]},\n",
       "             verbose=5)</pre><b>In a Jupyter environment, please rerun this cell to show the HTML representation or trust the notebook. <br />On GitHub, the HTML representation is unable to render, please try loading this page with nbviewer.org.</b></div><div class=\"sk-container\" hidden><div class=\"sk-item sk-dashed-wrapped\"><div class=\"sk-label-container\"><div class=\"sk-label sk-toggleable\"><input class=\"sk-toggleable__control sk-hidden--visually\" id=\"sk-estimator-id-2\" type=\"checkbox\" ><label for=\"sk-estimator-id-2\" class=\"sk-toggleable__label sk-toggleable__label-arrow\">GridSearchCV</label><div class=\"sk-toggleable__content\"><pre>GridSearchCV(cv=5, estimator=LinearDiscriminantAnalysis(n_components=1),\n",
       "             n_jobs=-1,\n",
       "             param_grid={&#x27;priors&#x27;: [[0.35, 0.65], [0.4, 0.6], [0.45, 0.55],\n",
       "                                    [0.55, 0.45], [0.6, 0.4], [0.65, 0.35]],\n",
       "                         &#x27;solver&#x27;: [&#x27;svd&#x27;, &#x27;lsqr&#x27;, &#x27;eigen&#x27;]},\n",
       "             verbose=5)</pre></div></div></div><div class=\"sk-parallel\"><div class=\"sk-parallel-item\"><div class=\"sk-item\"><div class=\"sk-label-container\"><div class=\"sk-label sk-toggleable\"><input class=\"sk-toggleable__control sk-hidden--visually\" id=\"sk-estimator-id-3\" type=\"checkbox\" ><label for=\"sk-estimator-id-3\" class=\"sk-toggleable__label sk-toggleable__label-arrow\">estimator: LinearDiscriminantAnalysis</label><div class=\"sk-toggleable__content\"><pre>LinearDiscriminantAnalysis(n_components=1)</pre></div></div></div><div class=\"sk-serial\"><div class=\"sk-item\"><div class=\"sk-estimator sk-toggleable\"><input class=\"sk-toggleable__control sk-hidden--visually\" id=\"sk-estimator-id-4\" type=\"checkbox\" ><label for=\"sk-estimator-id-4\" class=\"sk-toggleable__label sk-toggleable__label-arrow\">LinearDiscriminantAnalysis</label><div class=\"sk-toggleable__content\"><pre>LinearDiscriminantAnalysis(n_components=1)</pre></div></div></div></div></div></div></div></div></div></div>"
      ],
      "text/plain": [
       "GridSearchCV(cv=5, estimator=LinearDiscriminantAnalysis(n_components=1),\n",
       "             n_jobs=-1,\n",
       "             param_grid={'priors': [[0.35, 0.65], [0.4, 0.6], [0.45, 0.55],\n",
       "                                    [0.55, 0.45], [0.6, 0.4], [0.65, 0.35]],\n",
       "                         'solver': ['svd', 'lsqr', 'eigen']},\n",
       "             verbose=5)"
      ]
     },
     "execution_count": 72,
     "metadata": {},
     "output_type": "execute_result"
    }
   ],
   "source": [
    "model_lda = GridSearchCV(LinearDiscriminantAnalysis(n_components=1),\n",
    "                        param_lda,\n",
    "                        cv=5,\n",
    "                        n_jobs=-1,\n",
    "                        verbose=5,\n",
    "                        )\n",
    "model_lda.fit(X_train, y_train)"
   ]
  },
  {
   "cell_type": "code",
   "execution_count": 73,
   "metadata": {},
   "outputs": [
    {
     "name": "stdout",
     "output_type": "stream",
     "text": [
      "{'priors': [0.35, 0.65], 'solver': 'svd'}\n"
     ]
    }
   ],
   "source": [
    "print(model_lda.best_params_)\n",
    "yhat_lda_tr = model_lda.best_estimator_.predict(X_train)\n",
    "yhat_lda_ts = model_lda.best_estimator_.predict(X_test)\n",
    "lda2_tr = classification_report(y_train, yhat_lda_tr)\n",
    "lda2_ts = classification_report(y_test, yhat_lda_ts)\n"
   ]
  },
  {
   "cell_type": "code",
   "execution_count": 74,
   "metadata": {},
   "outputs": [
    {
     "name": "stdout",
     "output_type": "stream",
     "text": [
      "              precision    recall  f1-score   support\n",
      "\n",
      "           0       0.58      0.07      0.13      8000\n",
      "           1       0.61      0.97      0.75     12100\n",
      "\n",
      "    accuracy                           0.61     20100\n",
      "   macro avg       0.60      0.52      0.44     20100\n",
      "weighted avg       0.60      0.61      0.50     20100\n",
      "\n",
      "              precision    recall  f1-score   support\n",
      "\n",
      "           0       0.58      0.07      0.13      4022\n",
      "           1       0.60      0.96      0.74      5878\n",
      "\n",
      "    accuracy                           0.60      9900\n",
      "   macro avg       0.59      0.52      0.44      9900\n",
      "weighted avg       0.59      0.60      0.49      9900\n",
      "\n"
     ]
    }
   ],
   "source": [
    "print(lda2_tr)\n",
    "print(lda2_ts)"
   ]
  },
  {
   "attachments": {},
   "cell_type": "markdown",
   "metadata": {},
   "source": [
    "No se observa mejora en modelo. Se descarta."
   ]
  },
  {
   "cell_type": "markdown",
   "metadata": {},
   "source": [
    "#### 2.2.1.2 Modelo 2 SVC"
   ]
  },
  {
   "attachments": {},
   "cell_type": "markdown",
   "metadata": {},
   "source": [
    "Se iteran sus principales parametros 'C' y 'Gamma', dado el cosumo de recursos se acota la grilla en el minimo, sin embargo se realizaron varias iteraciones a modo de prueba para intentar encontrar la mejor grilla."
   ]
  },
  {
   "cell_type": "code",
   "execution_count": 75,
   "metadata": {},
   "outputs": [
    {
     "name": "stdout",
     "output_type": "stream",
     "text": [
      "Fitting 3 folds for each of 4 candidates, totalling 12 fits\n"
     ]
    },
    {
     "data": {
      "text/html": [
       "<style>#sk-container-id-3 {color: black;background-color: white;}#sk-container-id-3 pre{padding: 0;}#sk-container-id-3 div.sk-toggleable {background-color: white;}#sk-container-id-3 label.sk-toggleable__label {cursor: pointer;display: block;width: 100%;margin-bottom: 0;padding: 0.3em;box-sizing: border-box;text-align: center;}#sk-container-id-3 label.sk-toggleable__label-arrow:before {content: \"▸\";float: left;margin-right: 0.25em;color: #696969;}#sk-container-id-3 label.sk-toggleable__label-arrow:hover:before {color: black;}#sk-container-id-3 div.sk-estimator:hover label.sk-toggleable__label-arrow:before {color: black;}#sk-container-id-3 div.sk-toggleable__content {max-height: 0;max-width: 0;overflow: hidden;text-align: left;background-color: #f0f8ff;}#sk-container-id-3 div.sk-toggleable__content pre {margin: 0.2em;color: black;border-radius: 0.25em;background-color: #f0f8ff;}#sk-container-id-3 input.sk-toggleable__control:checked~div.sk-toggleable__content {max-height: 200px;max-width: 100%;overflow: auto;}#sk-container-id-3 input.sk-toggleable__control:checked~label.sk-toggleable__label-arrow:before {content: \"▾\";}#sk-container-id-3 div.sk-estimator input.sk-toggleable__control:checked~label.sk-toggleable__label {background-color: #d4ebff;}#sk-container-id-3 div.sk-label input.sk-toggleable__control:checked~label.sk-toggleable__label {background-color: #d4ebff;}#sk-container-id-3 input.sk-hidden--visually {border: 0;clip: rect(1px 1px 1px 1px);clip: rect(1px, 1px, 1px, 1px);height: 1px;margin: -1px;overflow: hidden;padding: 0;position: absolute;width: 1px;}#sk-container-id-3 div.sk-estimator {font-family: monospace;background-color: #f0f8ff;border: 1px dotted black;border-radius: 0.25em;box-sizing: border-box;margin-bottom: 0.5em;}#sk-container-id-3 div.sk-estimator:hover {background-color: #d4ebff;}#sk-container-id-3 div.sk-parallel-item::after {content: \"\";width: 100%;border-bottom: 1px solid gray;flex-grow: 1;}#sk-container-id-3 div.sk-label:hover label.sk-toggleable__label {background-color: #d4ebff;}#sk-container-id-3 div.sk-serial::before {content: \"\";position: absolute;border-left: 1px solid gray;box-sizing: border-box;top: 0;bottom: 0;left: 50%;z-index: 0;}#sk-container-id-3 div.sk-serial {display: flex;flex-direction: column;align-items: center;background-color: white;padding-right: 0.2em;padding-left: 0.2em;position: relative;}#sk-container-id-3 div.sk-item {position: relative;z-index: 1;}#sk-container-id-3 div.sk-parallel {display: flex;align-items: stretch;justify-content: center;background-color: white;position: relative;}#sk-container-id-3 div.sk-item::before, #sk-container-id-3 div.sk-parallel-item::before {content: \"\";position: absolute;border-left: 1px solid gray;box-sizing: border-box;top: 0;bottom: 0;left: 50%;z-index: -1;}#sk-container-id-3 div.sk-parallel-item {display: flex;flex-direction: column;z-index: 1;position: relative;background-color: white;}#sk-container-id-3 div.sk-parallel-item:first-child::after {align-self: flex-end;width: 50%;}#sk-container-id-3 div.sk-parallel-item:last-child::after {align-self: flex-start;width: 50%;}#sk-container-id-3 div.sk-parallel-item:only-child::after {width: 0;}#sk-container-id-3 div.sk-dashed-wrapped {border: 1px dashed gray;margin: 0 0.4em 0.5em 0.4em;box-sizing: border-box;padding-bottom: 0.4em;background-color: white;}#sk-container-id-3 div.sk-label label {font-family: monospace;font-weight: bold;display: inline-block;line-height: 1.2em;}#sk-container-id-3 div.sk-label-container {text-align: center;}#sk-container-id-3 div.sk-container {/* jupyter's `normalize.less` sets `[hidden] { display: none; }` but bootstrap.min.css set `[hidden] { display: none !important; }` so we also need the `!important` here to be able to override the default hidden behavior on the sphinx rendered scikit-learn.org. See: https://github.com/scikit-learn/scikit-learn/issues/21755 */display: inline-block !important;position: relative;}#sk-container-id-3 div.sk-text-repr-fallback {display: none;}</style><div id=\"sk-container-id-3\" class=\"sk-top-container\"><div class=\"sk-text-repr-fallback\"><pre>GridSearchCV(cv=3, estimator=SVC(random_state=1991), n_jobs=-1,\n",
       "             param_grid={&#x27;C&#x27;: [1, 100], &#x27;gamma&#x27;: [10, 100], &#x27;kernel&#x27;: [&#x27;rbf&#x27;]},\n",
       "             verbose=5)</pre><b>In a Jupyter environment, please rerun this cell to show the HTML representation or trust the notebook. <br />On GitHub, the HTML representation is unable to render, please try loading this page with nbviewer.org.</b></div><div class=\"sk-container\" hidden><div class=\"sk-item sk-dashed-wrapped\"><div class=\"sk-label-container\"><div class=\"sk-label sk-toggleable\"><input class=\"sk-toggleable__control sk-hidden--visually\" id=\"sk-estimator-id-5\" type=\"checkbox\" ><label for=\"sk-estimator-id-5\" class=\"sk-toggleable__label sk-toggleable__label-arrow\">GridSearchCV</label><div class=\"sk-toggleable__content\"><pre>GridSearchCV(cv=3, estimator=SVC(random_state=1991), n_jobs=-1,\n",
       "             param_grid={&#x27;C&#x27;: [1, 100], &#x27;gamma&#x27;: [10, 100], &#x27;kernel&#x27;: [&#x27;rbf&#x27;]},\n",
       "             verbose=5)</pre></div></div></div><div class=\"sk-parallel\"><div class=\"sk-parallel-item\"><div class=\"sk-item\"><div class=\"sk-label-container\"><div class=\"sk-label sk-toggleable\"><input class=\"sk-toggleable__control sk-hidden--visually\" id=\"sk-estimator-id-6\" type=\"checkbox\" ><label for=\"sk-estimator-id-6\" class=\"sk-toggleable__label sk-toggleable__label-arrow\">estimator: SVC</label><div class=\"sk-toggleable__content\"><pre>SVC(random_state=1991)</pre></div></div></div><div class=\"sk-serial\"><div class=\"sk-item\"><div class=\"sk-estimator sk-toggleable\"><input class=\"sk-toggleable__control sk-hidden--visually\" id=\"sk-estimator-id-7\" type=\"checkbox\" ><label for=\"sk-estimator-id-7\" class=\"sk-toggleable__label sk-toggleable__label-arrow\">SVC</label><div class=\"sk-toggleable__content\"><pre>SVC(random_state=1991)</pre></div></div></div></div></div></div></div></div></div></div>"
      ],
      "text/plain": [
       "GridSearchCV(cv=3, estimator=SVC(random_state=1991), n_jobs=-1,\n",
       "             param_grid={'C': [1, 100], 'gamma': [10, 100], 'kernel': ['rbf']},\n",
       "             verbose=5)"
      ]
     },
     "execution_count": 75,
     "metadata": {},
     "output_type": "execute_result"
    }
   ],
   "source": [
    "param_svc = {\n",
    "    'C' : [1,100],\n",
    "    'gamma': [10, 100],\n",
    "    'kernel': ['rbf'],\n",
    "\n",
    "}\n",
    "model_svc = GridSearchCV(SVC(random_state=1991),\n",
    "                        param_svc,\n",
    "                        cv=3,\n",
    "                        n_jobs=-1,\n",
    "                        verbose=5,\n",
    "                        )\n",
    "model_svc.fit(X_train, y_train)\n"
   ]
  },
  {
   "cell_type": "code",
   "execution_count": 76,
   "metadata": {},
   "outputs": [
    {
     "name": "stdout",
     "output_type": "stream",
     "text": [
      "{'C': 1, 'gamma': 10, 'kernel': 'rbf'}\n"
     ]
    }
   ],
   "source": [
    "print(model_svc.best_params_)\n",
    "yhat_svc_tr = model_svc.best_estimator_.predict(X_train)\n",
    "yhat_svc_ts = model_svc.best_estimator_.predict(X_test)\n",
    "svc2_tr = classification_report(y_train, yhat_svc_tr)\n",
    "svc2_ts = classification_report(y_test, yhat_svc_ts)"
   ]
  },
  {
   "cell_type": "code",
   "execution_count": 77,
   "metadata": {},
   "outputs": [
    {
     "name": "stdout",
     "output_type": "stream",
     "text": [
      "              precision    recall  f1-score   support\n",
      "\n",
      "           0       0.83      0.52      0.64      8000\n",
      "           1       0.75      0.93      0.83     12100\n",
      "\n",
      "    accuracy                           0.77     20100\n",
      "   macro avg       0.79      0.72      0.73     20100\n",
      "weighted avg       0.78      0.77      0.75     20100\n",
      "\n",
      "              precision    recall  f1-score   support\n",
      "\n",
      "           0       0.59      0.27      0.38      4022\n",
      "           1       0.64      0.87      0.74      5878\n",
      "\n",
      "    accuracy                           0.63      9900\n",
      "   macro avg       0.62      0.57      0.56      9900\n",
      "weighted avg       0.62      0.63      0.59      9900\n",
      "\n"
     ]
    }
   ],
   "source": [
    "print(svc2_tr)\n",
    "print(svc2_ts)"
   ]
  },
  {
   "attachments": {},
   "cell_type": "markdown",
   "metadata": {},
   "source": [
    "* El consumo computaiconal de la grilla con SVC es muy alta, en los intentos por ejecutar grillas se itero con:\n",
    "    - 'C' : [0.01, 1, 100, 1000],\n",
    "    - 'gamma': [0.1, 1 ,10, 100],\n",
    "    - 'kernel': ['rbf', 'sigmoid', 'poly'],\n",
    "* Debido a esto, se itera de forma separada buscando la mejor combinacion. A pesar de que esto no refleja lo que seria una busqueda de grilla completa, de igual manera se logra mejorar de 0.62 a 0.63 la accuracy.\n",
    "* El modelo parece captar bien los casos positivos con un .74 en f1-score, sin embargo la clase negativa es muy deficiente con menos del .50."
   ]
  },
  {
   "attachments": {},
   "cell_type": "markdown",
   "metadata": {},
   "source": [
    "* A costo de aumentar en 1 el acuracy en test, en train aumenta a .77 \n",
    "* La brecha es bastante, sin embargo no muestra sobre ajuste.\n",
    "* es deficiente en capturar los 0.\n",
    "* Se desecha"
   ]
  },
  {
   "cell_type": "markdown",
   "metadata": {},
   "source": [
    "#### 2.2.1.3 Modelo 3 Random forest"
   ]
  },
  {
   "attachments": {},
   "cell_type": "markdown",
   "metadata": {},
   "source": [
    "* Parametros:\n",
    "    - n_estimators: default=100\n",
    "    - criterion: “gini”, “entropy”, “log_loss”, default=”gini”\n",
    "    - max_depth: profundidad default: none = nodos expandidos hasta que las hojas contengan min_samples_split samples o puras\n",
    "    - min_samples_split: default=2 : minimo numero de samples para separar un nodo, un valor mayor puede reducir el riesgo de sobreajuste\n",
    "    - min_samples_leaf: default=1 : este parámetro controla el número mínimo de muestras que se requieren en cada hoja del árbol. Un valor mayor puede hacer que el modelo sea más generalizado\n",
    "    - max_features{“sqrt”, “log2”, None}, int or float, default=”sqrt”\n",
    "    - warm_start: default=False: True = Reutiliza la solucion previa para entrenar y agregar mas estimadores.\n",
    "    - random_state"
   ]
  },
  {
   "cell_type": "code",
   "execution_count": 78,
   "metadata": {},
   "outputs": [
    {
     "name": "stdout",
     "output_type": "stream",
     "text": [
      "Fitting 5 folds for each of 16 candidates, totalling 80 fits\n"
     ]
    },
    {
     "data": {
      "text/html": [
       "<style>#sk-container-id-4 {color: black;background-color: white;}#sk-container-id-4 pre{padding: 0;}#sk-container-id-4 div.sk-toggleable {background-color: white;}#sk-container-id-4 label.sk-toggleable__label {cursor: pointer;display: block;width: 100%;margin-bottom: 0;padding: 0.3em;box-sizing: border-box;text-align: center;}#sk-container-id-4 label.sk-toggleable__label-arrow:before {content: \"▸\";float: left;margin-right: 0.25em;color: #696969;}#sk-container-id-4 label.sk-toggleable__label-arrow:hover:before {color: black;}#sk-container-id-4 div.sk-estimator:hover label.sk-toggleable__label-arrow:before {color: black;}#sk-container-id-4 div.sk-toggleable__content {max-height: 0;max-width: 0;overflow: hidden;text-align: left;background-color: #f0f8ff;}#sk-container-id-4 div.sk-toggleable__content pre {margin: 0.2em;color: black;border-radius: 0.25em;background-color: #f0f8ff;}#sk-container-id-4 input.sk-toggleable__control:checked~div.sk-toggleable__content {max-height: 200px;max-width: 100%;overflow: auto;}#sk-container-id-4 input.sk-toggleable__control:checked~label.sk-toggleable__label-arrow:before {content: \"▾\";}#sk-container-id-4 div.sk-estimator input.sk-toggleable__control:checked~label.sk-toggleable__label {background-color: #d4ebff;}#sk-container-id-4 div.sk-label input.sk-toggleable__control:checked~label.sk-toggleable__label {background-color: #d4ebff;}#sk-container-id-4 input.sk-hidden--visually {border: 0;clip: rect(1px 1px 1px 1px);clip: rect(1px, 1px, 1px, 1px);height: 1px;margin: -1px;overflow: hidden;padding: 0;position: absolute;width: 1px;}#sk-container-id-4 div.sk-estimator {font-family: monospace;background-color: #f0f8ff;border: 1px dotted black;border-radius: 0.25em;box-sizing: border-box;margin-bottom: 0.5em;}#sk-container-id-4 div.sk-estimator:hover {background-color: #d4ebff;}#sk-container-id-4 div.sk-parallel-item::after {content: \"\";width: 100%;border-bottom: 1px solid gray;flex-grow: 1;}#sk-container-id-4 div.sk-label:hover label.sk-toggleable__label {background-color: #d4ebff;}#sk-container-id-4 div.sk-serial::before {content: \"\";position: absolute;border-left: 1px solid gray;box-sizing: border-box;top: 0;bottom: 0;left: 50%;z-index: 0;}#sk-container-id-4 div.sk-serial {display: flex;flex-direction: column;align-items: center;background-color: white;padding-right: 0.2em;padding-left: 0.2em;position: relative;}#sk-container-id-4 div.sk-item {position: relative;z-index: 1;}#sk-container-id-4 div.sk-parallel {display: flex;align-items: stretch;justify-content: center;background-color: white;position: relative;}#sk-container-id-4 div.sk-item::before, #sk-container-id-4 div.sk-parallel-item::before {content: \"\";position: absolute;border-left: 1px solid gray;box-sizing: border-box;top: 0;bottom: 0;left: 50%;z-index: -1;}#sk-container-id-4 div.sk-parallel-item {display: flex;flex-direction: column;z-index: 1;position: relative;background-color: white;}#sk-container-id-4 div.sk-parallel-item:first-child::after {align-self: flex-end;width: 50%;}#sk-container-id-4 div.sk-parallel-item:last-child::after {align-self: flex-start;width: 50%;}#sk-container-id-4 div.sk-parallel-item:only-child::after {width: 0;}#sk-container-id-4 div.sk-dashed-wrapped {border: 1px dashed gray;margin: 0 0.4em 0.5em 0.4em;box-sizing: border-box;padding-bottom: 0.4em;background-color: white;}#sk-container-id-4 div.sk-label label {font-family: monospace;font-weight: bold;display: inline-block;line-height: 1.2em;}#sk-container-id-4 div.sk-label-container {text-align: center;}#sk-container-id-4 div.sk-container {/* jupyter's `normalize.less` sets `[hidden] { display: none; }` but bootstrap.min.css set `[hidden] { display: none !important; }` so we also need the `!important` here to be able to override the default hidden behavior on the sphinx rendered scikit-learn.org. See: https://github.com/scikit-learn/scikit-learn/issues/21755 */display: inline-block !important;position: relative;}#sk-container-id-4 div.sk-text-repr-fallback {display: none;}</style><div id=\"sk-container-id-4\" class=\"sk-top-container\"><div class=\"sk-text-repr-fallback\"><pre>GridSearchCV(cv=5,\n",
       "             estimator=RandomForestClassifier(max_features=None,\n",
       "                                              n_estimators=10,\n",
       "                                              random_state=1991,\n",
       "                                              warm_start=True),\n",
       "             n_jobs=-1,\n",
       "             param_grid={&#x27;max_depth&#x27;: [100, 10], &#x27;min_samples_leaf&#x27;: [0.001, 1],\n",
       "                         &#x27;min_samples_split&#x27;: [0.001, 1],\n",
       "                         &#x27;n_estimators&#x27;: [1, 10]},\n",
       "             verbose=5)</pre><b>In a Jupyter environment, please rerun this cell to show the HTML representation or trust the notebook. <br />On GitHub, the HTML representation is unable to render, please try loading this page with nbviewer.org.</b></div><div class=\"sk-container\" hidden><div class=\"sk-item sk-dashed-wrapped\"><div class=\"sk-label-container\"><div class=\"sk-label sk-toggleable\"><input class=\"sk-toggleable__control sk-hidden--visually\" id=\"sk-estimator-id-8\" type=\"checkbox\" ><label for=\"sk-estimator-id-8\" class=\"sk-toggleable__label sk-toggleable__label-arrow\">GridSearchCV</label><div class=\"sk-toggleable__content\"><pre>GridSearchCV(cv=5,\n",
       "             estimator=RandomForestClassifier(max_features=None,\n",
       "                                              n_estimators=10,\n",
       "                                              random_state=1991,\n",
       "                                              warm_start=True),\n",
       "             n_jobs=-1,\n",
       "             param_grid={&#x27;max_depth&#x27;: [100, 10], &#x27;min_samples_leaf&#x27;: [0.001, 1],\n",
       "                         &#x27;min_samples_split&#x27;: [0.001, 1],\n",
       "                         &#x27;n_estimators&#x27;: [1, 10]},\n",
       "             verbose=5)</pre></div></div></div><div class=\"sk-parallel\"><div class=\"sk-parallel-item\"><div class=\"sk-item\"><div class=\"sk-label-container\"><div class=\"sk-label sk-toggleable\"><input class=\"sk-toggleable__control sk-hidden--visually\" id=\"sk-estimator-id-9\" type=\"checkbox\" ><label for=\"sk-estimator-id-9\" class=\"sk-toggleable__label sk-toggleable__label-arrow\">estimator: RandomForestClassifier</label><div class=\"sk-toggleable__content\"><pre>RandomForestClassifier(max_features=None, n_estimators=10, random_state=1991,\n",
       "                       warm_start=True)</pre></div></div></div><div class=\"sk-serial\"><div class=\"sk-item\"><div class=\"sk-estimator sk-toggleable\"><input class=\"sk-toggleable__control sk-hidden--visually\" id=\"sk-estimator-id-10\" type=\"checkbox\" ><label for=\"sk-estimator-id-10\" class=\"sk-toggleable__label sk-toggleable__label-arrow\">RandomForestClassifier</label><div class=\"sk-toggleable__content\"><pre>RandomForestClassifier(max_features=None, n_estimators=10, random_state=1991,\n",
       "                       warm_start=True)</pre></div></div></div></div></div></div></div></div></div></div>"
      ],
      "text/plain": [
       "GridSearchCV(cv=5,\n",
       "             estimator=RandomForestClassifier(max_features=None,\n",
       "                                              n_estimators=10,\n",
       "                                              random_state=1991,\n",
       "                                              warm_start=True),\n",
       "             n_jobs=-1,\n",
       "             param_grid={'max_depth': [100, 10], 'min_samples_leaf': [0.001, 1],\n",
       "                         'min_samples_split': [0.001, 1],\n",
       "                         'n_estimators': [1, 10]},\n",
       "             verbose=5)"
      ]
     },
     "execution_count": 78,
     "metadata": {},
     "output_type": "execute_result"
    }
   ],
   "source": [
    "param_rforest = {\n",
    "                'max_depth':[100,10],\n",
    "                'n_estimators':[1,10],\n",
    "                'min_samples_split':[0.001,1],\n",
    "                'min_samples_leaf':[0.001,1],\n",
    "    }\n",
    "model_rndforest = GridSearchCV( RandomForestClassifier(random_state=1991,\n",
    "                                                       n_estimators =10,\n",
    "                                                       warm_start=True,\n",
    "                                                       max_features=None),\n",
    "                               param_grid=param_rforest,\n",
    "                                cv=5,\n",
    "                                n_jobs=-1,\n",
    "                                verbose=5\n",
    "                            )\n",
    "model_rndforest.fit(X_train, y_train)"
   ]
  },
  {
   "cell_type": "code",
   "execution_count": 79,
   "metadata": {},
   "outputs": [
    {
     "name": "stdout",
     "output_type": "stream",
     "text": [
      "{'max_depth': 10, 'min_samples_leaf': 0.001, 'min_samples_split': 0.001, 'n_estimators': 10}\n"
     ]
    }
   ],
   "source": [
    "print(model_rndforest.best_params_)\n",
    "yhat_rndforest2_tr = model_rndforest.best_estimator_.predict(X_train)\n",
    "yhat_rndforest2_ts = model_rndforest.best_estimator_.predict(X_test)\n",
    "rndforest2_tr = classification_report(y_train, yhat_rndforest2_tr)\n",
    "rndforest2_ts = classification_report(y_test, yhat_rndforest2_ts)"
   ]
  },
  {
   "cell_type": "code",
   "execution_count": 80,
   "metadata": {},
   "outputs": [
    {
     "name": "stdout",
     "output_type": "stream",
     "text": [
      "              precision    recall  f1-score   support\n",
      "\n",
      "           0       0.71      0.43      0.54      8000\n",
      "           1       0.70      0.89      0.78     12100\n",
      "\n",
      "    accuracy                           0.71     20100\n",
      "   macro avg       0.71      0.66      0.66     20100\n",
      "weighted avg       0.71      0.71      0.69     20100\n",
      "\n",
      "              precision    recall  f1-score   support\n",
      "\n",
      "           0       0.59      0.35      0.44      4022\n",
      "           1       0.65      0.83      0.73      5878\n",
      "\n",
      "    accuracy                           0.64      9900\n",
      "   macro avg       0.62      0.59      0.58      9900\n",
      "weighted avg       0.63      0.64      0.61      9900\n",
      "\n"
     ]
    }
   ],
   "source": [
    "print(rndforest2_tr)\n",
    "print(rndforest2_ts)"
   ]
  },
  {
   "attachments": {},
   "cell_type": "markdown",
   "metadata": {},
   "source": [
    "* .71 en el train, mejora la metrica en cuanto a la generalizacion\n",
    "* .64 en el test mantiene su accuracy\n",
    "* .44 en capturar la clase negativa, deficiente.\n",
    "* Guardamos el modelo\n"
   ]
  },
  {
   "attachments": {},
   "cell_type": "markdown",
   "metadata": {},
   "source": [
    "Se define el modelo de la siguiente manera:"
   ]
  },
  {
   "cell_type": "code",
   "execution_count": 81,
   "metadata": {},
   "outputs": [],
   "source": [
    "rndforest = RandomForestClassifier(random_state=1991,  warm_start=True, max_features=None,\n",
    "                                    criterion='gini', max_depth=100,  min_samples_leaf=0.001, \n",
    "                                    min_samples_split=0.001,n_estimators=10 , class_weight={0:1, 1:1})\n",
    "rndforest.fit(X_train, y_train)\n",
    "yhat_rf2= rndforest.predict(X_test)"
   ]
  },
  {
   "cell_type": "code",
   "execution_count": 82,
   "metadata": {},
   "outputs": [],
   "source": [
    "yhat_modelos = {'random forest':yhat_rf2}"
   ]
  },
  {
   "attachments": {},
   "cell_type": "markdown",
   "metadata": {},
   "source": [
    "* Se puede implementar una distribucion de pesos en el modelo para intentar captar la categoria 0 de negativos."
   ]
  },
  {
   "cell_type": "code",
   "execution_count": 83,
   "metadata": {},
   "outputs": [
    {
     "name": "stdout",
     "output_type": "stream",
     "text": [
      "              precision    recall  f1-score   support\n",
      "\n",
      "           0       0.43      0.96      0.59      4022\n",
      "           1       0.83      0.13      0.22      5878\n",
      "\n",
      "    accuracy                           0.47      9900\n",
      "   macro avg       0.63      0.54      0.41      9900\n",
      "weighted avg       0.67      0.47      0.37      9900\n",
      "\n"
     ]
    }
   ],
   "source": [
    "rndforest0 = RandomForestClassifier(random_state=1991,  warm_start=True, max_features=None,\n",
    "                                    criterion='gini', max_depth=100,  min_samples_leaf=0.001, \n",
    "                                    min_samples_split=0.001,n_estimators=10 , class_weight={0:1, 1:.1})\n",
    "rndforest0.fit(X_train, y_train)\n",
    "yhat_rf0= rndforest0.predict(X_test)\n",
    "print(classification_report(y_test, yhat_rf0))\n"
   ]
  },
  {
   "attachments": {},
   "cell_type": "markdown",
   "metadata": {},
   "source": [
    "* Como se observa, sacrifica gran parte del modelo para encontrar la clase 0 f1 de .59, sin embargo un acuraccy de .47 es muy bajo por si solo.\n",
    "* Se guarda para comparar."
   ]
  },
  {
   "cell_type": "code",
   "execution_count": 84,
   "metadata": {},
   "outputs": [],
   "source": [
    "yhat_modelos['random forest 0'] = yhat_rf0"
   ]
  },
  {
   "attachments": {},
   "cell_type": "markdown",
   "metadata": {},
   "source": [
    "#### 2.2.1.4 Modelo Gradient boostClassifier"
   ]
  },
  {
   "attachments": {},
   "cell_type": "markdown",
   "metadata": {},
   "source": [
    "* Parametros:\n",
    "    - loss: ‘log_loss’, ‘deviance’, ‘exponential’, default=’log_loss’: Funcion de perdida a ser optimizada en exponencial  gradient boost toma el algoritmo de adaboost\n",
    "    - n_estimator default 100 = un numero alto suele resultar en una mejor performance.\n",
    "    - subsample: default=1 : fraccion de muestras para ser entrenadas como base del aprendizaje. seleccionar un valor menor a 1 implica reduccion de la varianza debe estar entre 0 y 1\n",
    "    - min_samples_split default 2 = min de muestras requeridas para dividir un nodo. Un valor más alto evita divisiones que conducen a regiones con pocas muestras, lo que puede reducir el sobreajuste, pero también puede hacer que el modelo pierda información importante.\n",
    "    - min_samples_leaf default 1 = min de muestras requeridas para estar en un nodo de hoja\n",
    "    - max_depthi: int - None, default=3 =  La profundidad máxima de cada árbol. Un valor más alto permite que el modelo capture relaciones más complejas, pero también aumenta la posibilidad de sobreajuste.\n",
    "    - max_features{‘auto’, ‘sqrt’, ‘log2’}, int or float, default=None\n",
    "    - warm_startbool, default=False\n",
    "    - randomstate"
   ]
  },
  {
   "cell_type": "code",
   "execution_count": 85,
   "metadata": {},
   "outputs": [
    {
     "name": "stdout",
     "output_type": "stream",
     "text": [
      "Fitting 5 folds for each of 36 candidates, totalling 180 fits\n"
     ]
    },
    {
     "data": {
      "text/html": [
       "<style>#sk-container-id-5 {color: black;background-color: white;}#sk-container-id-5 pre{padding: 0;}#sk-container-id-5 div.sk-toggleable {background-color: white;}#sk-container-id-5 label.sk-toggleable__label {cursor: pointer;display: block;width: 100%;margin-bottom: 0;padding: 0.3em;box-sizing: border-box;text-align: center;}#sk-container-id-5 label.sk-toggleable__label-arrow:before {content: \"▸\";float: left;margin-right: 0.25em;color: #696969;}#sk-container-id-5 label.sk-toggleable__label-arrow:hover:before {color: black;}#sk-container-id-5 div.sk-estimator:hover label.sk-toggleable__label-arrow:before {color: black;}#sk-container-id-5 div.sk-toggleable__content {max-height: 0;max-width: 0;overflow: hidden;text-align: left;background-color: #f0f8ff;}#sk-container-id-5 div.sk-toggleable__content pre {margin: 0.2em;color: black;border-radius: 0.25em;background-color: #f0f8ff;}#sk-container-id-5 input.sk-toggleable__control:checked~div.sk-toggleable__content {max-height: 200px;max-width: 100%;overflow: auto;}#sk-container-id-5 input.sk-toggleable__control:checked~label.sk-toggleable__label-arrow:before {content: \"▾\";}#sk-container-id-5 div.sk-estimator input.sk-toggleable__control:checked~label.sk-toggleable__label {background-color: #d4ebff;}#sk-container-id-5 div.sk-label input.sk-toggleable__control:checked~label.sk-toggleable__label {background-color: #d4ebff;}#sk-container-id-5 input.sk-hidden--visually {border: 0;clip: rect(1px 1px 1px 1px);clip: rect(1px, 1px, 1px, 1px);height: 1px;margin: -1px;overflow: hidden;padding: 0;position: absolute;width: 1px;}#sk-container-id-5 div.sk-estimator {font-family: monospace;background-color: #f0f8ff;border: 1px dotted black;border-radius: 0.25em;box-sizing: border-box;margin-bottom: 0.5em;}#sk-container-id-5 div.sk-estimator:hover {background-color: #d4ebff;}#sk-container-id-5 div.sk-parallel-item::after {content: \"\";width: 100%;border-bottom: 1px solid gray;flex-grow: 1;}#sk-container-id-5 div.sk-label:hover label.sk-toggleable__label {background-color: #d4ebff;}#sk-container-id-5 div.sk-serial::before {content: \"\";position: absolute;border-left: 1px solid gray;box-sizing: border-box;top: 0;bottom: 0;left: 50%;z-index: 0;}#sk-container-id-5 div.sk-serial {display: flex;flex-direction: column;align-items: center;background-color: white;padding-right: 0.2em;padding-left: 0.2em;position: relative;}#sk-container-id-5 div.sk-item {position: relative;z-index: 1;}#sk-container-id-5 div.sk-parallel {display: flex;align-items: stretch;justify-content: center;background-color: white;position: relative;}#sk-container-id-5 div.sk-item::before, #sk-container-id-5 div.sk-parallel-item::before {content: \"\";position: absolute;border-left: 1px solid gray;box-sizing: border-box;top: 0;bottom: 0;left: 50%;z-index: -1;}#sk-container-id-5 div.sk-parallel-item {display: flex;flex-direction: column;z-index: 1;position: relative;background-color: white;}#sk-container-id-5 div.sk-parallel-item:first-child::after {align-self: flex-end;width: 50%;}#sk-container-id-5 div.sk-parallel-item:last-child::after {align-self: flex-start;width: 50%;}#sk-container-id-5 div.sk-parallel-item:only-child::after {width: 0;}#sk-container-id-5 div.sk-dashed-wrapped {border: 1px dashed gray;margin: 0 0.4em 0.5em 0.4em;box-sizing: border-box;padding-bottom: 0.4em;background-color: white;}#sk-container-id-5 div.sk-label label {font-family: monospace;font-weight: bold;display: inline-block;line-height: 1.2em;}#sk-container-id-5 div.sk-label-container {text-align: center;}#sk-container-id-5 div.sk-container {/* jupyter's `normalize.less` sets `[hidden] { display: none; }` but bootstrap.min.css set `[hidden] { display: none !important; }` so we also need the `!important` here to be able to override the default hidden behavior on the sphinx rendered scikit-learn.org. See: https://github.com/scikit-learn/scikit-learn/issues/21755 */display: inline-block !important;position: relative;}#sk-container-id-5 div.sk-text-repr-fallback {display: none;}</style><div id=\"sk-container-id-5\" class=\"sk-top-container\"><div class=\"sk-text-repr-fallback\"><pre>GridSearchCV(cv=5, estimator=GradientBoostingClassifier(random_state=1991),\n",
       "             n_jobs=-1,\n",
       "             param_grid={&#x27;learning_rate&#x27;: [0.001, 0.01, 1],\n",
       "                         &#x27;max_depth&#x27;: [1, 10], &#x27;n_estimators&#x27;: [10, 100],\n",
       "                         &#x27;subsample&#x27;: [0.1, 0.3, 0.4]},\n",
       "             verbose=5)</pre><b>In a Jupyter environment, please rerun this cell to show the HTML representation or trust the notebook. <br />On GitHub, the HTML representation is unable to render, please try loading this page with nbviewer.org.</b></div><div class=\"sk-container\" hidden><div class=\"sk-item sk-dashed-wrapped\"><div class=\"sk-label-container\"><div class=\"sk-label sk-toggleable\"><input class=\"sk-toggleable__control sk-hidden--visually\" id=\"sk-estimator-id-11\" type=\"checkbox\" ><label for=\"sk-estimator-id-11\" class=\"sk-toggleable__label sk-toggleable__label-arrow\">GridSearchCV</label><div class=\"sk-toggleable__content\"><pre>GridSearchCV(cv=5, estimator=GradientBoostingClassifier(random_state=1991),\n",
       "             n_jobs=-1,\n",
       "             param_grid={&#x27;learning_rate&#x27;: [0.001, 0.01, 1],\n",
       "                         &#x27;max_depth&#x27;: [1, 10], &#x27;n_estimators&#x27;: [10, 100],\n",
       "                         &#x27;subsample&#x27;: [0.1, 0.3, 0.4]},\n",
       "             verbose=5)</pre></div></div></div><div class=\"sk-parallel\"><div class=\"sk-parallel-item\"><div class=\"sk-item\"><div class=\"sk-label-container\"><div class=\"sk-label sk-toggleable\"><input class=\"sk-toggleable__control sk-hidden--visually\" id=\"sk-estimator-id-12\" type=\"checkbox\" ><label for=\"sk-estimator-id-12\" class=\"sk-toggleable__label sk-toggleable__label-arrow\">estimator: GradientBoostingClassifier</label><div class=\"sk-toggleable__content\"><pre>GradientBoostingClassifier(random_state=1991)</pre></div></div></div><div class=\"sk-serial\"><div class=\"sk-item\"><div class=\"sk-estimator sk-toggleable\"><input class=\"sk-toggleable__control sk-hidden--visually\" id=\"sk-estimator-id-13\" type=\"checkbox\" ><label for=\"sk-estimator-id-13\" class=\"sk-toggleable__label sk-toggleable__label-arrow\">GradientBoostingClassifier</label><div class=\"sk-toggleable__content\"><pre>GradientBoostingClassifier(random_state=1991)</pre></div></div></div></div></div></div></div></div></div></div>"
      ],
      "text/plain": [
       "GridSearchCV(cv=5, estimator=GradientBoostingClassifier(random_state=1991),\n",
       "             n_jobs=-1,\n",
       "             param_grid={'learning_rate': [0.001, 0.01, 1],\n",
       "                         'max_depth': [1, 10], 'n_estimators': [10, 100],\n",
       "                         'subsample': [0.1, 0.3, 0.4]},\n",
       "             verbose=5)"
      ]
     },
     "execution_count": 85,
     "metadata": {},
     "output_type": "execute_result"
    }
   ],
   "source": [
    "param_gboost = {'learning_rate':[0.001, 0.01, 1],\n",
    "               'max_depth':[1, 10],\n",
    "               'n_estimators':[10,100],\n",
    "               'subsample':[.1,.3,.4]   \n",
    "    }\n",
    "model_gboost = GridSearchCV( GradientBoostingClassifier(random_state=1991),\n",
    "                               param_grid=param_gboost,\n",
    "                                cv=5,\n",
    "                                n_jobs=-1,\n",
    "                                verbose=5\n",
    "                            )\n",
    "model_gboost.fit(X_train, y_train)"
   ]
  },
  {
   "cell_type": "code",
   "execution_count": 86,
   "metadata": {},
   "outputs": [
    {
     "name": "stdout",
     "output_type": "stream",
     "text": [
      "{'learning_rate': 0.01, 'max_depth': 10, 'n_estimators': 100, 'subsample': 0.3}\n"
     ]
    }
   ],
   "source": [
    "print(model_gboost.best_params_)\n",
    "yhat_gboost2_tr = model_gboost.best_estimator_.predict(X_train)\n",
    "yhat_gboost2_ts = model_gboost.best_estimator_.predict(X_test)\n",
    "gboost2_tr = classification_report(y_train, yhat_gboost2_tr)\n",
    "gboost2_ts = classification_report(y_test, yhat_gboost2_ts)"
   ]
  },
  {
   "cell_type": "code",
   "execution_count": 87,
   "metadata": {},
   "outputs": [
    {
     "name": "stdout",
     "output_type": "stream",
     "text": [
      "              precision    recall  f1-score   support\n",
      "\n",
      "           0       0.90      0.37      0.52      8000\n",
      "           1       0.70      0.97      0.81     12100\n",
      "\n",
      "    accuracy                           0.73     20100\n",
      "   macro avg       0.80      0.67      0.67     20100\n",
      "weighted avg       0.78      0.73      0.70     20100\n",
      "\n",
      "              precision    recall  f1-score   support\n",
      "\n",
      "           0       0.64      0.23      0.34      4022\n",
      "           1       0.63      0.91      0.75      5878\n",
      "\n",
      "    accuracy                           0.64      9900\n",
      "   macro avg       0.64      0.57      0.55      9900\n",
      "weighted avg       0.64      0.64      0.58      9900\n",
      "\n"
     ]
    }
   ],
   "source": [
    "print(gboost2_tr)\n",
    "print(gboost2_ts)"
   ]
  },
  {
   "attachments": {},
   "cell_type": "markdown",
   "metadata": {},
   "source": [
    "* Deficiente para categorizar negativos.\n",
    "* Efectivo para categorizar positivos.\n",
    "* Rendimiento general moderado con 14% sobre el ejercicio aleatorio."
   ]
  },
  {
   "cell_type": "code",
   "execution_count": 88,
   "metadata": {},
   "outputs": [
    {
     "name": "stdout",
     "output_type": "stream",
     "text": [
      "              precision    recall  f1-score   support\n",
      "\n",
      "           0       0.68      0.33      0.45      8000\n",
      "           1       0.67      0.89      0.77     12100\n",
      "\n",
      "    accuracy                           0.67     20100\n",
      "   macro avg       0.67      0.61      0.61     20100\n",
      "weighted avg       0.67      0.67      0.64     20100\n",
      "\n",
      "              precision    recall  f1-score   support\n",
      "\n",
      "           0       0.60      0.30      0.40      4022\n",
      "           1       0.64      0.86      0.74      5878\n",
      "\n",
      "    accuracy                           0.64      9900\n",
      "   macro avg       0.62      0.58      0.57      9900\n",
      "weighted avg       0.63      0.64      0.60      9900\n",
      "\n"
     ]
    }
   ],
   "source": [
    "print(gboost_tr)\n",
    "print(gboost_ts)"
   ]
  },
  {
   "attachments": {},
   "cell_type": "markdown",
   "metadata": {},
   "source": [
    "* Gradient boost sin parametros muestra ser mejro opcion que el de la grilla dado al mejor rendimiento en el test, ya que no muestra una gran brecha en comparacion al train .67 vs .64. A diferencia de su par en que train tiene un accuracy de .73 y test .64"
   ]
  },
  {
   "attachments": {},
   "cell_type": "markdown",
   "metadata": {},
   "source": [
    "Entonces se define el modelo de la siguiente manera y se guarda:"
   ]
  },
  {
   "cell_type": "code",
   "execution_count": 89,
   "metadata": {},
   "outputs": [],
   "source": [
    "gboost = GradientBoostingClassifier()\n",
    "gboost.fit(X_train, y_train)\n",
    "yhat_gboost= gboost.predict(X_test)"
   ]
  },
  {
   "cell_type": "code",
   "execution_count": 90,
   "metadata": {},
   "outputs": [],
   "source": [
    "#guardamos el modelo para su uso posterior\n",
    "gboost_clear = GradientBoostingClassifier()"
   ]
  },
  {
   "cell_type": "code",
   "execution_count": 91,
   "metadata": {},
   "outputs": [],
   "source": [
    "yhat_modelos['gboost'] = yhat_gboost"
   ]
  },
  {
   "cell_type": "markdown",
   "metadata": {},
   "source": [
    "#### 2.2.1.5 Modelo 5 Voting"
   ]
  },
  {
   "attachments": {},
   "cell_type": "markdown",
   "metadata": {},
   "source": [
    "* El siguiente modelo es un conjunto de los mejores resultados obtenidos:\n",
    "    - rndforest para 0: modelo con la mejor capacidad predictiva en la clase 0\n",
    "    - rndforest balanceado: modelo balanceado, prioriza el 1\n",
    "    - gboost: uno de los mejores modelos junto al random forest, logra un resultado similar, sin embargo captura de forma distinta las categorias."
   ]
  },
  {
   "cell_type": "code",
   "execution_count": 92,
   "metadata": {},
   "outputs": [],
   "source": [
    "estimators = [\n",
    "    ('rndforest para 0', RandomForestClassifier(random_state=1991,  warm_start=True, max_features=None,\n",
    "                                    criterion='gini', max_depth=100,  min_samples_leaf=0.001, \n",
    "                                    min_samples_split=0.001,n_estimators=10 , class_weight={0:1, 1:.1})), \n",
    "    ('rndforest balanceado', RandomForestClassifier(random_state=1991,  warm_start=True, max_features=None,\n",
    "                                    criterion='gini', max_depth=100,  min_samples_leaf=0.001, \n",
    "                                    min_samples_split=0.001,n_estimators=10 , class_weight={0:1, 1:1})),  \n",
    "    ('gboost', GradientBoostingClassifier())             \n",
    "]"
   ]
  },
  {
   "cell_type": "code",
   "execution_count": 93,
   "metadata": {},
   "outputs": [
    {
     "name": "stdout",
     "output_type": "stream",
     "text": [
      "              precision    recall  f1-score   support\n",
      "\n",
      "           0       0.71      0.61      0.65      8000\n",
      "           1       0.76      0.83      0.80     12100\n",
      "\n",
      "    accuracy                           0.74     20100\n",
      "   macro avg       0.74      0.72      0.73     20100\n",
      "weighted avg       0.74      0.74      0.74     20100\n",
      "\n",
      "              precision    recall  f1-score   support\n",
      "\n",
      "           0       0.57      0.46      0.51      4022\n",
      "           1       0.67      0.76      0.71      5878\n",
      "\n",
      "    accuracy                           0.64      9900\n",
      "   macro avg       0.62      0.61      0.61      9900\n",
      "weighted avg       0.63      0.64      0.63      9900\n",
      "\n"
     ]
    }
   ],
   "source": [
    "voting2 = VotingClassifier(estimators)\n",
    "voting2.fit(X_train, y_train)\n",
    "yhat_tr= voting2.predict(X_train)\n",
    "yhat_ts_voting2= voting2.predict(X_test)\n",
    "print(classification_report(y_train, yhat_tr))\n",
    "print(classification_report(y_test, yhat_ts_voting2))"
   ]
  },
  {
   "attachments": {},
   "cell_type": "markdown",
   "metadata": {},
   "source": [
    "* Moderado para categorizar negativos.\n",
    "* Efectivo para categorizar positivos.\n",
    "* Rendimiento general moderado con 14% sobre el ejercicio aleatorio."
   ]
  },
  {
   "attachments": {},
   "cell_type": "markdown",
   "metadata": {},
   "source": [
    "* aumenta un .02 el accuracy de train, sin embargo se logra capturar la categoria negativa con mejor eficacia."
   ]
  },
  {
   "attachments": {},
   "cell_type": "markdown",
   "metadata": {},
   "source": [
    "Se modifican los pesos aplicados a los modelos para evaluar su comportamiento."
   ]
  },
  {
   "cell_type": "code",
   "execution_count": 94,
   "metadata": {},
   "outputs": [],
   "source": [
    "w1 = [.3, .1, .6 ] # potenciar g boost\n",
    "w2 = [.4, .5, .1 ] # potenciar forests"
   ]
  },
  {
   "cell_type": "code",
   "execution_count": 95,
   "metadata": {},
   "outputs": [
    {
     "name": "stdout",
     "output_type": "stream",
     "text": [
      "              precision    recall  f1-score   support\n",
      "\n",
      "           0       0.68      0.33      0.45      8000\n",
      "           1       0.67      0.89      0.77     12100\n",
      "\n",
      "    accuracy                           0.67     20100\n",
      "   macro avg       0.67      0.61      0.61     20100\n",
      "weighted avg       0.67      0.67      0.64     20100\n",
      "\n",
      "              precision    recall  f1-score   support\n",
      "\n",
      "           0       0.60      0.30      0.40      4022\n",
      "           1       0.64      0.86      0.74      5878\n",
      "\n",
      "    accuracy                           0.64      9900\n",
      "   macro avg       0.62      0.58      0.57      9900\n",
      "weighted avg       0.63      0.64      0.60      9900\n",
      "\n"
     ]
    }
   ],
   "source": [
    "voting_w1 = VotingClassifier(estimators, weights=w1)\n",
    "voting_w1.fit(X_train, y_train)\n",
    "yhat_tr= voting_w1.predict(X_train)\n",
    "yhat_ts= voting_w1.predict(X_test)\n",
    "print(classification_report(y_train, yhat_tr))\n",
    "print(classification_report(y_test, yhat_ts))"
   ]
  },
  {
   "attachments": {},
   "cell_type": "markdown",
   "metadata": {},
   "source": [
    "* Deficiete para categorizar negativos.\n",
    "* Efectivo para categorizar positivos.\n",
    "* Rendimiento general moderado con 14% sobre el ejercicio aleatorio."
   ]
  },
  {
   "cell_type": "code",
   "execution_count": 96,
   "metadata": {},
   "outputs": [
    {
     "name": "stdout",
     "output_type": "stream",
     "text": [
      "              precision    recall  f1-score   support\n",
      "\n",
      "           0       0.71      0.61      0.65      8000\n",
      "           1       0.76      0.83      0.80     12100\n",
      "\n",
      "    accuracy                           0.74     20100\n",
      "   macro avg       0.74      0.72      0.73     20100\n",
      "weighted avg       0.74      0.74      0.74     20100\n",
      "\n",
      "              precision    recall  f1-score   support\n",
      "\n",
      "           0       0.57      0.46      0.51      4022\n",
      "           1       0.67      0.76      0.71      5878\n",
      "\n",
      "    accuracy                           0.64      9900\n",
      "   macro avg       0.62      0.61      0.61      9900\n",
      "weighted avg       0.63      0.64      0.63      9900\n",
      "\n"
     ]
    }
   ],
   "source": [
    "voting_w2 = VotingClassifier(estimators, weights=w2)\n",
    "voting_w2.fit(X_train, y_train)\n",
    "yhat_tr= voting_w2.predict(X_train)\n",
    "yhat_ts= voting_w2.predict(X_test)\n",
    "print(classification_report(y_train, yhat_tr))\n",
    "print(classification_report(y_test, yhat_ts))"
   ]
  },
  {
   "attachments": {},
   "cell_type": "markdown",
   "metadata": {},
   "source": [
    "* w2 Resultado similar a sin adignar pesos\n",
    "* w1 Resultado deficiente en categorizar los negativos\n",
    "* Sin asignar pesos sera el mejor voting\n"
   ]
  },
  {
   "attachments": {},
   "cell_type": "markdown",
   "metadata": {},
   "source": [
    "* El mejor rendimiento se logra con la distribucion de pesos w1 : [.3, .2, .5] donde adquiere la capacidad de predecir los 0 de .50, ya logrando .50 o mas en cada clase."
   ]
  },
  {
   "cell_type": "code",
   "execution_count": 97,
   "metadata": {},
   "outputs": [],
   "source": [
    "yhat_modelos['voting 2'] = yhat_ts_voting2"
   ]
  },
  {
   "attachments": {},
   "cell_type": "markdown",
   "metadata": {},
   "source": [
    "#### 2.2.1.6 Modelo 6 Multinomial NB"
   ]
  },
  {
   "attachments": {},
   "cell_type": "markdown",
   "metadata": {},
   "source": [
    "Por temas computacionales se ejecutara el modelo con la misma transformacion de antes pero se quitaran elementos con frecuencia 1, dado que no se logro ejecutar una busqueda de grilla con todos loa atributos anteriores."
   ]
  },
  {
   "cell_type": "code",
   "execution_count": 98,
   "metadata": {},
   "outputs": [
    {
     "data": {
      "text/plain": [
       "(30000, 9282)"
      ]
     },
     "execution_count": 98,
     "metadata": {},
     "output_type": "execute_result"
    }
   ],
   "source": [
    "cv_c_nb = CountVectorizer(stop_words=stops, tokenizer=tokenizer,min_df=2)\n",
    "cv_c_nb_fit = cv_c_nb.fit_transform(df['content'])\n",
    "x_c_nb = cv_c_nb_fit.toarray()\n",
    "x_c_nb.shape"
   ]
  },
  {
   "cell_type": "code",
   "execution_count": 99,
   "metadata": {},
   "outputs": [],
   "source": [
    "X_train_bin, X_test_bin, y_train_bin, y_test_bin = train_test_split(x_c_nb,\n",
    "        y_bin,test_size=.33,random_state=1991)"
   ]
  },
  {
   "cell_type": "code",
   "execution_count": 100,
   "metadata": {},
   "outputs": [
    {
     "name": "stdout",
     "output_type": "stream",
     "text": [
      "Fitting 5 folds for each of 6 candidates, totalling 30 fits\n"
     ]
    },
    {
     "data": {
      "text/html": [
       "<style>#sk-container-id-6 {color: black;background-color: white;}#sk-container-id-6 pre{padding: 0;}#sk-container-id-6 div.sk-toggleable {background-color: white;}#sk-container-id-6 label.sk-toggleable__label {cursor: pointer;display: block;width: 100%;margin-bottom: 0;padding: 0.3em;box-sizing: border-box;text-align: center;}#sk-container-id-6 label.sk-toggleable__label-arrow:before {content: \"▸\";float: left;margin-right: 0.25em;color: #696969;}#sk-container-id-6 label.sk-toggleable__label-arrow:hover:before {color: black;}#sk-container-id-6 div.sk-estimator:hover label.sk-toggleable__label-arrow:before {color: black;}#sk-container-id-6 div.sk-toggleable__content {max-height: 0;max-width: 0;overflow: hidden;text-align: left;background-color: #f0f8ff;}#sk-container-id-6 div.sk-toggleable__content pre {margin: 0.2em;color: black;border-radius: 0.25em;background-color: #f0f8ff;}#sk-container-id-6 input.sk-toggleable__control:checked~div.sk-toggleable__content {max-height: 200px;max-width: 100%;overflow: auto;}#sk-container-id-6 input.sk-toggleable__control:checked~label.sk-toggleable__label-arrow:before {content: \"▾\";}#sk-container-id-6 div.sk-estimator input.sk-toggleable__control:checked~label.sk-toggleable__label {background-color: #d4ebff;}#sk-container-id-6 div.sk-label input.sk-toggleable__control:checked~label.sk-toggleable__label {background-color: #d4ebff;}#sk-container-id-6 input.sk-hidden--visually {border: 0;clip: rect(1px 1px 1px 1px);clip: rect(1px, 1px, 1px, 1px);height: 1px;margin: -1px;overflow: hidden;padding: 0;position: absolute;width: 1px;}#sk-container-id-6 div.sk-estimator {font-family: monospace;background-color: #f0f8ff;border: 1px dotted black;border-radius: 0.25em;box-sizing: border-box;margin-bottom: 0.5em;}#sk-container-id-6 div.sk-estimator:hover {background-color: #d4ebff;}#sk-container-id-6 div.sk-parallel-item::after {content: \"\";width: 100%;border-bottom: 1px solid gray;flex-grow: 1;}#sk-container-id-6 div.sk-label:hover label.sk-toggleable__label {background-color: #d4ebff;}#sk-container-id-6 div.sk-serial::before {content: \"\";position: absolute;border-left: 1px solid gray;box-sizing: border-box;top: 0;bottom: 0;left: 50%;z-index: 0;}#sk-container-id-6 div.sk-serial {display: flex;flex-direction: column;align-items: center;background-color: white;padding-right: 0.2em;padding-left: 0.2em;position: relative;}#sk-container-id-6 div.sk-item {position: relative;z-index: 1;}#sk-container-id-6 div.sk-parallel {display: flex;align-items: stretch;justify-content: center;background-color: white;position: relative;}#sk-container-id-6 div.sk-item::before, #sk-container-id-6 div.sk-parallel-item::before {content: \"\";position: absolute;border-left: 1px solid gray;box-sizing: border-box;top: 0;bottom: 0;left: 50%;z-index: -1;}#sk-container-id-6 div.sk-parallel-item {display: flex;flex-direction: column;z-index: 1;position: relative;background-color: white;}#sk-container-id-6 div.sk-parallel-item:first-child::after {align-self: flex-end;width: 50%;}#sk-container-id-6 div.sk-parallel-item:last-child::after {align-self: flex-start;width: 50%;}#sk-container-id-6 div.sk-parallel-item:only-child::after {width: 0;}#sk-container-id-6 div.sk-dashed-wrapped {border: 1px dashed gray;margin: 0 0.4em 0.5em 0.4em;box-sizing: border-box;padding-bottom: 0.4em;background-color: white;}#sk-container-id-6 div.sk-label label {font-family: monospace;font-weight: bold;display: inline-block;line-height: 1.2em;}#sk-container-id-6 div.sk-label-container {text-align: center;}#sk-container-id-6 div.sk-container {/* jupyter's `normalize.less` sets `[hidden] { display: none; }` but bootstrap.min.css set `[hidden] { display: none !important; }` so we also need the `!important` here to be able to override the default hidden behavior on the sphinx rendered scikit-learn.org. See: https://github.com/scikit-learn/scikit-learn/issues/21755 */display: inline-block !important;position: relative;}#sk-container-id-6 div.sk-text-repr-fallback {display: none;}</style><div id=\"sk-container-id-6\" class=\"sk-top-container\"><div class=\"sk-text-repr-fallback\"><pre>GridSearchCV(cv=5, estimator=MultinomialNB(), n_jobs=-1,\n",
       "             param_grid={&#x27;alpha&#x27;: [0.1, 1, 10], &#x27;fit_prior&#x27;: [True, False]},\n",
       "             verbose=5)</pre><b>In a Jupyter environment, please rerun this cell to show the HTML representation or trust the notebook. <br />On GitHub, the HTML representation is unable to render, please try loading this page with nbviewer.org.</b></div><div class=\"sk-container\" hidden><div class=\"sk-item sk-dashed-wrapped\"><div class=\"sk-label-container\"><div class=\"sk-label sk-toggleable\"><input class=\"sk-toggleable__control sk-hidden--visually\" id=\"sk-estimator-id-14\" type=\"checkbox\" ><label for=\"sk-estimator-id-14\" class=\"sk-toggleable__label sk-toggleable__label-arrow\">GridSearchCV</label><div class=\"sk-toggleable__content\"><pre>GridSearchCV(cv=5, estimator=MultinomialNB(), n_jobs=-1,\n",
       "             param_grid={&#x27;alpha&#x27;: [0.1, 1, 10], &#x27;fit_prior&#x27;: [True, False]},\n",
       "             verbose=5)</pre></div></div></div><div class=\"sk-parallel\"><div class=\"sk-parallel-item\"><div class=\"sk-item\"><div class=\"sk-label-container\"><div class=\"sk-label sk-toggleable\"><input class=\"sk-toggleable__control sk-hidden--visually\" id=\"sk-estimator-id-15\" type=\"checkbox\" ><label for=\"sk-estimator-id-15\" class=\"sk-toggleable__label sk-toggleable__label-arrow\">estimator: MultinomialNB</label><div class=\"sk-toggleable__content\"><pre>MultinomialNB()</pre></div></div></div><div class=\"sk-serial\"><div class=\"sk-item\"><div class=\"sk-estimator sk-toggleable\"><input class=\"sk-toggleable__control sk-hidden--visually\" id=\"sk-estimator-id-16\" type=\"checkbox\" ><label for=\"sk-estimator-id-16\" class=\"sk-toggleable__label sk-toggleable__label-arrow\">MultinomialNB</label><div class=\"sk-toggleable__content\"><pre>MultinomialNB()</pre></div></div></div></div></div></div></div></div></div></div>"
      ],
      "text/plain": [
       "GridSearchCV(cv=5, estimator=MultinomialNB(), n_jobs=-1,\n",
       "             param_grid={'alpha': [0.1, 1, 10], 'fit_prior': [True, False]},\n",
       "             verbose=5)"
      ]
     },
     "execution_count": 100,
     "metadata": {},
     "output_type": "execute_result"
    }
   ],
   "source": [
    "param_nb = {\n",
    "    'alpha': [0.1, 1, 10],\n",
    "    'fit_prior': [True, False]\n",
    "}\n",
    "model_nb = GridSearchCV(MultinomialNB(),\n",
    "                        param_nb,\n",
    "                        cv=5,\n",
    "                        n_jobs=-1,\n",
    "                        verbose=5,\n",
    "                        )\n",
    "model_nb.fit(X_train_bin, y_train_bin)\n",
    "#alpha1, fit_prior True"
   ]
  },
  {
   "cell_type": "code",
   "execution_count": 101,
   "metadata": {},
   "outputs": [
    {
     "name": "stdout",
     "output_type": "stream",
     "text": [
      "{'alpha': 1, 'fit_prior': True}\n"
     ]
    }
   ],
   "source": [
    "print(model_nb.best_params_)\n",
    "yhat_nb2_tr = model_nb.best_estimator_.predict(X_train_bin)\n",
    "yhat_nb2_ts = model_nb.best_estimator_.predict(X_test_bin)\n",
    "nb2_tr = classification_report(y_train_bin, yhat_nb2_tr)\n",
    "nb2_ts = classification_report(y_test_bin, yhat_nb2_ts)\n"
   ]
  },
  {
   "cell_type": "code",
   "execution_count": 102,
   "metadata": {},
   "outputs": [
    {
     "name": "stdout",
     "output_type": "stream",
     "text": [
      "              precision    recall  f1-score   support\n",
      "\n",
      "           0       0.78      0.72      0.75      8000\n",
      "           1       0.82      0.86      0.84     12100\n",
      "\n",
      "    accuracy                           0.81     20100\n",
      "   macro avg       0.80      0.79      0.79     20100\n",
      "weighted avg       0.80      0.81      0.80     20100\n",
      "\n",
      "              precision    recall  f1-score   support\n",
      "\n",
      "           0       0.64      0.58      0.61      4022\n",
      "           1       0.73      0.78      0.76      5878\n",
      "\n",
      "    accuracy                           0.70      9900\n",
      "   macro avg       0.69      0.68      0.68      9900\n",
      "weighted avg       0.70      0.70      0.70      9900\n",
      "\n"
     ]
    }
   ],
   "source": [
    "print(nb2_tr)\n",
    "print(nb2_ts)"
   ]
  },
  {
   "attachments": {},
   "cell_type": "markdown",
   "metadata": {},
   "source": [
    "* Se disminuye la brecha entre train y test a solo .11 de accuracy vs .18 de diferrencia que tenian inicialmente.\n",
    "* Guardamos el modelo, hasta ahora es el mejor, sin embargo para ejecutarlo se debe hacer otra transformacion."
   ]
  },
  {
   "cell_type": "code",
   "execution_count": 133,
   "metadata": {},
   "outputs": [
    {
     "data": {
      "text/html": [
       "<style>#sk-container-id-7 {color: black;background-color: white;}#sk-container-id-7 pre{padding: 0;}#sk-container-id-7 div.sk-toggleable {background-color: white;}#sk-container-id-7 label.sk-toggleable__label {cursor: pointer;display: block;width: 100%;margin-bottom: 0;padding: 0.3em;box-sizing: border-box;text-align: center;}#sk-container-id-7 label.sk-toggleable__label-arrow:before {content: \"▸\";float: left;margin-right: 0.25em;color: #696969;}#sk-container-id-7 label.sk-toggleable__label-arrow:hover:before {color: black;}#sk-container-id-7 div.sk-estimator:hover label.sk-toggleable__label-arrow:before {color: black;}#sk-container-id-7 div.sk-toggleable__content {max-height: 0;max-width: 0;overflow: hidden;text-align: left;background-color: #f0f8ff;}#sk-container-id-7 div.sk-toggleable__content pre {margin: 0.2em;color: black;border-radius: 0.25em;background-color: #f0f8ff;}#sk-container-id-7 input.sk-toggleable__control:checked~div.sk-toggleable__content {max-height: 200px;max-width: 100%;overflow: auto;}#sk-container-id-7 input.sk-toggleable__control:checked~label.sk-toggleable__label-arrow:before {content: \"▾\";}#sk-container-id-7 div.sk-estimator input.sk-toggleable__control:checked~label.sk-toggleable__label {background-color: #d4ebff;}#sk-container-id-7 div.sk-label input.sk-toggleable__control:checked~label.sk-toggleable__label {background-color: #d4ebff;}#sk-container-id-7 input.sk-hidden--visually {border: 0;clip: rect(1px 1px 1px 1px);clip: rect(1px, 1px, 1px, 1px);height: 1px;margin: -1px;overflow: hidden;padding: 0;position: absolute;width: 1px;}#sk-container-id-7 div.sk-estimator {font-family: monospace;background-color: #f0f8ff;border: 1px dotted black;border-radius: 0.25em;box-sizing: border-box;margin-bottom: 0.5em;}#sk-container-id-7 div.sk-estimator:hover {background-color: #d4ebff;}#sk-container-id-7 div.sk-parallel-item::after {content: \"\";width: 100%;border-bottom: 1px solid gray;flex-grow: 1;}#sk-container-id-7 div.sk-label:hover label.sk-toggleable__label {background-color: #d4ebff;}#sk-container-id-7 div.sk-serial::before {content: \"\";position: absolute;border-left: 1px solid gray;box-sizing: border-box;top: 0;bottom: 0;left: 50%;z-index: 0;}#sk-container-id-7 div.sk-serial {display: flex;flex-direction: column;align-items: center;background-color: white;padding-right: 0.2em;padding-left: 0.2em;position: relative;}#sk-container-id-7 div.sk-item {position: relative;z-index: 1;}#sk-container-id-7 div.sk-parallel {display: flex;align-items: stretch;justify-content: center;background-color: white;position: relative;}#sk-container-id-7 div.sk-item::before, #sk-container-id-7 div.sk-parallel-item::before {content: \"\";position: absolute;border-left: 1px solid gray;box-sizing: border-box;top: 0;bottom: 0;left: 50%;z-index: -1;}#sk-container-id-7 div.sk-parallel-item {display: flex;flex-direction: column;z-index: 1;position: relative;background-color: white;}#sk-container-id-7 div.sk-parallel-item:first-child::after {align-self: flex-end;width: 50%;}#sk-container-id-7 div.sk-parallel-item:last-child::after {align-self: flex-start;width: 50%;}#sk-container-id-7 div.sk-parallel-item:only-child::after {width: 0;}#sk-container-id-7 div.sk-dashed-wrapped {border: 1px dashed gray;margin: 0 0.4em 0.5em 0.4em;box-sizing: border-box;padding-bottom: 0.4em;background-color: white;}#sk-container-id-7 div.sk-label label {font-family: monospace;font-weight: bold;display: inline-block;line-height: 1.2em;}#sk-container-id-7 div.sk-label-container {text-align: center;}#sk-container-id-7 div.sk-container {/* jupyter's `normalize.less` sets `[hidden] { display: none; }` but bootstrap.min.css set `[hidden] { display: none !important; }` so we also need the `!important` here to be able to override the default hidden behavior on the sphinx rendered scikit-learn.org. See: https://github.com/scikit-learn/scikit-learn/issues/21755 */display: inline-block !important;position: relative;}#sk-container-id-7 div.sk-text-repr-fallback {display: none;}</style><div id=\"sk-container-id-7\" class=\"sk-top-container\"><div class=\"sk-text-repr-fallback\"><pre>MultinomialNB(alpha=1)</pre><b>In a Jupyter environment, please rerun this cell to show the HTML representation or trust the notebook. <br />On GitHub, the HTML representation is unable to render, please try loading this page with nbviewer.org.</b></div><div class=\"sk-container\" hidden><div class=\"sk-item\"><div class=\"sk-estimator sk-toggleable\"><input class=\"sk-toggleable__control sk-hidden--visually\" id=\"sk-estimator-id-17\" type=\"checkbox\" checked><label for=\"sk-estimator-id-17\" class=\"sk-toggleable__label sk-toggleable__label-arrow\">MultinomialNB</label><div class=\"sk-toggleable__content\"><pre>MultinomialNB(alpha=1)</pre></div></div></div></div></div>"
      ],
      "text/plain": [
       "MultinomialNB(alpha=1)"
      ]
     },
     "execution_count": 133,
     "metadata": {},
     "output_type": "execute_result"
    }
   ],
   "source": [
    "m_nb = MultinomialNB(alpha= 1, fit_prior= True)\n",
    "m_nb.fit(X_train_bin, y_train_bin)"
   ]
  },
  {
   "cell_type": "code",
   "execution_count": 103,
   "metadata": {},
   "outputs": [
    {
     "data": {
      "text/plain": [
       "<matplotlib.legend.Legend at 0x243bba27f70>"
      ]
     },
     "execution_count": 103,
     "metadata": {},
     "output_type": "execute_result"
    },
    {
     "data": {
      "image/png": "[encoded data removed]",
      "text/plain": [
       "<Figure size 1000x600 with 1 Axes>"
      ]
     },
     "metadata": {},
     "output_type": "display_data"
    }
   ],
   "source": [
    "plt.title('Multinomial NB')\n",
    "plt.axvline(x=.5, color='Tomato', linestyle='--')\n",
    "pcr(y_test_bin, yhat_nb2_ts)\n",
    "plt.legend()"
   ]
  },
  {
   "attachments": {},
   "cell_type": "markdown",
   "metadata": {},
   "source": [
    "* Tiene los indicadores mas altos de los modelos que se han analizado\n",
    "* con accuracy de .81 en train y .70 en test, no significa un modelo sesgado, pero tampoco es el ideal."
   ]
  },
  {
   "attachments": {},
   "cell_type": "markdown",
   "metadata": {},
   "source": [
    "#### 3.1.2 Desempeño"
   ]
  },
  {
   "attachments": {},
   "cell_type": "markdown",
   "metadata": {},
   "source": [
    "##### 3.1.2.a Desempeño solicitado"
   ]
  },
  {
   "cell_type": "code",
   "execution_count": 104,
   "metadata": {},
   "outputs": [
    {
     "data": {
      "image/png": "[encoded data removed]",
      "text/plain": [
       "<Figure size 1000x600 with 4 Axes>"
      ]
     },
     "metadata": {},
     "output_type": "display_data"
    }
   ],
   "source": [
    "for n, k in enumerate(yhat_modelos):\n",
    "    value = yhat_modelos[k]\n",
    "    plt.subplot(2, 3, n + 1)\n",
    "    plt.title(k)\n",
    "    plt.axvline(x=.5, color='Tomato', linestyle='--')\n",
    "    pcr(y_test, value)\n",
    "    plt.legend()"
   ]
  },
  {
   "attachments": {},
   "cell_type": "markdown",
   "metadata": {},
   "source": [
    "* Observar como estan de dispersas las clases, siendo random forest y voting los unicos modelos capaces de disminuir esta variabilidad.\n",
    "* Random forest para la categoria 0 es el único modelo capaz de capturar el comportamiento de la categoria negativa (0), pero tampoco es brillante en esto ya que decae en precision.\n",
    "* Los dos mejores modelos en cuanto a todos sus indicadores son el random forest balanceado y el voting 2"
   ]
  },
  {
   "attachments": {},
   "cell_type": "markdown",
   "metadata": {},
   "source": [
    "##### 3.1.2.a - Desempeño modelacion alternativa, propuesta para Voting."
   ]
  },
  {
   "attachments": {},
   "cell_type": "markdown",
   "metadata": {},
   "source": [
    "* Entrenar el modelo seleccionado voting con la matiz dodne se eliminaron los neutros a modo de evaluar mejoras en su rendimiento."
   ]
  },
  {
   "attachments": {},
   "cell_type": "markdown",
   "metadata": {},
   "source": [
    "Revisar que no se sobre ajusten"
   ]
  },
  {
   "cell_type": "code",
   "execution_count": 106,
   "metadata": {},
   "outputs": [],
   "source": [
    "Xclear_train, Xclear_test, yclear_train, yclear_test = train_test_split(Xclear_redu,\n",
    "        yclear_bin,test_size=.33,random_state=1991)"
   ]
  },
  {
   "cell_type": "code",
   "execution_count": 113,
   "metadata": {},
   "outputs": [
    {
     "name": "stdout",
     "output_type": "stream",
     "text": [
      "              precision    recall  f1-score   support\n",
      "\n",
      "           0       0.78      0.81      0.79      8057\n",
      "           1       0.80      0.76      0.77      7720\n",
      "\n",
      "    accuracy                           0.79     15777\n",
      "   macro avg       0.79      0.78      0.78     15777\n",
      "weighted avg       0.79      0.79      0.79     15777\n",
      "\n",
      "              precision    recall  f1-score   support\n",
      "\n",
      "           0       0.65      0.68      0.66      3965\n",
      "           1       0.65      0.61      0.63      3807\n",
      "\n",
      "    accuracy                           0.65      7772\n",
      "   macro avg       0.65      0.65      0.65      7772\n",
      "weighted avg       0.65      0.65      0.65      7772\n",
      "\n"
     ]
    }
   ],
   "source": [
    "rf_clear = RandomForestClassifier(random_state=1991,  warm_start=True, max_features=None,\n",
    "                                    criterion='gini', max_depth=100,  min_samples_leaf=0.001, \n",
    "                                    min_samples_split=0.001,n_estimators=10 , class_weight={0:1, 1:1})\n",
    "rf_clear.fit(Xclear_train, yclear_train)\n",
    "yclearhat_tr_rfcl= rf_clear.predict(Xclear_train)\n",
    "yclearhat_ts_rfcl= rf_clear.predict(Xclear_test)\n",
    "print(classification_report(yclear_train, yclearhat_tr_rfcl))\n",
    "print(classification_report(yclear_test, yclearhat_ts_rfcl))"
   ]
  },
  {
   "attachments": {},
   "cell_type": "markdown",
   "metadata": {},
   "source": [
    "* Random fores ligeramente mas debil en detectar la clase positiva.\n",
    "* Se debilitara la clase negativa para tener un modelo que enfatice la debilidad del rf"
   ]
  },
  {
   "cell_type": "code",
   "execution_count": 119,
   "metadata": {},
   "outputs": [
    {
     "name": "stdout",
     "output_type": "stream",
     "text": [
      "              precision    recall  f1-score   support\n",
      "\n",
      "           0       0.88      0.58      0.70      8057\n",
      "           1       0.67      0.92      0.78      7720\n",
      "\n",
      "    accuracy                           0.74     15777\n",
      "   macro avg       0.78      0.75      0.74     15777\n",
      "weighted avg       0.78      0.74      0.74     15777\n",
      "\n",
      "              precision    recall  f1-score   support\n",
      "\n",
      "           0       0.70      0.46      0.56      3965\n",
      "           1       0.59      0.79      0.67      3807\n",
      "\n",
      "    accuracy                           0.62      7772\n",
      "   macro avg       0.64      0.63      0.61      7772\n",
      "weighted avg       0.64      0.62      0.61      7772\n",
      "\n"
     ]
    }
   ],
   "source": [
    "rf_clear0 = RandomForestClassifier(random_state=1991,  warm_start=True, max_features=None,\n",
    "                                    criterion='gini', max_depth=100,  min_samples_leaf=0.001, \n",
    "                                    min_samples_split=0.001,n_estimators=10 , class_weight={0:.5, 1:1})\n",
    "rf_clear0.fit(Xclear_train, yclear_train)\n",
    "yclearhat_tr_rfcl0= rf_clear0.predict(Xclear_train)\n",
    "yclearhat_ts_rfcl0= rf_clear0.predict(Xclear_test)\n",
    "print(classification_report(yclear_train, yclearhat_tr_rfcl0))\n",
    "print(classification_report(yclear_test, yclearhat_ts_rfcl0))"
   ]
  },
  {
   "attachments": {},
   "cell_type": "markdown",
   "metadata": {},
   "source": [
    "* aumenta la clase positiva y disminuye la negativa junto con el accuracy\n"
   ]
  },
  {
   "cell_type": "code",
   "execution_count": 110,
   "metadata": {},
   "outputs": [
    {
     "name": "stdout",
     "output_type": "stream",
     "text": [
      "              precision    recall  f1-score   support\n",
      "\n",
      "           0       0.67      0.76      0.71      8057\n",
      "           1       0.70      0.60      0.65      7720\n",
      "\n",
      "    accuracy                           0.68     15777\n",
      "   macro avg       0.69      0.68      0.68     15777\n",
      "weighted avg       0.68      0.68      0.68     15777\n",
      "\n",
      "              precision    recall  f1-score   support\n",
      "\n",
      "           0       0.64      0.74      0.69      3965\n",
      "           1       0.68      0.57      0.62      3807\n",
      "\n",
      "    accuracy                           0.66      7772\n",
      "   macro avg       0.66      0.65      0.65      7772\n",
      "weighted avg       0.66      0.66      0.65      7772\n",
      "\n"
     ]
    }
   ],
   "source": [
    "gboost_clear = GradientBoostingClassifier()\n",
    "gboost_clear.fit(Xclear_train, yclear_train)\n",
    "yclearhat_tr_gboostcl= gboost_clear.predict(Xclear_train)\n",
    "yclearhat_ts_gboostcl= gboost_clear.predict(Xclear_test)\n",
    "print(classification_report(yclear_train, yclearhat_tr_gboostcl))\n",
    "print(classification_report(yclear_test, yclearhat_ts_gboostcl))"
   ]
  },
  {
   "attachments": {},
   "cell_type": "markdown",
   "metadata": {},
   "source": [
    "* Lo modelos muestran tener buena capacidad generalizadora y un accuracy aceptable\n",
    "* Veamos el modelo de votacion"
   ]
  },
  {
   "cell_type": "code",
   "execution_count": null,
   "metadata": {},
   "outputs": [],
   "source": [
    "estimators_clear = [\n",
    "    ('rndforest para 1', RandomForestClassifier(random_state=1991,  warm_start=True, max_features=None,\n",
    "                                    criterion='gini', max_depth=100,  min_samples_leaf=0.001, \n",
    "                                    min_samples_split=0.001,n_estimators=10 , class_weight={0:.5, 1:1})), \n",
    "    ('rndforest balanceado', RandomForestClassifier(random_state=1991,  warm_start=True, max_features=None,\n",
    "                                    criterion='gini', max_depth=100,  min_samples_leaf=0.001, \n",
    "                                    min_samples_split=0.001,n_estimators=10 , class_weight={0:1, 1:1})),  \n",
    "    ('gboost', GradientBoostingClassifier())             \n",
    "]"
   ]
  },
  {
   "cell_type": "code",
   "execution_count": 121,
   "metadata": {},
   "outputs": [
    {
     "name": "stdout",
     "output_type": "stream",
     "text": [
      "              precision    recall  f1-score   support\n",
      "\n",
      "           0       0.78      0.74      0.76      8057\n",
      "           1       0.74      0.78      0.76      7720\n",
      "\n",
      "    accuracy                           0.76     15777\n",
      "   macro avg       0.76      0.76      0.76     15777\n",
      "weighted avg       0.76      0.76      0.76     15777\n",
      "\n",
      "              precision    recall  f1-score   support\n",
      "\n",
      "           0       0.66      0.64      0.65      3965\n",
      "           1       0.64      0.66      0.65      3807\n",
      "\n",
      "    accuracy                           0.65      7772\n",
      "   macro avg       0.65      0.65      0.65      7772\n",
      "weighted avg       0.65      0.65      0.65      7772\n",
      "\n"
     ]
    }
   ],
   "source": [
    "voting2_clear = VotingClassifier(estimators_clear)\n",
    "voting2_clear.fit(Xclear_train, yclear_train)\n",
    "yclearhat_tr_voting2= voting2_clear.predict(Xclear_train)\n",
    "yclearhat_ts_voting2= voting2_clear.predict(Xclear_test)\n",
    "print(classification_report(yclear_train, yclearhat_tr_voting2))\n",
    "print(classification_report(yclear_test, yclearhat_ts_voting2))"
   ]
  },
  {
   "attachments": {},
   "cell_type": "markdown",
   "metadata": {},
   "source": [
    "* Se observa buena capacidad generalizacion, solo 11 puntos de diferencia entre train y test.\n",
    "* Todos los indicadores estables cercanos al .65 indica que el modelo es estable.\n",
    "* gboost por si solo logra mejor generalizacion y accuracy, voting esta logrando ser mas estable."
   ]
  },
  {
   "attachments": {},
   "cell_type": "markdown",
   "metadata": {},
   "source": [
    "Dado de MultinomialNB esta capurando correctamente la clase positiva, evaluemos potenciar un modelo estable para la clase negativa.\n",
    "* De lo contrario Gboost o voting serian un buen modelo balanceado."
   ]
  },
  {
   "cell_type": "code",
   "execution_count": 122,
   "metadata": {},
   "outputs": [],
   "source": [
    "estimators_clear2 = [\n",
    "    ('rndforest balanceado', RandomForestClassifier(random_state=1991,  warm_start=True, max_features=None,\n",
    "                                    criterion='gini', max_depth=100,  min_samples_leaf=0.001, \n",
    "                                    min_samples_split=0.001,n_estimators=10 , class_weight={0:1, 1:1})),  \n",
    "    ('gboost', GradientBoostingClassifier())             \n",
    "]"
   ]
  },
  {
   "cell_type": "code",
   "execution_count": 124,
   "metadata": {},
   "outputs": [
    {
     "name": "stdout",
     "output_type": "stream",
     "text": [
      "              precision    recall  f1-score   support\n",
      "\n",
      "           0       0.68      0.86      0.76      8057\n",
      "           1       0.80      0.57      0.67      7720\n",
      "\n",
      "    accuracy                           0.72     15777\n",
      "   macro avg       0.74      0.72      0.71     15777\n",
      "weighted avg       0.74      0.72      0.71     15777\n",
      "\n",
      "              precision    recall  f1-score   support\n",
      "\n",
      "           0       0.63      0.80      0.70      3965\n",
      "           1       0.71      0.51      0.59      3807\n",
      "\n",
      "    accuracy                           0.66      7772\n",
      "   macro avg       0.67      0.65      0.65      7772\n",
      "weighted avg       0.67      0.66      0.65      7772\n",
      "\n"
     ]
    }
   ],
   "source": [
    "voting2_clear2 = VotingClassifier(estimators_clear2)\n",
    "voting2_clear2.fit(Xclear_train, yclear_train)\n",
    "yclearhat_tr_voting2= voting2_clear2.predict(Xclear_train)\n",
    "yclearhat_ts_voting2= voting2_clear2.predict(Xclear_test)\n",
    "print(classification_report(yclear_train, yclearhat_tr_voting2))\n",
    "print(classification_report(yclear_test, yclearhat_ts_voting2))"
   ]
  },
  {
   "attachments": {},
   "cell_type": "markdown",
   "metadata": {},
   "source": [
    "* Entonces se define el segundo modelo 'Voting2_clear2'"
   ]
  },
  {
   "cell_type": "code",
   "execution_count": 126,
   "metadata": {},
   "outputs": [
    {
     "data": {
      "text/plain": [
       "<matplotlib.legend.Legend at 0x243bef02160>"
      ]
     },
     "execution_count": 126,
     "metadata": {},
     "output_type": "execute_result"
    },
    {
     "data": {
      "image/png": "[encoded data removed]",
      "text/plain": [
       "<Figure size 1000x600 with 1 Axes>"
      ]
     },
     "metadata": {},
     "output_type": "display_data"
    }
   ],
   "source": [
    "plt.title('Voting clear para negativos')\n",
    "plt.axvline(x=.5, color='Tomato', linestyle='--')\n",
    "pcr(yclear_test, yclearhat_ts_voting2)\n",
    "plt.legend()"
   ]
  },
  {
   "attachments": {},
   "cell_type": "markdown",
   "metadata": {},
   "source": [
    "##### 3.1.3.a Resultados Generales"
   ]
  },
  {
   "cell_type": "code",
   "execution_count": null,
   "metadata": {},
   "outputs": [],
   "source": [
    "\n",
    "# Matrix Parametros sin neutrales transformado con cv_c\n",
    "cvclear_fit = cv_c.transform(df_clear['content'])\n",
    "# Matrix Parametros c con matriz sin neutrales\n",
    "Xclear_C = cvclear_fit.toarray()\n",
    "dimred_clear = PCA(n_components = 10,  whiten=True)\n",
    "project_x = dimred_clear.fit_transform(Xclear_C)\n",
    "Xclear_redu = pd.DataFrame(project_x)\n",
    "Xclear_train, Xclear_test, yclear_train, yclear_test = train_test_split(Xclear_redu,\n",
    "        yclear_bin,test_size=.33,random_state=1991)\n"
   ]
  },
  {
   "attachments": {},
   "cell_type": "markdown",
   "metadata": {},
   "source": [
    "Tweets de prueba:"
   ]
  },
  {
   "cell_type": "code",
   "execution_count": 128,
   "metadata": {},
   "outputs": [],
   "source": [
    "tweet1 = 'I feel bad about the movie, boring from the beginning to the end'\n",
    "tweet2 = 'the movie was really good, i love the actors performances and the movie effects'\n",
    "tweet3 = 'happy day mom'\n",
    "tweet4 = \"I hate mother's day\"\n",
    "tweet5 = 'I love star wars'\n",
    "tweet6 = 'I hate star wars'\n",
    "# Negativo - Positivo - positivo - negativo - positivo - negativo\n"
   ]
  },
  {
   "attachments": {},
   "cell_type": "markdown",
   "metadata": {},
   "source": [
    "**Voting entrenado sin neutrales**"
   ]
  },
  {
   "cell_type": "code",
   "execution_count": 131,
   "metadata": {},
   "outputs": [
    {
     "name": "stdout",
     "output_type": "stream",
     "text": [
      "Polaridad del tweet:  ['Negativo']\n",
      "Polaridad del tweet:  ['Positivo']\n",
      "Polaridad del tweet:  ['Positivo']\n",
      "Polaridad del tweet:  ['Negativo']\n",
      "Polaridad del tweet:  ['Positivo']\n",
      "Polaridad del tweet:  ['Negativo']\n"
     ]
    }
   ],
   "source": [
    "prueba_tweets(tweet1, cv_c, dimred_clear, voting2_clear2) # Negativo \n",
    "prueba_tweets(tweet2, cv_c, dimred_clear, voting2_clear2) # Positivo\n",
    "prueba_tweets(tweet3, cv_c, dimred_clear, voting2_clear2) # positivo \n",
    "prueba_tweets(tweet4, cv_c, dimred_clear, voting2_clear2) # negativo \n",
    "prueba_tweets(tweet5, cv_c, dimred_clear, voting2_clear2) # positivo\n",
    "prueba_tweets(tweet6, cv_c, dimred_clear, voting2_clear2) # negativo"
   ]
  },
  {
   "attachments": {},
   "cell_type": "markdown",
   "metadata": {},
   "source": [
    "* Logra clasificar correctamente frases complejas relacionadas al dataframe en el que se entreno como el dia de la madre y star wars, mencionadas de forma positiva y negativa, tambien categoriza de forma correcta frases genericas."
   ]
  },
  {
   "attachments": {},
   "cell_type": "markdown",
   "metadata": {},
   "source": [
    "**NaiveBayes - MultinomialNB"
   ]
  },
  {
   "cell_type": "code",
   "execution_count": 134,
   "metadata": {},
   "outputs": [
    {
     "name": "stdout",
     "output_type": "stream",
     "text": [
      "Polaridad del tweet:  ['Negativo']\n",
      "Polaridad del tweet:  ['Positivo']\n",
      "Polaridad del tweet:  ['Positivo']\n",
      "Polaridad del tweet:  ['Negativo']\n",
      "Polaridad del tweet:  ['Positivo']\n",
      "Polaridad del tweet:  ['Positivo']\n"
     ]
    }
   ],
   "source": [
    "prueba_tweets_nb(tweet1, cv_c_nb, m_nb) # Negativo \n",
    "prueba_tweets_nb(tweet2, cv_c_nb, m_nb) # Positivo\n",
    "prueba_tweets_nb(tweet3, cv_c_nb, m_nb) # positivo \n",
    "prueba_tweets_nb(tweet4, cv_c_nb, m_nb) # negativo \n",
    "prueba_tweets_nb(tweet5, cv_c_nb, m_nb) # positivo\n",
    "prueba_tweets_nb(tweet6, cv_c_nb, m_nb) # negativo"
   ]
  },
  {
   "attachments": {},
   "cell_type": "markdown",
   "metadata": {},
   "source": [
    "* Nive Bayes como se espera no es tan habil en captar los negativos como lo es para los positivos."
   ]
  },
  {
   "attachments": {},
   "cell_type": "markdown",
   "metadata": {},
   "source": [
    "* La mayoria de los modelos presentaron problemas para detectar la categoria de negativos (0), en la configuracion solicitada para el entrenamiento.\n",
    "* Como investigador y dada las pruebas realizadas a lo largo del ejercicio noté que la codificacion solicitada de manera a aleatoria solo genera ruido en los datos, ya que los modelos se vieron beneficiados de quitar los elementos neutrales asignados de manera aleatoria en sus categorias. Si bien SVC no mostro ser un buen modelo al incluir la clase neutral, al sacar estos elementos de la muestra y entrenamiento el modelo logra separar mejor las categorias positivas y negativas, incluso siendo mas habiles en clasificar los negativos.\n",
    "* Finalmente ambos modelos demostraron se capaces de predecir los tweets como se espera uno para positivos y otro para negativos, el que mejor se comporta es es voting."
   ]
  },
  {
   "attachments": {},
   "cell_type": "markdown",
   "metadata": {},
   "source": [
    "##### 3.1.3.b Conclusiones"
   ]
  },
  {
   "attachments": {},
   "cell_type": "markdown",
   "metadata": {},
   "source": [
    "* Voting se beneficia de los modelos que son capaces de predecir categorias especificas, como el random forest creado para captar la categoria negativa.\n",
    "* Random forest logra resultados muy buenos, y es muy versatil en su configuración, pero se sobre ajusta demasiado.\n",
    "* Los modelos SVM utilizan muchos recursos computacionales, y para un PC domestico es dificil de calibrar sus grillas.\n",
    "* Las clasificaciones aleatorias de datos complican mas los problemas, aislar estas clases parece ser mejor solución."
   ]
  },
  {
   "attachments": {},
   "cell_type": "markdown",
   "metadata": {},
   "source": [
    "##### 3.1.3.c - Modelo Seleccionado"
   ]
  },
  {
   "attachments": {},
   "cell_type": "markdown",
   "metadata": {},
   "source": [
    "* Si lo que se busca es ser certero en los positivos se recomienda utilizar  el modelo **m_nb** basado en multinomial NB parametrizado\n",
    "* Si lo que se busca es ser certero en los neativos  se remocienda utilizar el modelo **voting2_clear2** basado en un sistema de votacion compuesto por random forest y gradient boost.\n",
    "* El segundo modelo tambien se puede preparar para clasificar ambas clases con 65 de accuracy y ser mas equilibrado."
   ]
  },
  {
   "attachments": {},
   "cell_type": "markdown",
   "metadata": {},
   "source": [
    "### 3.2 Serialización"
   ]
  },
  {
   "attachments": {},
   "cell_type": "markdown",
   "metadata": {},
   "source": [
    "#### Serialización de modelos"
   ]
  },
  {
   "attachments": {},
   "cell_type": "markdown",
   "metadata": {},
   "source": [
    "* Se serializan los dos mejores modelos en archivos adjuntos en el entregable.\n",
    "    - Voting con distibucion de pesos w1 entrenado con neutrales asignados aleatoriamente\n",
    "    - Voting con distibucion de pesos w1 quitando los valores neutrales del Data Frame de entrenamiento"
   ]
  },
  {
   "cell_type": "code",
   "execution_count": 135,
   "metadata": {},
   "outputs": [],
   "source": [
    "dump(m_nb,open('diego_lizana_m_nb.sav', 'wb'))\n",
    "dump(voting2_clear2,open('diego_lizana_voting2_clear2.sav', 'wb'))"
   ]
  },
  {
   "attachments": {},
   "cell_type": "markdown",
   "metadata": {},
   "source": [
    "# **FIN**"
   ]
  }
 ],
 "metadata": {
  "kernelspec": {
   "display_name": "tensorflow",
   "language": "python",
   "name": "python3"
  },
  "language_info": {
   "codemirror_mode": {
    "name": "ipython",
    "version": 3
   },
   "file_extension": ".py",
   "mimetype": "text/x-python",
   "name": "python",
   "nbconvert_exporter": "python",
   "pygments_lexer": "ipython3",
   "version": "3.9.16"
  },
  "orig_nbformat": 4
 },
 "nbformat": 4,
 "nbformat_minor": 2
}
