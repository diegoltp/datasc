{
 "cells": [
  {
   "attachments": {},
   "cell_type": "markdown",
   "metadata": {},
   "source": [
    "# DESAFIO GUIADO S3"
   ]
  },
  {
   "attachments": {},
   "cell_type": "markdown",
   "metadata": {},
   "source": [
    "## Variables"
   ]
  },
  {
   "attachments": {},
   "cell_type": "markdown",
   "metadata": {},
   "source": [
    "### Req 1 Genere una muestra de casos (1 punto). Para ello debesconsiderar:"
   ]
  },
  {
   "attachments": {},
   "cell_type": "markdown",
   "metadata": {},
   "source": [
    "Utilice los últimos 4 dígitos de su rut como semilla pseudoaleatoria.\n",
    "* Seleccione el 50% de los casos.\n",
    "* Cada base generada debe contener los siguientes elementos:\n",
    "    - El índice de desarrollo humano (undp_hdi).\n",
    "    - El nombre del país (ccodealp).\n",
    "    - La región a la que pertenece (ht_region).\n",
    "    - El PIB per cápita. (gle_cgdpc).\n",
    "    - El total de la población (imf_pop)."
   ]
  },
  {
   "cell_type": "markdown",
   "metadata": {},
   "source": []
  },
  {
   "cell_type": "code",
   "execution_count": 1,
   "metadata": {},
   "outputs": [],
   "source": [
    "import pandas as pd\n",
    "import numpy as np\n",
    "\n"
   ]
  },
  {
   "cell_type": "code",
   "execution_count": 2,
   "metadata": {},
   "outputs": [
    {
     "data": {
      "text/plain": [
       "(194, 1882)"
      ]
     },
     "execution_count": 2,
     "metadata": {},
     "output_type": "execute_result"
    }
   ],
   "source": [
    "df = pd.read_csv('qog_std_cs_jan18.csv')\n",
    "df.shape"
   ]
  },
  {
   "cell_type": "code",
   "execution_count": 3,
   "metadata": {},
   "outputs": [
    {
     "data": {
      "text/plain": [
       "(array([  4,   8,  12,  20,  24,  28,  31,  50,  51,  52,  56,  68,  70,\n",
       "         72,  84,  90,  96, 100, 108, 116, 124, 132, 148, 152, 156, 158,\n",
       "        174, 188, 192, 212, 214, 231, 232, 233, 246, 266, 268, 270, 276,\n",
       "        340, 356, 364, 376, 384, 392, 398, 404, 408, 414, 417, 422, 434,\n",
       "        440, 454, 458, 480, 484, 492, 504, 554, 562, 578, 584, 586, 604,\n",
       "        624, 626, 634, 642, 643, 646, 659, 688, 690, 694, 703, 705, 706,\n",
       "        724, 728, 740, 752, 756, 760, 762, 776, 788, 795, 798, 807, 818,\n",
       "        826, 834, 854, 858, 860, 862]),\n",
       " array([1, 1, 1, 1, 1, 1, 1, 1, 1, 1, 1, 1, 1, 1, 1, 1, 1, 1, 1, 1, 1, 1,\n",
       "        1, 1, 1, 1, 1, 1, 1, 1, 1, 1, 1, 1, 1, 1, 1, 1, 1, 1, 1, 1, 1, 1,\n",
       "        1, 1, 1, 1, 1, 1, 1, 1, 1, 1, 1, 1, 1, 1, 1, 1, 1, 1, 1, 1, 1, 1,\n",
       "        1, 1, 1, 1, 1, 1, 1, 1, 1, 1, 1, 1, 1, 1, 1, 1, 1, 1, 1, 1, 1, 1,\n",
       "        1, 1, 1, 1, 1, 1, 1, 1, 1]))"
      ]
     },
     "execution_count": 3,
     "metadata": {},
     "output_type": "execute_result"
    }
   ],
   "source": [
    "df_muestral = df.sample(frac=0.5, random_state=8047).copy()\n",
    "np.unique(df_muestral['ccode'], return_counts=True)"
   ]
  },
  {
   "cell_type": "code",
   "execution_count": 4,
   "metadata": {},
   "outputs": [
    {
     "data": {
      "text/plain": [
       "(97, 1882)"
      ]
     },
     "execution_count": 4,
     "metadata": {},
     "output_type": "execute_result"
    }
   ],
   "source": [
    "df_muestral.shape"
   ]
  },
  {
   "attachments": {},
   "cell_type": "markdown",
   "metadata": {},
   "source": [
    "* Si su apellido está entre la A y la M, escoja las siguientes variables del módulo Educación:\n",
    "    - ffp_hf: Human Flight and Brain Drain.\n",
    "    - wef_qes: Quality of the educational system.\n",
    "    - wdi_expedu: Government expenditure on education, total(% of GDP).\n",
    "    - wdi_ners: School enrollment, secondary (% net)."
   ]
  },
  {
   "cell_type": "code",
   "execution_count": 5,
   "metadata": {},
   "outputs": [
    {
     "data": {
      "text/html": [
       "<div>\n",
       "<style scoped>\n",
       "    .dataframe tbody tr th:only-of-type {\n",
       "        vertical-align: middle;\n",
       "    }\n",
       "\n",
       "    .dataframe tbody tr th {\n",
       "        vertical-align: top;\n",
       "    }\n",
       "\n",
       "    .dataframe thead th {\n",
       "        text-align: right;\n",
       "    }\n",
       "</style>\n",
       "<table border=\"1\" class=\"dataframe\">\n",
       "  <thead>\n",
       "    <tr style=\"text-align: right;\">\n",
       "      <th></th>\n",
       "      <th>undp_hdi</th>\n",
       "      <th>ccodealp</th>\n",
       "      <th>ht_region</th>\n",
       "      <th>gle_cgdpc</th>\n",
       "      <th>imf_pop</th>\n",
       "    </tr>\n",
       "  </thead>\n",
       "  <tbody>\n",
       "    <tr>\n",
       "      <th>18</th>\n",
       "      <td>0.747</td>\n",
       "      <td>BIH</td>\n",
       "      <td>1</td>\n",
       "      <td>8507.65040</td>\n",
       "      <td>3.871</td>\n",
       "    </tr>\n",
       "    <tr>\n",
       "      <th>49</th>\n",
       "      <td>0.724</td>\n",
       "      <td>DMA</td>\n",
       "      <td>10</td>\n",
       "      <td>12613.72000</td>\n",
       "      <td>NaN</td>\n",
       "    </tr>\n",
       "    <tr>\n",
       "      <th>139</th>\n",
       "      <td>0.421</td>\n",
       "      <td>GNB</td>\n",
       "      <td>4</td>\n",
       "      <td>961.26001</td>\n",
       "      <td>NaN</td>\n",
       "    </tr>\n",
       "    <tr>\n",
       "      <th>42</th>\n",
       "      <td>0.775</td>\n",
       "      <td>CRI</td>\n",
       "      <td>2</td>\n",
       "      <td>9485.71000</td>\n",
       "      <td>NaN</td>\n",
       "    </tr>\n",
       "    <tr>\n",
       "      <th>63</th>\n",
       "      <td>0.450</td>\n",
       "      <td>GMB</td>\n",
       "      <td>4</td>\n",
       "      <td>1601.88000</td>\n",
       "      <td>NaN</td>\n",
       "    </tr>\n",
       "    <tr>\n",
       "      <th>...</th>\n",
       "      <td>...</td>\n",
       "      <td>...</td>\n",
       "      <td>...</td>\n",
       "      <td>...</td>\n",
       "      <td>...</td>\n",
       "    </tr>\n",
       "    <tr>\n",
       "      <th>156</th>\n",
       "      <td>0.842</td>\n",
       "      <td>SVK</td>\n",
       "      <td>1</td>\n",
       "      <td>21776.34000</td>\n",
       "      <td>5.416</td>\n",
       "    </tr>\n",
       "    <tr>\n",
       "      <th>152</th>\n",
       "      <td>0.775</td>\n",
       "      <td>SRB</td>\n",
       "      <td>1</td>\n",
       "      <td>11343.92000</td>\n",
       "      <td>7.167</td>\n",
       "    </tr>\n",
       "    <tr>\n",
       "      <th>6</th>\n",
       "      <td>0.758</td>\n",
       "      <td>AZE</td>\n",
       "      <td>1</td>\n",
       "      <td>9793.30960</td>\n",
       "      <td>9.342</td>\n",
       "    </tr>\n",
       "    <tr>\n",
       "      <th>169</th>\n",
       "      <td>0.553</td>\n",
       "      <td>SYR</td>\n",
       "      <td>3</td>\n",
       "      <td>4284.41990</td>\n",
       "      <td>NaN</td>\n",
       "    </tr>\n",
       "    <tr>\n",
       "      <th>61</th>\n",
       "      <td>0.694</td>\n",
       "      <td>GAB</td>\n",
       "      <td>4</td>\n",
       "      <td>14525.28000</td>\n",
       "      <td>NaN</td>\n",
       "    </tr>\n",
       "  </tbody>\n",
       "</table>\n",
       "<p>97 rows × 5 columns</p>\n",
       "</div>"
      ],
      "text/plain": [
       "     undp_hdi ccodealp  ht_region    gle_cgdpc  imf_pop\n",
       "18      0.747      BIH          1   8507.65040    3.871\n",
       "49      0.724      DMA         10  12613.72000      NaN\n",
       "139     0.421      GNB          4    961.26001      NaN\n",
       "42      0.775      CRI          2   9485.71000      NaN\n",
       "63      0.450      GMB          4   1601.88000      NaN\n",
       "..        ...      ...        ...          ...      ...\n",
       "156     0.842      SVK          1  21776.34000    5.416\n",
       "152     0.775      SRB          1  11343.92000    7.167\n",
       "6       0.758      AZE          1   9793.30960    9.342\n",
       "169     0.553      SYR          3   4284.41990      NaN\n",
       "61      0.694      GAB          4  14525.28000      NaN\n",
       "\n",
       "[97 rows x 5 columns]"
      ]
     },
     "execution_count": 5,
     "metadata": {},
     "output_type": "execute_result"
    }
   ],
   "source": [
    "df_muestral_gnrl = df_muestral[['undp_hdi',\n",
    "'ccodealp',\n",
    "'ht_region',\n",
    "'gle_cgdpc',\n",
    "'imf_pop', ]].copy()\n",
    "df_muestral_gnrl"
   ]
  },
  {
   "cell_type": "code",
   "execution_count": 6,
   "metadata": {},
   "outputs": [
    {
     "data": {
      "text/html": [
       "<div>\n",
       "<style scoped>\n",
       "    .dataframe tbody tr th:only-of-type {\n",
       "        vertical-align: middle;\n",
       "    }\n",
       "\n",
       "    .dataframe tbody tr th {\n",
       "        vertical-align: top;\n",
       "    }\n",
       "\n",
       "    .dataframe thead th {\n",
       "        text-align: right;\n",
       "    }\n",
       "</style>\n",
       "<table border=\"1\" class=\"dataframe\">\n",
       "  <thead>\n",
       "    <tr style=\"text-align: right;\">\n",
       "      <th></th>\n",
       "      <th>ffp_hf</th>\n",
       "      <th>wef_qes</th>\n",
       "      <th>wdi_expedu</th>\n",
       "      <th>wdi_ners</th>\n",
       "    </tr>\n",
       "  </thead>\n",
       "  <tbody>\n",
       "    <tr>\n",
       "      <th>18</th>\n",
       "      <td>5.5</td>\n",
       "      <td>2.355769</td>\n",
       "      <td>NaN</td>\n",
       "      <td>NaN</td>\n",
       "    </tr>\n",
       "    <tr>\n",
       "      <th>49</th>\n",
       "      <td>NaN</td>\n",
       "      <td>NaN</td>\n",
       "      <td>NaN</td>\n",
       "      <td>86.320930</td>\n",
       "    </tr>\n",
       "    <tr>\n",
       "      <th>139</th>\n",
       "      <td>8.5</td>\n",
       "      <td>NaN</td>\n",
       "      <td>2.17313</td>\n",
       "      <td>NaN</td>\n",
       "    </tr>\n",
       "    <tr>\n",
       "      <th>42</th>\n",
       "      <td>3.5</td>\n",
       "      <td>4.666449</td>\n",
       "      <td>6.92724</td>\n",
       "      <td>78.121140</td>\n",
       "    </tr>\n",
       "    <tr>\n",
       "      <th>63</th>\n",
       "      <td>7.7</td>\n",
       "      <td>4.276581</td>\n",
       "      <td>2.76771</td>\n",
       "      <td>NaN</td>\n",
       "    </tr>\n",
       "    <tr>\n",
       "      <th>...</th>\n",
       "      <td>...</td>\n",
       "      <td>...</td>\n",
       "      <td>...</td>\n",
       "      <td>...</td>\n",
       "    </tr>\n",
       "    <tr>\n",
       "      <th>156</th>\n",
       "      <td>4.2</td>\n",
       "      <td>2.762845</td>\n",
       "      <td>4.23856</td>\n",
       "      <td>NaN</td>\n",
       "    </tr>\n",
       "    <tr>\n",
       "      <th>152</th>\n",
       "      <td>5.3</td>\n",
       "      <td>3.058159</td>\n",
       "      <td>4.17861</td>\n",
       "      <td>92.205231</td>\n",
       "    </tr>\n",
       "    <tr>\n",
       "      <th>6</th>\n",
       "      <td>4.3</td>\n",
       "      <td>3.089141</td>\n",
       "      <td>2.63466</td>\n",
       "      <td>NaN</td>\n",
       "    </tr>\n",
       "    <tr>\n",
       "      <th>169</th>\n",
       "      <td>7.4</td>\n",
       "      <td>3.246166</td>\n",
       "      <td>NaN</td>\n",
       "      <td>46.616199</td>\n",
       "    </tr>\n",
       "    <tr>\n",
       "      <th>61</th>\n",
       "      <td>5.5</td>\n",
       "      <td>2.875665</td>\n",
       "      <td>2.66617</td>\n",
       "      <td>NaN</td>\n",
       "    </tr>\n",
       "  </tbody>\n",
       "</table>\n",
       "<p>97 rows × 4 columns</p>\n",
       "</div>"
      ],
      "text/plain": [
       "     ffp_hf   wef_qes  wdi_expedu   wdi_ners\n",
       "18      5.5  2.355769         NaN        NaN\n",
       "49      NaN       NaN         NaN  86.320930\n",
       "139     8.5       NaN     2.17313        NaN\n",
       "42      3.5  4.666449     6.92724  78.121140\n",
       "63      7.7  4.276581     2.76771        NaN\n",
       "..      ...       ...         ...        ...\n",
       "156     4.2  2.762845     4.23856        NaN\n",
       "152     5.3  3.058159     4.17861  92.205231\n",
       "6       4.3  3.089141     2.63466        NaN\n",
       "169     7.4  3.246166         NaN  46.616199\n",
       "61      5.5  2.875665     2.66617        NaN\n",
       "\n",
       "[97 rows x 4 columns]"
      ]
     },
     "execution_count": 6,
     "metadata": {},
     "output_type": "execute_result"
    }
   ],
   "source": [
    "lista_columnas_esp = ['ffp_hf',\n",
    "'wef_qes',\n",
    "'wdi_expedu',\n",
    "'wdi_ners']\n",
    "df_muestral_esp = df_muestral[lista_columnas_esp].copy()\n",
    "df_muestral_esp"
   ]
  },
  {
   "attachments": {},
   "cell_type": "markdown",
   "metadata": {},
   "source": [
    "* Guarde esta tabla procesada en un nuevo objeto."
   ]
  },
  {
   "cell_type": "code",
   "execution_count": 7,
   "metadata": {},
   "outputs": [
    {
     "data": {
      "text/html": [
       "<div>\n",
       "<style scoped>\n",
       "    .dataframe tbody tr th:only-of-type {\n",
       "        vertical-align: middle;\n",
       "    }\n",
       "\n",
       "    .dataframe tbody tr th {\n",
       "        vertical-align: top;\n",
       "    }\n",
       "\n",
       "    .dataframe thead th {\n",
       "        text-align: right;\n",
       "    }\n",
       "</style>\n",
       "<table border=\"1\" class=\"dataframe\">\n",
       "  <thead>\n",
       "    <tr style=\"text-align: right;\">\n",
       "      <th></th>\n",
       "      <th>undp_hdi</th>\n",
       "      <th>ccodealp</th>\n",
       "      <th>ht_region</th>\n",
       "      <th>gle_cgdpc</th>\n",
       "      <th>imf_pop</th>\n",
       "      <th>ffp_hf</th>\n",
       "      <th>wef_qes</th>\n",
       "      <th>wdi_expedu</th>\n",
       "      <th>wdi_ners</th>\n",
       "    </tr>\n",
       "  </thead>\n",
       "  <tbody>\n",
       "    <tr>\n",
       "      <th>18</th>\n",
       "      <td>0.747</td>\n",
       "      <td>BIH</td>\n",
       "      <td>1</td>\n",
       "      <td>8507.65040</td>\n",
       "      <td>3.871</td>\n",
       "      <td>5.5</td>\n",
       "      <td>2.355769</td>\n",
       "      <td>NaN</td>\n",
       "      <td>NaN</td>\n",
       "    </tr>\n",
       "    <tr>\n",
       "      <th>49</th>\n",
       "      <td>0.724</td>\n",
       "      <td>DMA</td>\n",
       "      <td>10</td>\n",
       "      <td>12613.72000</td>\n",
       "      <td>NaN</td>\n",
       "      <td>NaN</td>\n",
       "      <td>NaN</td>\n",
       "      <td>NaN</td>\n",
       "      <td>86.320930</td>\n",
       "    </tr>\n",
       "    <tr>\n",
       "      <th>139</th>\n",
       "      <td>0.421</td>\n",
       "      <td>GNB</td>\n",
       "      <td>4</td>\n",
       "      <td>961.26001</td>\n",
       "      <td>NaN</td>\n",
       "      <td>8.5</td>\n",
       "      <td>NaN</td>\n",
       "      <td>2.17313</td>\n",
       "      <td>NaN</td>\n",
       "    </tr>\n",
       "    <tr>\n",
       "      <th>42</th>\n",
       "      <td>0.775</td>\n",
       "      <td>CRI</td>\n",
       "      <td>2</td>\n",
       "      <td>9485.71000</td>\n",
       "      <td>NaN</td>\n",
       "      <td>3.5</td>\n",
       "      <td>4.666449</td>\n",
       "      <td>6.92724</td>\n",
       "      <td>78.121140</td>\n",
       "    </tr>\n",
       "    <tr>\n",
       "      <th>63</th>\n",
       "      <td>0.450</td>\n",
       "      <td>GMB</td>\n",
       "      <td>4</td>\n",
       "      <td>1601.88000</td>\n",
       "      <td>NaN</td>\n",
       "      <td>7.7</td>\n",
       "      <td>4.276581</td>\n",
       "      <td>2.76771</td>\n",
       "      <td>NaN</td>\n",
       "    </tr>\n",
       "    <tr>\n",
       "      <th>...</th>\n",
       "      <td>...</td>\n",
       "      <td>...</td>\n",
       "      <td>...</td>\n",
       "      <td>...</td>\n",
       "      <td>...</td>\n",
       "      <td>...</td>\n",
       "      <td>...</td>\n",
       "      <td>...</td>\n",
       "      <td>...</td>\n",
       "    </tr>\n",
       "    <tr>\n",
       "      <th>156</th>\n",
       "      <td>0.842</td>\n",
       "      <td>SVK</td>\n",
       "      <td>1</td>\n",
       "      <td>21776.34000</td>\n",
       "      <td>5.416</td>\n",
       "      <td>4.2</td>\n",
       "      <td>2.762845</td>\n",
       "      <td>4.23856</td>\n",
       "      <td>NaN</td>\n",
       "    </tr>\n",
       "    <tr>\n",
       "      <th>152</th>\n",
       "      <td>0.775</td>\n",
       "      <td>SRB</td>\n",
       "      <td>1</td>\n",
       "      <td>11343.92000</td>\n",
       "      <td>7.167</td>\n",
       "      <td>5.3</td>\n",
       "      <td>3.058159</td>\n",
       "      <td>4.17861</td>\n",
       "      <td>92.205231</td>\n",
       "    </tr>\n",
       "    <tr>\n",
       "      <th>6</th>\n",
       "      <td>0.758</td>\n",
       "      <td>AZE</td>\n",
       "      <td>1</td>\n",
       "      <td>9793.30960</td>\n",
       "      <td>9.342</td>\n",
       "      <td>4.3</td>\n",
       "      <td>3.089141</td>\n",
       "      <td>2.63466</td>\n",
       "      <td>NaN</td>\n",
       "    </tr>\n",
       "    <tr>\n",
       "      <th>169</th>\n",
       "      <td>0.553</td>\n",
       "      <td>SYR</td>\n",
       "      <td>3</td>\n",
       "      <td>4284.41990</td>\n",
       "      <td>NaN</td>\n",
       "      <td>7.4</td>\n",
       "      <td>3.246166</td>\n",
       "      <td>NaN</td>\n",
       "      <td>46.616199</td>\n",
       "    </tr>\n",
       "    <tr>\n",
       "      <th>61</th>\n",
       "      <td>0.694</td>\n",
       "      <td>GAB</td>\n",
       "      <td>4</td>\n",
       "      <td>14525.28000</td>\n",
       "      <td>NaN</td>\n",
       "      <td>5.5</td>\n",
       "      <td>2.875665</td>\n",
       "      <td>2.66617</td>\n",
       "      <td>NaN</td>\n",
       "    </tr>\n",
       "  </tbody>\n",
       "</table>\n",
       "<p>97 rows × 9 columns</p>\n",
       "</div>"
      ],
      "text/plain": [
       "     undp_hdi ccodealp  ht_region    gle_cgdpc  imf_pop  ffp_hf   wef_qes  \\\n",
       "18      0.747      BIH          1   8507.65040    3.871     5.5  2.355769   \n",
       "49      0.724      DMA         10  12613.72000      NaN     NaN       NaN   \n",
       "139     0.421      GNB          4    961.26001      NaN     8.5       NaN   \n",
       "42      0.775      CRI          2   9485.71000      NaN     3.5  4.666449   \n",
       "63      0.450      GMB          4   1601.88000      NaN     7.7  4.276581   \n",
       "..        ...      ...        ...          ...      ...     ...       ...   \n",
       "156     0.842      SVK          1  21776.34000    5.416     4.2  2.762845   \n",
       "152     0.775      SRB          1  11343.92000    7.167     5.3  3.058159   \n",
       "6       0.758      AZE          1   9793.30960    9.342     4.3  3.089141   \n",
       "169     0.553      SYR          3   4284.41990      NaN     7.4  3.246166   \n",
       "61      0.694      GAB          4  14525.28000      NaN     5.5  2.875665   \n",
       "\n",
       "     wdi_expedu   wdi_ners  \n",
       "18          NaN        NaN  \n",
       "49          NaN  86.320930  \n",
       "139     2.17313        NaN  \n",
       "42      6.92724  78.121140  \n",
       "63      2.76771        NaN  \n",
       "..          ...        ...  \n",
       "156     4.23856        NaN  \n",
       "152     4.17861  92.205231  \n",
       "6       2.63466        NaN  \n",
       "169         NaN  46.616199  \n",
       "61      2.66617        NaN  \n",
       "\n",
       "[97 rows x 9 columns]"
      ]
     },
     "execution_count": 7,
     "metadata": {},
     "output_type": "execute_result"
    }
   ],
   "source": [
    "# Coloque los __DataFrames__ de lado a lado\n",
    "#horizontal_stack = pd.concat([survey_sub, survey_sub_last10], axis=1)\n",
    "df_muestral = pd.concat([df_muestral_gnrl, df_muestral_esp], axis=1).copy()\n",
    "df_muestral"
   ]
  },
  {
   "attachments": {},
   "cell_type": "markdown",
   "metadata": {},
   "source": [
    "* Renombre las categorías de la variable ht_region de números a regiones."
   ]
  },
  {
   "cell_type": "code",
   "execution_count": 8,
   "metadata": {},
   "outputs": [
    {
     "data": {
      "text/html": [
       "<div>\n",
       "<style scoped>\n",
       "    .dataframe tbody tr th:only-of-type {\n",
       "        vertical-align: middle;\n",
       "    }\n",
       "\n",
       "    .dataframe tbody tr th {\n",
       "        vertical-align: top;\n",
       "    }\n",
       "\n",
       "    .dataframe thead th {\n",
       "        text-align: right;\n",
       "    }\n",
       "</style>\n",
       "<table border=\"1\" class=\"dataframe\">\n",
       "  <thead>\n",
       "    <tr style=\"text-align: right;\">\n",
       "      <th></th>\n",
       "      <th>undp_hdi</th>\n",
       "      <th>ccodealp</th>\n",
       "      <th>ht_region</th>\n",
       "      <th>gle_cgdpc</th>\n",
       "      <th>imf_pop</th>\n",
       "      <th>ffp_hf</th>\n",
       "      <th>wef_qes</th>\n",
       "      <th>wdi_expedu</th>\n",
       "      <th>wdi_ners</th>\n",
       "      <th>region_recod</th>\n",
       "    </tr>\n",
       "  </thead>\n",
       "  <tbody>\n",
       "    <tr>\n",
       "      <th>18</th>\n",
       "      <td>0.747</td>\n",
       "      <td>BIH</td>\n",
       "      <td>1</td>\n",
       "      <td>8507.65040</td>\n",
       "      <td>3.871</td>\n",
       "      <td>5.5</td>\n",
       "      <td>2.355769</td>\n",
       "      <td>NaN</td>\n",
       "      <td>NaN</td>\n",
       "      <td>EastEurope</td>\n",
       "    </tr>\n",
       "    <tr>\n",
       "      <th>49</th>\n",
       "      <td>0.724</td>\n",
       "      <td>DMA</td>\n",
       "      <td>10</td>\n",
       "      <td>12613.72000</td>\n",
       "      <td>NaN</td>\n",
       "      <td>NaN</td>\n",
       "      <td>NaN</td>\n",
       "      <td>NaN</td>\n",
       "      <td>86.320930</td>\n",
       "      <td>Caribbean</td>\n",
       "    </tr>\n",
       "    <tr>\n",
       "      <th>139</th>\n",
       "      <td>0.421</td>\n",
       "      <td>GNB</td>\n",
       "      <td>4</td>\n",
       "      <td>961.26001</td>\n",
       "      <td>NaN</td>\n",
       "      <td>8.5</td>\n",
       "      <td>NaN</td>\n",
       "      <td>2.17313</td>\n",
       "      <td>NaN</td>\n",
       "      <td>SubSaharian</td>\n",
       "    </tr>\n",
       "    <tr>\n",
       "      <th>42</th>\n",
       "      <td>0.775</td>\n",
       "      <td>CRI</td>\n",
       "      <td>2</td>\n",
       "      <td>9485.71000</td>\n",
       "      <td>NaN</td>\n",
       "      <td>3.5</td>\n",
       "      <td>4.666449</td>\n",
       "      <td>6.92724</td>\n",
       "      <td>78.121140</td>\n",
       "      <td>LatAm</td>\n",
       "    </tr>\n",
       "    <tr>\n",
       "      <th>63</th>\n",
       "      <td>0.450</td>\n",
       "      <td>GMB</td>\n",
       "      <td>4</td>\n",
       "      <td>1601.88000</td>\n",
       "      <td>NaN</td>\n",
       "      <td>7.7</td>\n",
       "      <td>4.276581</td>\n",
       "      <td>2.76771</td>\n",
       "      <td>NaN</td>\n",
       "      <td>SubSaharian</td>\n",
       "    </tr>\n",
       "    <tr>\n",
       "      <th>...</th>\n",
       "      <td>...</td>\n",
       "      <td>...</td>\n",
       "      <td>...</td>\n",
       "      <td>...</td>\n",
       "      <td>...</td>\n",
       "      <td>...</td>\n",
       "      <td>...</td>\n",
       "      <td>...</td>\n",
       "      <td>...</td>\n",
       "      <td>...</td>\n",
       "    </tr>\n",
       "    <tr>\n",
       "      <th>156</th>\n",
       "      <td>0.842</td>\n",
       "      <td>SVK</td>\n",
       "      <td>1</td>\n",
       "      <td>21776.34000</td>\n",
       "      <td>5.416</td>\n",
       "      <td>4.2</td>\n",
       "      <td>2.762845</td>\n",
       "      <td>4.23856</td>\n",
       "      <td>NaN</td>\n",
       "      <td>EastEurope</td>\n",
       "    </tr>\n",
       "    <tr>\n",
       "      <th>152</th>\n",
       "      <td>0.775</td>\n",
       "      <td>SRB</td>\n",
       "      <td>1</td>\n",
       "      <td>11343.92000</td>\n",
       "      <td>7.167</td>\n",
       "      <td>5.3</td>\n",
       "      <td>3.058159</td>\n",
       "      <td>4.17861</td>\n",
       "      <td>92.205231</td>\n",
       "      <td>EastEurope</td>\n",
       "    </tr>\n",
       "    <tr>\n",
       "      <th>6</th>\n",
       "      <td>0.758</td>\n",
       "      <td>AZE</td>\n",
       "      <td>1</td>\n",
       "      <td>9793.30960</td>\n",
       "      <td>9.342</td>\n",
       "      <td>4.3</td>\n",
       "      <td>3.089141</td>\n",
       "      <td>2.63466</td>\n",
       "      <td>NaN</td>\n",
       "      <td>EastEurope</td>\n",
       "    </tr>\n",
       "    <tr>\n",
       "      <th>169</th>\n",
       "      <td>0.553</td>\n",
       "      <td>SYR</td>\n",
       "      <td>3</td>\n",
       "      <td>4284.41990</td>\n",
       "      <td>NaN</td>\n",
       "      <td>7.4</td>\n",
       "      <td>3.246166</td>\n",
       "      <td>NaN</td>\n",
       "      <td>46.616199</td>\n",
       "      <td>NorthAfrica</td>\n",
       "    </tr>\n",
       "    <tr>\n",
       "      <th>61</th>\n",
       "      <td>0.694</td>\n",
       "      <td>GAB</td>\n",
       "      <td>4</td>\n",
       "      <td>14525.28000</td>\n",
       "      <td>NaN</td>\n",
       "      <td>5.5</td>\n",
       "      <td>2.875665</td>\n",
       "      <td>2.66617</td>\n",
       "      <td>NaN</td>\n",
       "      <td>SubSaharian</td>\n",
       "    </tr>\n",
       "  </tbody>\n",
       "</table>\n",
       "<p>97 rows × 10 columns</p>\n",
       "</div>"
      ],
      "text/plain": [
       "     undp_hdi ccodealp  ht_region    gle_cgdpc  imf_pop  ffp_hf   wef_qes  \\\n",
       "18      0.747      BIH          1   8507.65040    3.871     5.5  2.355769   \n",
       "49      0.724      DMA         10  12613.72000      NaN     NaN       NaN   \n",
       "139     0.421      GNB          4    961.26001      NaN     8.5       NaN   \n",
       "42      0.775      CRI          2   9485.71000      NaN     3.5  4.666449   \n",
       "63      0.450      GMB          4   1601.88000      NaN     7.7  4.276581   \n",
       "..        ...      ...        ...          ...      ...     ...       ...   \n",
       "156     0.842      SVK          1  21776.34000    5.416     4.2  2.762845   \n",
       "152     0.775      SRB          1  11343.92000    7.167     5.3  3.058159   \n",
       "6       0.758      AZE          1   9793.30960    9.342     4.3  3.089141   \n",
       "169     0.553      SYR          3   4284.41990      NaN     7.4  3.246166   \n",
       "61      0.694      GAB          4  14525.28000      NaN     5.5  2.875665   \n",
       "\n",
       "     wdi_expedu   wdi_ners region_recod  \n",
       "18          NaN        NaN   EastEurope  \n",
       "49          NaN  86.320930    Caribbean  \n",
       "139     2.17313        NaN  SubSaharian  \n",
       "42      6.92724  78.121140        LatAm  \n",
       "63      2.76771        NaN  SubSaharian  \n",
       "..          ...        ...          ...  \n",
       "156     4.23856        NaN   EastEurope  \n",
       "152     4.17861  92.205231   EastEurope  \n",
       "6       2.63466        NaN   EastEurope  \n",
       "169         NaN  46.616199  NorthAfrica  \n",
       "61      2.66617        NaN  SubSaharian  \n",
       "\n",
       "[97 rows x 10 columns]"
      ]
     },
     "execution_count": 8,
     "metadata": {},
     "output_type": "execute_result"
    }
   ],
   "source": [
    "df_muestral['region_recod'] = df_muestral['ht_region'].replace([1, 2, 3, 4,\n",
    "5, 6, 7, 8, 9, 10],\n",
    "['EastEurope', 'LatAm', 'NorthAfrica',\n",
    "'SubSaharian', 'WesternDem', 'EastAsia',\n",
    "'SouthEastAsia','SouthAsia','Pacific', 'Caribbean' ]).copy()\n",
    "df_muestral\n"
   ]
  },
  {
   "attachments": {},
   "cell_type": "markdown",
   "metadata": {},
   "source": [
    "### Req 2: Genere una función que ingrese su objeto y devuelva lo siguiente (2 puntos):"
   ]
  },
  {
   "attachments": {},
   "cell_type": "markdown",
   "metadata": {},
   "source": []
  },
  {
   "cell_type": "code",
   "execution_count": 9,
   "metadata": {},
   "outputs": [
    {
     "data": {
      "text/html": [
       "<div>\n",
       "<style scoped>\n",
       "    .dataframe tbody tr th:only-of-type {\n",
       "        vertical-align: middle;\n",
       "    }\n",
       "\n",
       "    .dataframe tbody tr th {\n",
       "        vertical-align: top;\n",
       "    }\n",
       "\n",
       "    .dataframe thead th {\n",
       "        text-align: right;\n",
       "    }\n",
       "</style>\n",
       "<table border=\"1\" class=\"dataframe\">\n",
       "  <thead>\n",
       "    <tr style=\"text-align: right;\">\n",
       "      <th></th>\n",
       "      <th>undp_hdi</th>\n",
       "      <th>ccodealp</th>\n",
       "      <th>ht_region</th>\n",
       "      <th>gle_cgdpc</th>\n",
       "      <th>imf_pop</th>\n",
       "      <th>ffp_hf</th>\n",
       "      <th>wef_qes</th>\n",
       "      <th>wdi_expedu</th>\n",
       "      <th>wdi_ners</th>\n",
       "      <th>region_recod</th>\n",
       "    </tr>\n",
       "  </thead>\n",
       "  <tbody>\n",
       "    <tr>\n",
       "      <th>18</th>\n",
       "      <td>0.747</td>\n",
       "      <td>BIH</td>\n",
       "      <td>1</td>\n",
       "      <td>8507.65040</td>\n",
       "      <td>3.871</td>\n",
       "      <td>5.5</td>\n",
       "      <td>2.355769</td>\n",
       "      <td>NaN</td>\n",
       "      <td>NaN</td>\n",
       "      <td>EastEurope</td>\n",
       "    </tr>\n",
       "    <tr>\n",
       "      <th>49</th>\n",
       "      <td>0.724</td>\n",
       "      <td>DMA</td>\n",
       "      <td>10</td>\n",
       "      <td>12613.72000</td>\n",
       "      <td>NaN</td>\n",
       "      <td>NaN</td>\n",
       "      <td>NaN</td>\n",
       "      <td>NaN</td>\n",
       "      <td>86.320930</td>\n",
       "      <td>Caribbean</td>\n",
       "    </tr>\n",
       "    <tr>\n",
       "      <th>139</th>\n",
       "      <td>0.421</td>\n",
       "      <td>GNB</td>\n",
       "      <td>4</td>\n",
       "      <td>961.26001</td>\n",
       "      <td>NaN</td>\n",
       "      <td>8.5</td>\n",
       "      <td>NaN</td>\n",
       "      <td>2.17313</td>\n",
       "      <td>NaN</td>\n",
       "      <td>SubSaharian</td>\n",
       "    </tr>\n",
       "    <tr>\n",
       "      <th>42</th>\n",
       "      <td>0.775</td>\n",
       "      <td>CRI</td>\n",
       "      <td>2</td>\n",
       "      <td>9485.71000</td>\n",
       "      <td>NaN</td>\n",
       "      <td>3.5</td>\n",
       "      <td>4.666449</td>\n",
       "      <td>6.92724</td>\n",
       "      <td>78.121140</td>\n",
       "      <td>LatAm</td>\n",
       "    </tr>\n",
       "    <tr>\n",
       "      <th>63</th>\n",
       "      <td>0.450</td>\n",
       "      <td>GMB</td>\n",
       "      <td>4</td>\n",
       "      <td>1601.88000</td>\n",
       "      <td>NaN</td>\n",
       "      <td>7.7</td>\n",
       "      <td>4.276581</td>\n",
       "      <td>2.76771</td>\n",
       "      <td>NaN</td>\n",
       "      <td>SubSaharian</td>\n",
       "    </tr>\n",
       "    <tr>\n",
       "      <th>...</th>\n",
       "      <td>...</td>\n",
       "      <td>...</td>\n",
       "      <td>...</td>\n",
       "      <td>...</td>\n",
       "      <td>...</td>\n",
       "      <td>...</td>\n",
       "      <td>...</td>\n",
       "      <td>...</td>\n",
       "      <td>...</td>\n",
       "      <td>...</td>\n",
       "    </tr>\n",
       "    <tr>\n",
       "      <th>156</th>\n",
       "      <td>0.842</td>\n",
       "      <td>SVK</td>\n",
       "      <td>1</td>\n",
       "      <td>21776.34000</td>\n",
       "      <td>5.416</td>\n",
       "      <td>4.2</td>\n",
       "      <td>2.762845</td>\n",
       "      <td>4.23856</td>\n",
       "      <td>NaN</td>\n",
       "      <td>EastEurope</td>\n",
       "    </tr>\n",
       "    <tr>\n",
       "      <th>152</th>\n",
       "      <td>0.775</td>\n",
       "      <td>SRB</td>\n",
       "      <td>1</td>\n",
       "      <td>11343.92000</td>\n",
       "      <td>7.167</td>\n",
       "      <td>5.3</td>\n",
       "      <td>3.058159</td>\n",
       "      <td>4.17861</td>\n",
       "      <td>92.205231</td>\n",
       "      <td>EastEurope</td>\n",
       "    </tr>\n",
       "    <tr>\n",
       "      <th>6</th>\n",
       "      <td>0.758</td>\n",
       "      <td>AZE</td>\n",
       "      <td>1</td>\n",
       "      <td>9793.30960</td>\n",
       "      <td>9.342</td>\n",
       "      <td>4.3</td>\n",
       "      <td>3.089141</td>\n",
       "      <td>2.63466</td>\n",
       "      <td>NaN</td>\n",
       "      <td>EastEurope</td>\n",
       "    </tr>\n",
       "    <tr>\n",
       "      <th>169</th>\n",
       "      <td>0.553</td>\n",
       "      <td>SYR</td>\n",
       "      <td>3</td>\n",
       "      <td>4284.41990</td>\n",
       "      <td>NaN</td>\n",
       "      <td>7.4</td>\n",
       "      <td>3.246166</td>\n",
       "      <td>NaN</td>\n",
       "      <td>46.616199</td>\n",
       "      <td>NorthAfrica</td>\n",
       "    </tr>\n",
       "    <tr>\n",
       "      <th>61</th>\n",
       "      <td>0.694</td>\n",
       "      <td>GAB</td>\n",
       "      <td>4</td>\n",
       "      <td>14525.28000</td>\n",
       "      <td>NaN</td>\n",
       "      <td>5.5</td>\n",
       "      <td>2.875665</td>\n",
       "      <td>2.66617</td>\n",
       "      <td>NaN</td>\n",
       "      <td>SubSaharian</td>\n",
       "    </tr>\n",
       "  </tbody>\n",
       "</table>\n",
       "<p>97 rows × 10 columns</p>\n",
       "</div>"
      ],
      "text/plain": [
       "     undp_hdi ccodealp  ht_region    gle_cgdpc  imf_pop  ffp_hf   wef_qes  \\\n",
       "18      0.747      BIH          1   8507.65040    3.871     5.5  2.355769   \n",
       "49      0.724      DMA         10  12613.72000      NaN     NaN       NaN   \n",
       "139     0.421      GNB          4    961.26001      NaN     8.5       NaN   \n",
       "42      0.775      CRI          2   9485.71000      NaN     3.5  4.666449   \n",
       "63      0.450      GMB          4   1601.88000      NaN     7.7  4.276581   \n",
       "..        ...      ...        ...          ...      ...     ...       ...   \n",
       "156     0.842      SVK          1  21776.34000    5.416     4.2  2.762845   \n",
       "152     0.775      SRB          1  11343.92000    7.167     5.3  3.058159   \n",
       "6       0.758      AZE          1   9793.30960    9.342     4.3  3.089141   \n",
       "169     0.553      SYR          3   4284.41990      NaN     7.4  3.246166   \n",
       "61      0.694      GAB          4  14525.28000      NaN     5.5  2.875665   \n",
       "\n",
       "     wdi_expedu   wdi_ners region_recod  \n",
       "18          NaN        NaN   EastEurope  \n",
       "49          NaN  86.320930    Caribbean  \n",
       "139     2.17313        NaN  SubSaharian  \n",
       "42      6.92724  78.121140        LatAm  \n",
       "63      2.76771        NaN  SubSaharian  \n",
       "..          ...        ...          ...  \n",
       "156     4.23856        NaN   EastEurope  \n",
       "152     4.17861  92.205231   EastEurope  \n",
       "6       2.63466        NaN   EastEurope  \n",
       "169         NaN  46.616199  NorthAfrica  \n",
       "61      2.66617        NaN  SubSaharian  \n",
       "\n",
       "[97 rows x 10 columns]"
      ]
     },
     "execution_count": 9,
     "metadata": {},
     "output_type": "execute_result"
    }
   ],
   "source": [
    "df_muestral"
   ]
  },
  {
   "attachments": {},
   "cell_type": "markdown",
   "metadata": {},
   "source": [
    "- Continuos:\n",
    "    - ['undp_hdi','gle_cgdpc','imf_pop', 'ffp_hf', 'wef_qes', 'wdi_expedu','wdi_ners']\n",
    "- Discretos:\n",
    "    - [ 'region_recod' ]"
   ]
  },
  {
   "attachments": {},
   "cell_type": "markdown",
   "metadata": {},
   "source": [
    "* Por cada variable existente en su objeto, calcule las medidas descriptivas para los casos continuos.\n",
    "* Reporte las estadísticas descriptivas para gle_cgdpc, undp_hdi, imf_pop."
   ]
  },
  {
   "cell_type": "code",
   "execution_count": 10,
   "metadata": {},
   "outputs": [],
   "source": [
    "v_continuas = ['undp_hdi','gle_cgdpc','imf_pop', 'ffp_hf', 'wef_qes', 'wdi_expedu','wdi_ners']\n",
    "descr_v_continuas = {'undp_hdi': 'índice de desarrollo humano',\n",
    "'gle_cgdpc': 'PIB per cápita',\n",
    "'imf_pop': 'total de la población',\n",
    " 'ffp_hf': 'Human Flight and Brain Drain.',\n",
    " 'wef_qes': 'Quality of the educational system.',\n",
    " 'wdi_expedu': 'Government expenditure on education, total(%_GDP).',\n",
    "'wdi_ners': 'School enrollment, secondary (% net).'}"
   ]
  },
  {
   "cell_type": "code",
   "execution_count": 11,
   "metadata": {},
   "outputs": [
    {
     "name": "stdout",
     "output_type": "stream",
     "text": [
      "\n",
      "    undp_hdi: índice de desarrollo humano\n",
      "    ----------------------------------\n",
      "    count    91.000000\n",
      "mean      0.701703\n",
      "std       0.156217\n",
      "min       0.351000\n",
      "25%       0.589000\n",
      "50%       0.741000\n",
      "75%       0.796000\n",
      "max       0.948000\n",
      "Name: undp_hdi, dtype: float64\n",
      "    ----------------------------------\n",
      "    \n",
      "\n",
      "    gle_cgdpc: PIB per cápita\n",
      "    ----------------------------------\n",
      "    count        96.000000\n",
      "mean      14784.963550\n",
      "std       19153.891625\n",
      "min         644.539980\n",
      "25%        2971.567500\n",
      "50%        9255.265150\n",
      "75%       16029.247500\n",
      "max      108481.130000\n",
      "Name: gle_cgdpc, dtype: float64\n",
      "    ----------------------------------\n",
      "    \n",
      "\n",
      "    imf_pop: total de la población\n",
      "    ----------------------------------\n",
      "    count     70.000000\n",
      "mean      26.138243\n",
      "std       40.201502\n",
      "min        0.011000\n",
      "25%        2.944000\n",
      "50%        8.176000\n",
      "75%       30.488000\n",
      "max      186.190002\n",
      "Name: imf_pop, dtype: float64\n",
      "    ----------------------------------\n",
      "    \n",
      "\n",
      "    ffp_hf: Human Flight and Brain Drain.\n",
      "    ----------------------------------\n",
      "    count    88.000000\n",
      "mean      5.513636\n",
      "std       1.933087\n",
      "min       1.500000\n",
      "25%       4.275000\n",
      "50%       5.500000\n",
      "75%       7.000000\n",
      "max       9.200000\n",
      "Name: ffp_hf, dtype: float64\n",
      "    ----------------------------------\n",
      "    \n",
      "\n",
      "    wef_qes: Quality of the educational system.\n",
      "    ----------------------------------\n",
      "    count    77.000000\n",
      "mean      3.675423\n",
      "std       0.939539\n",
      "min       1.874972\n",
      "25%       2.986086\n",
      "50%       3.523580\n",
      "75%       4.276581\n",
      "max       5.986858\n",
      "Name: wef_qes, dtype: float64\n",
      "    ----------------------------------\n",
      "    \n",
      "\n",
      "    wdi_expedu: Government expenditure on education, total(%_GDP).\n",
      "    ----------------------------------\n",
      "    count    71.000000\n",
      "mean      4.395745\n",
      "std       1.615336\n",
      "min       1.021950\n",
      "25%       3.026855\n",
      "50%       4.356940\n",
      "75%       5.449030\n",
      "max       7.775000\n",
      "Name: wdi_expedu, dtype: float64\n",
      "    ----------------------------------\n",
      "    \n",
      "\n",
      "    wdi_ners: School enrollment, secondary (% net).\n",
      "    ----------------------------------\n",
      "    count    67.000000\n",
      "mean     73.082308\n",
      "std      21.903624\n",
      "min      15.665040\n",
      "25%      63.108273\n",
      "50%      78.379562\n",
      "75%      90.174923\n",
      "max      99.428749\n",
      "Name: wdi_ners, dtype: float64\n",
      "    ----------------------------------\n",
      "    \n"
     ]
    }
   ],
   "source": [
    "for columna in v_continuas:\n",
    "    print(f'''\n",
    "    {columna}: {descr_v_continuas[columna]}\n",
    "    ----------------------------------\n",
    "    {df_muestral[columna].describe()}\n",
    "    ----------------------------------\n",
    "    ''')"
   ]
  },
  {
   "attachments": {},
   "cell_type": "markdown",
   "metadata": {},
   "source": [
    "* Para cada variable discreta, que calcule la frecuencia."
   ]
  },
  {
   "cell_type": "code",
   "execution_count": 12,
   "metadata": {},
   "outputs": [
    {
     "data": {
      "text/plain": [
       "False    97\n",
       "Name: region_recod, dtype: int64"
      ]
     },
     "execution_count": 12,
     "metadata": {},
     "output_type": "execute_result"
    }
   ],
   "source": [
    "# v_discretas = [ 'region_recod' ]\n",
    "#comprobar datos perdidos en la columna\n",
    "df_muestral['region_recod'].isna().value_counts()"
   ]
  },
  {
   "cell_type": "code",
   "execution_count": 13,
   "metadata": {},
   "outputs": [
    {
     "data": {
      "text/plain": [
       "SubSaharian      23\n",
       "EastEurope       19\n",
       "WesternDem       12\n",
       "NorthAfrica      11\n",
       "LatAm            10\n",
       "Caribbean         6\n",
       "EastAsia          4\n",
       "Pacific           4\n",
       "SouthAsia         4\n",
       "SouthEastAsia     4\n",
       "Name: region_recod, dtype: int64"
      ]
     },
     "execution_count": 13,
     "metadata": {},
     "output_type": "execute_result"
    }
   ],
   "source": [
    "df_muestral['region_recod'].value_counts()"
   ]
  },
  {
   "attachments": {},
   "cell_type": "markdown",
   "metadata": {},
   "source": [
    "* Compare las estadísticas con algún compañero. ¿Ve alguna diferencia sustancial en alguna de ellas?\n",
    "    - Son distintos pero siguen una tendencia.. lo que mas cambia es la cantidad de NA"
   ]
  },
  {
   "attachments": {},
   "cell_type": "markdown",
   "metadata": {},
   "source": [
    "### Req 3: Genere una función que liste las observaciones perdidas de una variable (2 puntos)"
   ]
  },
  {
   "attachments": {},
   "cell_type": "markdown",
   "metadata": {},
   "source": [
    "* La función debe contener los siguientes argumentos:\n",
    "    - dataframe: La función debe ingresar un objeto DataFrame.\n",
    "    - var: Variable a inspeccionar.\n",
    "    - print_list: Opción para imprimir la lista de observaciones perdidas en la variable. Debe ser False por defecto.\n",
    "* La función debe retornar la cantidad de casos perdidos y el porcentaje\n",
    "correspondiente.\n",
    "* Cuando print_list = True, debe retornar la lista de casos.\n",
    "* Analice todas las variables y sus casos perdidos.\n",
    "Para las 3 variables con un mayor porcentaje de casos perdidos, solicite la\n",
    "lista de países con ausencia de datos."
   ]
  },
  {
   "cell_type": "code",
   "execution_count": 14,
   "metadata": {},
   "outputs": [],
   "source": [
    "def funcion2(dataframe, var:str, print_list:bool=False):\n",
    "    df = dataframe.copy()\n",
    "    valores_faltantes = df[var].isna().sum()\n",
    "    valores_totales = len(df[var])\n",
    "    if print_list:\n",
    "        print(f'''\n",
    "{var}\n",
    "------------------------------------------\n",
    "{np.round(df[var], 4).to_list()}''')\n",
    "    return valores_faltantes, valores_faltantes/valores_totales*100"
   ]
  },
  {
   "cell_type": "code",
   "execution_count": 15,
   "metadata": {},
   "outputs": [],
   "source": [
    "def imprime_info(dataFrame, lista_columnas, print_list=False):\n",
    "    for columna in lista_columnas:\n",
    "        print(f\"{columna}: {funcion2(dataFrame, columna, print_list)}\")"
   ]
  },
  {
   "cell_type": "code",
   "execution_count": 16,
   "metadata": {},
   "outputs": [
    {
     "name": "stdout",
     "output_type": "stream",
     "text": [
      "undp_hdi: (6, 6.185567010309279)\n",
      "gle_cgdpc: (1, 1.0309278350515463)\n",
      "imf_pop: (27, 27.835051546391753)\n",
      "ffp_hf: (9, 9.278350515463918)\n",
      "wef_qes: (20, 20.618556701030926)\n",
      "wdi_expedu: (26, 26.804123711340207)\n",
      "wdi_ners: (30, 30.927835051546392)\n"
     ]
    }
   ],
   "source": [
    "imprime_info(df_muestral, v_continuas)"
   ]
  },
  {
   "cell_type": "code",
   "execution_count": 17,
   "metadata": {},
   "outputs": [
    {
     "name": "stdout",
     "output_type": "stream",
     "text": [
      "\n",
      "wdi_ners\n",
      "------------------------------------------\n",
      "[nan, 86.3209, nan, 78.1211, nan, 94.0032, nan, 80.1776, nan, nan, nan, 41.1754, 15.665, 61.7552, 76.3481, nan, nan, 75.4291, 87.4857, 96.44, nan, 98.28, 83.9299, 72.4646, nan, 64.8365, 57.2399, 92.2074, 88.2979, 74.7897, 58.3923, 87.0323, nan, 56.1424, 84.2465, 76.2037, 98.3922, 49.2594, 81.8582, 26.4928, 83.2248, 74.5704, nan, 65.4576, nan, 83.5788, 67.4097, 83.8818, nan, nan, 78.3796, nan, nan, 48.7503, nan, nan, 96.4586, nan, 99.4287, 30.2743, 96.3676, 69.805, 95.2856, 32.9423, 43.9345, 64.4613, 69.326, 85.2782, 99.0427, nan, 94.3913, 94.9459, 95.2019, 79.7314, 67.9977, 76.5355, 24.9482, 88.1658, nan, 92.052, 51.849, nan, 69.1139, 27.2392, 80.7312, 28.4156, 95.9463, nan, nan, 96.6516, nan, 82.9319, nan, 92.2052, nan, 46.6162, nan]\n",
      "wdi_ners: (30, 30.927835051546392)\n",
      "\n",
      "imf_pop\n",
      "------------------------------------------\n",
      "[3.871, nan, nan, nan, nan, 5.427, 23.434, 5.895, 0.562, 6.232, 39.114, 186.19, nan, nan, 3.454, nan, nan, 0.104, nan, 4.555, nan, 64.597, 19.953, 2.045, 14.605, 4.383, 154.695, 29.746, 17.819, nan, 0.547, 0.412, nan, 33.179, 8.14, nan, 8.212, nan, 86.7, 16.5, 8.132, 0.09, 43.88, nan, nan, 3.999, 119.713, 1.261, 22.524, 35.496, 30.809, nan, nan, 29.825, 2.98, 40.7, 46.455, 25.789, 0.279, 88.347, 2.932, 0.011, 11.181, 17.604, 0.776, 0.054, 0.35, nan, 127.12, 2.069, 1.316, 2.061, 5.156, nan, 30.709, 10.078, nan, 7.202, 143.429, 3.73, 1.146, 6.266, 0.512, 10.2, 75.15, nan, 17.422, nan, nan, 9.645, 80.983, nan, 5.416, 7.167, 9.342, nan, nan]\n",
      "imf_pop: (27, 27.835051546391753)\n",
      "\n",
      "wdi_expedu\n",
      "------------------------------------------\n",
      "[nan, nan, 2.1731, 6.9272, 2.7677, 7.1681, nan, 5.5274, nan, 2.6617, nan, 2.4643, 6.7094, 3.8424, 4.3569, 2.9978, 1.713, nan, nan, 6.3368, 6.2504, 5.7345, 3.1292, 3.6072, 1.902, 2.5712, 1.9573, nan, 4.7501, nan, nan, 3.3532, nan, nan, 5.0961, nan, 5.7573, 5.8678, nan, 4.6048, 5.2322, 3.6064, 3.4791, nan, 3.0559, nan, 5.3135, 4.9177, 4.7294, 5.2812, 3.6898, 1.022, 2.8497, 3.7803, 2.2466, 5.2748, 4.2709, nan, 6.5733, 4.5005, 4.6125, nan, 6.5851, 4.8425, 4.8686, nan, 6.4258, 3.5394, 3.5918, nan, 5.4816, 5.4866, 7.3733, nan, 5.1959, 7.2855, 5.4164, 4.062, 3.8613, 1.9833, 7.775, nan, 4.9925, 3.7975, 2.9542, nan, 2.7875, nan, nan, 7.6751, 4.9522, 2.7842, 4.2386, 4.1786, 2.6347, nan, 2.6662]\n",
      "wdi_expedu: (26, 26.804123711340207)\n"
     ]
    }
   ],
   "source": [
    "mayor_na = ['wdi_ners', 'imf_pop', 'wdi_expedu']\n",
    "imprime_info(df_muestral, mayor_na, print_list=True)"
   ]
  },
  {
   "cell_type": "code",
   "execution_count": 18,
   "metadata": {},
   "outputs": [
    {
     "name": "stdout",
     "output_type": "stream",
     "text": [
      "wdi_ners:\n",
      " ['BIH' 'GNB' 'GMB' 'TWN' 'SLB' 'SLE' 'DZA' 'AND' 'SSD' 'TUN' 'KHM' 'BWA'\n",
      " 'TZA' 'TKM' 'CIV' 'CAN' 'MCO' 'TCD' 'ARM' 'KEN' 'AGO' 'MKD' 'RUS' 'LBY'\n",
      " 'SOM' 'CHN' 'DEU' 'SVK' 'AZE' 'GAB']\n",
      "imf_pop:\n",
      " ['DMA' 'GNB' 'CRI' 'GMB' 'NER' 'IND' 'AND' 'SSD' 'CUB' 'TUN' 'VEN' 'BWA'\n",
      " 'PRK' 'HND' 'DOM' 'TKM' 'MCO' 'TCD' 'ALB' 'ATG' 'BDI' 'ERI' 'SOM' 'CHN'\n",
      " 'KNA' 'SYR' 'GAB']\n",
      "wdi_expedu:\n",
      " ['BIH' 'DMA' 'TWN' 'SLB' 'DZA' 'TON' 'CUB' 'UZB' 'VEN' 'SUR' 'BWA' 'MAR'\n",
      " 'PRK' 'EGY' 'DOM' 'KWT' 'AGO' 'TUV' 'MHL' 'MKD' 'ATG' 'LBY' 'ERI' 'SOM'\n",
      " 'CHN' 'SYR']\n"
     ]
    },
    {
     "name": "stderr",
     "output_type": "stream",
     "text": [
      "/tmp/ipykernel_8352/2269906220.py:2: UserWarning: Boolean Series key will be reindexed to match DataFrame index.\n",
      "  print(f\"{columna}:\\n {df_muestral[df[columna].isna()]['ccodealp'].unique()}\")\n"
     ]
    }
   ],
   "source": [
    "for columna in mayor_na:\n",
    "    print(f\"{columna}:\\n {df_muestral[df[columna].isna()]['ccodealp'].unique()}\")"
   ]
  },
  {
   "attachments": {},
   "cell_type": "markdown",
   "metadata": {},
   "source": [
    "### Req 4. Grafique histogramas indicando medias muestral y total (2 puntos)"
   ]
  },
  {
   "attachments": {},
   "cell_type": "markdown",
   "metadata": {},
   "source": [
    "* Genere una nueva función que grafique un histograma de una variable entregada para un DataFrame de muestra. El gráfico debe además señalar las medias de la variable entregada, tanto para el DataFrame de muestra entregado, como para el DataFrame completo correspondiente.\n",
    "* La función debe incluir los siguientes argumentos:\n",
    "    - sample_df: La base de datos donde se encuentran los datos específicos (muestra).\n",
    "    - full_df: La base de datos donde se encuentran todos los datos (contiene los datos de la muestra).\n",
    "    - var: La variable a graficar.\n",
    "    - sample_mean: Booleano. Si es verdadero, debe generar una recta vertical indicando la media de la variable en la selección muestral (sample_df). Por defecto debe ser False.\n",
    "    - true_mean: Booleano. Si es verdadero, debe generar una recta vertical indicando la media de variable en la base de datos completa (full_df).\n",
    "* Implemente las funciones para las 4 variables seleccionadas según su grupo. ¿En qué variables la media de la muestra es mayor a la de los datos completos?"
   ]
  },
  {
   "cell_type": "code",
   "execution_count": 19,
   "metadata": {},
   "outputs": [],
   "source": [
    "import matplotlib.pyplot as plt\n",
    "plt.style.use('seaborn-whitegrid') # Gráficos estilo seaborn\n",
    "plt.rcParams[\"figure.figsize\"] = (10, 6) # Tamaño gráficos"
   ]
  },
  {
   "cell_type": "code",
   "execution_count": 20,
   "metadata": {},
   "outputs": [],
   "source": [
    "def graficar_1(sample_df:pd, full_df:pd, var:str, true_mean:bool, sample_mean:bool=False):\n",
    "    plt.hist(sample_df[var], color='royalblue')\n",
    "    plt.title(f'Histograma Muestra aleatoria columna: {var}')\n",
    "    if sample_mean:\n",
    "        plt.axvline(sample_df[var].mean(), color='tomato', lw=2, linestyle='--', alpha=0.75,\n",
    "                    label='Muestra')\n",
    "    if true_mean:\n",
    "        plt.axvline(full_df[var].mean(), color='green', lw=2, linestyle='--', alpha=0.75,\n",
    "                    label='Poblacion')\n",
    "    plt.legend()\n",
    "    "
   ]
  },
  {
   "cell_type": "code",
   "execution_count": 21,
   "metadata": {},
   "outputs": [
    {
     "data": {
      "image/png": "[encoded data removed]",
      "text/plain": [
       "<Figure size 1000x600 with 1 Axes>"
      ]
     },
     "metadata": {},
     "output_type": "display_data"
    }
   ],
   "source": [
    "graficar_1(df_muestral, df, lista_columnas_esp[0], true_mean=True, sample_mean=True)"
   ]
  },
  {
   "cell_type": "code",
   "execution_count": 22,
   "metadata": {},
   "outputs": [
    {
     "data": {
      "image/png": "[encoded data removed]",
      "text/plain": [
       "<Figure size 1000x600 with 1 Axes>"
      ]
     },
     "metadata": {},
     "output_type": "display_data"
    }
   ],
   "source": [
    "graficar_1(df_muestral, df, lista_columnas_esp[1], true_mean=True, sample_mean=True)\n"
   ]
  },
  {
   "cell_type": "code",
   "execution_count": 23,
   "metadata": {},
   "outputs": [
    {
     "data": {
      "image/png": "[encoded data removed]",
      "text/plain": [
       "<Figure size 1000x600 with 1 Axes>"
      ]
     },
     "metadata": {},
     "output_type": "display_data"
    }
   ],
   "source": [
    "graficar_1(df_muestral, df, lista_columnas_esp[2], true_mean=True, sample_mean=True)"
   ]
  },
  {
   "cell_type": "code",
   "execution_count": 24,
   "metadata": {},
   "outputs": [
    {
     "data": {
      "image/png": "[encoded data removed]",
      "text/plain": [
       "<Figure size 1000x600 with 1 Axes>"
      ]
     },
     "metadata": {},
     "output_type": "display_data"
    }
   ],
   "source": [
    "graficar_1(df_muestral, df, lista_columnas_esp[3], true_mean=True, sample_mean=True)"
   ]
  },
  {
   "attachments": {},
   "cell_type": "markdown",
   "metadata": {},
   "source": [
    "Solo en la variable wdi_ners la media de la muestra es mayor a la de la poblacion"
   ]
  },
  {
   "cell_type": "code",
   "execution_count": 25,
   "metadata": {},
   "outputs": [],
   "source": [
    "def grafico_puntos(dataFrame:pd, plot_var:str, plot_by:str, statistic:str='mean', global_stat:bool=False):\n",
    "    '''\n",
    "    dataFrame:pd Data Fame\n",
    "    plot_var:str columna de la cual se obtiene la metrica\n",
    "    plot_by:str Columna por la cual se agrupara el DF\n",
    "    statistic:str='mean' [mean, median] valor estadistico a calcular\n",
    "    global_stat:bool=False True= Graficar el statistic de la variable sin agrupar\n",
    "    '''\n",
    "    if statistic == 'mean':\n",
    "        if global_stat:\n",
    "            plt.plot(dataFrame[plot_var].mean(), 'o', color='tomato')\n",
    "            \n",
    "        df_agrupada = dataFrame.groupby(plot_by)[plot_var].mean()\n",
    "        plt.plot(df_agrupada.values, df_agrupada.index, 'o', color='green')\n",
    "    if statistic == 'median':\n",
    "        if global_stat:\n",
    "            plt.plot(dataFrame[plot_var].median(), 'o', color='tomato')\n",
    "        \n",
    "        df_agrupada = dataFrame.groupby(plot_by)[plot_var].median()\n",
    "        plt.plot(df_agrupada.values, df_agrupada.index, 'o', color='green')\n"
   ]
  },
  {
   "cell_type": "code",
   "execution_count": 26,
   "metadata": {},
   "outputs": [],
   "source": [
    "menor_na = ['undp_hdi', 'gle_cgdpc', 'ffp_hf']"
   ]
  },
  {
   "cell_type": "code",
   "execution_count": 27,
   "metadata": {},
   "outputs": [
    {
     "data": {
      "image/png": "[encoded data removed]",
      "text/plain": [
       "<Figure size 1000x600 with 1 Axes>"
      ]
     },
     "metadata": {},
     "output_type": "display_data"
    }
   ],
   "source": [
    "grafico_puntos(df_muestral, menor_na[0], 'region_recod', 'mean', True)"
   ]
  },
  {
   "cell_type": "code",
   "execution_count": 28,
   "metadata": {},
   "outputs": [
    {
     "data": {
      "image/png": "[encoded data removed]",
      "text/plain": [
       "<Figure size 1000x600 with 1 Axes>"
      ]
     },
     "metadata": {},
     "output_type": "display_data"
    }
   ],
   "source": [
    "grafico_puntos(df_muestral, menor_na[1], 'region_recod', 'mean')"
   ]
  },
  {
   "cell_type": "code",
   "execution_count": 29,
   "metadata": {},
   "outputs": [
    {
     "data": {
      "image/png": "[encoded data removed]",
      "text/plain": [
       "<Figure size 1000x600 with 1 Axes>"
      ]
     },
     "metadata": {},
     "output_type": "display_data"
    }
   ],
   "source": [
    "grafico_puntos(df_muestral, menor_na[2], 'region_recod', 'mean', True)"
   ]
  },
  {
   "attachments": {},
   "cell_type": "markdown",
   "metadata": {},
   "source": [
    "### Req 6: Guarde la base de datos (1 punto)"
   ]
  },
  {
   "attachments": {},
   "cell_type": "markdown",
   "metadata": {},
   "source": [
    "* La submuestra creada tiene un método llamado to_csv. Acceda a este y guarde la base de datos con la siguiente nomenclatura:  \n",
    "    - subsample_<iniciales>_demo.csv. (Subela a la plataforma, junto al desafío)"
   ]
  },
  {
   "cell_type": "code",
   "execution_count": 30,
   "metadata": {},
   "outputs": [],
   "source": [
    "df_muestral.to_csv('subsample_dlt_demo.csv')"
   ]
  }
 ],
 "metadata": {
  "kernelspec": {
   "display_name": "base",
   "language": "python",
   "name": "python3"
  },
  "language_info": {
   "codemirror_mode": {
    "name": "ipython",
    "version": 3
   },
   "file_extension": ".py",
   "mimetype": "text/x-python",
   "name": "python",
   "nbconvert_exporter": "python",
   "pygments_lexer": "ipython3",
   "version": "3.9.13 (main, Aug 25 2022, 23:26:10) \n[GCC 11.2.0]"
  },
  "orig_nbformat": 4,
  "vscode": {
   "interpreter": {
    "hash": "c9c95a542e0787f57613780817cff22e65fe979e702b6d9a424a45d54043f1a4"
   }
  }
 },
 "nbformat": 4,
 "nbformat_minor": 2
}
