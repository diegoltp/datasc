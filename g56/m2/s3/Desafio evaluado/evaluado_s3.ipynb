{
 "cells": [
  {
   "attachments": {},
   "cell_type": "markdown",
   "metadata": {},
   "source": [
    "# Desafio Evaluado S3: "
   ]
  },
  {
   "attachments": {},
   "cell_type": "markdown",
   "metadata": {},
   "source": [
    "## Estimando curvas de densidad de probabilidad"
   ]
  },
  {
   "attachments": {},
   "cell_type": "markdown",
   "metadata": {},
   "source": [
    "### Req 1 "
   ]
  },
  {
   "attachments": {},
   "cell_type": "markdown",
   "metadata": {},
   "source": [
    "* Importar un csv (2 puntos): Importe el set de datos creados por usted al final de la sesión pasada."
   ]
  },
  {
   "cell_type": "markdown",
   "metadata": {},
   "source": []
  },
  {
   "cell_type": "code",
   "execution_count": 274,
   "metadata": {},
   "outputs": [],
   "source": [
    "import pandas as pd\n",
    "import numpy as np\n",
    "import matplotlib.pyplot as plt\n",
    "plt.style.use('seaborn-whitegrid') # Gráficos estilo seaborn\n",
    "plt.rcParams[\"figure.figsize\"] = (10, 6) # Tamaño gráficos"
   ]
  },
  {
   "cell_type": "code",
   "execution_count": 275,
   "metadata": {},
   "outputs": [
    {
     "data": {
      "text/html": [
       "<div>\n",
       "<style scoped>\n",
       "    .dataframe tbody tr th:only-of-type {\n",
       "        vertical-align: middle;\n",
       "    }\n",
       "\n",
       "    .dataframe tbody tr th {\n",
       "        vertical-align: top;\n",
       "    }\n",
       "\n",
       "    .dataframe thead th {\n",
       "        text-align: right;\n",
       "    }\n",
       "</style>\n",
       "<table border=\"1\" class=\"dataframe\">\n",
       "  <thead>\n",
       "    <tr style=\"text-align: right;\">\n",
       "      <th></th>\n",
       "      <th>undp_hdi</th>\n",
       "      <th>ccodealp</th>\n",
       "      <th>ht_region</th>\n",
       "      <th>gle_cgdpc</th>\n",
       "      <th>imf_pop</th>\n",
       "      <th>ffp_hf</th>\n",
       "      <th>wef_qes</th>\n",
       "      <th>wdi_expedu</th>\n",
       "      <th>wdi_ners</th>\n",
       "      <th>region_recod</th>\n",
       "    </tr>\n",
       "  </thead>\n",
       "  <tbody>\n",
       "    <tr>\n",
       "      <th>0</th>\n",
       "      <td>0.747</td>\n",
       "      <td>BIH</td>\n",
       "      <td>1</td>\n",
       "      <td>8507.65040</td>\n",
       "      <td>3.871</td>\n",
       "      <td>5.5</td>\n",
       "      <td>2.355769</td>\n",
       "      <td>NaN</td>\n",
       "      <td>NaN</td>\n",
       "      <td>EastEurope</td>\n",
       "    </tr>\n",
       "    <tr>\n",
       "      <th>1</th>\n",
       "      <td>0.724</td>\n",
       "      <td>DMA</td>\n",
       "      <td>10</td>\n",
       "      <td>12613.72000</td>\n",
       "      <td>NaN</td>\n",
       "      <td>NaN</td>\n",
       "      <td>NaN</td>\n",
       "      <td>NaN</td>\n",
       "      <td>86.32093</td>\n",
       "      <td>Caribbean</td>\n",
       "    </tr>\n",
       "    <tr>\n",
       "      <th>2</th>\n",
       "      <td>0.421</td>\n",
       "      <td>GNB</td>\n",
       "      <td>4</td>\n",
       "      <td>961.26001</td>\n",
       "      <td>NaN</td>\n",
       "      <td>8.5</td>\n",
       "      <td>NaN</td>\n",
       "      <td>2.17313</td>\n",
       "      <td>NaN</td>\n",
       "      <td>SubSaharian</td>\n",
       "    </tr>\n",
       "    <tr>\n",
       "      <th>3</th>\n",
       "      <td>0.775</td>\n",
       "      <td>CRI</td>\n",
       "      <td>2</td>\n",
       "      <td>9485.71000</td>\n",
       "      <td>NaN</td>\n",
       "      <td>3.5</td>\n",
       "      <td>4.666449</td>\n",
       "      <td>6.92724</td>\n",
       "      <td>78.12114</td>\n",
       "      <td>LatAm</td>\n",
       "    </tr>\n",
       "    <tr>\n",
       "      <th>4</th>\n",
       "      <td>0.450</td>\n",
       "      <td>GMB</td>\n",
       "      <td>4</td>\n",
       "      <td>1601.88000</td>\n",
       "      <td>NaN</td>\n",
       "      <td>7.7</td>\n",
       "      <td>4.276581</td>\n",
       "      <td>2.76771</td>\n",
       "      <td>NaN</td>\n",
       "      <td>SubSaharian</td>\n",
       "    </tr>\n",
       "  </tbody>\n",
       "</table>\n",
       "</div>"
      ],
      "text/plain": [
       "   undp_hdi ccodealp  ht_region    gle_cgdpc  imf_pop  ffp_hf   wef_qes  \\\n",
       "0     0.747      BIH          1   8507.65040    3.871     5.5  2.355769   \n",
       "1     0.724      DMA         10  12613.72000      NaN     NaN       NaN   \n",
       "2     0.421      GNB          4    961.26001      NaN     8.5       NaN   \n",
       "3     0.775      CRI          2   9485.71000      NaN     3.5  4.666449   \n",
       "4     0.450      GMB          4   1601.88000      NaN     7.7  4.276581   \n",
       "\n",
       "   wdi_expedu  wdi_ners region_recod  \n",
       "0         NaN       NaN   EastEurope  \n",
       "1         NaN  86.32093    Caribbean  \n",
       "2     2.17313       NaN  SubSaharian  \n",
       "3     6.92724  78.12114        LatAm  \n",
       "4     2.76771       NaN  SubSaharian  "
      ]
     },
     "execution_count": 275,
     "metadata": {},
     "output_type": "execute_result"
    }
   ],
   "source": [
    "df = pd.read_csv('subsample_dlt_demo.csv')\n",
    "df.head()"
   ]
  },
  {
   "attachments": {},
   "cell_type": "markdown",
   "metadata": {},
   "source": [
    "### Req 2: Importar su conjunto de funciones (2 puntos)"
   ]
  },
  {
   "attachments": {},
   "cell_type": "markdown",
   "metadata": {},
   "source": [
    "* Generar un archivo ancilliary_funcs.py para guardar las funciones creadas en la sesión pasada e importe."
   ]
  },
  {
   "cell_type": "code",
   "execution_count": 276,
   "metadata": {},
   "outputs": [],
   "source": [
    "import ancilliary_func_dlt as af"
   ]
  },
  {
   "attachments": {},
   "cell_type": "markdown",
   "metadata": {},
   "source": [
    "* Utilizar las funciones creadas para inspeccionar la cantidad de casos perdidos de la muestra importada."
   ]
  },
  {
   "cell_type": "code",
   "execution_count": 277,
   "metadata": {},
   "outputs": [
    {
     "data": {
      "text/plain": [
       "['undp_hdi',\n",
       " 'ccodealp',\n",
       " 'ht_region',\n",
       " 'gle_cgdpc',\n",
       " 'imf_pop',\n",
       " 'ffp_hf',\n",
       " 'wef_qes',\n",
       " 'wdi_expedu',\n",
       " 'wdi_ners',\n",
       " 'region_recod']"
      ]
     },
     "execution_count": 277,
     "metadata": {},
     "output_type": "execute_result"
    }
   ],
   "source": [
    "list(df.columns)"
   ]
  },
  {
   "cell_type": "code",
   "execution_count": 278,
   "metadata": {},
   "outputs": [
    {
     "name": "stdout",
     "output_type": "stream",
     "text": [
      "undp_hdi: (6, 6.185567010309279)\n",
      "ccodealp: (0, 0.0)\n",
      "ht_region: (0, 0.0)\n",
      "gle_cgdpc: (1, 1.0309278350515463)\n",
      "imf_pop: (27, 27.835051546391753)\n",
      "ffp_hf: (9, 9.278350515463918)\n",
      "wef_qes: (20, 20.618556701030926)\n",
      "wdi_expedu: (26, 26.804123711340207)\n",
      "wdi_ners: (30, 30.927835051546392)\n",
      "region_recod: (0, 0.0)\n"
     ]
    }
   ],
   "source": [
    "for columna in list(df.columns):\n",
    "    print(f\"{columna}: {af.valores_perdidos(df, columna, print_list=False)}\")"
   ]
  },
  {
   "attachments": {},
   "cell_type": "markdown",
   "metadata": {},
   "source": [
    "### Req 3: Estimar el puntaje Z de una variable (2 puntos)\n",
    "Se debe utilizar la que posea la menor cantidad de datos perdidos (o que no posea)."
   ]
  },
  {
   "attachments": {},
   "cell_type": "markdown",
   "metadata": {},
   "source": [
    "* Generar una nueva columna en la tabla de datos que contenga el puntaje Z de dicha variable. Recuerde que para calcular el puntaje z de una observación se utiliza la fórmula:𝑧𝑖= ( 𝑥𝑖 − 𝑥 ) / σ (𝑥)"
   ]
  },
  {
   "attachments": {},
   "cell_type": "markdown",
   "metadata": {},
   "source": [
    "*Utilizamos la variable continua con menos NA gle_cgdpc: (1, 1.0309278350515463)*\n",
    "* 'gle_cgdpc'"
   ]
  },
  {
   "cell_type": "code",
   "execution_count": 279,
   "metadata": {},
   "outputs": [],
   "source": [
    "gle_cgdpc_dropna = df['gle_cgdpc'].dropna()"
   ]
  },
  {
   "cell_type": "code",
   "execution_count": 280,
   "metadata": {},
   "outputs": [
    {
     "name": "stdout",
     "output_type": "stream",
     "text": [
      "media 14784.963549999999 varianza 366871564.38934606\n"
     ]
    }
   ],
   "source": [
    "gle_cgdpc_media = gle_cgdpc_dropna.mean()\n",
    "gle_cgdpc_var = gle_cgdpc_dropna.var()\n",
    "print(f'media {gle_cgdpc_media} varianza {gle_cgdpc_var}')"
   ]
  },
  {
   "cell_type": "code",
   "execution_count": 281,
   "metadata": {},
   "outputs": [
    {
     "data": {
      "text/html": [
       "<div>\n",
       "<style scoped>\n",
       "    .dataframe tbody tr th:only-of-type {\n",
       "        vertical-align: middle;\n",
       "    }\n",
       "\n",
       "    .dataframe tbody tr th {\n",
       "        vertical-align: top;\n",
       "    }\n",
       "\n",
       "    .dataframe thead th {\n",
       "        text-align: right;\n",
       "    }\n",
       "</style>\n",
       "<table border=\"1\" class=\"dataframe\">\n",
       "  <thead>\n",
       "    <tr style=\"text-align: right;\">\n",
       "      <th></th>\n",
       "      <th>undp_hdi</th>\n",
       "      <th>ccodealp</th>\n",
       "      <th>ht_region</th>\n",
       "      <th>gle_cgdpc</th>\n",
       "      <th>imf_pop</th>\n",
       "      <th>ffp_hf</th>\n",
       "      <th>wef_qes</th>\n",
       "      <th>wdi_expedu</th>\n",
       "      <th>wdi_ners</th>\n",
       "      <th>region_recod</th>\n",
       "      <th>puntaje_z</th>\n",
       "    </tr>\n",
       "  </thead>\n",
       "  <tbody>\n",
       "    <tr>\n",
       "      <th>0</th>\n",
       "      <td>0.747</td>\n",
       "      <td>BIH</td>\n",
       "      <td>1</td>\n",
       "      <td>8507.65040</td>\n",
       "      <td>3.871</td>\n",
       "      <td>5.5</td>\n",
       "      <td>2.355769</td>\n",
       "      <td>NaN</td>\n",
       "      <td>NaN</td>\n",
       "      <td>EastEurope</td>\n",
       "      <td>-0.000017</td>\n",
       "    </tr>\n",
       "    <tr>\n",
       "      <th>1</th>\n",
       "      <td>0.724</td>\n",
       "      <td>DMA</td>\n",
       "      <td>10</td>\n",
       "      <td>12613.72000</td>\n",
       "      <td>NaN</td>\n",
       "      <td>NaN</td>\n",
       "      <td>NaN</td>\n",
       "      <td>NaN</td>\n",
       "      <td>86.32093</td>\n",
       "      <td>Caribbean</td>\n",
       "      <td>-0.000006</td>\n",
       "    </tr>\n",
       "    <tr>\n",
       "      <th>2</th>\n",
       "      <td>0.421</td>\n",
       "      <td>GNB</td>\n",
       "      <td>4</td>\n",
       "      <td>961.26001</td>\n",
       "      <td>NaN</td>\n",
       "      <td>8.5</td>\n",
       "      <td>NaN</td>\n",
       "      <td>2.17313</td>\n",
       "      <td>NaN</td>\n",
       "      <td>SubSaharian</td>\n",
       "      <td>-0.000038</td>\n",
       "    </tr>\n",
       "    <tr>\n",
       "      <th>3</th>\n",
       "      <td>0.775</td>\n",
       "      <td>CRI</td>\n",
       "      <td>2</td>\n",
       "      <td>9485.71000</td>\n",
       "      <td>NaN</td>\n",
       "      <td>3.5</td>\n",
       "      <td>4.666449</td>\n",
       "      <td>6.92724</td>\n",
       "      <td>78.12114</td>\n",
       "      <td>LatAm</td>\n",
       "      <td>-0.000014</td>\n",
       "    </tr>\n",
       "    <tr>\n",
       "      <th>4</th>\n",
       "      <td>0.450</td>\n",
       "      <td>GMB</td>\n",
       "      <td>4</td>\n",
       "      <td>1601.88000</td>\n",
       "      <td>NaN</td>\n",
       "      <td>7.7</td>\n",
       "      <td>4.276581</td>\n",
       "      <td>2.76771</td>\n",
       "      <td>NaN</td>\n",
       "      <td>SubSaharian</td>\n",
       "      <td>-0.000036</td>\n",
       "    </tr>\n",
       "  </tbody>\n",
       "</table>\n",
       "</div>"
      ],
      "text/plain": [
       "   undp_hdi ccodealp  ht_region    gle_cgdpc  imf_pop  ffp_hf   wef_qes  \\\n",
       "0     0.747      BIH          1   8507.65040    3.871     5.5  2.355769   \n",
       "1     0.724      DMA         10  12613.72000      NaN     NaN       NaN   \n",
       "2     0.421      GNB          4    961.26001      NaN     8.5       NaN   \n",
       "3     0.775      CRI          2   9485.71000      NaN     3.5  4.666449   \n",
       "4     0.450      GMB          4   1601.88000      NaN     7.7  4.276581   \n",
       "\n",
       "   wdi_expedu  wdi_ners region_recod  puntaje_z  \n",
       "0         NaN       NaN   EastEurope  -0.000017  \n",
       "1         NaN  86.32093    Caribbean  -0.000006  \n",
       "2     2.17313       NaN  SubSaharian  -0.000038  \n",
       "3     6.92724  78.12114        LatAm  -0.000014  \n",
       "4     2.76771       NaN  SubSaharian  -0.000036  "
      ]
     },
     "execution_count": 281,
     "metadata": {},
     "output_type": "execute_result"
    }
   ],
   "source": [
    "df['puntaje_z'] = (df['gle_cgdpc'] - gle_cgdpc_media) / gle_cgdpc_var\n",
    "df.head()"
   ]
  },
  {
   "attachments": {},
   "cell_type": "markdown",
   "metadata": {},
   "source": [
    "* Para ordenar los valores pueden utilizar la función sort_values del DataFrame analizado. Lean la documentación asociada al argumento by."
   ]
  },
  {
   "cell_type": "code",
   "execution_count": 282,
   "metadata": {},
   "outputs": [],
   "source": [
    "df_ordenada_z = df.sort_values(by='puntaje_z').copy()"
   ]
  },
  {
   "attachments": {},
   "cell_type": "markdown",
   "metadata": {},
   "source": [
    "* Asegúrense de eliminar las observaciones que tengan valores perdidos con dropna. Lean la documentación asociada al argumento subset."
   ]
  },
  {
   "cell_type": "code",
   "execution_count": 283,
   "metadata": {},
   "outputs": [],
   "source": [
    "df_ordenada_z = df_ordenada_z.dropna(subset='puntaje_z')"
   ]
  },
  {
   "attachments": {},
   "cell_type": "markdown",
   "metadata": {},
   "source": [
    "* Seleccionen las primeras y últimas 10 observaciones de la base reordenada. ¿Qué características en común se encuentran?"
   ]
  },
  {
   "cell_type": "code",
   "execution_count": 284,
   "metadata": {},
   "outputs": [
    {
     "data": {
      "text/html": [
       "<div>\n",
       "<style scoped>\n",
       "    .dataframe tbody tr th:only-of-type {\n",
       "        vertical-align: middle;\n",
       "    }\n",
       "\n",
       "    .dataframe tbody tr th {\n",
       "        vertical-align: top;\n",
       "    }\n",
       "\n",
       "    .dataframe thead th {\n",
       "        text-align: right;\n",
       "    }\n",
       "</style>\n",
       "<table border=\"1\" class=\"dataframe\">\n",
       "  <thead>\n",
       "    <tr style=\"text-align: right;\">\n",
       "      <th></th>\n",
       "      <th>undp_hdi</th>\n",
       "      <th>ccodealp</th>\n",
       "      <th>ht_region</th>\n",
       "      <th>gle_cgdpc</th>\n",
       "      <th>imf_pop</th>\n",
       "      <th>ffp_hf</th>\n",
       "      <th>wef_qes</th>\n",
       "      <th>wdi_expedu</th>\n",
       "      <th>wdi_ners</th>\n",
       "      <th>region_recod</th>\n",
       "      <th>puntaje_z</th>\n",
       "    </tr>\n",
       "  </thead>\n",
       "  <tbody>\n",
       "    <tr>\n",
       "      <th>12</th>\n",
       "      <td>0.351</td>\n",
       "      <td>NER</td>\n",
       "      <td>4</td>\n",
       "      <td>644.53998</td>\n",
       "      <td>NaN</td>\n",
       "      <td>6.9</td>\n",
       "      <td>NaN</td>\n",
       "      <td>6.70941</td>\n",
       "      <td>15.665040</td>\n",
       "      <td>SubSaharian</td>\n",
       "      <td>-0.000039</td>\n",
       "    </tr>\n",
       "    <tr>\n",
       "      <th>76</th>\n",
       "      <td>0.406</td>\n",
       "      <td>BDI</td>\n",
       "      <td>4</td>\n",
       "      <td>663.57001</td>\n",
       "      <td>NaN</td>\n",
       "      <td>6.8</td>\n",
       "      <td>2.595249</td>\n",
       "      <td>5.41642</td>\n",
       "      <td>24.948179</td>\n",
       "      <td>SubSaharian</td>\n",
       "      <td>-0.000038</td>\n",
       "    </tr>\n",
       "    <tr>\n",
       "      <th>59</th>\n",
       "      <td>0.441</td>\n",
       "      <td>ETH</td>\n",
       "      <td>4</td>\n",
       "      <td>900.77002</td>\n",
       "      <td>88.347000</td>\n",
       "      <td>7.0</td>\n",
       "      <td>3.599252</td>\n",
       "      <td>4.50051</td>\n",
       "      <td>30.274250</td>\n",
       "      <td>SubSaharian</td>\n",
       "      <td>-0.000038</td>\n",
       "    </tr>\n",
       "    <tr>\n",
       "      <th>63</th>\n",
       "      <td>0.473</td>\n",
       "      <td>MWI</td>\n",
       "      <td>4</td>\n",
       "      <td>938.34998</td>\n",
       "      <td>17.604000</td>\n",
       "      <td>8.1</td>\n",
       "      <td>3.185532</td>\n",
       "      <td>4.84254</td>\n",
       "      <td>32.942291</td>\n",
       "      <td>SubSaharian</td>\n",
       "      <td>-0.000038</td>\n",
       "    </tr>\n",
       "    <tr>\n",
       "      <th>2</th>\n",
       "      <td>0.421</td>\n",
       "      <td>GNB</td>\n",
       "      <td>4</td>\n",
       "      <td>961.26001</td>\n",
       "      <td>NaN</td>\n",
       "      <td>8.5</td>\n",
       "      <td>NaN</td>\n",
       "      <td>2.17313</td>\n",
       "      <td>NaN</td>\n",
       "      <td>SubSaharian</td>\n",
       "      <td>-0.000038</td>\n",
       "    </tr>\n",
       "    <tr>\n",
       "      <th>64</th>\n",
       "      <td>0.498</td>\n",
       "      <td>COM</td>\n",
       "      <td>4</td>\n",
       "      <td>972.35999</td>\n",
       "      <td>0.776000</td>\n",
       "      <td>7.8</td>\n",
       "      <td>NaN</td>\n",
       "      <td>4.86862</td>\n",
       "      <td>43.934471</td>\n",
       "      <td>SubSaharian</td>\n",
       "      <td>-0.000038</td>\n",
       "    </tr>\n",
       "    <tr>\n",
       "      <th>9</th>\n",
       "      <td>0.431</td>\n",
       "      <td>SLE</td>\n",
       "      <td>4</td>\n",
       "      <td>979.95001</td>\n",
       "      <td>6.232000</td>\n",
       "      <td>8.4</td>\n",
       "      <td>2.986086</td>\n",
       "      <td>2.66167</td>\n",
       "      <td>NaN</td>\n",
       "      <td>SubSaharian</td>\n",
       "      <td>-0.000038</td>\n",
       "    </tr>\n",
       "    <tr>\n",
       "      <th>85</th>\n",
       "      <td>0.418</td>\n",
       "      <td>ERI</td>\n",
       "      <td>4</td>\n",
       "      <td>1007.28000</td>\n",
       "      <td>NaN</td>\n",
       "      <td>7.6</td>\n",
       "      <td>NaN</td>\n",
       "      <td>NaN</td>\n",
       "      <td>28.415560</td>\n",
       "      <td>SubSaharian</td>\n",
       "      <td>-0.000038</td>\n",
       "    </tr>\n",
       "    <tr>\n",
       "      <th>39</th>\n",
       "      <td>0.399</td>\n",
       "      <td>BFA</td>\n",
       "      <td>4</td>\n",
       "      <td>1095.96000</td>\n",
       "      <td>16.500000</td>\n",
       "      <td>6.9</td>\n",
       "      <td>2.868712</td>\n",
       "      <td>4.60476</td>\n",
       "      <td>26.492809</td>\n",
       "      <td>SubSaharian</td>\n",
       "      <td>-0.000037</td>\n",
       "    </tr>\n",
       "    <tr>\n",
       "      <th>53</th>\n",
       "      <td>0.479</td>\n",
       "      <td>AFG</td>\n",
       "      <td>8</td>\n",
       "      <td>1282.64000</td>\n",
       "      <td>29.825001</td>\n",
       "      <td>8.1</td>\n",
       "      <td>NaN</td>\n",
       "      <td>3.78028</td>\n",
       "      <td>48.750320</td>\n",
       "      <td>SouthAsia</td>\n",
       "      <td>-0.000037</td>\n",
       "    </tr>\n",
       "  </tbody>\n",
       "</table>\n",
       "</div>"
      ],
      "text/plain": [
       "    undp_hdi ccodealp  ht_region   gle_cgdpc    imf_pop  ffp_hf   wef_qes  \\\n",
       "12     0.351      NER          4   644.53998        NaN     6.9       NaN   \n",
       "76     0.406      BDI          4   663.57001        NaN     6.8  2.595249   \n",
       "59     0.441      ETH          4   900.77002  88.347000     7.0  3.599252   \n",
       "63     0.473      MWI          4   938.34998  17.604000     8.1  3.185532   \n",
       "2      0.421      GNB          4   961.26001        NaN     8.5       NaN   \n",
       "64     0.498      COM          4   972.35999   0.776000     7.8       NaN   \n",
       "9      0.431      SLE          4   979.95001   6.232000     8.4  2.986086   \n",
       "85     0.418      ERI          4  1007.28000        NaN     7.6       NaN   \n",
       "39     0.399      BFA          4  1095.96000  16.500000     6.9  2.868712   \n",
       "53     0.479      AFG          8  1282.64000  29.825001     8.1       NaN   \n",
       "\n",
       "    wdi_expedu   wdi_ners region_recod  puntaje_z  \n",
       "12     6.70941  15.665040  SubSaharian  -0.000039  \n",
       "76     5.41642  24.948179  SubSaharian  -0.000038  \n",
       "59     4.50051  30.274250  SubSaharian  -0.000038  \n",
       "63     4.84254  32.942291  SubSaharian  -0.000038  \n",
       "2      2.17313        NaN  SubSaharian  -0.000038  \n",
       "64     4.86862  43.934471  SubSaharian  -0.000038  \n",
       "9      2.66167        NaN  SubSaharian  -0.000038  \n",
       "85         NaN  28.415560  SubSaharian  -0.000038  \n",
       "39     4.60476  26.492809  SubSaharian  -0.000037  \n",
       "53     3.78028  48.750320    SouthAsia  -0.000037  "
      ]
     },
     "execution_count": 284,
     "metadata": {},
     "output_type": "execute_result"
    }
   ],
   "source": [
    "df_ordenada_z.head(10)"
   ]
  },
  {
   "cell_type": "code",
   "execution_count": 285,
   "metadata": {},
   "outputs": [
    {
     "data": {
      "text/html": [
       "<div>\n",
       "<style scoped>\n",
       "    .dataframe tbody tr th:only-of-type {\n",
       "        vertical-align: middle;\n",
       "    }\n",
       "\n",
       "    .dataframe tbody tr th {\n",
       "        vertical-align: top;\n",
       "    }\n",
       "\n",
       "    .dataframe thead th {\n",
       "        text-align: right;\n",
       "    }\n",
       "</style>\n",
       "<table border=\"1\" class=\"dataframe\">\n",
       "  <thead>\n",
       "    <tr style=\"text-align: right;\">\n",
       "      <th></th>\n",
       "      <th>undp_hdi</th>\n",
       "      <th>ccodealp</th>\n",
       "      <th>ht_region</th>\n",
       "      <th>gle_cgdpc</th>\n",
       "      <th>imf_pop</th>\n",
       "      <th>ffp_hf</th>\n",
       "      <th>wef_qes</th>\n",
       "      <th>wdi_expedu</th>\n",
       "      <th>wdi_ners</th>\n",
       "      <th>region_recod</th>\n",
       "      <th>puntaje_z</th>\n",
       "    </tr>\n",
       "  </thead>\n",
       "  <tbody>\n",
       "    <tr>\n",
       "      <th>49</th>\n",
       "      <td>0.919</td>\n",
       "      <td>CAN</td>\n",
       "      <td>5</td>\n",
       "      <td>36577.078</td>\n",
       "      <td>35.495998</td>\n",
       "      <td>2.2</td>\n",
       "      <td>5.245897</td>\n",
       "      <td>5.28122</td>\n",
       "      <td>NaN</td>\n",
       "      <td>WesternDem</td>\n",
       "      <td>0.000059</td>\n",
       "    </tr>\n",
       "    <tr>\n",
       "      <th>5</th>\n",
       "      <td>0.893</td>\n",
       "      <td>FIN</td>\n",
       "      <td>5</td>\n",
       "      <td>36958.211</td>\n",
       "      <td>5.427000</td>\n",
       "      <td>2.3</td>\n",
       "      <td>5.859115</td>\n",
       "      <td>7.16810</td>\n",
       "      <td>94.003181</td>\n",
       "      <td>WesternDem</td>\n",
       "      <td>0.000060</td>\n",
       "    </tr>\n",
       "    <tr>\n",
       "      <th>89</th>\n",
       "      <td>0.909</td>\n",
       "      <td>SWE</td>\n",
       "      <td>5</td>\n",
       "      <td>39000.910</td>\n",
       "      <td>9.645000</td>\n",
       "      <td>1.5</td>\n",
       "      <td>4.577006</td>\n",
       "      <td>7.67509</td>\n",
       "      <td>96.651558</td>\n",
       "      <td>WesternDem</td>\n",
       "      <td>0.000066</td>\n",
       "    </tr>\n",
       "    <tr>\n",
       "      <th>90</th>\n",
       "      <td>0.924</td>\n",
       "      <td>DEU</td>\n",
       "      <td>5</td>\n",
       "      <td>39486.699</td>\n",
       "      <td>80.983002</td>\n",
       "      <td>2.1</td>\n",
       "      <td>5.241914</td>\n",
       "      <td>4.95219</td>\n",
       "      <td>NaN</td>\n",
       "      <td>WesternDem</td>\n",
       "      <td>0.000067</td>\n",
       "    </tr>\n",
       "    <tr>\n",
       "      <th>31</th>\n",
       "      <td>0.864</td>\n",
       "      <td>BRN</td>\n",
       "      <td>7</td>\n",
       "      <td>46103.840</td>\n",
       "      <td>0.412000</td>\n",
       "      <td>4.6</td>\n",
       "      <td>4.417221</td>\n",
       "      <td>3.35319</td>\n",
       "      <td>87.032318</td>\n",
       "      <td>SouthEastAsia</td>\n",
       "      <td>0.000085</td>\n",
       "    </tr>\n",
       "    <tr>\n",
       "      <th>34</th>\n",
       "      <td>0.938</td>\n",
       "      <td>CHE</td>\n",
       "      <td>5</td>\n",
       "      <td>50454.410</td>\n",
       "      <td>8.140000</td>\n",
       "      <td>2.1</td>\n",
       "      <td>5.986858</td>\n",
       "      <td>5.09608</td>\n",
       "      <td>84.246483</td>\n",
       "      <td>WesternDem</td>\n",
       "      <td>0.000097</td>\n",
       "    </tr>\n",
       "    <tr>\n",
       "      <th>72</th>\n",
       "      <td>0.948</td>\n",
       "      <td>NOR</td>\n",
       "      <td>5</td>\n",
       "      <td>57634.770</td>\n",
       "      <td>5.156000</td>\n",
       "      <td>1.6</td>\n",
       "      <td>5.048264</td>\n",
       "      <td>7.37329</td>\n",
       "      <td>95.201927</td>\n",
       "      <td>WesternDem</td>\n",
       "      <td>0.000117</td>\n",
       "    </tr>\n",
       "    <tr>\n",
       "      <th>45</th>\n",
       "      <td>0.799</td>\n",
       "      <td>KWT</td>\n",
       "      <td>3</td>\n",
       "      <td>64342.711</td>\n",
       "      <td>3.999000</td>\n",
       "      <td>3.1</td>\n",
       "      <td>3.075769</td>\n",
       "      <td>NaN</td>\n",
       "      <td>83.578850</td>\n",
       "      <td>NorthAfrica</td>\n",
       "      <td>0.000135</td>\n",
       "    </tr>\n",
       "    <tr>\n",
       "      <th>23</th>\n",
       "      <td>0.855</td>\n",
       "      <td>QAT</td>\n",
       "      <td>3</td>\n",
       "      <td>104049.440</td>\n",
       "      <td>2.045000</td>\n",
       "      <td>3.1</td>\n",
       "      <td>5.820522</td>\n",
       "      <td>3.60719</td>\n",
       "      <td>72.464622</td>\n",
       "      <td>NorthAfrica</td>\n",
       "      <td>0.000243</td>\n",
       "    </tr>\n",
       "    <tr>\n",
       "      <th>51</th>\n",
       "      <td>NaN</td>\n",
       "      <td>MCO</td>\n",
       "      <td>5</td>\n",
       "      <td>108481.130</td>\n",
       "      <td>NaN</td>\n",
       "      <td>NaN</td>\n",
       "      <td>NaN</td>\n",
       "      <td>1.02195</td>\n",
       "      <td>NaN</td>\n",
       "      <td>WesternDem</td>\n",
       "      <td>0.000255</td>\n",
       "    </tr>\n",
       "  </tbody>\n",
       "</table>\n",
       "</div>"
      ],
      "text/plain": [
       "    undp_hdi ccodealp  ht_region   gle_cgdpc    imf_pop  ffp_hf   wef_qes  \\\n",
       "49     0.919      CAN          5   36577.078  35.495998     2.2  5.245897   \n",
       "5      0.893      FIN          5   36958.211   5.427000     2.3  5.859115   \n",
       "89     0.909      SWE          5   39000.910   9.645000     1.5  4.577006   \n",
       "90     0.924      DEU          5   39486.699  80.983002     2.1  5.241914   \n",
       "31     0.864      BRN          7   46103.840   0.412000     4.6  4.417221   \n",
       "34     0.938      CHE          5   50454.410   8.140000     2.1  5.986858   \n",
       "72     0.948      NOR          5   57634.770   5.156000     1.6  5.048264   \n",
       "45     0.799      KWT          3   64342.711   3.999000     3.1  3.075769   \n",
       "23     0.855      QAT          3  104049.440   2.045000     3.1  5.820522   \n",
       "51       NaN      MCO          5  108481.130        NaN     NaN       NaN   \n",
       "\n",
       "    wdi_expedu   wdi_ners   region_recod  puntaje_z  \n",
       "49     5.28122        NaN     WesternDem   0.000059  \n",
       "5      7.16810  94.003181     WesternDem   0.000060  \n",
       "89     7.67509  96.651558     WesternDem   0.000066  \n",
       "90     4.95219        NaN     WesternDem   0.000067  \n",
       "31     3.35319  87.032318  SouthEastAsia   0.000085  \n",
       "34     5.09608  84.246483     WesternDem   0.000097  \n",
       "72     7.37329  95.201927     WesternDem   0.000117  \n",
       "45         NaN  83.578850    NorthAfrica   0.000135  \n",
       "23     3.60719  72.464622    NorthAfrica   0.000243  \n",
       "51     1.02195        NaN     WesternDem   0.000255  "
      ]
     },
     "execution_count": 285,
     "metadata": {},
     "output_type": "execute_result"
    }
   ],
   "source": [
    "df_ordenada_z.tail(10)"
   ]
  },
  {
   "attachments": {},
   "cell_type": "markdown",
   "metadata": {},
   "source": [
    "Se puede observar la negatividad de los primeros 10 y la positividad de los ultimos 10"
   ]
  },
  {
   "attachments": {},
   "cell_type": "markdown",
   "metadata": {},
   "source": [
    "### Req 4: Estimar el puntaje z de las regiones"
   ]
  },
  {
   "attachments": {},
   "cell_type": "markdown",
   "metadata": {},
   "source": [
    "Utilizando el resultado anterior, visualice su nueva variable estandarizada (es decir, luego de calcular el puntaje Z)."
   ]
  },
  {
   "attachments": {},
   "cell_type": "markdown",
   "metadata": {},
   "source": [
    "* Para ello realice un dotplot que muestre el valor promedio de su variable por cada región.\n",
    "* Agregue además una línea que muestre el promedio total de la variable (es decir, antes de agrupar)."
   ]
  },
  {
   "cell_type": "code",
   "execution_count": 286,
   "metadata": {},
   "outputs": [
    {
     "data": {
      "image/png": "[encoded data removed]",
      "text/plain": [
       "<Figure size 1000x600 with 1 Axes>"
      ]
     },
     "metadata": {},
     "output_type": "display_data"
    }
   ],
   "source": [
    "af.grafico_puntos(df_ordenada_z, 'puntaje_z', 'region_recod', 'mean', global_stat=True)"
   ]
  },
  {
   "attachments": {},
   "cell_type": "markdown",
   "metadata": {},
   "source": [
    "### Req 5 Generar curvas de Densidad de Probabilidad "
   ]
  },
  {
   "attachments": {},
   "cell_type": "markdown",
   "metadata": {},
   "source": [
    "* Cree una función que permita visualizar las curvas de Densidad de Probabilidad para las variables imf_pop, gle_cgdpc y wdi_exph.\n",
    "* La función debe contener como argumentos:\n",
    "    - df: Tabla de datos 1.\n",
    "    - variable: Variable a contrastar."
   ]
  },
  {
   "cell_type": "code",
   "execution_count": 287,
   "metadata": {},
   "outputs": [
    {
     "data": {
      "text/plain": [
       "Index(['undp_hdi', 'ccodealp', 'ht_region', 'gle_cgdpc', 'imf_pop', 'ffp_hf',\n",
       "       'wef_qes', 'wdi_expedu', 'wdi_ners', 'region_recod', 'puntaje_z'],\n",
       "      dtype='object')"
      ]
     },
     "execution_count": 287,
     "metadata": {},
     "output_type": "execute_result"
    }
   ],
   "source": [
    "df.columns"
   ]
  },
  {
   "cell_type": "code",
   "execution_count": 288,
   "metadata": {},
   "outputs": [
    {
     "data": {
      "text/plain": [
       "6    6.036863\n",
       "Name: wdi_exph, dtype: float64"
      ]
     },
     "execution_count": 288,
     "metadata": {},
     "output_type": "execute_result"
    }
   ],
   "source": [
    "df_global = pd.read_csv('qog_std_cs_jan18.csv')\n",
    "df_global.loc[df_global['ccodealp']=='AZE']['wdi_exph']"
   ]
  },
  {
   "cell_type": "code",
   "execution_count": 289,
   "metadata": {},
   "outputs": [],
   "source": [
    "df_global_exph = df_global[['ccodealp', 'wdi_exph']]"
   ]
  },
  {
   "cell_type": "code",
   "execution_count": 290,
   "metadata": {},
   "outputs": [
    {
     "data": {
      "text/html": [
       "<div>\n",
       "<style scoped>\n",
       "    .dataframe tbody tr th:only-of-type {\n",
       "        vertical-align: middle;\n",
       "    }\n",
       "\n",
       "    .dataframe tbody tr th {\n",
       "        vertical-align: top;\n",
       "    }\n",
       "\n",
       "    .dataframe thead th {\n",
       "        text-align: right;\n",
       "    }\n",
       "</style>\n",
       "<table border=\"1\" class=\"dataframe\">\n",
       "  <thead>\n",
       "    <tr style=\"text-align: right;\">\n",
       "      <th></th>\n",
       "      <th>undp_hdi</th>\n",
       "      <th>ccodealp</th>\n",
       "      <th>ht_region</th>\n",
       "      <th>gle_cgdpc</th>\n",
       "      <th>imf_pop</th>\n",
       "      <th>ffp_hf</th>\n",
       "      <th>wef_qes</th>\n",
       "      <th>wdi_expedu</th>\n",
       "      <th>wdi_ners</th>\n",
       "      <th>region_recod</th>\n",
       "      <th>puntaje_z</th>\n",
       "      <th>wdi_exph</th>\n",
       "    </tr>\n",
       "  </thead>\n",
       "  <tbody>\n",
       "    <tr>\n",
       "      <th>0</th>\n",
       "      <td>0.747</td>\n",
       "      <td>BIH</td>\n",
       "      <td>1</td>\n",
       "      <td>8507.65040</td>\n",
       "      <td>3.871</td>\n",
       "      <td>5.5</td>\n",
       "      <td>2.355769</td>\n",
       "      <td>NaN</td>\n",
       "      <td>NaN</td>\n",
       "      <td>EastEurope</td>\n",
       "      <td>-1.711038e-05</td>\n",
       "      <td>9.572016</td>\n",
       "    </tr>\n",
       "    <tr>\n",
       "      <th>1</th>\n",
       "      <td>0.724</td>\n",
       "      <td>DMA</td>\n",
       "      <td>10</td>\n",
       "      <td>12613.72000</td>\n",
       "      <td>NaN</td>\n",
       "      <td>NaN</td>\n",
       "      <td>NaN</td>\n",
       "      <td>NaN</td>\n",
       "      <td>86.320930</td>\n",
       "      <td>Caribbean</td>\n",
       "      <td>-5.918266e-06</td>\n",
       "      <td>5.485833</td>\n",
       "    </tr>\n",
       "    <tr>\n",
       "      <th>2</th>\n",
       "      <td>0.421</td>\n",
       "      <td>GNB</td>\n",
       "      <td>4</td>\n",
       "      <td>961.26001</td>\n",
       "      <td>NaN</td>\n",
       "      <td>8.5</td>\n",
       "      <td>NaN</td>\n",
       "      <td>2.17313</td>\n",
       "      <td>NaN</td>\n",
       "      <td>SubSaharian</td>\n",
       "      <td>-3.767995e-05</td>\n",
       "      <td>5.593137</td>\n",
       "    </tr>\n",
       "    <tr>\n",
       "      <th>3</th>\n",
       "      <td>0.775</td>\n",
       "      <td>CRI</td>\n",
       "      <td>2</td>\n",
       "      <td>9485.71000</td>\n",
       "      <td>NaN</td>\n",
       "      <td>3.5</td>\n",
       "      <td>4.666449</td>\n",
       "      <td>6.92724</td>\n",
       "      <td>78.121140</td>\n",
       "      <td>LatAm</td>\n",
       "      <td>-1.444444e-05</td>\n",
       "      <td>9.313112</td>\n",
       "    </tr>\n",
       "    <tr>\n",
       "      <th>4</th>\n",
       "      <td>0.450</td>\n",
       "      <td>GMB</td>\n",
       "      <td>4</td>\n",
       "      <td>1601.88000</td>\n",
       "      <td>NaN</td>\n",
       "      <td>7.7</td>\n",
       "      <td>4.276581</td>\n",
       "      <td>2.76771</td>\n",
       "      <td>NaN</td>\n",
       "      <td>SubSaharian</td>\n",
       "      <td>-3.593378e-05</td>\n",
       "      <td>7.340401</td>\n",
       "    </tr>\n",
       "    <tr>\n",
       "      <th>...</th>\n",
       "      <td>...</td>\n",
       "      <td>...</td>\n",
       "      <td>...</td>\n",
       "      <td>...</td>\n",
       "      <td>...</td>\n",
       "      <td>...</td>\n",
       "      <td>...</td>\n",
       "      <td>...</td>\n",
       "      <td>...</td>\n",
       "      <td>...</td>\n",
       "      <td>...</td>\n",
       "      <td>...</td>\n",
       "    </tr>\n",
       "    <tr>\n",
       "      <th>92</th>\n",
       "      <td>0.842</td>\n",
       "      <td>SVK</td>\n",
       "      <td>1</td>\n",
       "      <td>21776.34000</td>\n",
       "      <td>5.416</td>\n",
       "      <td>4.2</td>\n",
       "      <td>2.762845</td>\n",
       "      <td>4.23856</td>\n",
       "      <td>NaN</td>\n",
       "      <td>EastEurope</td>\n",
       "      <td>1.905674e-05</td>\n",
       "      <td>8.054048</td>\n",
       "    </tr>\n",
       "    <tr>\n",
       "      <th>93</th>\n",
       "      <td>0.775</td>\n",
       "      <td>SRB</td>\n",
       "      <td>1</td>\n",
       "      <td>11343.92000</td>\n",
       "      <td>7.167</td>\n",
       "      <td>5.3</td>\n",
       "      <td>3.058159</td>\n",
       "      <td>4.17861</td>\n",
       "      <td>92.205231</td>\n",
       "      <td>EastEurope</td>\n",
       "      <td>-9.379423e-06</td>\n",
       "      <td>10.368812</td>\n",
       "    </tr>\n",
       "    <tr>\n",
       "      <th>94</th>\n",
       "      <td>0.758</td>\n",
       "      <td>AZE</td>\n",
       "      <td>1</td>\n",
       "      <td>9793.30960</td>\n",
       "      <td>9.342</td>\n",
       "      <td>4.3</td>\n",
       "      <td>3.089141</td>\n",
       "      <td>2.63466</td>\n",
       "      <td>NaN</td>\n",
       "      <td>EastEurope</td>\n",
       "      <td>-1.360600e-05</td>\n",
       "      <td>6.036863</td>\n",
       "    </tr>\n",
       "    <tr>\n",
       "      <th>95</th>\n",
       "      <td>0.553</td>\n",
       "      <td>SYR</td>\n",
       "      <td>3</td>\n",
       "      <td>4284.41990</td>\n",
       "      <td>NaN</td>\n",
       "      <td>7.4</td>\n",
       "      <td>3.246166</td>\n",
       "      <td>NaN</td>\n",
       "      <td>46.616199</td>\n",
       "      <td>NorthAfrica</td>\n",
       "      <td>-2.862185e-05</td>\n",
       "      <td>3.254531</td>\n",
       "    </tr>\n",
       "    <tr>\n",
       "      <th>96</th>\n",
       "      <td>0.694</td>\n",
       "      <td>GAB</td>\n",
       "      <td>4</td>\n",
       "      <td>14525.28000</td>\n",
       "      <td>NaN</td>\n",
       "      <td>5.5</td>\n",
       "      <td>2.875665</td>\n",
       "      <td>2.66617</td>\n",
       "      <td>NaN</td>\n",
       "      <td>SubSaharian</td>\n",
       "      <td>-7.078323e-07</td>\n",
       "      <td>3.437472</td>\n",
       "    </tr>\n",
       "  </tbody>\n",
       "</table>\n",
       "<p>97 rows × 12 columns</p>\n",
       "</div>"
      ],
      "text/plain": [
       "    undp_hdi ccodealp  ht_region    gle_cgdpc  imf_pop  ffp_hf   wef_qes  \\\n",
       "0      0.747      BIH          1   8507.65040    3.871     5.5  2.355769   \n",
       "1      0.724      DMA         10  12613.72000      NaN     NaN       NaN   \n",
       "2      0.421      GNB          4    961.26001      NaN     8.5       NaN   \n",
       "3      0.775      CRI          2   9485.71000      NaN     3.5  4.666449   \n",
       "4      0.450      GMB          4   1601.88000      NaN     7.7  4.276581   \n",
       "..       ...      ...        ...          ...      ...     ...       ...   \n",
       "92     0.842      SVK          1  21776.34000    5.416     4.2  2.762845   \n",
       "93     0.775      SRB          1  11343.92000    7.167     5.3  3.058159   \n",
       "94     0.758      AZE          1   9793.30960    9.342     4.3  3.089141   \n",
       "95     0.553      SYR          3   4284.41990      NaN     7.4  3.246166   \n",
       "96     0.694      GAB          4  14525.28000      NaN     5.5  2.875665   \n",
       "\n",
       "    wdi_expedu   wdi_ners region_recod     puntaje_z   wdi_exph  \n",
       "0          NaN        NaN   EastEurope -1.711038e-05   9.572016  \n",
       "1          NaN  86.320930    Caribbean -5.918266e-06   5.485833  \n",
       "2      2.17313        NaN  SubSaharian -3.767995e-05   5.593137  \n",
       "3      6.92724  78.121140        LatAm -1.444444e-05   9.313112  \n",
       "4      2.76771        NaN  SubSaharian -3.593378e-05   7.340401  \n",
       "..         ...        ...          ...           ...        ...  \n",
       "92     4.23856        NaN   EastEurope  1.905674e-05   8.054048  \n",
       "93     4.17861  92.205231   EastEurope -9.379423e-06  10.368812  \n",
       "94     2.63466        NaN   EastEurope -1.360600e-05   6.036863  \n",
       "95         NaN  46.616199  NorthAfrica -2.862185e-05   3.254531  \n",
       "96     2.66617        NaN  SubSaharian -7.078323e-07   3.437472  \n",
       "\n",
       "[97 rows x 12 columns]"
      ]
     },
     "execution_count": 290,
     "metadata": {},
     "output_type": "execute_result"
    }
   ],
   "source": [
    "\n",
    "df_merge_exph = pd.merge(df, df_global_exph,on='ccodealp', how='left')\n",
    "df_merge_exph"
   ]
  },
  {
   "cell_type": "code",
   "execution_count": 311,
   "metadata": {},
   "outputs": [],
   "source": [
    "#['imf_pop', 'gle_cgdpc', 'wdi_expedu']\n",
    "var = np.random.choice(df['ccodealp'].unique())"
   ]
  },
  {
   "cell_type": "code",
   "execution_count": 312,
   "metadata": {},
   "outputs": [
    {
     "data": {
      "text/plain": [
       "81    6.266\n",
       "Name: imf_pop, dtype: float64"
      ]
     },
     "execution_count": 312,
     "metadata": {},
     "output_type": "execute_result"
    }
   ],
   "source": [
    "#variable a comparar\n",
    "df.loc[df['ccodealp']==var]['imf_pop']"
   ]
  },
  {
   "cell_type": "code",
   "execution_count": 313,
   "metadata": {},
   "outputs": [],
   "source": [
    "import scipy.stats as stats"
   ]
  },
  {
   "cell_type": "code",
   "execution_count": 316,
   "metadata": {},
   "outputs": [],
   "source": [
    "def curvas_densidad(dataFrame, var):\n",
    "    contador = 1\n",
    "    for columna in ['imf_pop', 'gle_cgdpc', 'wdi_exph']:\n",
    "        \n",
    "        plt.subplot(3,1,contador)\n",
    "        plt.hist(dataFrame[columna].dropna(), color='royalblue', alpha=.4, density=True)\n",
    "        x_min, x_max = plt.xlim()\n",
    "        x_axis = np.linspace(x_min, x_max, 100)\n",
    "        gauss_kde = stats.gaussian_kde(dataFrame[columna].dropna()) # Kernel gaussiano\n",
    "        Z = np.reshape(gauss_kde(x_axis).T, x_axis.shape)\n",
    "        plt.plot(x_axis, Z, color='cyan', lw=2, alpha=0.5, label=columna)\n",
    "\n",
    "        punto_compare = dataFrame.loc[dataFrame['ccodealp']==var][columna].values\n",
    "        plt.axvline(punto_compare, color='fuchsia', linestyle='--', lw=2,alpha=0.5, label=var)\n",
    "        plt.legend(loc='upper right', bbox_to_anchor=(1.2, 1), fontsize=12, title='Leyenda')\n",
    "        plt.title(f'Curva de densidad {columna}', fontsize=16)\n",
    "        plt.subplots_adjust(hspace=0.6)\n",
    "        contador += 1"
   ]
  },
  {
   "cell_type": "code",
   "execution_count": 317,
   "metadata": {},
   "outputs": [
    {
     "data": {
      "image/png": "[encoded data removed]",
      "text/plain": [
       "<Figure size 1000x600 with 3 Axes>"
      ]
     },
     "metadata": {},
     "output_type": "display_data"
    }
   ],
   "source": [
    "curvas_densidad(df_merge_exph, var)"
   ]
  }
 ],
 "metadata": {
  "kernelspec": {
   "display_name": "base",
   "language": "python",
   "name": "python3"
  },
  "language_info": {
   "codemirror_mode": {
    "name": "ipython",
    "version": 3
   },
   "file_extension": ".py",
   "mimetype": "text/x-python",
   "name": "python",
   "nbconvert_exporter": "python",
   "pygments_lexer": "ipython3",
   "version": "3.9.13 (main, Aug 25 2022, 23:26:10) \n[GCC 11.2.0]"
  },
  "orig_nbformat": 4,
  "vscode": {
   "interpreter": {
    "hash": "c9c95a542e0787f57613780817cff22e65fe979e702b6d9a424a45d54043f1a4"
   }
  }
 },
 "nbformat": 4,
 "nbformat_minor": 2
}
