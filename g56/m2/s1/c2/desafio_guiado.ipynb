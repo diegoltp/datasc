{
 "cells": [
  {
   "cell_type": "markdown",
   "metadata": {},
   "source": [
    "#ident-rainbow\n",
    "#markdown pdf\n",
    "#vscode pdf"
   ]
  },
  {
   "attachments": {},
   "cell_type": "markdown",
   "metadata": {},
   "source": [
    "### desafio guiado 1"
   ]
  },
  {
   "attachments": {},
   "cell_type": "markdown",
   "metadata": {},
   "source": [
    "##### Requerimiento 1"
   ]
  },
  {
   "cell_type": "code",
   "execution_count": 2,
   "metadata": {},
   "outputs": [
    {
     "name": "stdout",
     "output_type": "stream",
     "text": [
      "Hola mundo esta es mi primera invursion en Python\n"
     ]
    }
   ],
   "source": [
    "print('Hola mundo esta es mi primera invursion en Python')"
   ]
  },
  {
   "cell_type": "markdown",
   "metadata": {},
   "source": []
  },
  {
   "attachments": {},
   "cell_type": "markdown",
   "metadata": {},
   "source": [
    "### Requerimiento 2"
   ]
  },
  {
   "attachments": {},
   "cell_type": "markdown",
   "metadata": {},
   "source": [
    "2 Ingreso de variables (2 ptos): Ingrese una serie de datos respecto a su información personal. Esta información debe estar ingresada en variables para su posterior uso.\n",
    "Ingrese los siguientes datos:\n",
    "* Su nombre.\n",
    "* Edad.\n",
    "* Una lista con sus 3 actividades favoritas.\n",
    "* ¿Tiene mascotas?"
   ]
  },
  {
   "cell_type": "code",
   "execution_count": 3,
   "metadata": {},
   "outputs": [],
   "source": [
    "name = 'Diego'\n",
    "edad = 31\n",
    "actv_fav = ['surf', 'futbol', 'e-sports']\n",
    "mascota = True"
   ]
  },
  {
   "attachments": {},
   "cell_type": "markdown",
   "metadata": {},
   "source": [
    "### Requerimiento 3"
   ]
  },
  {
   "attachments": {},
   "cell_type": "markdown",
   "metadata": {},
   "source": [
    "3. Imprimir variables (2 ptos):\n",
    "* Imprima cada variable creada: acceda al segundo elemento de su lista.\n",
    "* Pida los tipos de datos asociados.\n",
    "* Interpole los datos en un método print para generar una    presentación    sobre usted."
   ]
  },
  {
   "cell_type": "code",
   "execution_count": 4,
   "metadata": {},
   "outputs": [
    {
     "name": "stdout",
     "output_type": "stream",
     "text": [
      "Diego\n",
      "31\n",
      "futbol\n",
      "True\n"
     ]
    }
   ],
   "source": [
    "print(name)\n",
    "print(edad)\n",
    "print(actv_fav[1])\n",
    "print(mascota)"
   ]
  },
  {
   "cell_type": "code",
   "execution_count": 5,
   "metadata": {},
   "outputs": [
    {
     "name": "stdout",
     "output_type": "stream",
     "text": [
      "<class 'str'>\n",
      "<class 'int'>\n",
      "<class 'list'>\n",
      "<class 'bool'>\n"
     ]
    }
   ],
   "source": [
    "print(type(name))\n",
    "print(type(edad))\n",
    "print(type(actv_fav))\n",
    "print(type(mascota))"
   ]
  },
  {
   "cell_type": "code",
   "execution_count": 6,
   "metadata": {},
   "outputs": [
    {
     "name": "stdout",
     "output_type": "stream",
     "text": [
      "Mi nombre es Diego tengo 31 y me gusta ['surf', 'futbol', 'e-sports']\n"
     ]
    }
   ],
   "source": [
    "print('Mi nombre es {} tengo {} y me gusta {}'.format(name, edad, actv_fav))"
   ]
  },
  {
   "attachments": {},
   "cell_type": "markdown",
   "metadata": {},
   "source": [
    "### Requerimiento 4"
   ]
  },
  {
   "attachments": {},
   "cell_type": "markdown",
   "metadata": {},
   "source": [
    "4. Identificar códigos erróneos (2 ptos): a continuación se presenta una serie de códigos que generan errores. Corríjalos y comente cuáles fueron las fallas.\n"
   ]
  },
  {
   "attachments": {},
   "cell_type": "markdown",
   "metadata": {},
   "source": [
    "    print('Estaba la pájara pinta sentada en el verde limón)\n",
    "'''\n",
    "r/: Falta una comilla simple al final\n",
    "* print('Estaba la pájara pinta sentada en el verde limón')\n",
    "'''"
   ]
  },
  {
   "attachments": {},
   "cell_type": "markdown",
   "metadata": {},
   "source": [
    "    print('Mi nombre es' name 'y tengo' edad, 'años')\n",
    "'''\n",
    "r/: asumiendo que las variables estan creadas. Faltan espacios al inicio y al termino de los strings: \n",
    "* print('Mi nombre es ' name ' y tengo ' edad, ' años')\n",
    "'''"
   ]
  },
  {
   "attachments": {},
   "cell_type": "markdown",
   "metadata": {},
   "source": [
    "    import pandas as pd\n",
    "    import numpy as np\n",
    "'''\n",
    "r/: no hay errores a simple vista, a menos que asumamos que no se tengan instaladas las librerias o que se esten importando y despues no se utilicen\n",
    "'''\n",
    "* df = pd.read_csv('bd.csv')\n",
    "* media = np.mean(df['valores'])"
   ]
  },
  {
   "attachments": {},
   "cell_type": "markdown",
   "metadata": {},
   "source": [
    "    \"Ornitorrinco\" + 45\n",
    "'''\n",
    "r/: se esta concatenando un string con un int por ende arrojara error de tipo\n",
    "'''\n",
    "* \"Ornitorrinco\" + \"45\""
   ]
  },
  {
   "attachments": {},
   "cell_type": "markdown",
   "metadata": {},
   "source": [
    "### Requerimiento 5"
   ]
  },
  {
   "attachments": {},
   "cell_type": "markdown",
   "metadata": {},
   "source": [
    "5. Utilizar pandas y numpy (3 ptos):\n",
    "* Para ello, sigue los siguientes pasos.\n",
    "* A. Importa pandas y numpy."
   ]
  },
  {
   "cell_type": "code",
   "execution_count": 7,
   "metadata": {},
   "outputs": [],
   "source": [
    "import pandas as pd\n",
    "import numpy as np"
   ]
  },
  {
   "attachments": {},
   "cell_type": "markdown",
   "metadata": {},
   "source": [
    "* B. Posteriormente importa el archivo flights.csv."
   ]
  },
  {
   "cell_type": "code",
   "execution_count": 8,
   "metadata": {},
   "outputs": [],
   "source": [
    "#/home/diego/Documentos/Apuntes data science/g56/2fundamentos_data_science/s1/c2/desafio_guiado/Apoyo Desafío - Introducción al ambiente de trabajo/flights.csv\n",
    "df = pd.read_csv('flights.csv')"
   ]
  },
  {
   "attachments": {},
   "cell_type": "markdown",
   "metadata": {},
   "source": [
    "* C. Solicita las primeras y últimas 5 observaciones de la tabla de datos."
   ]
  },
  {
   "cell_type": "code",
   "execution_count": 9,
   "metadata": {},
   "outputs": [
    {
     "data": {
      "text/html": [
       "<div>\n",
       "<style scoped>\n",
       "    .dataframe tbody tr th:only-of-type {\n",
       "        vertical-align: middle;\n",
       "    }\n",
       "\n",
       "    .dataframe tbody tr th {\n",
       "        vertical-align: top;\n",
       "    }\n",
       "\n",
       "    .dataframe thead th {\n",
       "        text-align: right;\n",
       "    }\n",
       "</style>\n",
       "<table border=\"1\" class=\"dataframe\">\n",
       "  <thead>\n",
       "    <tr style=\"text-align: right;\">\n",
       "      <th></th>\n",
       "      <th>year</th>\n",
       "      <th>month</th>\n",
       "      <th>passengers</th>\n",
       "    </tr>\n",
       "  </thead>\n",
       "  <tbody>\n",
       "    <tr>\n",
       "      <th>0</th>\n",
       "      <td>1949</td>\n",
       "      <td>January</td>\n",
       "      <td>112</td>\n",
       "    </tr>\n",
       "    <tr>\n",
       "      <th>1</th>\n",
       "      <td>1949</td>\n",
       "      <td>February</td>\n",
       "      <td>118</td>\n",
       "    </tr>\n",
       "    <tr>\n",
       "      <th>2</th>\n",
       "      <td>1949</td>\n",
       "      <td>March</td>\n",
       "      <td>132</td>\n",
       "    </tr>\n",
       "    <tr>\n",
       "      <th>3</th>\n",
       "      <td>1949</td>\n",
       "      <td>April</td>\n",
       "      <td>129</td>\n",
       "    </tr>\n",
       "    <tr>\n",
       "      <th>4</th>\n",
       "      <td>1949</td>\n",
       "      <td>May</td>\n",
       "      <td>121</td>\n",
       "    </tr>\n",
       "  </tbody>\n",
       "</table>\n",
       "</div>"
      ],
      "text/plain": [
       "   year     month  passengers\n",
       "0  1949   January         112\n",
       "1  1949  February         118\n",
       "2  1949     March         132\n",
       "3  1949     April         129\n",
       "4  1949       May         121"
      ]
     },
     "execution_count": 9,
     "metadata": {},
     "output_type": "execute_result"
    }
   ],
   "source": [
    "df.head()"
   ]
  },
  {
   "cell_type": "code",
   "execution_count": 10,
   "metadata": {},
   "outputs": [
    {
     "data": {
      "text/html": [
       "<div>\n",
       "<style scoped>\n",
       "    .dataframe tbody tr th:only-of-type {\n",
       "        vertical-align: middle;\n",
       "    }\n",
       "\n",
       "    .dataframe tbody tr th {\n",
       "        vertical-align: top;\n",
       "    }\n",
       "\n",
       "    .dataframe thead th {\n",
       "        text-align: right;\n",
       "    }\n",
       "</style>\n",
       "<table border=\"1\" class=\"dataframe\">\n",
       "  <thead>\n",
       "    <tr style=\"text-align: right;\">\n",
       "      <th></th>\n",
       "      <th>year</th>\n",
       "      <th>month</th>\n",
       "      <th>passengers</th>\n",
       "    </tr>\n",
       "  </thead>\n",
       "  <tbody>\n",
       "    <tr>\n",
       "      <th>139</th>\n",
       "      <td>1960</td>\n",
       "      <td>August</td>\n",
       "      <td>606</td>\n",
       "    </tr>\n",
       "    <tr>\n",
       "      <th>140</th>\n",
       "      <td>1960</td>\n",
       "      <td>September</td>\n",
       "      <td>508</td>\n",
       "    </tr>\n",
       "    <tr>\n",
       "      <th>141</th>\n",
       "      <td>1960</td>\n",
       "      <td>October</td>\n",
       "      <td>461</td>\n",
       "    </tr>\n",
       "    <tr>\n",
       "      <th>142</th>\n",
       "      <td>1960</td>\n",
       "      <td>November</td>\n",
       "      <td>390</td>\n",
       "    </tr>\n",
       "    <tr>\n",
       "      <th>143</th>\n",
       "      <td>1960</td>\n",
       "      <td>December</td>\n",
       "      <td>432</td>\n",
       "    </tr>\n",
       "  </tbody>\n",
       "</table>\n",
       "</div>"
      ],
      "text/plain": [
       "     year      month  passengers\n",
       "139  1960     August         606\n",
       "140  1960  September         508\n",
       "141  1960    October         461\n",
       "142  1960   November         390\n",
       "143  1960   December         432"
      ]
     },
     "execution_count": 10,
     "metadata": {},
     "output_type": "execute_result"
    }
   ],
   "source": [
    "df.tail()"
   ]
  },
  {
   "attachments": {},
   "cell_type": "markdown",
   "metadata": {},
   "source": [
    "* D. Utiliza describe para obtener las medidas univariadas de la columna year."
   ]
  },
  {
   "cell_type": "code",
   "execution_count": 11,
   "metadata": {},
   "outputs": [
    {
     "data": {
      "text/plain": [
       "count     144.000000\n",
       "mean     1954.500000\n",
       "std         3.464102\n",
       "min      1949.000000\n",
       "25%      1951.750000\n",
       "50%      1954.500000\n",
       "75%      1957.250000\n",
       "max      1960.000000\n",
       "Name: year, dtype: float64"
      ]
     },
     "execution_count": 11,
     "metadata": {},
     "output_type": "execute_result"
    }
   ],
   "source": [
    "df['year'].describe()"
   ]
  },
  {
   "attachments": {},
   "cell_type": "markdown",
   "metadata": {},
   "source": [
    "* E. Utiliza value_counts para obtener la frecuencia de meses y años de la tabla."
   ]
  },
  {
   "cell_type": "code",
   "execution_count": 12,
   "metadata": {},
   "outputs": [
    {
     "data": {
      "text/plain": [
       "1949    12\n",
       "1950    12\n",
       "1951    12\n",
       "1952    12\n",
       "1953    12\n",
       "1954    12\n",
       "1955    12\n",
       "1956    12\n",
       "1957    12\n",
       "1958    12\n",
       "1959    12\n",
       "1960    12\n",
       "Name: year, dtype: int64"
      ]
     },
     "execution_count": 12,
     "metadata": {},
     "output_type": "execute_result"
    }
   ],
   "source": [
    "df['year'].value_counts()"
   ]
  },
  {
   "cell_type": "code",
   "execution_count": 13,
   "metadata": {},
   "outputs": [
    {
     "data": {
      "text/plain": [
       "January      12\n",
       "February     12\n",
       "March        12\n",
       "April        12\n",
       "May          12\n",
       "June         12\n",
       "July         12\n",
       "August       12\n",
       "September    12\n",
       "October      12\n",
       "November     12\n",
       "December     12\n",
       "Name: month, dtype: int64"
      ]
     },
     "execution_count": 13,
     "metadata": {},
     "output_type": "execute_result"
    }
   ],
   "source": [
    "df['month'].value_counts()"
   ]
  },
  {
   "attachments": {},
   "cell_type": "markdown",
   "metadata": {},
   "source": [
    "* F. Guarda en variables las primeras y últimas 15 observaciones de la tabla."
   ]
  },
  {
   "cell_type": "code",
   "execution_count": 14,
   "metadata": {},
   "outputs": [],
   "source": [
    "first_15 = df[:15]\n",
    "last_15 = df[129:]"
   ]
  },
  {
   "cell_type": "code",
   "execution_count": 15,
   "metadata": {},
   "outputs": [
    {
     "data": {
      "text/plain": [
       "(15, 3)"
      ]
     },
     "execution_count": 15,
     "metadata": {},
     "output_type": "execute_result"
    }
   ],
   "source": [
    "last_15.shape"
   ]
  },
  {
   "attachments": {},
   "cell_type": "markdown",
   "metadata": {},
   "source": [
    "* G. Solicita la media, mediana y desviación estándar de la cantidad de pasajeros utilizando los métodos de numpy. Replique el procedimiento para las últimas y primeras 15 observaciones. Comente brevemente los resultados."
   ]
  },
  {
   "cell_type": "code",
   "execution_count": 16,
   "metadata": {},
   "outputs": [
    {
     "name": "stdout",
     "output_type": "stream",
     "text": [
      "La media de los pasajeros es:  280.2986111111111\n",
      "La mediana de los pasajeros es:  265.5\n",
      "La std de los pasajeros es:  119.54904153277148\n"
     ]
    }
   ],
   "source": [
    "media = np.mean(df['passengers'])\n",
    "mediana = np.median(df['passengers'])\n",
    "std = np.std(df['passengers'])\n",
    "\n",
    "print('La media de los pasajeros es:  {}'.format(media))\n",
    "print('La mediana de los pasajeros es:  {}'.format(mediana))\n",
    "print('La std de los pasajeros es:  {}'.format(std))"
   ]
  },
  {
   "cell_type": "code",
   "execution_count": 17,
   "metadata": {},
   "outputs": [
    {
     "name": "stdout",
     "output_type": "stream",
     "text": [
      "La media de los pasajeros es:  126.8\n",
      "La mediana de los pasajeros es:  126.0\n",
      "La std de los pasajeros es:  12.681745410891462\n"
     ]
    }
   ],
   "source": [
    "media = np.mean(first_15['passengers'])\n",
    "mediana = np.median(first_15['passengers'])\n",
    "std = np.std(first_15['passengers'])\n",
    "\n",
    "print('La media de los pasajeros es:  {}'.format(media))\n",
    "print('La mediana de los pasajeros es:  {}'.format(mediana))\n",
    "print('La std de los pasajeros es:  {}'.format(std))"
   ]
  },
  {
   "attachments": {},
   "cell_type": "markdown",
   "metadata": {},
   "source": [
    "* Podemos concluir que el total de datos se encuentra muy disperso con una desviacion estandar de 119,5.\n",
    "* por el lado de los primeros 15 podemos observar que no estan tan dispersos ya que su desviacion es de 12 y su media coincide con la mediana.\n",
    "* Si quisieramos utilizar los primeros 15 como muestra representativa, esto no seria correcto ya que difieren mucho sus cracteristicas en comparacion al total de la poblacion."
   ]
  },
  {
   "cell_type": "markdown",
   "metadata": {},
   "source": []
  }
 ],
 "metadata": {
  "kernelspec": {
   "display_name": "base",
   "language": "python",
   "name": "python3"
  },
  "language_info": {
   "codemirror_mode": {
    "name": "ipython",
    "version": 3
   },
   "file_extension": ".py",
   "mimetype": "text/x-python",
   "name": "python",
   "nbconvert_exporter": "python",
   "pygments_lexer": "ipython3",
   "version": "3.9.13"
  },
  "orig_nbformat": 4,
  "vscode": {
   "interpreter": {
    "hash": "c9c95a542e0787f57613780817cff22e65fe979e702b6d9a424a45d54043f1a4"
   }
  }
 },
 "nbformat": 4,
 "nbformat_minor": 2
}
