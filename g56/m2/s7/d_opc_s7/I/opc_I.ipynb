{
 "cells": [
  {
   "attachments": {},
   "cell_type": "markdown",
   "metadata": {},
   "source": [
    "# Desafio Opcional I\n",
    "* 1: No me representa para nada.\n",
    "* 2: No me representa.\n",
    "* 3: Algunas cosas no me representan.\n",
    "* 4: Algunas cosas me representan.\n",
    "* 5: Me representa.\n",
    "* 6: Me representa completamente.\n",
    "#### Las 25 preguntas son:\n",
    "* A1 Soy indiferente a los sentimientos de otros.\n",
    "* A2 Me preocupo del bienestar de otros.\n",
    "* A3 Sé cómo confortar a otros.\n",
    "* A4 Me agradan los niños.\n",
    "* A5 Hago sentir tranquila a la gente.\n",
    "* C1 Soy exacto en mi trabajo.\n",
    "* C2 Sigo con mis tareas hasta que todo esté perfecto.\n",
    "* C3 Hago cosas siguiendo un plan.\n",
    "* C4 Hago cosas con el mínimo esfuerzo.\n",
    "* C5 Pierdo mi tiempo.\n",
    "* E1 No hablo mucho con las personas.\n",
    "* E2 Me es difícil acercarme a otros.\n",
    "* E3 Sé cómo cautivar a la gente.\n",
    "* E4 Hago amigos de forma fácil.\n",
    "* E5 Puedo tomar el cargo de las cosas.\n",
    "* N1 Me enojo con facilidad.\n",
    "* N2 Me irrito con facilidad.\n",
    "* N3 Tengo cambios de humor frecuentes.\n",
    "* N4 Usualmente me siento melancólico.\n",
    "* N5 Entró en pánico con facilidad.\n",
    "* O1 Estoy lleno de ideas.\n",
    "* O2 Evito leer material difícil.\n",
    "* O3 Tiendo a llevar la conversación a niveles más altos.\n",
    "* O4 Dedico tiempo a la reflexión de cosas.\n",
    "* O5 No profundizaré sobre una materia específica."
   ]
  },
  {
   "attachments": {},
   "cell_type": "markdown",
   "metadata": {},
   "source": [
    "* gender Hombre = 1, Mujer =2.\n",
    "* education 1 = Educación Media Incompleta, 2 = Educación Media Completa, 3 = Educación Universitaria Incompleta, 4 = Educación Universitaria Completa 5 = Estudios de Postgrado.\n",
    "* age Edad en Años."
   ]
  },
  {
   "attachments": {},
   "cell_type": "markdown",
   "metadata": {},
   "source": [
    "### Desafio 1: Lectura de Archivos\n",
    "* Importe las librerías necesarias para el análisis factorial siguiendo las convenciones.\n",
    "* Importe la base de datos bfi.csv y asígnela a un objeto df.\n",
    "* Solicite las primeras 5 observaciones con head."
   ]
  },
  {
   "cell_type": "code",
   "execution_count": 135,
   "metadata": {},
   "outputs": [],
   "source": [
    "import pandas as pd\n",
    "import numpy as np\n",
    "import matplotlib.pyplot as plt\n",
    "%matplotlib inline\n",
    "import scipy.stats as stats\n",
    "import seaborn as sns\n",
    "plt.style.use('seaborn')\n",
    "\n",
    "import missingno as msngo\n",
    "import factor_analyzer as fact"
   ]
  },
  {
   "cell_type": "code",
   "execution_count": 3,
   "metadata": {},
   "outputs": [
    {
     "data": {
      "text/html": [
       "<div>\n",
       "<style scoped>\n",
       "    .dataframe tbody tr th:only-of-type {\n",
       "        vertical-align: middle;\n",
       "    }\n",
       "\n",
       "    .dataframe tbody tr th {\n",
       "        vertical-align: top;\n",
       "    }\n",
       "\n",
       "    .dataframe thead th {\n",
       "        text-align: right;\n",
       "    }\n",
       "</style>\n",
       "<table border=\"1\" class=\"dataframe\">\n",
       "  <thead>\n",
       "    <tr style=\"text-align: right;\">\n",
       "      <th></th>\n",
       "      <th>Unnamed: 0</th>\n",
       "      <th>A1</th>\n",
       "      <th>A2</th>\n",
       "      <th>A3</th>\n",
       "      <th>A4</th>\n",
       "      <th>A5</th>\n",
       "      <th>C1</th>\n",
       "      <th>C2</th>\n",
       "      <th>C3</th>\n",
       "      <th>C4</th>\n",
       "      <th>...</th>\n",
       "      <th>N4</th>\n",
       "      <th>N5</th>\n",
       "      <th>O1</th>\n",
       "      <th>O2</th>\n",
       "      <th>O3</th>\n",
       "      <th>O4</th>\n",
       "      <th>O5</th>\n",
       "      <th>gender</th>\n",
       "      <th>education</th>\n",
       "      <th>age</th>\n",
       "    </tr>\n",
       "  </thead>\n",
       "  <tbody>\n",
       "    <tr>\n",
       "      <th>0</th>\n",
       "      <td>61617</td>\n",
       "      <td>2.0</td>\n",
       "      <td>4.0</td>\n",
       "      <td>3.0</td>\n",
       "      <td>4.0</td>\n",
       "      <td>4.0</td>\n",
       "      <td>2.0</td>\n",
       "      <td>3.0</td>\n",
       "      <td>3.0</td>\n",
       "      <td>4.0</td>\n",
       "      <td>...</td>\n",
       "      <td>2.0</td>\n",
       "      <td>3.0</td>\n",
       "      <td>3.0</td>\n",
       "      <td>6</td>\n",
       "      <td>3.0</td>\n",
       "      <td>4.0</td>\n",
       "      <td>3.0</td>\n",
       "      <td>1</td>\n",
       "      <td>NaN</td>\n",
       "      <td>16</td>\n",
       "    </tr>\n",
       "    <tr>\n",
       "      <th>1</th>\n",
       "      <td>61618</td>\n",
       "      <td>2.0</td>\n",
       "      <td>4.0</td>\n",
       "      <td>5.0</td>\n",
       "      <td>2.0</td>\n",
       "      <td>5.0</td>\n",
       "      <td>5.0</td>\n",
       "      <td>4.0</td>\n",
       "      <td>4.0</td>\n",
       "      <td>3.0</td>\n",
       "      <td>...</td>\n",
       "      <td>5.0</td>\n",
       "      <td>5.0</td>\n",
       "      <td>4.0</td>\n",
       "      <td>2</td>\n",
       "      <td>4.0</td>\n",
       "      <td>3.0</td>\n",
       "      <td>3.0</td>\n",
       "      <td>2</td>\n",
       "      <td>NaN</td>\n",
       "      <td>18</td>\n",
       "    </tr>\n",
       "    <tr>\n",
       "      <th>2</th>\n",
       "      <td>61620</td>\n",
       "      <td>5.0</td>\n",
       "      <td>4.0</td>\n",
       "      <td>5.0</td>\n",
       "      <td>4.0</td>\n",
       "      <td>4.0</td>\n",
       "      <td>4.0</td>\n",
       "      <td>5.0</td>\n",
       "      <td>4.0</td>\n",
       "      <td>2.0</td>\n",
       "      <td>...</td>\n",
       "      <td>2.0</td>\n",
       "      <td>3.0</td>\n",
       "      <td>4.0</td>\n",
       "      <td>2</td>\n",
       "      <td>5.0</td>\n",
       "      <td>5.0</td>\n",
       "      <td>2.0</td>\n",
       "      <td>2</td>\n",
       "      <td>NaN</td>\n",
       "      <td>17</td>\n",
       "    </tr>\n",
       "    <tr>\n",
       "      <th>3</th>\n",
       "      <td>61621</td>\n",
       "      <td>4.0</td>\n",
       "      <td>4.0</td>\n",
       "      <td>6.0</td>\n",
       "      <td>5.0</td>\n",
       "      <td>5.0</td>\n",
       "      <td>4.0</td>\n",
       "      <td>4.0</td>\n",
       "      <td>3.0</td>\n",
       "      <td>5.0</td>\n",
       "      <td>...</td>\n",
       "      <td>4.0</td>\n",
       "      <td>1.0</td>\n",
       "      <td>3.0</td>\n",
       "      <td>3</td>\n",
       "      <td>4.0</td>\n",
       "      <td>3.0</td>\n",
       "      <td>5.0</td>\n",
       "      <td>2</td>\n",
       "      <td>NaN</td>\n",
       "      <td>17</td>\n",
       "    </tr>\n",
       "    <tr>\n",
       "      <th>4</th>\n",
       "      <td>61622</td>\n",
       "      <td>2.0</td>\n",
       "      <td>3.0</td>\n",
       "      <td>3.0</td>\n",
       "      <td>4.0</td>\n",
       "      <td>5.0</td>\n",
       "      <td>4.0</td>\n",
       "      <td>4.0</td>\n",
       "      <td>5.0</td>\n",
       "      <td>3.0</td>\n",
       "      <td>...</td>\n",
       "      <td>4.0</td>\n",
       "      <td>3.0</td>\n",
       "      <td>3.0</td>\n",
       "      <td>3</td>\n",
       "      <td>4.0</td>\n",
       "      <td>3.0</td>\n",
       "      <td>3.0</td>\n",
       "      <td>1</td>\n",
       "      <td>NaN</td>\n",
       "      <td>17</td>\n",
       "    </tr>\n",
       "  </tbody>\n",
       "</table>\n",
       "<p>5 rows × 29 columns</p>\n",
       "</div>"
      ],
      "text/plain": [
       "   Unnamed: 0   A1   A2   A3   A4   A5   C1   C2   C3   C4  ...   N4   N5  \\\n",
       "0       61617  2.0  4.0  3.0  4.0  4.0  2.0  3.0  3.0  4.0  ...  2.0  3.0   \n",
       "1       61618  2.0  4.0  5.0  2.0  5.0  5.0  4.0  4.0  3.0  ...  5.0  5.0   \n",
       "2       61620  5.0  4.0  5.0  4.0  4.0  4.0  5.0  4.0  2.0  ...  2.0  3.0   \n",
       "3       61621  4.0  4.0  6.0  5.0  5.0  4.0  4.0  3.0  5.0  ...  4.0  1.0   \n",
       "4       61622  2.0  3.0  3.0  4.0  5.0  4.0  4.0  5.0  3.0  ...  4.0  3.0   \n",
       "\n",
       "    O1  O2   O3   O4   O5  gender  education  age  \n",
       "0  3.0   6  3.0  4.0  3.0       1        NaN   16  \n",
       "1  4.0   2  4.0  3.0  3.0       2        NaN   18  \n",
       "2  4.0   2  5.0  5.0  2.0       2        NaN   17  \n",
       "3  3.0   3  4.0  3.0  5.0       2        NaN   17  \n",
       "4  3.0   3  4.0  3.0  3.0       1        NaN   17  \n",
       "\n",
       "[5 rows x 29 columns]"
      ]
     },
     "execution_count": 3,
     "metadata": {},
     "output_type": "execute_result"
    }
   ],
   "source": [
    "df = pd.read_csv('bfi.csv')\n",
    "df.head()"
   ]
  },
  {
   "attachments": {},
   "cell_type": "markdown",
   "metadata": {},
   "source": [
    "### Desafío 2: Preprocesamiento\n",
    "* Elimine las columnas redundantes de la base, tal como 'Unnamed: 0'.\n",
    "* Analice el patrón de datos perdidos con missingno. Comente cuáles son las principales variables con mayores tasas de valores perdidos.\n",
    "* Genere un nuevo objeto donde almacenará la base sin valores perdidos."
   ]
  },
  {
   "cell_type": "code",
   "execution_count": 4,
   "metadata": {},
   "outputs": [],
   "source": [
    "df = df.drop('Unnamed: 0', axis=1)"
   ]
  },
  {
   "cell_type": "code",
   "execution_count": 6,
   "metadata": {},
   "outputs": [
    {
     "data": {
      "text/html": [
       "<div>\n",
       "<style scoped>\n",
       "    .dataframe tbody tr th:only-of-type {\n",
       "        vertical-align: middle;\n",
       "    }\n",
       "\n",
       "    .dataframe tbody tr th {\n",
       "        vertical-align: top;\n",
       "    }\n",
       "\n",
       "    .dataframe thead th {\n",
       "        text-align: right;\n",
       "    }\n",
       "</style>\n",
       "<table border=\"1\" class=\"dataframe\">\n",
       "  <thead>\n",
       "    <tr style=\"text-align: right;\">\n",
       "      <th></th>\n",
       "      <th>A1</th>\n",
       "      <th>A2</th>\n",
       "      <th>A3</th>\n",
       "      <th>A4</th>\n",
       "      <th>A5</th>\n",
       "      <th>C1</th>\n",
       "      <th>C2</th>\n",
       "      <th>C3</th>\n",
       "      <th>C4</th>\n",
       "      <th>C5</th>\n",
       "      <th>...</th>\n",
       "      <th>N4</th>\n",
       "      <th>N5</th>\n",
       "      <th>O1</th>\n",
       "      <th>O2</th>\n",
       "      <th>O3</th>\n",
       "      <th>O4</th>\n",
       "      <th>O5</th>\n",
       "      <th>gender</th>\n",
       "      <th>education</th>\n",
       "      <th>age</th>\n",
       "    </tr>\n",
       "  </thead>\n",
       "  <tbody>\n",
       "    <tr>\n",
       "      <th>596</th>\n",
       "      <td>5.0</td>\n",
       "      <td>6.0</td>\n",
       "      <td>2.0</td>\n",
       "      <td>6.0</td>\n",
       "      <td>5.0</td>\n",
       "      <td>4.0</td>\n",
       "      <td>5.0</td>\n",
       "      <td>4.0</td>\n",
       "      <td>2.0</td>\n",
       "      <td>4.0</td>\n",
       "      <td>...</td>\n",
       "      <td>2.0</td>\n",
       "      <td>3.0</td>\n",
       "      <td>6.0</td>\n",
       "      <td>2</td>\n",
       "      <td>2.0</td>\n",
       "      <td>1.0</td>\n",
       "      <td>1.0</td>\n",
       "      <td>2</td>\n",
       "      <td>3.0</td>\n",
       "      <td>25</td>\n",
       "    </tr>\n",
       "  </tbody>\n",
       "</table>\n",
       "<p>1 rows × 28 columns</p>\n",
       "</div>"
      ],
      "text/plain": [
       "      A1   A2   A3   A4   A5   C1   C2   C3   C4   C5  ...   N4   N5   O1  O2  \\\n",
       "596  5.0  6.0  2.0  6.0  5.0  4.0  5.0  4.0  2.0  4.0  ...  2.0  3.0  6.0   2   \n",
       "\n",
       "      O3   O4   O5  gender  education  age  \n",
       "596  2.0  1.0  1.0       2        3.0   25  \n",
       "\n",
       "[1 rows x 28 columns]"
      ]
     },
     "execution_count": 6,
     "metadata": {},
     "output_type": "execute_result"
    }
   ],
   "source": [
    "df.sample()"
   ]
  },
  {
   "cell_type": "code",
   "execution_count": 31,
   "metadata": {},
   "outputs": [
    {
     "data": {
      "text/plain": [
       "(2800, 28)"
      ]
     },
     "execution_count": 31,
     "metadata": {},
     "output_type": "execute_result"
    }
   ],
   "source": [
    "df.shape"
   ]
  },
  {
   "cell_type": "code",
   "execution_count": 34,
   "metadata": {},
   "outputs": [
    {
     "data": {
      "text/plain": [
       "<AxesSubplot:>"
      ]
     },
     "execution_count": 34,
     "metadata": {},
     "output_type": "execute_result"
    },
    {
     "data": {
      "text/plain": [
       "<Figure size 400x400 with 0 Axes>"
      ]
     },
     "metadata": {},
     "output_type": "display_data"
    },
    {
     "data": {
      "image/png": "[encoded data removed]",
      "text/plain": [
       "<Figure size 2500x1000 with 2 Axes>"
      ]
     },
     "metadata": {},
     "output_type": "display_data"
    }
   ],
   "source": [
    "plt.figure(figsize=(4,4))\n",
    "msngo.matrix(df)"
   ]
  },
  {
   "cell_type": "code",
   "execution_count": 117,
   "metadata": {},
   "outputs": [
    {
     "name": "stdout",
     "output_type": "stream",
     "text": [
      "A1: 0.006\n",
      "A2: 0.01\n",
      "A3: 0.009\n",
      "A4: 0.007\n",
      "A5: 0.006\n",
      "C1: 0.008\n",
      "C2: 0.009\n",
      "C3: 0.007\n",
      "C4: 0.009\n",
      "C5: 0.006\n",
      "E1: 0.008\n",
      "E2: 0.006\n",
      "E3: 0.009\n",
      "E4: 0.003\n",
      "E5: 0.008\n",
      "N1: 0.008\n",
      "N2: 0.008\n",
      "N3: 0.004\n",
      "N4: 0.013\n",
      "N5: 0.01\n",
      "O1: 0.008\n",
      "O3: 0.01\n",
      "O4: 0.005\n",
      "O5: 0.007\n",
      "education: 0.08\n"
     ]
    }
   ],
   "source": [
    "for index, row in df.iteritems():\n",
    "    try:\n",
    "        print(f'''{index}: {np.round(row.isna().value_counts('%')[True],3)}''')\n",
    "    except:\n",
    "        pass"
   ]
  },
  {
   "attachments": {},
   "cell_type": "markdown",
   "metadata": {},
   "source": [
    "Las columnas con mayor NA son A2, N5, O3 y education por sobre todo con un 8%"
   ]
  },
  {
   "cell_type": "code",
   "execution_count": 123,
   "metadata": {},
   "outputs": [],
   "source": [
    "df_clean = df.dropna().copy()"
   ]
  },
  {
   "cell_type": "code",
   "execution_count": 133,
   "metadata": {},
   "outputs": [
    {
     "data": {
      "text/plain": [
       "2800"
      ]
     },
     "execution_count": 133,
     "metadata": {},
     "output_type": "execute_result"
    }
   ],
   "source": [
    "df.shape[0]"
   ]
  },
  {
   "cell_type": "code",
   "execution_count": 129,
   "metadata": {},
   "outputs": [
    {
     "data": {
      "text/plain": [
       "2236"
      ]
     },
     "execution_count": 129,
     "metadata": {},
     "output_type": "execute_result"
    }
   ],
   "source": [
    "df_clean.shape[0]"
   ]
  },
  {
   "cell_type": "code",
   "execution_count": 131,
   "metadata": {},
   "outputs": [
    {
     "data": {
      "text/plain": [
       "0.2014285714285714"
      ]
     },
     "execution_count": 131,
     "metadata": {},
     "output_type": "execute_result"
    }
   ],
   "source": [
    "1 - (df_clean.shape[0] / df.shape[0])"
   ]
  },
  {
   "attachments": {},
   "cell_type": "markdown",
   "metadata": {},
   "source": [
    "### Desafío 3: Descripción\n",
    "* Separe en un nuevo objeto DataFrame la batería depreguntas a extraer."
   ]
  },
  {
   "cell_type": "code",
   "execution_count": 150,
   "metadata": {},
   "outputs": [
    {
     "data": {
      "text/html": [
       "<div>\n",
       "<style scoped>\n",
       "    .dataframe tbody tr th:only-of-type {\n",
       "        vertical-align: middle;\n",
       "    }\n",
       "\n",
       "    .dataframe tbody tr th {\n",
       "        vertical-align: top;\n",
       "    }\n",
       "\n",
       "    .dataframe thead th {\n",
       "        text-align: right;\n",
       "    }\n",
       "</style>\n",
       "<table border=\"1\" class=\"dataframe\">\n",
       "  <thead>\n",
       "    <tr style=\"text-align: right;\">\n",
       "      <th></th>\n",
       "      <th>A1</th>\n",
       "      <th>A2</th>\n",
       "      <th>A3</th>\n",
       "      <th>A4</th>\n",
       "      <th>A5</th>\n",
       "      <th>C1</th>\n",
       "      <th>C2</th>\n",
       "      <th>C3</th>\n",
       "      <th>C4</th>\n",
       "      <th>C5</th>\n",
       "      <th>...</th>\n",
       "      <th>N1</th>\n",
       "      <th>N2</th>\n",
       "      <th>N3</th>\n",
       "      <th>N4</th>\n",
       "      <th>N5</th>\n",
       "      <th>O1</th>\n",
       "      <th>O2</th>\n",
       "      <th>O3</th>\n",
       "      <th>O4</th>\n",
       "      <th>O5</th>\n",
       "    </tr>\n",
       "  </thead>\n",
       "  <tbody>\n",
       "    <tr>\n",
       "      <th>2574</th>\n",
       "      <td>5.0</td>\n",
       "      <td>2.0</td>\n",
       "      <td>3.0</td>\n",
       "      <td>2.0</td>\n",
       "      <td>4.0</td>\n",
       "      <td>6.0</td>\n",
       "      <td>5.0</td>\n",
       "      <td>4.0</td>\n",
       "      <td>2.0</td>\n",
       "      <td>4.0</td>\n",
       "      <td>...</td>\n",
       "      <td>6.0</td>\n",
       "      <td>6.0</td>\n",
       "      <td>4.0</td>\n",
       "      <td>2.0</td>\n",
       "      <td>1.0</td>\n",
       "      <td>6.0</td>\n",
       "      <td>5</td>\n",
       "      <td>4.0</td>\n",
       "      <td>6.0</td>\n",
       "      <td>2.0</td>\n",
       "    </tr>\n",
       "  </tbody>\n",
       "</table>\n",
       "<p>1 rows × 25 columns</p>\n",
       "</div>"
      ],
      "text/plain": [
       "       A1   A2   A3   A4   A5   C1   C2   C3   C4   C5  ...   N1   N2   N3  \\\n",
       "2574  5.0  2.0  3.0  2.0  4.0  6.0  5.0  4.0  2.0  4.0  ...  6.0  6.0  4.0   \n",
       "\n",
       "       N4   N5   O1  O2   O3   O4   O5  \n",
       "2574  2.0  1.0  6.0   5  4.0  6.0  2.0  \n",
       "\n",
       "[1 rows x 25 columns]"
      ]
     },
     "execution_count": 150,
     "metadata": {},
     "output_type": "execute_result"
    }
   ],
   "source": [
    "no_quest = ['gender', 'education', 'age']\n",
    "df_clean_q = df_clean.drop(columns=no_quest, axis=1).copy()\n",
    "df_clean_q.sample()"
   ]
  },
  {
   "cell_type": "code",
   "execution_count": 151,
   "metadata": {},
   "outputs": [
    {
     "data": {
      "text/plain": [
       "(2236, 25)"
      ]
     },
     "execution_count": 151,
     "metadata": {},
     "output_type": "execute_result"
    }
   ],
   "source": [
    "df_clean_q.shape"
   ]
  },
  {
   "attachments": {},
   "cell_type": "markdown",
   "metadata": {},
   "source": [
    "* Reporte las medias para cada una de las preguntas de la batería.Esto lo puede lograr con un dotplot."
   ]
  },
  {
   "cell_type": "code",
   "execution_count": 152,
   "metadata": {},
   "outputs": [
    {
     "data": {
      "text/plain": [
       "[<matplotlib.lines.Line2D at 0x7f75245ccd60>]"
      ]
     },
     "execution_count": 152,
     "metadata": {},
     "output_type": "execute_result"
    },
    {
     "data": {
      "image/png": "[encoded data removed]",
      "text/plain": [
       "<Figure size 800x550 with 1 Axes>"
      ]
     },
     "metadata": {},
     "output_type": "display_data"
    }
   ],
   "source": [
    "variable = []\n",
    "mean = []\n",
    "for colname, serie in df_clean_q.iteritems():\n",
    "    variable.append(colname)\n",
    "    mean.append(serie.mean())\n",
    "df = pd.DataFrame({'var':variable, 'mean':mean}).sort_values(by=['mean'])\n",
    "plt.plot(df['mean'], df['var'],'o')"
   ]
  },
  {
   "attachments": {},
   "cell_type": "markdown",
   "metadata": {},
   "source": [
    "* Genere una matriz de correlaciones con este nuevo objeto.Visualízalo con heatmap. Comente sobre los principales patrones de correlación entre las preguntas de la batería."
   ]
  },
  {
   "cell_type": "code",
   "execution_count": 173,
   "metadata": {},
   "outputs": [
    {
     "data": {
      "text/plain": [
       "<AxesSubplot:>"
      ]
     },
     "execution_count": 173,
     "metadata": {},
     "output_type": "execute_result"
    },
    {
     "data": {
      "image/png": "[encoded data removed]",
      "text/plain": [
       "<Figure size 1200x600 with 2 Axes>"
      ]
     },
     "metadata": {},
     "output_type": "display_data"
    }
   ],
   "source": [
    "plt.figure(figsize=(12,6))\n",
    "df_clean_q_corr = df_clean_q.corr().copy()\n",
    "sns.heatmap(data=df_clean_q_corr[np.absolute(df_clean_q_corr) >=.5],\n",
    "            cmap='Blues',annot=True)"
   ]
  },
  {
   "attachments": {},
   "cell_type": "markdown",
   "metadata": {},
   "source": [
    "* Solo una es correlacion fuerte con 0.71, entre N1 y N2\n",
    "    - N1 Me enojo con facilidad.\n",
    "    - N2 Me irrito con facilidad.\n",
    "* La segunda relacion mas relevante es de 0.57 entre N1 y N3\n",
    "    - N1 Me enojo con facilidad.\n",
    "    - N3 Tengo cambios de humor frecuentes.\n",
    "* Relacion inversa se ve entre E2 y E4\n",
    "    - E2 Me es difícil acercarme a otros.\n",
    "    - E4 Hago amigos de forma fácil.\n"
   ]
  },
  {
   "attachments": {},
   "cell_type": "markdown",
   "metadata": {},
   "source": [
    "### Desafío 4: Extracción de factores\n",
    "* Antes de iniciar la extracción de factores, inspeccione la idoneidad de la batería de preguntas para realizar un análisis factorial mediante la prueba de esfericidad de Barlett y Kaiser-Meyer-Olkin. Comente los resultados."
   ]
  },
  {
   "cell_type": "code",
   "execution_count": 174,
   "metadata": {},
   "outputs": [
    {
     "data": {
      "text/plain": [
       "(16509.673550497246, 0.0)"
      ]
     },
     "execution_count": 174,
     "metadata": {},
     "output_type": "execute_result"
    }
   ],
   "source": [
    "fact.calculate_bartlett_sphericity(df_clean_q)"
   ]
  },
  {
   "attachments": {},
   "cell_type": "markdown",
   "metadata": {},
   "source": [
    "* Rechazo $H{o}$ : no estamos frente a un a matriz identidad"
   ]
  },
  {
   "cell_type": "code",
   "execution_count": 184,
   "metadata": {},
   "outputs": [
    {
     "name": "stdout",
     "output_type": "stream",
     "text": [
      "A1: 0.738 => Pasa\n",
      "A2: 0.834 => Pasa\n",
      "A3: 0.872 => Pasa\n",
      "A4: 0.87 => Pasa\n",
      "A5: 0.901 => Pasa\n",
      "C1: 0.838 => Pasa\n",
      "C2: 0.788 => Pasa\n",
      "C3: 0.849 => Pasa\n",
      "C4: 0.824 => Pasa\n",
      "C5: 0.862 => Pasa\n",
      "E1: 0.842 => Pasa\n",
      "E2: 0.884 => Pasa\n",
      "E3: 0.893 => Pasa\n",
      "E4: 0.878 => Pasa\n",
      "E5: 0.894 => Pasa\n",
      "N1: 0.778 => Pasa\n",
      "N2: 0.778 => Pasa\n",
      "N3: 0.86 => Pasa\n",
      "N4: 0.886 => Pasa\n",
      "N5: 0.86 => Pasa\n",
      "O1: 0.855 => Pasa\n",
      "O2: 0.784 => Pasa\n",
      "O3: 0.834 => Pasa\n",
      "O4: 0.781 => Pasa\n",
      "O5: 0.758 => Pasa\n",
      "Modelo: 0.847\n"
     ]
    }
   ],
   "source": [
    "lista_kmo = fact.calculate_kmo(df_clean_q)\n",
    "for n, i in enumerate(lista_kmo[0]):\n",
    "    if i <= 0.7:\n",
    "        print(f'{df_clean_q.columns[n]} : {i}')\n",
    "    else:\n",
    "        print(f'{df_clean_q.columns[n]}: {np.round(i,3)} => Pasa')\n",
    "print(f'Modelo: {np.round(lista_kmo[1],3)}')"
   ]
  },
  {
   "attachments": {},
   "cell_type": "markdown",
   "metadata": {},
   "source": [
    "#### Todas las variables son utiles para continuar. Al igual que el modelo"
   ]
  },
  {
   "attachments": {},
   "cell_type": "markdown",
   "metadata": {},
   "source": [
    "* Instancie un objeto con FactorAnalyzer() donde se estimen 10 dimensiones latentes y no se aplique rotación."
   ]
  },
  {
   "cell_type": "code",
   "execution_count": 187,
   "metadata": {},
   "outputs": [
    {
     "data": {
      "text/plain": [
       "FactorAnalyzer(n_factors=10, rotation_kwargs={})"
      ]
     },
     "execution_count": 187,
     "metadata": {},
     "output_type": "execute_result"
    }
   ],
   "source": [
    "fact_10_norot = fact.FactorAnalyzer(n_factors=10)\n",
    "fact_10_norot"
   ]
  },
  {
   "cell_type": "code",
   "execution_count": 188,
   "metadata": {},
   "outputs": [
    {
     "data": {
      "text/plain": [
       "array([5.06851622, 2.7624793 , 2.152623  , 1.89233295, 1.51753291,\n",
       "       1.07882932, 0.83090573, 0.80450025, 0.7140883 , 0.7015381 ,\n",
       "       0.6808421 , 0.64897347, 0.63125633, 0.58803197, 0.5659652 ,\n",
       "       0.54483958, 0.51993349, 0.49386855, 0.48273618, 0.44250032,\n",
       "       0.42887063, 0.40709741, 0.38887531, 0.38476259, 0.2681008 ])"
      ]
     },
     "execution_count": 188,
     "metadata": {},
     "output_type": "execute_result"
    }
   ],
   "source": [
    "fact_10_norot.fit(df_clean_q)\n",
    "fact_10_eigenval = fact_10_norot.get_eigenvalues()[0]\n",
    "fact_10_eigenval"
   ]
  },
  {
   "attachments": {},
   "cell_type": "markdown",
   "metadata": {},
   "source": [
    "* Genere un scree plot entre los eigenvalues del modelo y la cantidad de dimensiones estimables."
   ]
  },
  {
   "cell_type": "code",
   "execution_count": 194,
   "metadata": {},
   "outputs": [
    {
     "data": {
      "text/plain": [
       "Text(0.5, 1.0, 'Scree plot')"
      ]
     },
     "execution_count": 194,
     "metadata": {},
     "output_type": "execute_result"
    },
    {
     "data": {
      "image/png": "[encoded data removed]",
      "text/plain": [
       "<Figure size 1000x500 with 1 Axes>"
      ]
     },
     "metadata": {},
     "output_type": "display_data"
    }
   ],
   "source": [
    "plt.figure(figsize=(10,5))\n",
    "\n",
    "plt.plot(np.arange(1,len(fact_10_eigenval) + 1), fact_10_eigenval, 'o-',color='tomato')\n",
    "plt.xlabel('Número de Factores latentes')\n",
    "plt.ylabel('eigenvalues')\n",
    "# visualizamos el criterio de corte\n",
    "plt.axhline(1)\n",
    "plt.title('Scree plot')"
   ]
  },
  {
   "attachments": {},
   "cell_type": "markdown",
   "metadata": {},
   "source": [
    "* Refactoriza el objeto con FactorAnalyzer() para incluir la cantidad de dimensiones válidas que informó el scree plot."
   ]
  },
  {
   "cell_type": "code",
   "execution_count": 195,
   "metadata": {},
   "outputs": [
    {
     "data": {
      "text/plain": [
       "FactorAnalyzer(n_factors=6, rotation_kwargs={})"
      ]
     },
     "execution_count": 195,
     "metadata": {},
     "output_type": "execute_result"
    }
   ],
   "source": [
    "fact_6 = fact.FactorAnalyzer(n_factors=6)\n",
    "fact_6.fit(df_clean_q)"
   ]
  },
  {
   "attachments": {},
   "cell_type": "markdown",
   "metadata": {},
   "source": [
    "* Extraiga las cargas del modelo e identifique qué ítems están asociados a cada λ factor. Comente sobre qué significa cada factor construído."
   ]
  },
  {
   "cell_type": "code",
   "execution_count": 198,
   "metadata": {},
   "outputs": [
    {
     "data": {
      "text/plain": [
       "(25, 6)"
      ]
     },
     "execution_count": 198,
     "metadata": {},
     "output_type": "execute_result"
    }
   ],
   "source": [
    "fact_6.loadings_.shape"
   ]
  },
  {
   "cell_type": "code",
   "execution_count": 199,
   "metadata": {},
   "outputs": [
    {
     "data": {
      "text/html": [
       "<div>\n",
       "<style scoped>\n",
       "    .dataframe tbody tr th:only-of-type {\n",
       "        vertical-align: middle;\n",
       "    }\n",
       "\n",
       "    .dataframe tbody tr th {\n",
       "        vertical-align: top;\n",
       "    }\n",
       "\n",
       "    .dataframe thead th {\n",
       "        text-align: right;\n",
       "    }\n",
       "</style>\n",
       "<table border=\"1\" class=\"dataframe\">\n",
       "  <thead>\n",
       "    <tr style=\"text-align: right;\">\n",
       "      <th></th>\n",
       "      <th>F1</th>\n",
       "      <th>F2</th>\n",
       "      <th>F3</th>\n",
       "      <th>F4</th>\n",
       "      <th>F5</th>\n",
       "      <th>F6</th>\n",
       "    </tr>\n",
       "  </thead>\n",
       "  <tbody>\n",
       "    <tr>\n",
       "      <th>A1</th>\n",
       "      <td>0.044246</td>\n",
       "      <td>0.087326</td>\n",
       "      <td>0.106308</td>\n",
       "      <td>0.147752</td>\n",
       "      <td>-0.623217</td>\n",
       "      <td>0.174737</td>\n",
       "    </tr>\n",
       "    <tr>\n",
       "      <th>A2</th>\n",
       "      <td>0.113686</td>\n",
       "      <td>0.179650</td>\n",
       "      <td>0.058154</td>\n",
       "      <td>-0.025989</td>\n",
       "      <td>0.639541</td>\n",
       "      <td>-0.039742</td>\n",
       "    </tr>\n",
       "    <tr>\n",
       "      <th>A3</th>\n",
       "      <td>0.004894</td>\n",
       "      <td>0.269066</td>\n",
       "      <td>0.025713</td>\n",
       "      <td>0.020732</td>\n",
       "      <td>0.489930</td>\n",
       "      <td>0.186803</td>\n",
       "    </tr>\n",
       "    <tr>\n",
       "      <th>A4</th>\n",
       "      <td>-0.047633</td>\n",
       "      <td>0.129251</td>\n",
       "      <td>0.190336</td>\n",
       "      <td>0.182471</td>\n",
       "      <td>0.324844</td>\n",
       "      <td>0.060074</td>\n",
       "    </tr>\n",
       "    <tr>\n",
       "      <th>A5</th>\n",
       "      <td>-0.164942</td>\n",
       "      <td>0.323591</td>\n",
       "      <td>-0.013865</td>\n",
       "      <td>0.029803</td>\n",
       "      <td>0.314084</td>\n",
       "      <td>0.285151</td>\n",
       "    </tr>\n",
       "    <tr>\n",
       "      <th>C1</th>\n",
       "      <td>0.035324</td>\n",
       "      <td>-0.041623</td>\n",
       "      <td>0.588791</td>\n",
       "      <td>-0.138188</td>\n",
       "      <td>-0.076776</td>\n",
       "      <td>-0.002966</td>\n",
       "    </tr>\n",
       "    <tr>\n",
       "      <th>C2</th>\n",
       "      <td>0.081360</td>\n",
       "      <td>-0.121824</td>\n",
       "      <td>0.737840</td>\n",
       "      <td>-0.012264</td>\n",
       "      <td>-0.039509</td>\n",
       "      <td>0.038298</td>\n",
       "    </tr>\n",
       "    <tr>\n",
       "      <th>C3</th>\n",
       "      <td>0.015704</td>\n",
       "      <td>-0.077021</td>\n",
       "      <td>0.608281</td>\n",
       "      <td>0.055442</td>\n",
       "      <td>0.043901</td>\n",
       "      <td>-0.104278</td>\n",
       "    </tr>\n",
       "    <tr>\n",
       "      <th>C4</th>\n",
       "      <td>0.025907</td>\n",
       "      <td>0.020554</td>\n",
       "      <td>-0.671731</td>\n",
       "      <td>0.116555</td>\n",
       "      <td>-0.140572</td>\n",
       "      <td>0.480149</td>\n",
       "    </tr>\n",
       "    <tr>\n",
       "      <th>C5</th>\n",
       "      <td>0.153253</td>\n",
       "      <td>-0.087395</td>\n",
       "      <td>-0.555096</td>\n",
       "      <td>-0.065150</td>\n",
       "      <td>-0.003403</td>\n",
       "      <td>0.236204</td>\n",
       "    </tr>\n",
       "    <tr>\n",
       "      <th>E1</th>\n",
       "      <td>-0.158426</td>\n",
       "      <td>-0.686834</td>\n",
       "      <td>0.198162</td>\n",
       "      <td>0.069660</td>\n",
       "      <td>-0.125743</td>\n",
       "      <td>0.124550</td>\n",
       "    </tr>\n",
       "    <tr>\n",
       "      <th>E2</th>\n",
       "      <td>0.059111</td>\n",
       "      <td>-0.744892</td>\n",
       "      <td>0.077035</td>\n",
       "      <td>0.023374</td>\n",
       "      <td>-0.023713</td>\n",
       "      <td>0.075746</td>\n",
       "    </tr>\n",
       "    <tr>\n",
       "      <th>E3</th>\n",
       "      <td>0.001258</td>\n",
       "      <td>0.560143</td>\n",
       "      <td>-0.027487</td>\n",
       "      <td>-0.178235</td>\n",
       "      <td>-0.015786</td>\n",
       "      <td>0.347742</td>\n",
       "    </tr>\n",
       "    <tr>\n",
       "      <th>E4</th>\n",
       "      <td>-0.077280</td>\n",
       "      <td>0.649526</td>\n",
       "      <td>-0.032352</td>\n",
       "      <td>0.164430</td>\n",
       "      <td>0.078308</td>\n",
       "      <td>0.211740</td>\n",
       "    </tr>\n",
       "    <tr>\n",
       "      <th>E5</th>\n",
       "      <td>0.165383</td>\n",
       "      <td>0.522968</td>\n",
       "      <td>0.230359</td>\n",
       "      <td>-0.146580</td>\n",
       "      <td>-0.019355</td>\n",
       "      <td>-0.013611</td>\n",
       "    </tr>\n",
       "    <tr>\n",
       "      <th>N1</th>\n",
       "      <td>0.899946</td>\n",
       "      <td>0.238998</td>\n",
       "      <td>0.020243</td>\n",
       "      <td>0.072826</td>\n",
       "      <td>-0.114912</td>\n",
       "      <td>-0.106821</td>\n",
       "    </tr>\n",
       "    <tr>\n",
       "      <th>N2</th>\n",
       "      <td>0.901007</td>\n",
       "      <td>0.194797</td>\n",
       "      <td>0.037458</td>\n",
       "      <td>-0.012816</td>\n",
       "      <td>-0.055367</td>\n",
       "      <td>-0.174106</td>\n",
       "    </tr>\n",
       "    <tr>\n",
       "      <th>N3</th>\n",
       "      <td>0.726360</td>\n",
       "      <td>0.022685</td>\n",
       "      <td>0.021359</td>\n",
       "      <td>0.018349</td>\n",
       "      <td>0.015842</td>\n",
       "      <td>0.063570</td>\n",
       "    </tr>\n",
       "    <tr>\n",
       "      <th>N4</th>\n",
       "      <td>0.460337</td>\n",
       "      <td>-0.322852</td>\n",
       "      <td>-0.065135</td>\n",
       "      <td>-0.069369</td>\n",
       "      <td>0.042073</td>\n",
       "      <td>0.178196</td>\n",
       "    </tr>\n",
       "    <tr>\n",
       "      <th>N5</th>\n",
       "      <td>0.479231</td>\n",
       "      <td>-0.129278</td>\n",
       "      <td>0.038271</td>\n",
       "      <td>0.178694</td>\n",
       "      <td>0.108953</td>\n",
       "      <td>0.104017</td>\n",
       "    </tr>\n",
       "    <tr>\n",
       "      <th>O1</th>\n",
       "      <td>-0.069020</td>\n",
       "      <td>0.174403</td>\n",
       "      <td>0.069874</td>\n",
       "      <td>-0.444763</td>\n",
       "      <td>-0.110688</td>\n",
       "      <td>0.247312</td>\n",
       "    </tr>\n",
       "    <tr>\n",
       "      <th>O2</th>\n",
       "      <td>0.121581</td>\n",
       "      <td>0.016538</td>\n",
       "      <td>-0.056053</td>\n",
       "      <td>0.513404</td>\n",
       "      <td>0.013082</td>\n",
       "      <td>0.137957</td>\n",
       "    </tr>\n",
       "    <tr>\n",
       "      <th>O3</th>\n",
       "      <td>-0.012779</td>\n",
       "      <td>0.299588</td>\n",
       "      <td>-0.021755</td>\n",
       "      <td>-0.535086</td>\n",
       "      <td>-0.047707</td>\n",
       "      <td>0.274801</td>\n",
       "    </tr>\n",
       "    <tr>\n",
       "      <th>O4</th>\n",
       "      <td>0.111774</td>\n",
       "      <td>-0.225756</td>\n",
       "      <td>-0.008460</td>\n",
       "      <td>-0.341513</td>\n",
       "      <td>0.125559</td>\n",
       "      <td>0.189967</td>\n",
       "    </tr>\n",
       "    <tr>\n",
       "      <th>O5</th>\n",
       "      <td>0.011553</td>\n",
       "      <td>-0.005435</td>\n",
       "      <td>0.003509</td>\n",
       "      <td>0.596920</td>\n",
       "      <td>-0.127149</td>\n",
       "      <td>0.129155</td>\n",
       "    </tr>\n",
       "  </tbody>\n",
       "</table>\n",
       "</div>"
      ],
      "text/plain": [
       "          F1        F2        F3        F4        F5        F6\n",
       "A1  0.044246  0.087326  0.106308  0.147752 -0.623217  0.174737\n",
       "A2  0.113686  0.179650  0.058154 -0.025989  0.639541 -0.039742\n",
       "A3  0.004894  0.269066  0.025713  0.020732  0.489930  0.186803\n",
       "A4 -0.047633  0.129251  0.190336  0.182471  0.324844  0.060074\n",
       "A5 -0.164942  0.323591 -0.013865  0.029803  0.314084  0.285151\n",
       "C1  0.035324 -0.041623  0.588791 -0.138188 -0.076776 -0.002966\n",
       "C2  0.081360 -0.121824  0.737840 -0.012264 -0.039509  0.038298\n",
       "C3  0.015704 -0.077021  0.608281  0.055442  0.043901 -0.104278\n",
       "C4  0.025907  0.020554 -0.671731  0.116555 -0.140572  0.480149\n",
       "C5  0.153253 -0.087395 -0.555096 -0.065150 -0.003403  0.236204\n",
       "E1 -0.158426 -0.686834  0.198162  0.069660 -0.125743  0.124550\n",
       "E2  0.059111 -0.744892  0.077035  0.023374 -0.023713  0.075746\n",
       "E3  0.001258  0.560143 -0.027487 -0.178235 -0.015786  0.347742\n",
       "E4 -0.077280  0.649526 -0.032352  0.164430  0.078308  0.211740\n",
       "E5  0.165383  0.522968  0.230359 -0.146580 -0.019355 -0.013611\n",
       "N1  0.899946  0.238998  0.020243  0.072826 -0.114912 -0.106821\n",
       "N2  0.901007  0.194797  0.037458 -0.012816 -0.055367 -0.174106\n",
       "N3  0.726360  0.022685  0.021359  0.018349  0.015842  0.063570\n",
       "N4  0.460337 -0.322852 -0.065135 -0.069369  0.042073  0.178196\n",
       "N5  0.479231 -0.129278  0.038271  0.178694  0.108953  0.104017\n",
       "O1 -0.069020  0.174403  0.069874 -0.444763 -0.110688  0.247312\n",
       "O2  0.121581  0.016538 -0.056053  0.513404  0.013082  0.137957\n",
       "O3 -0.012779  0.299588 -0.021755 -0.535086 -0.047707  0.274801\n",
       "O4  0.111774 -0.225756 -0.008460 -0.341513  0.125559  0.189967\n",
       "O5  0.011553 -0.005435  0.003509  0.596920 -0.127149  0.129155"
      ]
     },
     "execution_count": 199,
     "metadata": {},
     "output_type": "execute_result"
    }
   ],
   "source": [
    "loading_df = pd.DataFrame(fact_6.loadings_,\n",
    "                         columns=['F1','F2','F3',\n",
    "                                'F4','F5','F6',],\n",
    "                          index=df_clean_q.columns)\n",
    "loading_df"
   ]
  },
  {
   "cell_type": "code",
   "execution_count": 202,
   "metadata": {},
   "outputs": [
    {
     "data": {
      "text/plain": [
       "<AxesSubplot:>"
      ]
     },
     "execution_count": 202,
     "metadata": {},
     "output_type": "execute_result"
    },
    {
     "data": {
      "image/png": "[encoded data removed]",
      "text/plain": [
       "<Figure size 1000x600 with 2 Axes>"
      ]
     },
     "metadata": {},
     "output_type": "display_data"
    }
   ],
   "source": [
    "plt.figure(figsize=(10,6))\n",
    "factor_loadings = loading_df.applymap(lambda x: np.where(np.abs(x) < .4,0,round(x,2)))\n",
    "sns.heatmap(factor_loadings,cmap='Greys', annot=True)"
   ]
  },
  {
   "attachments": {},
   "cell_type": "markdown",
   "metadata": {},
   "source": [
    "* Los valores mas altos los asociamos con un alto nivel de representacion del encuestado: 'Me representa completamente'. Al contrario los valores negativos que nos estarian indicando una fuerte relacion hacia: 'No me representa para nada'.\n",
    "* Observamos como cada factor se enfoca en distintos grupos de variables.\n",
    "    - F1: N* Neuroticismo\n",
    "    - F2: E* Extroversión\n",
    "    - F3: C* Escrupulosidad\n",
    "    - F4: O*  Apertura\n",
    "    - F5: A* Amabilidad\n",
    "    - F6: C4 Hago cosas con el min esfuerzo"
   ]
  },
  {
   "attachments": {},
   "cell_type": "markdown",
   "metadata": {},
   "source": [
    "### Desafío 5: Modelación de factores\n",
    "* Extraiga los puntajes del modelo factorial a su base de datos.\n"
   ]
  },
  {
   "cell_type": "code",
   "execution_count": 209,
   "metadata": {},
   "outputs": [
    {
     "data": {
      "text/plain": [
       "(2236, 6)"
      ]
     },
     "execution_count": 209,
     "metadata": {},
     "output_type": "execute_result"
    }
   ],
   "source": [
    "scores = fact_6.transform(df_clean_q)\n",
    "scores.shape"
   ]
  },
  {
   "cell_type": "code",
   "execution_count": 212,
   "metadata": {},
   "outputs": [
    {
     "data": {
      "text/html": [
       "<div>\n",
       "<style scoped>\n",
       "    .dataframe tbody tr th:only-of-type {\n",
       "        vertical-align: middle;\n",
       "    }\n",
       "\n",
       "    .dataframe tbody tr th {\n",
       "        vertical-align: top;\n",
       "    }\n",
       "\n",
       "    .dataframe thead th {\n",
       "        text-align: right;\n",
       "    }\n",
       "</style>\n",
       "<table border=\"1\" class=\"dataframe\">\n",
       "  <thead>\n",
       "    <tr style=\"text-align: right;\">\n",
       "      <th></th>\n",
       "      <th>F1</th>\n",
       "      <th>F2</th>\n",
       "      <th>F3</th>\n",
       "      <th>F4</th>\n",
       "      <th>F5</th>\n",
       "      <th>F6</th>\n",
       "    </tr>\n",
       "  </thead>\n",
       "  <tbody>\n",
       "    <tr>\n",
       "      <th>0</th>\n",
       "      <td>1.279171</td>\n",
       "      <td>0.000082</td>\n",
       "      <td>1.457212</td>\n",
       "      <td>-0.345160</td>\n",
       "      <td>-0.075729</td>\n",
       "      <td>0.197519</td>\n",
       "    </tr>\n",
       "    <tr>\n",
       "      <th>1</th>\n",
       "      <td>-1.773292</td>\n",
       "      <td>0.848142</td>\n",
       "      <td>-1.511693</td>\n",
       "      <td>0.260017</td>\n",
       "      <td>-1.934329</td>\n",
       "      <td>-1.440113</td>\n",
       "    </tr>\n",
       "    <tr>\n",
       "      <th>2</th>\n",
       "      <td>0.214909</td>\n",
       "      <td>-0.170640</td>\n",
       "      <td>-0.245855</td>\n",
       "      <td>0.368303</td>\n",
       "      <td>-0.216236</td>\n",
       "      <td>-0.152767</td>\n",
       "    </tr>\n",
       "    <tr>\n",
       "      <th>3</th>\n",
       "      <td>-0.074288</td>\n",
       "      <td>-0.324243</td>\n",
       "      <td>0.336190</td>\n",
       "      <td>0.179723</td>\n",
       "      <td>-1.579900</td>\n",
       "      <td>-0.938596</td>\n",
       "    </tr>\n",
       "    <tr>\n",
       "      <th>4</th>\n",
       "      <td>0.226286</td>\n",
       "      <td>-0.880137</td>\n",
       "      <td>-1.347977</td>\n",
       "      <td>-0.325867</td>\n",
       "      <td>0.717213</td>\n",
       "      <td>-0.142786</td>\n",
       "    </tr>\n",
       "    <tr>\n",
       "      <th>...</th>\n",
       "      <td>...</td>\n",
       "      <td>...</td>\n",
       "      <td>...</td>\n",
       "      <td>...</td>\n",
       "      <td>...</td>\n",
       "      <td>...</td>\n",
       "    </tr>\n",
       "    <tr>\n",
       "      <th>2231</th>\n",
       "      <td>0.602248</td>\n",
       "      <td>0.834597</td>\n",
       "      <td>0.184898</td>\n",
       "      <td>1.169762</td>\n",
       "      <td>-0.399820</td>\n",
       "      <td>1.404198</td>\n",
       "    </tr>\n",
       "    <tr>\n",
       "      <th>2232</th>\n",
       "      <td>-1.558568</td>\n",
       "      <td>1.657646</td>\n",
       "      <td>-0.726490</td>\n",
       "      <td>-0.527137</td>\n",
       "      <td>-1.180325</td>\n",
       "      <td>-0.499578</td>\n",
       "    </tr>\n",
       "    <tr>\n",
       "      <th>2233</th>\n",
       "      <td>0.744488</td>\n",
       "      <td>-0.254111</td>\n",
       "      <td>0.728326</td>\n",
       "      <td>-1.054909</td>\n",
       "      <td>-0.899845</td>\n",
       "      <td>-0.480255</td>\n",
       "    </tr>\n",
       "    <tr>\n",
       "      <th>2234</th>\n",
       "      <td>0.129721</td>\n",
       "      <td>1.003899</td>\n",
       "      <td>-0.166139</td>\n",
       "      <td>-0.762935</td>\n",
       "      <td>-2.139689</td>\n",
       "      <td>-0.363081</td>\n",
       "    </tr>\n",
       "    <tr>\n",
       "      <th>2235</th>\n",
       "      <td>-1.315798</td>\n",
       "      <td>-1.140093</td>\n",
       "      <td>-0.980907</td>\n",
       "      <td>-0.116644</td>\n",
       "      <td>-1.647700</td>\n",
       "      <td>-2.459992</td>\n",
       "    </tr>\n",
       "  </tbody>\n",
       "</table>\n",
       "<p>2236 rows × 6 columns</p>\n",
       "</div>"
      ],
      "text/plain": [
       "            F1        F2        F3        F4        F5        F6\n",
       "0     1.279171  0.000082  1.457212 -0.345160 -0.075729  0.197519\n",
       "1    -1.773292  0.848142 -1.511693  0.260017 -1.934329 -1.440113\n",
       "2     0.214909 -0.170640 -0.245855  0.368303 -0.216236 -0.152767\n",
       "3    -0.074288 -0.324243  0.336190  0.179723 -1.579900 -0.938596\n",
       "4     0.226286 -0.880137 -1.347977 -0.325867  0.717213 -0.142786\n",
       "...        ...       ...       ...       ...       ...       ...\n",
       "2231  0.602248  0.834597  0.184898  1.169762 -0.399820  1.404198\n",
       "2232 -1.558568  1.657646 -0.726490 -0.527137 -1.180325 -0.499578\n",
       "2233  0.744488 -0.254111  0.728326 -1.054909 -0.899845 -0.480255\n",
       "2234  0.129721  1.003899 -0.166139 -0.762935 -2.139689 -0.363081\n",
       "2235 -1.315798 -1.140093 -0.980907 -0.116644 -1.647700 -2.459992\n",
       "\n",
       "[2236 rows x 6 columns]"
      ]
     },
     "execution_count": 212,
     "metadata": {},
     "output_type": "execute_result"
    }
   ],
   "source": [
    "df_scores = pd.DataFrame(scores,\n",
    "                         columns=['F1','F2','F3',\n",
    "                                'F4','F5','F6',],) \n",
    "df_scores"
   ]
  },
  {
   "attachments": {},
   "cell_type": "markdown",
   "metadata": {},
   "source": [
    "* Grafique la densidad de cada uno con kdplot."
   ]
  },
  {
   "cell_type": "code",
   "execution_count": 221,
   "metadata": {},
   "outputs": [
    {
     "data": {
      "text/plain": [
       "<AxesSubplot:ylabel='Density'>"
      ]
     },
     "execution_count": 221,
     "metadata": {},
     "output_type": "execute_result"
    },
    {
     "data": {
      "image/png": "[encoded data removed]",
      "text/plain": [
       "<Figure size 800x550 with 1 Axes>"
      ]
     },
     "metadata": {},
     "output_type": "display_data"
    }
   ],
   "source": [
    "sns.kdeplot(data=df_scores, fill=True, alpha=.5, linewidth=2)"
   ]
  },
  {
   "attachments": {},
   "cell_type": "markdown",
   "metadata": {},
   "source": [
    "\n",
    "* Modele y comente brevemente sobre cuáles son los principales determinantes de cada factor en base al siguiente modelo estimable:\n",
    "![Formula](d5.png)"
   ]
  },
  {
   "cell_type": "code",
   "execution_count": 223,
   "metadata": {},
   "outputs": [
    {
     "data": {
      "text/plain": [
       "array([[-1.5615232 ],\n",
       "       [ 3.29465312],\n",
       "       [ 0.11787638],\n",
       "       ...,\n",
       "       [-0.59171543],\n",
       "       [ 1.26107479],\n",
       "       [ 2.02109386]])"
      ]
     },
     "execution_count": 223,
     "metadata": {},
     "output_type": "execute_result"
    }
   ],
   "source": [
    "from sklearn.decomposition import PCA\n",
    "dimred = PCA(n_components = 1)\n",
    "project_x = dimred.fit_transform(df_scores)\n",
    "project_x"
   ]
  },
  {
   "cell_type": "code",
   "execution_count": 235,
   "metadata": {},
   "outputs": [
    {
     "data": {
      "text/html": [
       "<div>\n",
       "<style scoped>\n",
       "    .dataframe tbody tr th:only-of-type {\n",
       "        vertical-align: middle;\n",
       "    }\n",
       "\n",
       "    .dataframe tbody tr th {\n",
       "        vertical-align: top;\n",
       "    }\n",
       "\n",
       "    .dataframe thead th {\n",
       "        text-align: right;\n",
       "    }\n",
       "</style>\n",
       "<table border=\"1\" class=\"dataframe\">\n",
       "  <thead>\n",
       "    <tr style=\"text-align: right;\">\n",
       "      <th></th>\n",
       "      <th>y</th>\n",
       "    </tr>\n",
       "  </thead>\n",
       "  <tbody>\n",
       "    <tr>\n",
       "      <th>0</th>\n",
       "      <td>-1.561523</td>\n",
       "    </tr>\n",
       "    <tr>\n",
       "      <th>1</th>\n",
       "      <td>3.294653</td>\n",
       "    </tr>\n",
       "    <tr>\n",
       "      <th>2</th>\n",
       "      <td>0.117876</td>\n",
       "    </tr>\n",
       "    <tr>\n",
       "      <th>3</th>\n",
       "      <td>0.641164</td>\n",
       "    </tr>\n",
       "    <tr>\n",
       "      <th>4</th>\n",
       "      <td>-0.100879</td>\n",
       "    </tr>\n",
       "    <tr>\n",
       "      <th>...</th>\n",
       "      <td>...</td>\n",
       "    </tr>\n",
       "    <tr>\n",
       "      <th>2231</th>\n",
       "      <td>-0.052087</td>\n",
       "    </tr>\n",
       "    <tr>\n",
       "      <th>2232</th>\n",
       "      <td>2.435311</td>\n",
       "    </tr>\n",
       "    <tr>\n",
       "      <th>2233</th>\n",
       "      <td>-0.591715</td>\n",
       "    </tr>\n",
       "    <tr>\n",
       "      <th>2234</th>\n",
       "      <td>1.261075</td>\n",
       "    </tr>\n",
       "    <tr>\n",
       "      <th>2235</th>\n",
       "      <td>2.021094</td>\n",
       "    </tr>\n",
       "  </tbody>\n",
       "</table>\n",
       "<p>2236 rows × 1 columns</p>\n",
       "</div>"
      ],
      "text/plain": [
       "             y\n",
       "0    -1.561523\n",
       "1     3.294653\n",
       "2     0.117876\n",
       "3     0.641164\n",
       "4    -0.100879\n",
       "...        ...\n",
       "2231 -0.052087\n",
       "2232  2.435311\n",
       "2233 -0.591715\n",
       "2234  1.261075\n",
       "2235  2.021094\n",
       "\n",
       "[2236 rows x 1 columns]"
      ]
     },
     "execution_count": 235,
     "metadata": {},
     "output_type": "execute_result"
    }
   ],
   "source": [
    "df_y = pd.DataFrame(project_x, columns=['y'])\n",
    "df_y"
   ]
  },
  {
   "cell_type": "code",
   "execution_count": 232,
   "metadata": {},
   "outputs": [
    {
     "data": {
      "text/html": [
       "<div>\n",
       "<style scoped>\n",
       "    .dataframe tbody tr th:only-of-type {\n",
       "        vertical-align: middle;\n",
       "    }\n",
       "\n",
       "    .dataframe tbody tr th {\n",
       "        vertical-align: top;\n",
       "    }\n",
       "\n",
       "    .dataframe thead th {\n",
       "        text-align: right;\n",
       "    }\n",
       "</style>\n",
       "<table border=\"1\" class=\"dataframe\">\n",
       "  <thead>\n",
       "    <tr style=\"text-align: right;\">\n",
       "      <th></th>\n",
       "      <th>A1</th>\n",
       "      <th>A2</th>\n",
       "      <th>A3</th>\n",
       "      <th>A4</th>\n",
       "      <th>A5</th>\n",
       "      <th>C1</th>\n",
       "      <th>C2</th>\n",
       "      <th>C3</th>\n",
       "      <th>C4</th>\n",
       "      <th>C5</th>\n",
       "      <th>...</th>\n",
       "      <th>N4</th>\n",
       "      <th>N5</th>\n",
       "      <th>O1</th>\n",
       "      <th>O2</th>\n",
       "      <th>O3</th>\n",
       "      <th>O4</th>\n",
       "      <th>O5</th>\n",
       "      <th>gender</th>\n",
       "      <th>education</th>\n",
       "      <th>age</th>\n",
       "    </tr>\n",
       "  </thead>\n",
       "  <tbody>\n",
       "  </tbody>\n",
       "</table>\n",
       "<p>0 rows × 28 columns</p>\n",
       "</div>"
      ],
      "text/plain": [
       "Empty DataFrame\n",
       "Columns: [A1, A2, A3, A4, A5, C1, C2, C3, C4, C5, E1, E2, E3, E4, E5, N1, N2, N3, N4, N5, O1, O2, O3, O4, O5, gender, education, age]\n",
       "Index: []\n",
       "\n",
       "[0 rows x 28 columns]"
      ]
     },
     "execution_count": 232,
     "metadata": {},
     "output_type": "execute_result"
    }
   ],
   "source": [
    "df_clean.sample(0)"
   ]
  },
  {
   "cell_type": "code",
   "execution_count": 234,
   "metadata": {},
   "outputs": [],
   "source": [
    "df_regresores = df_clean.loc[:,no_quest].copy()"
   ]
  },
  {
   "cell_type": "code",
   "execution_count": 236,
   "metadata": {},
   "outputs": [
    {
     "data": {
      "text/html": [
       "<div>\n",
       "<style scoped>\n",
       "    .dataframe tbody tr th:only-of-type {\n",
       "        vertical-align: middle;\n",
       "    }\n",
       "\n",
       "    .dataframe tbody tr th {\n",
       "        vertical-align: top;\n",
       "    }\n",
       "\n",
       "    .dataframe thead th {\n",
       "        text-align: right;\n",
       "    }\n",
       "</style>\n",
       "<table border=\"1\" class=\"dataframe\">\n",
       "  <thead>\n",
       "    <tr style=\"text-align: right;\">\n",
       "      <th></th>\n",
       "      <th>gender</th>\n",
       "      <th>education</th>\n",
       "      <th>age</th>\n",
       "      <th>y</th>\n",
       "    </tr>\n",
       "  </thead>\n",
       "  <tbody>\n",
       "    <tr>\n",
       "      <th>1896</th>\n",
       "      <td>2.0</td>\n",
       "      <td>5.0</td>\n",
       "      <td>50.0</td>\n",
       "      <td>0.319483</td>\n",
       "    </tr>\n",
       "  </tbody>\n",
       "</table>\n",
       "</div>"
      ],
      "text/plain": [
       "      gender  education   age         y\n",
       "1896     2.0        5.0  50.0  0.319483"
      ]
     },
     "execution_count": 236,
     "metadata": {},
     "output_type": "execute_result"
    }
   ],
   "source": [
    "df_prediccion = pd.concat([df_regresores, df_y], axis=1)\n",
    "df_prediccion.sample()"
   ]
  },
  {
   "cell_type": "code",
   "execution_count": 237,
   "metadata": {},
   "outputs": [
    {
     "data": {
      "text/plain": [
       "'gender+education+age'"
      ]
     },
     "execution_count": 237,
     "metadata": {},
     "output_type": "execute_result"
    }
   ],
   "source": [
    "join_Reg = '+'.join(no_quest)\n",
    "join_Reg"
   ]
  },
  {
   "cell_type": "code",
   "execution_count": 238,
   "metadata": {},
   "outputs": [
    {
     "data": {
      "text/html": [
       "<table class=\"simpletable\">\n",
       "<caption>OLS Regression Results</caption>\n",
       "<tr>\n",
       "  <th>Dep. Variable:</th>            <td>y</td>        <th>  R-squared:         </th> <td>   0.000</td>\n",
       "</tr>\n",
       "<tr>\n",
       "  <th>Model:</th>                   <td>OLS</td>       <th>  Adj. R-squared:    </th> <td>  -0.002</td>\n",
       "</tr>\n",
       "<tr>\n",
       "  <th>Method:</th>             <td>Least Squares</td>  <th>  F-statistic:       </th> <td> 0.02033</td>\n",
       "</tr>\n",
       "<tr>\n",
       "  <th>Date:</th>             <td>Tue, 24 Jan 2023</td> <th>  Prob (F-statistic):</th>  <td> 0.996</td> \n",
       "</tr>\n",
       "<tr>\n",
       "  <th>Time:</th>                 <td>23:57:11</td>     <th>  Log-Likelihood:    </th> <td> -3057.3</td>\n",
       "</tr>\n",
       "<tr>\n",
       "  <th>No. Observations:</th>      <td>  1804</td>      <th>  AIC:               </th> <td>   6123.</td>\n",
       "</tr>\n",
       "<tr>\n",
       "  <th>Df Residuals:</th>          <td>  1800</td>      <th>  BIC:               </th> <td>   6145.</td>\n",
       "</tr>\n",
       "<tr>\n",
       "  <th>Df Model:</th>              <td>     3</td>      <th>                     </th>     <td> </td>   \n",
       "</tr>\n",
       "<tr>\n",
       "  <th>Covariance Type:</th>      <td>nonrobust</td>    <th>                     </th>     <td> </td>   \n",
       "</tr>\n",
       "</table>\n",
       "<table class=\"simpletable\">\n",
       "<tr>\n",
       "      <td></td>         <th>coef</th>     <th>std err</th>      <th>t</th>      <th>P>|t|</th>  <th>[0.025</th>    <th>0.975]</th>  \n",
       "</tr>\n",
       "<tr>\n",
       "  <th>Intercept</th> <td>    0.0119</td> <td>    0.159</td> <td>    0.075</td> <td> 0.940</td> <td>   -0.299</td> <td>    0.323</td>\n",
       "</tr>\n",
       "<tr>\n",
       "  <th>gender</th>    <td>   -0.0106</td> <td>    0.067</td> <td>   -0.159</td> <td> 0.873</td> <td>   -0.141</td> <td>    0.120</td>\n",
       "</tr>\n",
       "<tr>\n",
       "  <th>education</th> <td>   -0.0054</td> <td>    0.029</td> <td>   -0.186</td> <td> 0.853</td> <td>   -0.062</td> <td>    0.051</td>\n",
       "</tr>\n",
       "<tr>\n",
       "  <th>age</th>       <td>   2.7e-05</td> <td>    0.003</td> <td>    0.009</td> <td> 0.993</td> <td>   -0.006</td> <td>    0.006</td>\n",
       "</tr>\n",
       "</table>\n",
       "<table class=\"simpletable\">\n",
       "<tr>\n",
       "  <th>Omnibus:</th>       <td>38.807</td> <th>  Durbin-Watson:     </th> <td>   1.954</td>\n",
       "</tr>\n",
       "<tr>\n",
       "  <th>Prob(Omnibus):</th> <td> 0.000</td> <th>  Jarque-Bera (JB):  </th> <td>  40.785</td>\n",
       "</tr>\n",
       "<tr>\n",
       "  <th>Skew:</th>          <td> 0.364</td> <th>  Prob(JB):          </th> <td>1.39e-09</td>\n",
       "</tr>\n",
       "<tr>\n",
       "  <th>Kurtosis:</th>      <td> 3.108</td> <th>  Cond. No.          </th> <td>    170.</td>\n",
       "</tr>\n",
       "</table><br/><br/>Notes:<br/>[1] Standard Errors assume that the covariance matrix of the errors is correctly specified."
      ],
      "text/plain": [
       "<class 'statsmodels.iolib.summary.Summary'>\n",
       "\"\"\"\n",
       "                            OLS Regression Results                            \n",
       "==============================================================================\n",
       "Dep. Variable:                      y   R-squared:                       0.000\n",
       "Model:                            OLS   Adj. R-squared:                 -0.002\n",
       "Method:                 Least Squares   F-statistic:                   0.02033\n",
       "Date:                Tue, 24 Jan 2023   Prob (F-statistic):              0.996\n",
       "Time:                        23:57:11   Log-Likelihood:                -3057.3\n",
       "No. Observations:                1804   AIC:                             6123.\n",
       "Df Residuals:                    1800   BIC:                             6145.\n",
       "Df Model:                           3                                         \n",
       "Covariance Type:            nonrobust                                         \n",
       "==============================================================================\n",
       "                 coef    std err          t      P>|t|      [0.025      0.975]\n",
       "------------------------------------------------------------------------------\n",
       "Intercept      0.0119      0.159      0.075      0.940      -0.299       0.323\n",
       "gender        -0.0106      0.067     -0.159      0.873      -0.141       0.120\n",
       "education     -0.0054      0.029     -0.186      0.853      -0.062       0.051\n",
       "age           2.7e-05      0.003      0.009      0.993      -0.006       0.006\n",
       "==============================================================================\n",
       "Omnibus:                       38.807   Durbin-Watson:                   1.954\n",
       "Prob(Omnibus):                  0.000   Jarque-Bera (JB):               40.785\n",
       "Skew:                           0.364   Prob(JB):                     1.39e-09\n",
       "Kurtosis:                       3.108   Cond. No.                         170.\n",
       "==============================================================================\n",
       "\n",
       "Notes:\n",
       "[1] Standard Errors assume that the covariance matrix of the errors is correctly specified.\n",
       "\"\"\""
      ]
     },
     "execution_count": 238,
     "metadata": {},
     "output_type": "execute_result"
    }
   ],
   "source": [
    "import statsmodels.formula.api as smf\n",
    "model = smf.ols(f'y ~ {join_Reg}', data=df_prediccion).fit()\n",
    "model.summary()"
   ]
  }
 ],
 "metadata": {
  "kernelspec": {
   "display_name": "base",
   "language": "python",
   "name": "python3"
  },
  "language_info": {
   "codemirror_mode": {
    "name": "ipython",
    "version": 3
   },
   "file_extension": ".py",
   "mimetype": "text/x-python",
   "name": "python",
   "nbconvert_exporter": "python",
   "pygments_lexer": "ipython3",
   "version": "3.9.13 (main, Aug 25 2022, 23:26:10) \n[GCC 11.2.0]"
  },
  "orig_nbformat": 4,
  "vscode": {
   "interpreter": {
    "hash": "c9c95a542e0787f57613780817cff22e65fe979e702b6d9a424a45d54043f1a4"
   }
  }
 },
 "nbformat": 4,
 "nbformat_minor": 2
}
